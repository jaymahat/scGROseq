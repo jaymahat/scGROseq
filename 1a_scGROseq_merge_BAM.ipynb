{
 "cells": [
  {
   "cell_type": "markdown",
   "id": "4776a7d9-7a20-4646-be78-00aa6462d918",
   "metadata": {},
   "source": [
    "## Filter and merge BAMs from batches of single-end scGRO-seq datasets\n",
    "Data will be consolidated into a uniform GenomicRanges format while preserving\n",
    "experiment ID and cell barcodes"
   ]
  },
  {
   "cell_type": "code",
   "execution_count": null,
   "id": "1f977f47-9362-4b17-8e99-2d3920c24995",
   "metadata": {},
   "outputs": [],
   "source": [
    ".libPaths(\"/home/mahat/.conda/envs/r422/lib/R/library\")\n",
    ".libPaths()"
   ]
  },
  {
   "cell_type": "code",
   "execution_count": null,
   "id": "c1497539-7338-4b0b-9318-182e1d873ce7",
   "metadata": {},
   "outputs": [],
   "source": [
    "suppressMessages({\n",
    "    library(tidyverse)\n",
    "    library(plyranges)\n",
    "    library(GenomicFiles)\n",
    "    library(GenomicAlignments)\n",
    "    library(rtracklayer)\n",
    "    library(dtplyr)\n",
    "    library(data.table)\n",
    "    library(parallel)\n",
    "    library(doParallel)\n",
    "    library(ggridges)\n",
    "});"
   ]
  },
  {
   "cell_type": "code",
   "execution_count": null,
   "id": "9ad7f204-1c77-41e6-8a8c-e26df1ca31f9",
   "metadata": {},
   "outputs": [],
   "source": [
    "setDTthreads(threads = 15);\n",
    "registerDoParallel(15);\n",
    "options(\n",
    "    repr.plot.width=6,\n",
    "    repr.plot.height=4,\n",
    "    jupyter.plot_mimetypes = \"image/svg+xml\"\n",
    ");\n",
    "theme_set(theme_classic());"
   ]
  },
  {
   "cell_type": "code",
   "execution_count": null,
   "id": "a1375b35-9c9c-49b7-9689-762b9c4ac009",
   "metadata": {
    "tags": []
   },
   "outputs": [],
   "source": [
    "PE_path = \"/net/bmc-lab2/data/lab/scgroseq/group/scGROseq_consolidated/v2/v2p8_ssAdSpC3_PE/\"\n",
    "PE_exp = list(\n",
    "    \"Exp230_scGROseq_c04\",\n",
    "    \"Exp234_scGROseq_c09\",\n",
    "    \"Exp236_scGROseq_c02\", \n",
    "    \"Exp236_scGROseq_c03\",\n",
    "    \"Exp236_scGROseq_c05\",\n",
    "    \"Exp236_scGROseq_c06\",\n",
    "    \"Exp236_scGROseq_c07\",\n",
    "    \"Exp236_scGROseq_c08\",\n",
    "    \"Exp236_scGROseq_c13\",\n",
    "    \"Exp236_scGROseq_c14\",\n",
    "    \"Exp236_scGROseq_c15\",\n",
    "    \"Exp236_scGROseq_c16\",\n",
    "    \"Exp246_scGROseq_c03\",\n",
    "    \"Exp246_scGROseq_c04\",\n",
    "    \"Exp246_scGROseq_c08\",\n",
    "    \"Exp256_scGROseq_c09\",\n",
    "    \"Exp260_scGROseq_c06\",\n",
    "    \"Exp260_scGROseq_c08\",\n",
    "    \"Exp260_scGROseq_c10\",\n",
    "    \"Exp261_scGROseq_c11\",\n",
    "    \"Exp263_scGROseq_c02\",\n",
    "    \"Exp263_scGROseq_c03\",\n",
    "    \"Exp263_scGROseq_c04\",\n",
    "    \"Exp263_scGROseq_c08\",\n",
    "    \"Exp263b_scGROseq_c04\",\n",
    "    \"Exp263b_scGROseq_c07\",\n",
    "    \"Exp263b_scGROseq_c10\",\n",
    "    \"Exp264a_scGROseq_c04\",\n",
    "    \"Exp264a_scGROseq_c05\",\n",
    "    \"Exp264a_scGROseq_c06\",\n",
    "    \"Exp264a_scGROseq_c07\",\n",
    "    \"Exp264a_scGROseq_c10\",\n",
    "    \"Exp264a_scGROseq_c14\",\n",
    "    \"Exp264a_scGROseq_c16\"\n",
    ");"
   ]
  },
  {
   "cell_type": "code",
   "execution_count": null,
   "id": "3a3cfa30-45cc-4216-8661-71b714549116",
   "metadata": {},
   "outputs": [],
   "source": [
    "SE_path = \"/net/bmc-lab2/data/lab/scgroseq/group/scGROseq_consolidated/v2/v2p8_ssAdSpC3_SE/\"\n",
    "SE_exp = list(\n",
    "    \"Exp260b_scGROseq_c11\",\n",
    "    \"Exp260b_scGROseq_c12\",\n",
    "    \"Exp260b_scGROseq_c13\",\n",
    "    \"Exp260b_scGROseq_c14\",\n",
    "    \"Exp260b_scGROseq_c15\",\n",
    "    \"Exp260b_scGROseq_c16\",\n",
    "    \"Exp236_scGROseq_c05\",\n",
    "    \"Exp236_scGROseq_c06\",\n",
    "    \"Exp236_scGROseq_c07\",\n",
    "    \"Exp236_scGROseq_c08\"\n",
    ");"
   ]
  },
  {
   "cell_type": "code",
   "execution_count": null,
   "id": "77706c80-dd93-4fa0-a722-821c7104c68e",
   "metadata": {},
   "outputs": [],
   "source": [
    "ssAd_path = \"/net/bmc-lab2/data/lab/scgroseq/group/scGROseq_consolidated/v2/v2p8_ssAd/\"\n",
    "ssAd_exp = list(\n",
    "    \"Exp211_scGROseq_c10\",\n",
    "    \"Exp211_scGROseq_c12\",\n",
    "    \"Exp211_scGROseq_c17\",\n",
    "    \"Exp211_scGROseq_c18\",\n",
    "    \"Exp208_scGROseq_c11\",\n",
    "    \"Exp93b_scGROseq_c04\"\n",
    ");"
   ]
  },
  {
   "cell_type": "code",
   "execution_count": null,
   "id": "a7e1f141-e9e1-4516-9e3b-cdf9944613d1",
   "metadata": {},
   "outputs": [],
   "source": [
    "hpAd_path = \"/net/bmc-lab2/data/lab/scgroseq/group/scGROseq_consolidated/v2/v2p8_hpAd/\"\n",
    "hpAd_exp = list(   \n",
    "    \"Exp149_scGROseq_c01\",\n",
    "    \"Exp149_scGROseq_c07\",\n",
    "    \"Exp149_scGROseq_c09\",\n",
    "    \"Exp153_scGROseq_c01\",\n",
    "    \"Exp153_scGROseq_c02\",\n",
    "    \"Exp153_scGROseq_c03\",\n",
    "    \"Exp153_scGROseq_c04\",\n",
    "    \"Exp153_scGROseq_c11\",\n",
    "    \"Exp156_scGROseq_c09\",\n",
    "    \"Exp156_scGROseq_c13\",\n",
    "    \"Exp160_scGROseq_c02\",\n",
    "    \"Exp160_scGROseq_c03\",\n",
    "    \"Exp160_scGROseq_c04\",\n",
    "    \"Exp160_scGROseq_c07\",\n",
    "    \"Exp160_scGROseq_c08\",\n",
    "    \"Exp160_scGROseq_c10\",\n",
    "    \"Exp160_scGROseq_c11\",\n",
    "    \"Exp160_scGROseq_c12\",\n",
    "    \"Exp160_scGROseq_c13\",\n",
    "    \"Exp160_scGROseq_c14\",\n",
    "    \"Exp160_scGROseq_c16\",\n",
    "    \"Exp168_scGROseq_c02\",\n",
    "    \"Exp168_scGROseq_c06\",\n",
    "    \"Exp168_scGROseq_c13\",\n",
    "    \"Exp179_scGROseq_c02\",\n",
    "    \"Exp183_scGROseq_c03\",\n",
    "    \"Exp208_scGROseq_c01\",\n",
    "    \"Exp211_scGROseq_c08\"\n",
    ");"
   ]
  },
  {
   "cell_type": "markdown",
   "id": "787e6c3d-810f-4930-a86a-26b00ba743ca",
   "metadata": {},
   "source": [
    "### Process the BAM files\n",
    "1. Each file name is used to generate an experiment ID (exp_ID)\n",
    "2. Query (read) name and mapq info is read\n",
    "3. Swap strands to account for adapter design (read1 from RNA 3' end).\n",
    "4. Collapse reads to 3' end of RNA \n",
    "5. Assign exp_ID so we can merge experiments later\n",
    "6. Extract cellBC from query name using str_match regular expression\n",
    "7. Discard excess info to conserve memory"
   ]
  },
  {
   "cell_type": "code",
   "execution_count": null,
   "id": "f11fe6f0-c9c4-4c00-beed-5c863c440f46",
   "metadata": {},
   "outputs": [],
   "source": [
    "process_BAM = function(fpath, fname, suffix) {\n",
    "    bam_file = paste0( fpath, fname, \"_align/\", fname, suffix );\n",
    "    exp_ID = sub(\"scGROseq_\", \"\", fname, fixed=T);\n",
    "\n",
    "    alignments = read_bam( bam_file ) %>%\n",
    "        select( qname, mapq ) %>%\n",
    "        # filter( str_match( cigar, \"^(\\\\d+)S\" )[,2] %in% c(NA, \"1\", \"2\", \"3\", \"4\", \"5\", \"6\") ) %>%\n",
    "        # filter( str_match( cigar,  \"(\\\\d+)S$\" )[,2] %in% c(NA, \"1\", \"2\", \"3\", \"4\", \"5\", \"6\") ) %>%\n",
    "        mutate( strand = ifelse( strand == \"+\", \"-\", \"+\" ) ) %>%\n",
    "        mutate( PolPos = ifelse( strand == \"+\", end, start) ) %>%\n",
    "        mutate( ExpID = exp_ID ) %>%\n",
    "        mutate( BC_UMI = str_match( qname, \"_(\\\\w+_\\\\w+)$\" )[,2] );\n",
    "    alignments$qname=NULL;\n",
    "    alignments$qwidth=NULL;\n",
    "    alignments$cigar=NULL;\n",
    "    alignments$njunc=NULL;\n",
    "    return( alignments );\n",
    "}"
   ]
  },
  {
   "cell_type": "markdown",
   "id": "14b5782b-d32b-4abb-874d-95b2aae3f9b9",
   "metadata": {},
   "source": [
    "Use 'multicore list apply' to process each BAM in parallel"
   ]
  },
  {
   "cell_type": "code",
   "execution_count": null,
   "id": "600f1c97-8a79-4c2e-9d2f-170315cea0b3",
   "metadata": {},
   "outputs": [],
   "source": [
    "scGRO_PE = mclapply(\n",
    "    fpath=PE_path,\n",
    "    PE_exp,\n",
    "    suffix=\"_merged2pass_dedup.bam\",\n",
    "    mc.cores=15,\n",
    "    process_BAM\n",
    ");"
   ]
  },
  {
   "cell_type": "code",
   "execution_count": null,
   "id": "97fa7bb5-7b9d-4cbc-97ac-4482a3e2ee81",
   "metadata": {},
   "outputs": [],
   "source": [
    "scGRO_SE = mclapply(\n",
    "    fpath=SE_path,\n",
    "    SE_exp,\n",
    "    suffix=\"_merged2pass_dedup.bam\",\n",
    "    mc.cores=15,\n",
    "    process_BAM\n",
    ");"
   ]
  },
  {
   "cell_type": "code",
   "execution_count": null,
   "id": "e73ce142-abeb-4da1-8d07-97e9c0e4978d",
   "metadata": {},
   "outputs": [],
   "source": [
    "scGRO_hpAd = mclapply(\n",
    "    fpath=hpAd_path,\n",
    "    hpAd_exp,\n",
    "    suffix=\"_merged2pass_dedup.bam\",\n",
    "    mc.cores=15,\n",
    "    process_BAM\n",
    ");"
   ]
  },
  {
   "cell_type": "code",
   "execution_count": null,
   "id": "30a61e0d-c545-42f6-8b87-63434fe79d4d",
   "metadata": {},
   "outputs": [],
   "source": [
    "scGRO_ssAd = mclapply(\n",
    "    fpath=ssAd_path,\n",
    "    ssAd_exp,\n",
    "    suffix=\"_merged2pass_dedup.bam\",\n",
    "    mc.cores=15,\n",
    "    process_BAM\n",
    ");"
   ]
  },
  {
   "cell_type": "markdown",
   "id": "a849fe17-311e-4cb9-b519-473163d63b21",
   "metadata": {
    "tags": []
   },
   "source": [
    "Now that we have all of the data in one format, apply post-processing:\n",
    "1. Merge all experiments via GRangesList and unlist\n",
    "2. Sort reads.\n",
    "3. Extract experiment, plate, cell, and UMI barcodes."
   ]
  },
  {
   "cell_type": "code",
   "execution_count": null,
   "id": "ecd6388f-64b4-4414-97dc-2f6ac5af5173",
   "metadata": {},
   "outputs": [],
   "source": [
    "scGRO = c(scGRO_PE, scGRO_SE, scGRO_hpAd, scGRO_ssAd) %>%\n",
    "    GRangesList %>%\n",
    "    unlist %>%\n",
    "    sort();"
   ]
  },
  {
   "cell_type": "code",
   "execution_count": null,
   "id": "75a62056-776b-4a8b-907e-785ad816fb86",
   "metadata": {},
   "outputs": [],
   "source": [
    "scGRO$Exp = scGRO$ExpID %>%\n",
    "    strsplit(\"_\", fixed=T) %>%\n",
    "    sapply('[', 1) %>%\n",
    "    factor;\n",
    "\n",
    "scGRO$Plate = scGRO$ExpID %>%\n",
    "    strsplit(\"_\", fixed=T) %>%\n",
    "    sapply('[', 2) %>%\n",
    "    factor;"
   ]
  },
  {
   "cell_type": "code",
   "execution_count": null,
   "id": "a78dbb9b-b8e8-45c8-9317-6eb8bebeb3b5",
   "metadata": {},
   "outputs": [],
   "source": [
    "scGRO$Cell = scGRO$BC_UMI %>%\n",
    "    strsplit(\"_\", fixed=T) %>%\n",
    "    sapply('[', 1) %>% \n",
    "    factor;\n",
    "\n",
    "scGRO$UMI = scGRO$BC_UMI %>%\n",
    "    strsplit(\"_\", fixed=T) %>%\n",
    "    sapply('[', 2) %>% \n",
    "    factor;"
   ]
  },
  {
   "cell_type": "code",
   "execution_count": null,
   "id": "19ff32bd-0afa-4cf3-a263-9a41c7aba004",
   "metadata": {},
   "outputs": [],
   "source": [
    "scGRO$BC_UMI = NULL;\n",
    "scGRO$ExpID = NULL;"
   ]
  },
  {
   "cell_type": "code",
   "execution_count": null,
   "id": "19ca784b-e9ac-4df4-9f3c-45a5c97eea65",
   "metadata": {
    "tags": []
   },
   "outputs": [],
   "source": [
    "object.size(scGRO) %>%\n",
    "    format(units = \"auto\")\n",
    "\n",
    "scGRO\n",
    "\n",
    "saveRDS(scGRO, file=\"../data/scGROv2p8_consolidated.rds\");"
   ]
  },
  {
   "cell_type": "code",
   "execution_count": null,
   "id": "21f37808-fd90-4ee4-9ae9-170ceaf1fee9",
   "metadata": {},
   "outputs": [],
   "source": []
  },
  {
   "cell_type": "code",
   "execution_count": null,
   "id": "2f02c72a-bf16-44f3-bffd-be145f0c0c45",
   "metadata": {},
   "outputs": [],
   "source": []
  }
 ],
 "metadata": {
  "kernelspec": {
   "display_name": "R",
   "language": "R",
   "name": "ir"
  },
  "language_info": {
   "codemirror_mode": "r",
   "file_extension": ".r",
   "mimetype": "text/x-r-source",
   "name": "R",
   "pygments_lexer": "r",
   "version": "4.2.2"
  }
 },
 "nbformat": 4,
 "nbformat_minor": 5
}
