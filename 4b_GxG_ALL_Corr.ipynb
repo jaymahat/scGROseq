{
 "cells": [
  {
   "cell_type": "code",
   "execution_count": null,
   "id": "637be83a-ef96-4ec1-93cf-0051dbbc4dc0",
   "metadata": {},
   "outputs": [],
   "source": [
    ".libPaths(\"/home/mahat/.conda/envs/r422/lib/R/library\")\n",
    "# .libPaths(c(\"/home/mahat/.conda/envs/r422/lib/R/library\",\n",
    "#             \"/net/bmc-lab2/data/lab/scgroseq/group/software/R/x86_64-pc-linux-gnu-library/4.2\"))\n",
    ".libPaths()"
   ]
  },
  {
   "cell_type": "code",
   "execution_count": null,
   "id": "b159ff73-dadd-4aa4-beec-a733593eaa4c",
   "metadata": {},
   "outputs": [],
   "source": [
    "suppressMessages({\n",
    "    library(tidyverse)\n",
    "    library(dplyr)\n",
    "    library(matrixStats)\n",
    "    library(foreach)\n",
    "    library(doParallel)\n",
    "    library(plyranges)\n",
    "    library(viridis)\n",
    "    library(ggpointdensity)\n",
    "    library(Matrix)\n",
    "    library(data.table)\n",
    "    library(Hmisc)\n",
    "    library(gplots)\n",
    "    library(rstatix)\n",
    "    library(scattermore)\n",
    "    library(igraph)\n",
    "    library(ggraph)\n",
    "    library(network)\n",
    "    library(sna)\n",
    "    library(statnet)\n",
    "    library(rtracklayer)\n",
    "    library(clusterProfiler)\n",
    "    library(stringr)\n",
    "    library(org.Mm.eg.db)\n",
    "    library(circlize)\n",
    "    library(gplots)\n",
    "    library(RIdeogram)\n",
    "    library(enrichplot)\n",
    "    library(GOSemSim)\n",
    "    library(dynamicTreeCut)\n",
    "    library(WGCNA)\n",
    "    library(ggrastr)\n",
    "});\n",
    "source(\"./scGRO_functions.r\");"
   ]
  },
  {
   "cell_type": "code",
   "execution_count": null,
   "id": "104b0744-9e76-43bb-b44f-a1210e78db0b",
   "metadata": {},
   "outputs": [],
   "source": [
    "registerDoParallel(16);\n",
    "options(\n",
    "    repr.plot.width=8,\n",
    "    repr.plot.height=8,\n",
    "    jupyter.plot_mimetypes = \"image/svg+xml\",\n",
    "    digits=5\n",
    ");\n",
    "theme_set(theme_classic() +\n",
    "    theme(\n",
    "        axis.title.x = element_text(color=\"black\", size=14, face=\"bold\"), \n",
    "        axis.title.y = element_text(color=\"black\", size=14, face=\"bold\"),\n",
    "        axis.text = element_text(color=\"black\", size=12, face=\"bold\"),\n",
    "        plot.title = element_text(face=\"bold\", size=14, hjust = 0.5),\n",
    "        axis.line = element_blank(),\n",
    "        # axis.ticks = element_blank()\n",
    "        panel.border = element_rect(colour = \"grey\", fill=NA, linewidth=1)\n",
    "    )\n",
    ");"
   ]
  },
  {
   "cell_type": "code",
   "execution_count": null,
   "id": "0310caff-6116-4a5d-9295-ae13eaf72701",
   "metadata": {},
   "outputs": [],
   "source": [
    "# load genes with dREG status for expression filter\n",
    "genesWithdREGstatus = readRDS(\"../data/groHMM_dREG_refinedGenes_mES_mm10.rds\");\n",
    "genesWithdREGstatus\n",
    "# load groHMM-extended genes and enhancers\n",
    "# features = read_bed(\"../data/groHMM_mES_BRsComb_LP-50_UTS10_features_customized_v2.bed\");\n",
    "\n",
    "# load features\n",
    "features = read_bed(\"../data/groHMM_dREG_refinedFeatures_mES_mm10_OSNcustomEnhancers_SEs.bed\");\n",
    "# features = read_bed(\"../data/mES_BRsComb_dREGfiltered_features_customized_OSNenhancersPlusSEs_v1.bed\");\n",
    "# features = read_bed(\"../data/groHMM_mES_BRsComb_LP-50_UTS10_features_customized_OSNenhancersPlusSEs_v2.bed\");\n",
    "names(features) = features$name;\n",
    "features$name=NULL;\n",
    "features$score=NULL;\n",
    "features"
   ]
  },
  {
   "cell_type": "code",
   "execution_count": null,
   "id": "ac954ce3-d7f9-45b0-a460-85de6c01d352",
   "metadata": {},
   "outputs": [],
   "source": [
    "# genes shorter than 1500 are: 2931\n",
    "# genes shorter than 1000 are: 2209\n",
    "# genes shorter than  500 are:  484\n",
    "# genes shorter than  200 are:  147\n",
    "\n",
    "# short Gm### genes\n",
    "shortGm = features %>%\n",
    "    filter( substr(names, 0, 3) == \"GN-\" ) %>%\n",
    "    filter( width > 200 ) %>%\n",
    "    filter( width < 1000 & substr(names, 0, 5) == \"GN-Gm\" );\n",
    "length(shortGm)\n",
    "summary(width(shortGm))\n",
    "names(shortGm)[1:5]\n",
    "\n",
    "# define highly expressed \"blacklist\" genes to be\n",
    "# removed from correlations\n",
    "blacklist = grep( \"GN-Rp[ls]\" , names(features) );\n",
    "blacklist = grep( \"GN-Sn[oh]\", names(features) ) %>%\n",
    "    append(blacklist);\n",
    "\n",
    "blacklist = names(features)[ blacklist ];\n",
    "length(blacklist)\n",
    "summary(width(features[ blacklist ]))\n",
    "blacklist[c(1:5, 110:115)]"
   ]
  },
  {
   "cell_type": "code",
   "execution_count": null,
   "id": "e41b0b11-b599-4cc6-83b1-8435a5008528",
   "metadata": {},
   "outputs": [],
   "source": [
    "# Specify feature length (half at the start and other half at the end)\n",
    "# to be trimmed to eliminate the effect of paused Pol II at TSS and TES\n",
    "trimEndLength =  1000;\n",
    "# specify maximum gene length to be used for G-E correlation:\n",
    "maxLength = 10000;"
   ]
  },
  {
   "cell_type": "code",
   "execution_count": null,
   "id": "712028d0-f569-44cb-bbe2-e97c2a3cb7bb",
   "metadata": {},
   "outputs": [],
   "source": [
    "# filter genes\n",
    "genes = features %>%\n",
    "    filter( substr(names, 0, 3) == \"GN-\" ) %>%\n",
    "# remove genes less than 200 nt (mostly Gm genes)\n",
    "    filter( width >= 200 ) %>%\n",
    "# filter genes with dREG peaks\n",
    "    filter( names %in% names(genesWithdREGstatus[genesWithdREGstatus$dREG == T]) | \n",
    "           !names %in% names(genesWithdREGstatus) ) %>%\n",
    "# filter highly expressed genes\n",
    "    filter(!names %in% blacklist ) %>%\n",
    "# filter Gm genes shorter than 1 kb\n",
    "    filter(!names %in% names(shortGm) );\n",
    "\n",
    "# trim 250 nt from either ends of genes that are longer than 1000\n",
    "trimGenes = which( width(genes) >= 1000 );\n",
    "genes[trimGenes] = genes[trimGenes] %>%\n",
    "# truncate 500 bp in the front and 500 nt in the end of long genes\n",
    "    anchor_center() %>%\n",
    "    mutate( width = width - 500);\n",
    "\n",
    "# trim additional 250 nt from either ends of genes that are now longer than 1000 (originally 1500)\n",
    "trimGenes = which( width(genes) >= 1000 );\n",
    "genes[trimGenes] = genes[trimGenes] %>%\n",
    "# truncate 500 bp in the front and 500 nt in the end of long genes\n",
    "    anchor_center() %>%\n",
    "    mutate( width = width - 500);\n",
    "\n",
    "# trim the long genes to 10 kb\n",
    "longf = which( width(genes) >= 10000 );\n",
    "genes[longf] = genes[longf] %>%\n",
    "    resize( width = 10000, fix=\"start\" );\n",
    "length(genes)\n",
    "# summary(width(genes %>% filter(width <1000)))\n",
    "summary(width(genes))"
   ]
  },
  {
   "cell_type": "code",
   "execution_count": null,
   "id": "7e1fd376-a03c-40fd-bc33-8df70f985e87",
   "metadata": {},
   "outputs": [],
   "source": [
    "# # create 10kbp time-bins within each feature\n",
    "# timebins1 = resize( genes,  width= 10000, fix=\"start\" );\n",
    "\n",
    "# # intersect with original features to trim excess\n",
    "# # (some features are <30 kbp)\n",
    "# timebins1 = pintersect( timebins1, genes );"
   ]
  },
  {
   "cell_type": "code",
   "execution_count": null,
   "id": "7c94826c-6623-473d-aef8-23660a5d6c9e",
   "metadata": {},
   "outputs": [],
   "source": [
    "scGRO = readRDS(\"../data/scGROv2p8_consolidated.rds\");\n",
    "counts = readRDS(\"../data/scGROv2p8_mapq3qc_max10kbp_filtered_counts.rds\");\n",
    "#counts = counts[,colSums(counts) >= 1000 ];\n",
    "dim(counts)\n",
    "allcells = colnames(counts);"
   ]
  },
  {
   "cell_type": "code",
   "execution_count": null,
   "id": "fb4475ed-5fd3-4b06-9aef-7643be24d56c",
   "metadata": {},
   "outputs": [],
   "source": [
    "table(substr(allcells, 0, 6));"
   ]
  },
  {
   "cell_type": "code",
   "execution_count": null,
   "id": "287bf640-cf2f-4b91-a83e-500d4681571d",
   "metadata": {},
   "outputs": [],
   "source": [
    "# Merge experiment ID and cell barcode to create unique cell ID across experiments\n",
    "scGRO = scGRO %>%\n",
    "    filter( mapq >= 3 & countQC & umiQC & plateQC & cellQC & miRQC ) %>%\n",
    "    subsetByOverlaps( genes ) %>%\n",
    "    mutate( cellID = factor( paste( Exp, Plate, Cell, sep=\"-\") ) ) %>%\n",
    "    filter( cellID %in% allcells ) #%>%\n",
    "    # select( cellID );\n",
    "\n",
    "scGRO"
   ]
  },
  {
   "cell_type": "code",
   "execution_count": null,
   "id": "59028396-df52-4f20-89b6-c92fa23d0ac2",
   "metadata": {
    "tags": []
   },
   "outputs": [],
   "source": [
    "counts = foreach(\n",
    "    id = allcells,\n",
    "    .combine=\"cbind2\"\n",
    ") %dopar% {\n",
    "    reads = scGRO %>% filter(cellID == id);\n",
    "    # count reads in each feature for this cellID\n",
    "    counts1 = countOverlaps( genes, reads );\n",
    "\n",
    "    counts = cbind(counts1) %>%\n",
    "        Matrix(sparse=T);\n",
    "\n",
    "    return( counts );\n",
    "}\n",
    "# columns = cells = cellIDs\n",
    "colnames(counts) = allcells;\n",
    "rownames(counts) = names(genes);\n",
    "dim(counts)"
   ]
  },
  {
   "cell_type": "code",
   "execution_count": null,
   "id": "b33cd1c4-af73-464f-92cb-3fc902d08035",
   "metadata": {},
   "outputs": [],
   "source": [
    "data.frame(\n",
    "    x=rowMeans(counts>0)\n",
    ") %>%\n",
    "    ggplot( aes(x=x) ) +\n",
    "    geom_histogram(binwidth=0.05) +\n",
    "    scale_x_log10() +\n",
    "    ggtitle(\"Reads per gene\") +\n",
    "    xlab(\"Reads per cell\") +\n",
    "    ylab(\"Number of genes\");"
   ]
  },
  {
   "cell_type": "code",
   "execution_count": null,
   "id": "6755b9bb-c508-4de1-b833-09f5e4156b7b",
   "metadata": {},
   "outputs": [],
   "source": [
    "# only retain features with counts in 0.1% or more cells\n",
    "observed = counts[ rowMeans(counts>0) >= 0.001, ];\n",
    "dim(observed)"
   ]
  },
  {
   "cell_type": "code",
   "execution_count": null,
   "id": "95316360-0425-4463-8d26-461101ea17bc",
   "metadata": {},
   "outputs": [],
   "source": [
    "# Niters = 100;\n",
    "# Ncells = ncol(observed);\n",
    "# Ngenes = nrow(observed);\n",
    "# Nreads = colSums(observed);\n",
    "\n",
    "# # sampling probability = read count / total reads in each cell\n",
    "# bin1total = colSums(observed[, allcells]);\n",
    "# pmatrix1 = t(t(observed[, allcells]) / bin1total);\n",
    "\n",
    "# # average across cells\n",
    "# pvector1 = rowMeans(pmatrix1);"
   ]
  },
  {
   "cell_type": "markdown",
   "id": "5661f73c-4418-4672-9842-3b3c5b8cab65",
   "metadata": {},
   "source": [
    "## GxG Correlation:"
   ]
  },
  {
   "cell_type": "code",
   "execution_count": null,
   "id": "530e3f09-7ef9-4fd6-ba07-adbcf4698763",
   "metadata": {},
   "outputs": [],
   "source": [
    "# transforming the matrix to calculate corr, hmisc package reqires genes in columns and cells in rows\n",
    "obsx = as.matrix(t(observed))\n",
    "dim(obsx)\n",
    "obsx[1:5,1:5]"
   ]
  },
  {
   "cell_type": "code",
   "execution_count": null,
   "id": "ead3d130-8597-4c27-9b6f-c3f3dd6d075d",
   "metadata": {},
   "outputs": [],
   "source": [
    "# ++++++++++++++++++++++++++++\n",
    "# flattenCorrMatrix\n",
    "# ++++++++++++++++++++++++++++\n",
    "# cormat : matrix of the correlation coefficients\n",
    "# pmat : matrix of the correlation p-values\n",
    "flattenCorrMatrix = function(cormat, pmat) {\n",
    "  ut = upper.tri(cormat)\n",
    "  data.frame(\n",
    "    geneA = rownames(cormat)[row(cormat)[ut]],\n",
    "    geneB = rownames(cormat)[col(cormat)[ut]],\n",
    "    corr = (cormat)[ut],\n",
    "    pVal = pmat[ut]\n",
    "    )\n",
    "}"
   ]
  },
  {
   "cell_type": "markdown",
   "id": "1571614d-a10e-4d54-b5d9-b648f4ccb1ff",
   "metadata": {},
   "source": [
    "#### Pearson correlation on non-binarized data:"
   ]
  },
  {
   "cell_type": "code",
   "execution_count": null,
   "id": "db9ea1f1-544b-4a9e-8cc2-af6f598119b9",
   "metadata": {},
   "outputs": [],
   "source": [
    "# use hmisc package to calculate correlation and p-value:\n",
    "corrP = rcorr(obsx, type = \"pearson\")\n",
    "\n",
    "corrPflat = flattenCorrMatrix( corrP$r, corrP$P ) %>%\n",
    "    mutate( pAdj = p.adjust(pVal, method = \"bonferroni\") ) %>%\n",
    "    mutate( corrRank = rank(corr) ) %>%\n",
    "    mutate( pValRank = rank(pVal) );\n",
    "dim(corrPflat)\n",
    "fwrite(corrPflat, file=\"../data/scGROv2p8_GxG_max10kbp_pearson_correlation.csv.gz\")"
   ]
  },
  {
   "cell_type": "raw",
   "id": "aa04b4d6-89f2-4454-8a26-bcd240eb290c",
   "metadata": {},
   "source": [
    "pdf('../plots/scGRO_GxG_max10kbp_pearson_corrCoeff_heatmap.pdf',width=20,height=20)\n",
    "heatmap.2(corrP$r,\n",
    "    dendrogram='both',\n",
    "    scale='none',\n",
    "    col=colorRampPalette(c(\"blue\", \"white\", \"red\"))(n = 100),\n",
    "    trace='none',\n",
    "    keysize=2,\n",
    "    density.info='none',\n",
    "    labRow=FALSE,\n",
    "    labCol=FALSE)\n",
    "dev.off()"
   ]
  },
  {
   "cell_type": "code",
   "execution_count": null,
   "id": "53a0ede1-52eb-4d32-ac09-6ce8674e54f9",
   "metadata": {},
   "outputs": [],
   "source": [
    "corrPlot = corrPflat %>%\n",
    "    ggplot(aes(x = corrRank, y = corr)) +\n",
    "    geom_point(pch = '.', aes(color = pAdj)) +\n",
    "    ylim(-0.1, 0.3) +\n",
    "    scale_color_viridis() +\n",
    "    ggtitle(\"GxG Pearson Corr\") +\n",
    "    xlab(\"Rank\") +\n",
    "    ylab(\"Pearson corr. coeff.\");\n",
    "ggsave(corrPlot, filename = \"../plots/scGRO_GxG_max10kbp_pearson_corrCoeff_rank.png\", width=4, height=4);\n",
    "\n",
    "corrPlot = corrPflat %>%\n",
    "    ggplot(aes(x = pValRank, y = pVal)) +\n",
    "    geom_point(pch = '.', aes(color = pAdj)) +\n",
    "    scale_color_viridis() +\n",
    "    ggtitle(\"GxG Pearson Corr\") +\n",
    "    xlab(\"Rank\") +\n",
    "    ylab(\"Pearson corr. p-value\");\n",
    "ggsave(corrPlot, filename = \"../plots/scGRO_GxG_max10kbp_pearson_corrPvalue_rank.png\", width=4, height=4);\n",
    "\n",
    "corrPlot = corrPflat %>%\n",
    "    ggplot(aes( x = corr, y = pVal)) +\n",
    "    geom_point(pch = '.', aes(color = pAdj)) +\n",
    "    scale_color_viridis() +\n",
    "    ggtitle(\"GxG Pearson Corr\") +\n",
    "    xlab(\"Pearson corr. coeff.\") +\n",
    "    ylab(\"Pearson corr. p-value\") ;\n",
    "ggsave(corrPlot, filename = \"../plots/scGRO_GxG_max10kbp_pearson_corrCoeff_vs_pvalue.png\", width=4, height=4)"
   ]
  },
  {
   "cell_type": "code",
   "execution_count": null,
   "id": "d95fffff-d9e7-4d9b-a1d4-98f8a6368a28",
   "metadata": {},
   "outputs": [],
   "source": [
    "# corrPflat = fread(\"../data/scGROv2p8_GxG_max10kbp_pearson_correlation.csv.gz\");\n",
    "\n",
    "corrPearson = corrPflat %>%\n",
    "    filter( corr >= 0.15 & corr < 1 & pAdj <= 0.05);\n",
    "nrow(corrPearson)  \n",
    "head(corrPearson)\n",
    "\n",
    "test = corrPflat %>%\n",
    "    filter( corr >= 0.125 & corr < 1 & pAdj <= 0.05);\n",
    "nrow(test)  \n",
    "head(test)"
   ]
  },
  {
   "cell_type": "markdown",
   "id": "63fb3203-0719-4a99-9810-de8293556cf1",
   "metadata": {},
   "source": [
    "#### Spearman correlation on non-binarized data:"
   ]
  },
  {
   "cell_type": "code",
   "execution_count": null,
   "id": "94a7a89d-8911-43e8-9081-f8fcb927be01",
   "metadata": {},
   "outputs": [],
   "source": [
    "# use hmisc package to calculate correlation and p-value:\n",
    "corrS = rcorr(obsx, type = \"spearman\")\n",
    "\n",
    "corrSflat = flattenCorrMatrix( corrS$r, corrS$P ) %>%\n",
    "    mutate( pAdj = p.adjust(pVal, method = \"bonferroni\") ) %>%\n",
    "    mutate( corrRank = rank(corr) ) %>%\n",
    "    mutate( pValRank = rank(pVal) );\n",
    "dim(corrSflat)\n",
    "fwrite(corrSflat, file=\"../data/scGROv2p8_GxG_max10kbp_spearman_correlation.csv.gz\")"
   ]
  },
  {
   "cell_type": "raw",
   "id": "739c7fbf-d2b9-4db0-b999-1d2d479608c5",
   "metadata": {},
   "source": [
    "pdf('../plots/scGRO_GxG_max10kbp_spearman_corrCoeff_heatmap.pdf',width=20,height=20)\n",
    "heatmap.2(corrS$r,\n",
    "    dendrogram='both',\n",
    "    scale='none',\n",
    "    col=colorRampPalette(c(\"blue\", \"white\", \"red\"))(n = 100),\n",
    "    trace='none',\n",
    "    keysize=2,\n",
    "    density.info='none',\n",
    "    labRow=FALSE,\n",
    "    labCol=FALSE)\n",
    "dev.off()"
   ]
  },
  {
   "cell_type": "code",
   "execution_count": null,
   "id": "52e607d7-821e-4054-ab40-c77d1d16b808",
   "metadata": {},
   "outputs": [],
   "source": [
    "corrPlot = corrSflat %>%\n",
    "    ggplot(aes(x = corrRank, y = corr)) +\n",
    "    geom_point(pch = '.', aes(color = pAdj)) +\n",
    "    ylim(-0.1, 0.3) +\n",
    "    scale_color_viridis() +\n",
    "    ggtitle(\"GxG spearman Corr\") +\n",
    "    xlab(\"Rank\") +\n",
    "    ylab(\"Spearman corr. coeff.\");\n",
    "ggsave(corrPlot, filename = \"../plots/scGRO_GxG_max10kbp_spearman_corrCoeff_rank.png\", width=4, height=4);\n",
    "\n",
    "corrPlot = corrSflat %>%\n",
    "    ggplot(aes(x = pValRank, y = pVal)) +\n",
    "    geom_point(pch = '.', aes(color = pAdj)) +\n",
    "    scale_color_viridis() +\n",
    "    ggtitle(\"GxG spearman Corr\") +\n",
    "    xlab(\"Rank\") +\n",
    "    ylab(\"Spearman corr. p-value\");\n",
    "ggsave(corrPlot, filename = \"../plots/scGRO_GxG_max10kbp_spearman_corrPvalue_rank.png\", width=4, height=4);\n",
    "\n",
    "corrPlot = corrSflat %>%\n",
    "    ggplot(aes( x = corr, y = pVal)) +\n",
    "    geom_point(pch = '.', aes(color = pAdj)) +\n",
    "    scale_color_viridis() +\n",
    "    ggtitle(\"GxG spearman Corr\") +\n",
    "    xlab(\"Spearman corr. coeff.\") +\n",
    "    ylab(\"Spearman corr. p-value\") ;\n",
    "ggsave(corrPlot, filename = \"../plots/scGRO_GxG_max10kbp_spearman_corrCoeff_vs_pvalue.png\", width=4, height=4)"
   ]
  },
  {
   "cell_type": "code",
   "execution_count": null,
   "id": "acbb84fe-9760-40c2-8df0-08701d499743",
   "metadata": {},
   "outputs": [],
   "source": [
    "# corrSflat = fread(\"../data/scGROv2p8_GxG_max10kbp_spearman_correlation.csv.gz\");\n",
    "\n",
    "corrSpearman = corrSflat %>%\n",
    "    filter( corr >= 0.15 & corr < 1 & pAdj <= 0.05);\n",
    "nrow(corrSpearman)  \n",
    "head(corrSpearman)\n",
    "\n",
    "test = corrSflat %>%\n",
    "    filter( corr >= 0.125 & corr < 1 & pAdj <= 0.05);\n",
    "nrow(test)  \n",
    "head(test)"
   ]
  },
  {
   "cell_type": "markdown",
   "id": "07cd5025-d508-44f2-9490-4a8319587dcf",
   "metadata": {},
   "source": [
    "#### Pearson/Spearman on binary matrix\n",
    "##### Pearson and Spearman on binary data gives same result"
   ]
  },
  {
   "cell_type": "code",
   "execution_count": null,
   "id": "4e189f2e-4667-45c2-9eb7-f1d0313cf9ba",
   "metadata": {},
   "outputs": [],
   "source": [
    "# Binarize observed counts\n",
    "obsb = observed;\n",
    "obsb[obsb>1] = 1;\n",
    "# transforming the matrix to calculate corr, hmisc package reqires genes in columns and cells in rows\n",
    "obsb = as.matrix(t(obsb))\n",
    "dim(obsb)\n",
    "obsb[1:5,1:5]"
   ]
  },
  {
   "cell_type": "code",
   "execution_count": null,
   "id": "1e7c4d8c-7c1c-4340-a470-60727473d9db",
   "metadata": {},
   "outputs": [],
   "source": [
    "# use hmisc package to calculate correlation and p-value:\n",
    "corrB = rcorr(obsb, type = \"pearson\")\n",
    "\n",
    "corrBflat = flattenCorrMatrix( corrB$r, corrB$P ) %>%\n",
    "    mutate( pAdj = p.adjust(pVal, method = \"fdr\") ) %>%\n",
    "    mutate( corrRank = rank(corr) ) %>%\n",
    "    mutate( pValRank = rank(pVal) );\n",
    "dim(corrBflat)\n",
    "fwrite(corrBflat, file=\"../data/scGROv2p8_GxG_max10kbp_binary_correlation.csv.gz\")"
   ]
  },
  {
   "cell_type": "code",
   "execution_count": null,
   "id": "d98f1b5e-24d1-4b5f-bf1b-a1f074ba71c6",
   "metadata": {},
   "outputs": [],
   "source": [
    "corrBinary = corrBflat %>%\n",
    "    filter( corr >= 0.15 & corr < 1 & pAdj <= 0.05 );\n",
    "nrow(corrBinary)  \n",
    "head(corrBinary)\n",
    "\n",
    "test = corrBflat %>%\n",
    "    filter( corr >= 0.125 & corr < 1 & pAdj <= 0.05 );\n",
    "nrow(test)  \n",
    "head(test)"
   ]
  },
  {
   "cell_type": "raw",
   "id": "fb9cd7ff-efbf-469d-a531-ceec7132f06a",
   "metadata": {},
   "source": [
    "pdf('../plots/scGRO_GxG_max10kbp_binary_corrCoeff_heatmap.pdf',width=20,height=20)\n",
    "heatmap.2(corrB$r,\n",
    "    dendrogram='both',\n",
    "    scale='none',\n",
    "    col=colorRampPalette(c(\"blue\", \"white\", \"red\"))(n = 100),\n",
    "    trace='none',\n",
    "    keysize=2,\n",
    "    density.info='none',\n",
    "    labRow=FALSE,\n",
    "    labCol=FALSE)\n",
    "dev.off()"
   ]
  },
  {
   "cell_type": "code",
   "execution_count": null,
   "id": "32c0c886-2f53-44e8-96d0-cf90833d8cab",
   "metadata": {},
   "outputs": [],
   "source": [
    "corrPlot = corrBflat %>%\n",
    "    ggplot(aes(x = corrRank, y = corr)) +\n",
    "    geom_point(pch = 16, aes(color = pAdj)) +\n",
    "    ylim(-0.1, 0.3) +\n",
    "    scale_color_viridis() +\n",
    "    ggtitle(\"GxG Binary Corr\") +\n",
    "    xlab(\"Rank\") +\n",
    "    ylab(\"Binary corr. coeff.\");\n",
    "ggsave(corrPlot, filename = \"../plots/scGRO_GxG_max10kbp_binary_corrCoeff_rank.png\", width=4, height=4);\n",
    "\n",
    "corrPlot = corrBflat %>%\n",
    "    ggplot(aes(x = pValRank, y = pVal)) +\n",
    "    geom_point(pch = 16, aes(color = pAdj)) +\n",
    "    scale_color_viridis() +\n",
    "    ggtitle(\"GxG Binary Corr\") +\n",
    "    xlab(\"Rank\") +\n",
    "    ylab(\"Binary corr. p-value\");\n",
    "ggsave(corrPlot, filename = \"../plots/scGRO_GxG_max10kbp_binary_corrPvalue_rank.png\", width=4, height=4);\n",
    "\n",
    "corrPlot = corrBflat %>%\n",
    "    ggplot(aes( x = corr, y = pVal)) +\n",
    "    geom_point(pch = 16, aes(color = pAdj)) +\n",
    "    scale_color_viridis() +\n",
    "    # ggtitle(\"GxG Binary Corr\") +\n",
    "    theme(legend.position = c(0.875, 0.5),   legend.key.size = unit(5, 'mm'), \n",
    "          legend.title = element_text(size=14), legend.background = element_blank()) +\n",
    "    xlab(\"Pearson correlation coefficient\") +\n",
    "    ylab(\"Pearson correlation p-value\") ;\n",
    "ggsave(corrPlot, filename = \"../plots/scGRO_GxG_max10kbp_binary_corrCoeff_vs_pvalue.png\", width=4, height=4)"
   ]
  },
  {
   "cell_type": "code",
   "execution_count": null,
   "id": "40aadc11-85c2-4925-bb92-65ac5440cef0",
   "metadata": {},
   "outputs": [],
   "source": [
    "corrBflat = fread(\"../data/scGROv2p8_GxG_max10kbp_binary_correlation.csv.gz\");\n",
    "dim(corrBflat)\n",
    "\n",
    "# corrPlot = corrBflat %>%\n",
    "#     ggplot(aes( x = corr, y = pVal)) +\n",
    "#     ggrastr::rasterise(geom_point(pch = \".\", aes(color = pAdj))) +\n",
    "#     scale_color_viridis(option = \"H\", direction = -1) +\n",
    "#     # ggtitle(\"GxG Binary Corr\") +\n",
    "#     theme(legend.position = c(0.875, 0.5),   legend.key.size = unit(4, 'mm'), \n",
    "#           legend.title = element_text(size=14), legend.background = element_blank()) +\n",
    "#     xlab(\"Pearson correlation coefficient\") +\n",
    "#     ylab(\"Pearson correlation \\n p-value\") ;\n",
    "# ggsave(corrPlot, filename = \"../plots/scGRO_GxG_max10kbp_binary_corrCoeff_vs_pvalue_lowHeight_raster.pdf\", width=4, height=2)\n",
    "\n",
    "corrPlot = corrBflat %>%\n",
    "    ggplot(aes( x = corr, y = pVal)) +\n",
    "    geom_point(pch = 16, aes(color = pAdj)) +\n",
    "    scale_color_viridis(option = \"E\", direction = -1) +\n",
    "    # ggtitle(\"GxG Binary Corr\") +\n",
    "    theme(legend.position = c(0.875, 0.5),   legend.key.size = unit(2, 'mm'), \n",
    "          legend.title = element_text(size=12), legend.background = element_blank()) +\n",
    "    xlab(\"Correlation coefficient\") +\n",
    "    ylab(\"Correlation \\n p-value\") ;\n",
    "ggsave(corrPlot, filename = \"../plots/scGRO_GxG_max10kbp_binary_corrCoeff_vs_pvalue.tiff\", width=4, height=4)\n",
    "ggsave(corrPlot, filename = \"../plots/scGRO_GxG_max10kbp_binary_corrCoeff_vs_pvalue_lowHeight.tiff\", width=4, height=2)\n",
    "ggsave(corrPlot, filename = \"../plots/scGRO_GxG_max10kbp_binary_corrCoeff_vs_pvalue_lowHeight.png\", width=4, height=2)"
   ]
  },
  {
   "cell_type": "code",
   "execution_count": null,
   "id": "41b061f4-f23e-4759-b8da-d4bb5fc8ac93",
   "metadata": {},
   "outputs": [],
   "source": [
    "ggsave(corrPlot, filename = \"../plots/scGRO_GxG_max10kbp_binary_corrCoeff_vs_pvalue_midHeight.tiff\", width=4, height=3)"
   ]
  },
  {
   "cell_type": "markdown",
   "id": "1e92dfe6-95d2-4c3f-a546-d1f590460e1a",
   "metadata": {},
   "source": [
    "#### Read Chi-square GxG correlation"
   ]
  },
  {
   "cell_type": "code",
   "execution_count": null,
   "id": "8023cada-e593-4849-a1e1-642c02a38d4c",
   "metadata": {},
   "outputs": [],
   "source": [
    "corrChiSquare = fread(file=\"../data/scGROv2p8_mapq3qc_max10kbp_1Kpermuted_chisq_empp.csv.gz\");\n",
    "dim(corrChiSquare)\n",
    "corrChiSquare[1:4, ]"
   ]
  },
  {
   "cell_type": "markdown",
   "id": "037726a5-f588-44cb-8ab8-727773b14ad9",
   "metadata": {},
   "source": [
    "#### Merge the 4 GxG tests: three type of correlations and a chi-square"
   ]
  },
  {
   "cell_type": "code",
   "execution_count": null,
   "id": "8bff86fd-6833-435c-80e7-3b24cf76fc95",
   "metadata": {},
   "outputs": [],
   "source": [
    "# corrPflat = fread(file=\"../data/scGROv2p8_GxG_max10kbp_pearson_correlation.csv.gz\")\n",
    "# dim(corrPflat)\n",
    "# corrSflat = fread(file=\"../data/scGROv2p8_GxG_max10kbp_spearman_correlation.csv.gz\")\n",
    "# dim(corrSflat)\n",
    "# corrBflat = fread(file=\"../data/scGROv2p8_GxG_max10kbp_binary_correlation.csv.gz\")\n",
    "# dim(corrBflat)"
   ]
  },
  {
   "cell_type": "code",
   "execution_count": null,
   "id": "d1bb1f74-fd6f-47db-8093-1a84c6b72870",
   "metadata": {},
   "outputs": [],
   "source": [
    "# join two tables using two columns\n",
    "corr = left_join(   corrPflat[ ,c(1:3,5)], corrSflat[ ,c(1:3,5)], by=c(\"geneA\", \"geneB\"), suffix = c(\".P\", \".S\") ) %>%\n",
    "       left_join(., corrBflat[ ,c(1:3,5)], by=c(\"geneA\", \"geneB\") ) %>%\n",
    "       left_join(., corrChiSquare, by=c(\"geneA\", \"geneB\") ) #%>%\n",
    "    # na.omit();\n",
    "dim(corr)\n",
    "corr[1:4, ]\n",
    "\n",
    "# fwrite(corr, file=\"../data/scGROv2p8_GxG_max10kbp_ALL_correlation.csv.gz\")"
   ]
  },
  {
   "cell_type": "markdown",
   "id": "654ea02e-4323-4a06-bb64-9e2749788cc0",
   "metadata": {},
   "source": [
    "## Read the merged file:"
   ]
  },
  {
   "cell_type": "code",
   "execution_count": null,
   "id": "b5bfe726-6e26-45b8-9476-c66a59411e32",
   "metadata": {},
   "outputs": [],
   "source": [
    "corr = fread(\"../data/scGROv2p8_GxG_max10kbp_ALL_correlation.csv.gz\");\n",
    "dim(corr)"
   ]
  },
  {
   "cell_type": "code",
   "execution_count": null,
   "id": "2adcbbd8-208b-4199-8347-75914297f5c2",
   "metadata": {},
   "outputs": [],
   "source": [
    "corr[1:5, ]\n",
    "\n",
    "test = corr %>%\n",
    "    filter( emp_p_pos == \"NA\" & corr != \"NA\");\n",
    "    # na.omit();\n",
    "dim(test)\n",
    "test[1:10, ]"
   ]
  },
  {
   "cell_type": "markdown",
   "id": "bb5ae1cf-1438-42d7-bae5-b2cab9948281",
   "metadata": {},
   "source": [
    "### co-transcribed genes in same chromosomes:"
   ]
  },
  {
   "cell_type": "code",
   "execution_count": null,
   "id": "7cc9b242-9e67-4caa-a1a8-bcaed52ead3c",
   "metadata": {},
   "outputs": [],
   "source": [
    "chr_corr = corr %>%\n",
    "    filter(as.character(seqnames(features[geneA])) == as.character(seqnames(features[geneB])));\n",
    "dim(chr_corr)\n",
    "# lookup gene attributes\n",
    "geneB = features[ chr_corr$geneA ];\n",
    "geneA = features[ chr_corr$geneB ];\n",
    "chr_corr$lengthA = width(geneA);\n",
    "chr_corr$lengthB = width(geneB);\n",
    "chr_corr$strA    = as.character(strand(geneA));\n",
    "chr_corr$strB    = as.character(strand(geneB));\n",
    "\n",
    "# compute distance between gene promoters\n",
    "proA = resize(geneA, width=1, fix=\"start\");\n",
    "proB = resize(geneB, width=1, fix=\"start\");\n",
    "strand(proA) = \"*\";\n",
    "strand(proB) = \"*\";\n",
    "chr_corr$distance = width(pgap( proA, proB ));\n",
    "\n",
    "# chr_corr = chr_corr %>% \n",
    "#     filter(distance < 10e6);\n",
    "nrow(chr_corr)\n",
    "chr_corr[1:4, ]"
   ]
  },
  {
   "cell_type": "code",
   "execution_count": null,
   "id": "3c5b88f5-7f41-49b3-9fa8-d80d56bafa03",
   "metadata": {},
   "outputs": [],
   "source": [
    "chr_corr %>%\n",
    "    filter( distance <= 2500000 ) %>%\n",
    "    ggplot( aes(x=distance)) +\n",
    "    geom_histogram(bins = 50, color=\"white\", fill=\"#445577\") +\n",
    "    # xlim(0, 2500000) +\n",
    "    # scale_x_log10() +\n",
    "    ggtitle(\"All genes on either strand\") +\n",
    "    xlab(\"Distance between pair (kb)\") +\n",
    "    ylab(\"Number of feature pairs\");\n",
    "ggsave(filename=\"../plots/GxG_distance_between_allGenes.pdf\", width=4, height=4, units=\"in\")\n",
    "\n",
    "chr_corr %>%\n",
    "    filter( corr > 0.1 & pAdj < 0.05 ) %>%\n",
    "    # filter( corr > 0.1 & pAdj < 0.05 & emp_p_pos < 0.05 ) %>%\n",
    "    filter( distance <= 2500000 ) %>%\n",
    "    ggplot( aes(x=distance)) +\n",
    "    geom_histogram(bins = 50, color=\"white\", fill=\"#445577\") +\n",
    "    # xlim(0, 2500000) +\n",
    "    # scale_x_log10() +\n",
    "    ggtitle(\"Correlated genes on either strand\") +\n",
    "    xlab(\"Distance between pair (kb)\") +\n",
    "    ylab(\"Number of feature pairs\");\n",
    "ggsave(filename=\"../plots/GxG_distance_between_corrGenes.pdf\", width=4, height=4, units=\"in\")\n",
    "\n",
    "\n",
    "chr_corr %>%\n",
    "    filter( corr > 0.1 & pAdj < 0.05 ) %>%\n",
    "    # filter( corr > 0.1 & pAdj < 0.05 & emp_p_pos < 0.05 ) %>%\n",
    "    filter( distance <= 2500000 ) %>%\n",
    "    filter( strA != strB ) %>%\n",
    "    ggplot( aes(x=distance)) +\n",
    "    geom_histogram(bins = 50, color=\"white\", fill=\"#445577\") +\n",
    "    xlim(0, 2500000) +\n",
    "    xlab(\"Distance between genes in different strand (kb)\") +\n",
    "    ylab(\"Density of gene pairs\");\n",
    "ggsave(filename=\"../plots/GxG_distance_between_corrGenes_diffStrands.pdf\", width=4, height=4, units=\"in\")\n",
    "\n",
    "chr_corr %>%\n",
    "    filter( corr > 0.1 & pAdj < 0.05 ) %>%\n",
    "    # filter( corr > 0.1 & pAdj < 0.05 & emp_p_pos < 0.05 ) %>%\n",
    "    filter( distance <= 2500000 ) %>%\n",
    "    filter( strA == strB ) %>%\n",
    "    ggplot( aes(x=distance)) +\n",
    "    geom_histogram(bins = 50, color=\"white\", fill=\"#445577\") +    \n",
    "    xlim(0, 2500000) +\n",
    "    xlab(\"Distance between genes in same strand (kb)\") +\n",
    "    ylab(\"Number of gene pairs\");\n",
    "ggsave(filename=\"../plots/GxG_distance_between_corrGenes_sameStrands.pdf\", width=4, height=4, units=\"in\")"
   ]
  },
  {
   "cell_type": "code",
   "execution_count": null,
   "id": "fd19091f-f4cf-4c86-a280-94e40412ccef",
   "metadata": {},
   "outputs": [],
   "source": [
    "chr_corrF = chr_corr %>%\n",
    "    filter( distance <= 2500000 ) %>%\n",
    "    arrange( geneA );\n",
    "dim(chr_corrF)\n",
    "summary(chr_corrF$distance)\n",
    "# make a new column class to plot all vs significant as overlapping histogram:\n",
    "chr_corrF$class = ifelse(chr_corrF$corr >= 0.075 & chr_corrF$pAdj <= 0.05 & chr_corrF$emp_p_pos <= 0.05, \"correlated pairs\", \"uncorrelated pairs\")\n",
    "summary(as.factor(chr_corrF$class))\n",
    "chr_corrF[1:4, ]"
   ]
  },
  {
   "cell_type": "code",
   "execution_count": null,
   "id": "16e4b712-8b90-4fc2-a506-d22468cc9db0",
   "metadata": {},
   "outputs": [],
   "source": [
    "chr_corrF %>%\n",
    "    ggplot( aes(x=distance, fill=class)) +\n",
    "    geom_histogram(bins = 25, position = \"identity\", \n",
    "                   alpha = 0.5, \n",
    "                   # color = \"white\",\n",
    "                   # mapping = aes(y = after_stat(count))) +\n",
    "                   # mapping = aes(y = after_stat(ncount))) +\n",
    "                   # mapping = aes(y = after_stat(count/sum(count)))) +\n",
    "                   mapping = aes(y = after_stat(density))) +\n",
    "    # geom_density() +\n",
    "    # scale_x_continuous(limits = c(0, 2500000)) +\n",
    "    # scale_x_continuous(breaks = seq(0, 2500000, 100000)) +\n",
    "    # stat_bin(aes(y=..count.., label=..count..), geom=\"text\", vjust=2) +\n",
    "    xlim(0, 2500000) +\n",
    "    theme(legend.position = c(0.8, 0.9), \n",
    "          legend.text = element_text(size=10, face=\"bold\"),\n",
    "          legend.key.size = unit(0.5, 'cm')) +\n",
    "    guides(fill=guide_legend(title=\"\")) +\n",
    "    # scale_x_log10() +\n",
    "    # ggtitle(\"Co-expressed genes\") +\n",
    "    xlab(\"Distance between gene pairs (kb)\") +\n",
    "    ylab(\"Normalized gene pairs\")\n",
    "ggsave(filename=\"../plots/GxG_distance_corr-uncorr.pdf\", width=6, height=6, units=\"in\")\n",
    "\n",
    "chr_corrF %>%\n",
    "    ggplot( aes(x=distance, fill=class)) +\n",
    "    geom_histogram(bins = 25, position = \"identity\") +\n",
    "    xlim(0, 2500000) +\n",
    "    theme(legend.position = \"none\") +\n",
    "    guides(fill=guide_legend(title=\"\")) +\n",
    "\n",
    "    facet_wrap(~class, scales = \"free\") +\n",
    "    scale_fill_manual(values=c(\"#1F968B\", \"darkgray\")) +\n",
    "    theme(strip.background = element_blank(),\n",
    "        strip.text = element_text(size = 14, face=\"bold\")) +\n",
    "\n",
    "    # ggtitle(\"Co-expressed genes\") +\n",
    "    xlab(\"Distance between gene pairs (kb)\") +\n",
    "    ylab(\"Normalized gene pairs\")\n",
    "ggsave(filename=\"../plots/GxG_distance_corr-uncorr_facets.pdf\", width=8, height=6, units=\"in\")\n",
    "\n",
    "ks.test(distance ~ class, chr_corrF);"
   ]
  },
  {
   "cell_type": "code",
   "execution_count": null,
   "id": "b98ef7e7-0b66-4d90-996f-f90943cc641e",
   "metadata": {},
   "outputs": [],
   "source": [
    "chr_corrF %>%\n",
    "    filter( strA != strB ) %>%\n",
    "    ggplot( aes(x=distance, fill=class)) +\n",
    "    geom_histogram(bins = 25, position = \"identity\", alpha = 0.5, \n",
    "                   mapping = aes(y = after_stat(density))) +\n",
    "    xlim(0, 2500000) +\n",
    "    theme(legend.position = c(0.8, 0.9), \n",
    "          legend.text = element_text(size=10, face=\"bold\"),\n",
    "          legend.key.size = unit(0.5, 'cm')) +\n",
    "    guides(fill=guide_legend(title=\"\")) +\n",
    "    xlab(\"Distance between genes in different strand (kb)\") +\n",
    "    ylab(\"Density of gene pairs\");\n",
    "ggsave(filename=\"../plots/GxG_distance_between_corr-uncorr_Genes_diffStrands.pdf\", width=4, height=4, units=\"in\")\n",
    "ks.test(distance ~ class, chr_corrF);\n",
    "\n",
    "chr_corrF %>%\n",
    "    filter( strA == strB ) %>%\n",
    "    ggplot( aes(x=distance, fill=class)) +\n",
    "    geom_histogram(bins = 25, position = \"identity\", alpha = 0.5, \n",
    "                   mapping = aes(y = after_stat(density))) +    \n",
    "    xlim(0, 2500000) +\n",
    "    theme(legend.position = c(0.8, 0.9), \n",
    "          legend.text = element_text(size=10, face=\"bold\"),\n",
    "          legend.key.size = unit(0.5, 'cm')) +\n",
    "    guides(fill=guide_legend(title=\"\")) +\n",
    "    xlab(\"Distance between genes in same strand (kb)\") +\n",
    "    ylab(\"Density of gene pairs\");\n",
    "ggsave(filename=\"../plots/GxG_distance_between_corr-uncorr_Genes_sameStrands.pdf\", width=4, height=4, units=\"in\")\n",
    "ks.test(distance ~ class, chr_corrF);"
   ]
  },
  {
   "cell_type": "code",
   "execution_count": null,
   "id": "36b7e7bb-f65a-4842-a9ee-f4749c58bf65",
   "metadata": {},
   "outputs": [],
   "source": [
    "chr_corr %>%\n",
    "    filter( strA != strB ) %>%\n",
    "    filter( distance <= 2500000 ) %>%\n",
    "    filter( corr > 0.1 & pAdj < 0.05 ) %>%\n",
    "    ggplot( aes(x=distance, y=-log10(pAdj)) ) +\n",
    "    geom_pointdensity(size=0.5) +\n",
    "    xlim(0, 2500000) +\n",
    "    scale_color_viridis() +\n",
    "    ggtitle(\"Gene pairs on different strands\") +\n",
    "    xlab(\"Distance between pair (kb)\") +\n",
    "    ylab(\"-log10 P\");"
   ]
  },
  {
   "cell_type": "code",
   "execution_count": null,
   "id": "072d67e2-7aba-4380-a18a-08e4945ee555",
   "metadata": {},
   "outputs": [],
   "source": [
    "chr_corr %>%\n",
    "    filter( strA == strB ) %>%\n",
    "    filter( distance <= 2500000 ) %>%\n",
    "    filter( corr > 0.1 & pAdj < 0.05 ) %>%\n",
    "    ggplot( aes(x=distance, y=-log10(pAdj)) ) +\n",
    "    geom_pointdensity(size=0.5) +\n",
    "    xlim(0, 2500000) +\n",
    "    scale_color_viridis() +\n",
    "    ggtitle(\"Gene pairs on same strands\") +\n",
    "    xlab(\"Distance between pair (kb)\") +\n",
    "    ylab(\"-log10 P\");"
   ]
  },
  {
   "cell_type": "markdown",
   "id": "004573fa-31d7-4a89-a7d8-1220940ab085",
   "metadata": {},
   "source": [
    "### Dendogram & dynamic tree cut"
   ]
  },
  {
   "cell_type": "code",
   "execution_count": null,
   "id": "f0cd039e-f93b-4a60-bca4-b3f4191979e9",
   "metadata": {},
   "outputs": [],
   "source": [
    "# corrP$r[1:4,1:4]\n",
    "# dim(corrP$r)"
   ]
  },
  {
   "cell_type": "code",
   "execution_count": null,
   "id": "33cac8aa-4890-4359-83da-cf3755a29eb4",
   "metadata": {},
   "outputs": [],
   "source": []
  },
  {
   "cell_type": "code",
   "execution_count": null,
   "id": "36ac02d1-28ae-44c5-b6a7-4c33d939b1a8",
   "metadata": {},
   "outputs": [],
   "source": []
  },
  {
   "cell_type": "markdown",
   "id": "332e82bb-656b-41e6-8337-b96d7456ee57",
   "metadata": {},
   "source": [
    "### Gene modules"
   ]
  },
  {
   "cell_type": "code",
   "execution_count": null,
   "id": "185d7349-f9b2-4f6d-9c76-2c4aa45e373f",
   "metadata": {},
   "outputs": [],
   "source": [
    "corr = fread(\"../data/scGROv2p8_GxG_max10kbp_ALL_correlation.csv.gz\");\n",
    "dim(corr)"
   ]
  },
  {
   "cell_type": "code",
   "execution_count": null,
   "id": "1218a567-487c-4f9b-892a-5690c549dbb3",
   "metadata": {},
   "outputs": [],
   "source": [
    "# just for the network plot, constrain within same chromoseome:\n",
    "corrF = corr %>%\n",
    "    # filter(as.character(seqnames(genes[geneA])) == as.character(seqnames(genes[geneB]))) %>%\n",
    "    # filter( distance <= 500000 ) %>%\n",
    "    filter( corr > 0.2 & pAdj < 0.05 ) %>%\n",
    "    # removing pairs with Gm genes, as these could be overlapping with enhancers:\n",
    "    filter( substr(geneA, 0, 5) != \"GN-Gm\" ) %>%\n",
    "    filter( substr(geneB, 0, 5) != \"GN-Gm\" ) %>%\n",
    "    # removing genes with Rik:\n",
    "    filter( substr(geneA, (nchar(geneA)+1)-3, nchar(geneA)) != \"Rik\" ) %>%\n",
    "    filter( substr(geneB, (nchar(geneB)+1)-3, nchar(geneB)) != \"Rik\" );\n",
    "dim(corrF)\n",
    "\n",
    "ggnetR = corrF %>%\n",
    "    # mutate( Gene = sub(\"GN-\", \"\", Gene) ) %>%\n",
    "    graph_from_data_frame(directed = F);\n",
    "\n",
    "plot(ggnetR, \n",
    "     vlayout = layout_on_sphere(ggnetR),\n",
    "     vertex.shape = 'none',\n",
    "     vertex.label = NA,\n",
    "     # vertex.color = \"#cee2f4\",\n",
    "     # vertex.size=0.1,\n",
    "     # vertex.label.family = \"Helvetica\",\n",
    "     # vertex.label.font = 1,\n",
    "     # vertex.label.color = \"white\",\n",
    "     # vertex.frame.color = \"white\",\n",
    "     ## 80 is 50% transparency\n",
    "     edge.color = \"#46849980\",\n",
    "     edge.arrow.size = .1,  \n",
    "     edge.width = 0.5\n",
    "     )"
   ]
  },
  {
   "cell_type": "code",
   "execution_count": null,
   "id": "4d9c34c3-acd8-4a94-a9d9-1f4867cf5616",
   "metadata": {},
   "outputs": [],
   "source": []
  },
  {
   "cell_type": "code",
   "execution_count": null,
   "id": "b569de50-4afe-405d-8a4e-345b135c0ae3",
   "metadata": {},
   "outputs": [],
   "source": [
    "corrF = corr %>%\n",
    "\n",
    "    ## THE PLOTS IN PAPER WERE MADE WITH CRITERIA ##\n",
    "    # filter( corr > 0.1 & corr < 1 & pAdj < 0.05 ); # 227,701\n",
    "\n",
    "    ## TRYING NEW THRESHOLD INCLUDING THE EMP P VALUE ##\n",
    "    filter( corr > 0.1 & pAdj < 0.05 & emp_p_pos < 0.05); # 137,418\n",
    "\n",
    "dim(corrF)\n",
    "corrF[1:4,]\n",
    "\n",
    "# corr > 0.10 & corr < 1 & pAdj <= 0.05 = 227701\n",
    "# corr > 0.15 & corr < 1 & pAdj <= 0.05 = 49064\n",
    "# corr > 0.20 & corr < 1 & pAdj <= 0.05 = 7384"
   ]
  },
  {
   "cell_type": "code",
   "execution_count": null,
   "id": "f7ab311c-ab57-4deb-9d67-6feeaca4e113",
   "metadata": {},
   "outputs": [],
   "source": []
  },
  {
   "cell_type": "code",
   "execution_count": null,
   "id": "5f859253-b64c-4b4f-aea0-6189c57e1cf6",
   "metadata": {},
   "outputs": [],
   "source": [
    "optimize_resolution = function(network, resolution) {\n",
    "    modules = network %>% \n",
    "    cluster_leiden(resolution_parameter = resolution,\n",
    "                   objective_function = \"modularity\")\n",
    "\n",
    "    parsed_modules = data.frame(\n",
    "        gene_ID = names(membership(modules)),\n",
    "        module = as.vector(membership(modules)) \n",
    "    );\n",
    "\n",
    "    num_module_5 = table(parsed_modules$module) %>% \n",
    "        as.data.frame %>%\n",
    "        filter(Freq >= 10) %>% \n",
    "        nrow();\n",
    "\n",
    "    num_genes_contained = table(parsed_modules$module) %>% \n",
    "        as.data.frame %>%\n",
    "        filter(Freq >= 10) %>% \n",
    "        summarise(sum = sum(Freq)) %>%\n",
    "        as.numeric()\n",
    "\n",
    "    return( c(num_module_5, num_genes_contained) );\n",
    "}"
   ]
  },
  {
   "cell_type": "code",
   "execution_count": null,
   "id": "536d7ca6-3404-48b6-8b48-c887b7a5d949",
   "metadata": {},
   "outputs": [],
   "source": [
    "ggnetR = corrF %>%\n",
    "    mutate( geneA = sub(\"GN-\", \"\", geneA), geneB = sub(\"GN-\", \"\", geneB) ) %>%\n",
    "    graph_from_data_frame(directed = F);\n",
    "length(ggnetR)\n",
    "ggnetR"
   ]
  },
  {
   "cell_type": "code",
   "execution_count": null,
   "id": "16a86217-d27c-48b3-90b0-9dc0c98ce55c",
   "metadata": {},
   "outputs": [],
   "source": [
    "plot(ggnetR, \n",
    "     vlayout = layout_on_sphere(ggnetR),\n",
    "     vertex.shape = 'none',\n",
    "     vertex.label = NA,\n",
    "     # vertex.color = \"#cee2f4\",\n",
    "     # vertex.size=0.1,\n",
    "     # vertex.label.family = \"Helvetica\",\n",
    "     # vertex.label.font = 1,\n",
    "     # vertex.label.color = \"white\",\n",
    "     # vertex.frame.color = \"white\",\n",
    "     ## 80 is 50% transparency\n",
    "     edge.color = \"#46849980\",\n",
    "     edge.arrow.size = .1,  \n",
    "     edge.width = 0.5\n",
    "     )"
   ]
  },
  {
   "cell_type": "code",
   "execution_count": null,
   "id": "280bf210-b2ed-41ba-a43c-f58873226cf0",
   "metadata": {},
   "outputs": [],
   "source": [
    "set.seed(3)\n",
    "g <- barabasi.game(12, m=4, directed=FALSE)\n",
    "eb <- cluster_edge_betweenness(g)\n",
    "plot(eb, g, \n",
    "     layout=layout_with_fr,\n",
    "     # vlayout = layout_on_sphere(ggnetR),\n",
    "     # rescale = FALSE,\n",
    "     vertex.label = NA,\n",
    "     # vertex.label.family = \"Helvetica\",\n",
    "     # vertex.label.font = 1,\n",
    "     edge.arrow.size = .1, \n",
    "     # edge.color = \"gray\", \n",
    "     edge.width = 3,\n",
    "     vertex.color = \"#cee2f4\",\n",
    "     vertex.size=10, \n",
    "     # vertex.label.color = \"white\",\n",
    "     vertex.frame.color = \"white\")\n",
    "# ggsave(filename=\"../plots/dummy_GxG_network.pdf\", width=16, height=16, units=\"in\")"
   ]
  },
  {
   "cell_type": "code",
   "execution_count": null,
   "id": "148bb68b-9b7e-473b-9839-c472621d9135",
   "metadata": {},
   "outputs": [],
   "source": [
    "MG = lapply(unique(eb$membership), function(m) { which(eb$membership == m) })\n",
    "MG[sapply(MG, length) == 1] = NULL\n",
    "plot(eb, g, mark.groups=MG, layout=layout_with_fr) "
   ]
  },
  {
   "cell_type": "code",
   "execution_count": null,
   "id": "d778beff-db28-4d5f-aef3-7114b123b9dd",
   "metadata": {},
   "outputs": [],
   "source": []
  },
  {
   "cell_type": "code",
   "execution_count": null,
   "id": "1ea31d5a-1a04-4da5-842b-7010d2ec0a94",
   "metadata": {
    "tags": []
   },
   "outputs": [],
   "source": [
    "optimization_resultsR = purrr::map_dfc(\n",
    "  .x = seq(from = 0.1, to = 20, by = 0.1),\n",
    "  .f = optimize_resolution, \n",
    "  network = ggnetR\n",
    ") %>%\n",
    "    t() %>%\n",
    "    cbind( resolution = seq(from = 0.1, to = 20, by = 0.1) ) %>% \n",
    "    as.data.frame()\n",
    "optimization_resultsR"
   ]
  },
  {
   "cell_type": "code",
   "execution_count": null,
   "id": "686b1d86-ed99-4996-a116-86cc225dccf8",
   "metadata": {},
   "outputs": [],
   "source": [
    "ggmods0p1 = ggnetR %>%\n",
    "    cluster_leiden(resolution_parameter = 0.1, objective_function = \"modularity\");\n",
    "ggmods1 = ggnetR %>%\n",
    "    cluster_leiden(resolution_parameter = 1, objective_function = \"modularity\");\n",
    "ggmods2 = ggnetR %>%\n",
    "    cluster_leiden(resolution_parameter = 2, objective_function = \"modularity\");\n",
    "ggmods2p5 = ggnetR %>%\n",
    "    cluster_leiden(resolution_parameter = 2.5, objective_function = \"modularity\");\n",
    "ggmods3 = ggnetR %>%\n",
    "    cluster_leiden(resolution_parameter = 3, objective_function = \"modularity\");\n",
    "ggmods5 = ggnetR %>%\n",
    "    cluster_leiden(resolution_parameter = 5, objective_function = \"modularity\");"
   ]
  },
  {
   "cell_type": "code",
   "execution_count": null,
   "id": "3108a0ad-d6f2-480c-80b2-81fb1cfeaf8f",
   "metadata": {},
   "outputs": [],
   "source": [
    "# data.frame(\n",
    "#     module = unlist(as.vector(membership(ggmods0p1)))\n",
    "# ) %>%\n",
    "#     ggplot(aes(x=module)) +\n",
    "#     geom_histogram(binwidth=1) +\n",
    "#     scale_y_log10() +\n",
    "#     xlab(\"Module number\") +\n",
    "#     ylab(\"Number of genes\")\n",
    "\n",
    "data.frame(\n",
    "    module = unlist(as.vector(membership(ggmods1)))\n",
    ") %>%\n",
    "    ggplot(aes(x=module)) +\n",
    "    geom_histogram(binwidth=1) +\n",
    "    scale_y_log10() +\n",
    "    xlab(\"Module number\") +\n",
    "    ylab(\"Number of genes\")\n",
    "\n",
    "data.frame(\n",
    "    module = unlist(as.vector(membership(ggmods2)))\n",
    ") %>%\n",
    "    ggplot(aes(x=module)) +\n",
    "    geom_histogram(binwidth=1) +\n",
    "    scale_y_log10() +\n",
    "    xlab(\"Module number\") +\n",
    "    ylab(\"Number of genes\")\n",
    "\n",
    "\n",
    "data.frame(\n",
    "    module = unlist(as.vector(membership(ggmods2p5)))\n",
    ") %>%\n",
    "    ggplot(aes(x=module)) +\n",
    "    geom_histogram(binwidth=1) +\n",
    "    scale_y_log10() +\n",
    "    xlab(\"Module number\") +\n",
    "    ylab(\"Number of genes\")\n",
    "data.frame(\n",
    "    module = unlist(as.vector(membership(ggmods3)))\n",
    ") %>%\n",
    "    ggplot(aes(x=module)) +\n",
    "    geom_histogram(binwidth=1) +\n",
    "    scale_y_log10() +\n",
    "    xlab(\"Module number\") +\n",
    "    ylab(\"Number of genes\")\n",
    "\n",
    "data.frame(\n",
    "    module = unlist(as.vector(membership(ggmods5)))\n",
    ") %>%\n",
    "    ggplot(aes(x=module)) +\n",
    "    geom_histogram(binwidth=1) +\n",
    "    scale_y_log10() +\n",
    "    xlab(\"Module number\") +\n",
    "    ylab(\"Number of genes\")"
   ]
  },
  {
   "cell_type": "code",
   "execution_count": null,
   "id": "ea3c96a7-094b-4f40-9ba3-f03b2b4a55cc",
   "metadata": {},
   "outputs": [],
   "source": [
    "ggmodUSED = ggmods2"
   ]
  },
  {
   "cell_type": "code",
   "execution_count": null,
   "id": "ea1f98b4-f155-4e76-80dd-3051a11cf9f7",
   "metadata": {},
   "outputs": [],
   "source": [
    "data.frame(\n",
    "    gene_ID = names(membership(ggmodUSED)),\n",
    "    module = unlist(as.vector(membership(ggmodUSED)))\n",
    ") %>%\n",
    "    group_by(module) %>%\n",
    "    mutate( mod.size=dplyr::n() ) %>%\n",
    "    ungroup() %>%\n",
    "    mutate( gene_ID = sub(\"GN-\", \"\", gene_ID, fixed=T) ) %>%\n",
    "    arrange_at(\"module\") %>%\n",
    "    fwrite(\"../data/scGROv2p8_GxGmodules_max10kbp_binary_corr_withEmpPpos_res2.csv\");"
   ]
  },
  {
   "cell_type": "code",
   "execution_count": null,
   "id": "bd6fbc05-e18c-4c56-8a4d-b3c3c2966765",
   "metadata": {},
   "outputs": [],
   "source": [
    "# only select modules that are bigger than 5 genes:\n",
    "ggmodUSED = groups(ggmodUSED)[lengths(groups(ggmodUSED)) > 10]\n",
    "length(ggmodUSED)"
   ]
  },
  {
   "cell_type": "code",
   "execution_count": null,
   "id": "7ae55cd2-96ac-4bc6-b1f0-fcafdaf4eafa",
   "metadata": {},
   "outputs": [],
   "source": [
    "suppressMessages({\n",
    "    entrezids = lapply(ggmodUSED, function(x) {\n",
    "        x = mapIds(org.Mm.eg.db, x, 'ENTREZID', 'SYMBOL');\n",
    "        return(unname(x));\n",
    "    })\n",
    "});"
   ]
  },
  {
   "cell_type": "code",
   "execution_count": null,
   "id": "6eec91cc-4b7c-4eb0-b249-0d603e6dfed1",
   "metadata": {},
   "outputs": [],
   "source": [
    "universe = entrezids %>% unlist %>% unique;"
   ]
  },
  {
   "cell_type": "code",
   "execution_count": null,
   "id": "2b9b81b3-85e1-40ca-b7e6-f9ff4c215612",
   "metadata": {},
   "outputs": [],
   "source": [
    "# uni = sub(\"GN-\", \"\", rownames(observed))\n",
    "# uni[1:4]\n",
    "# univ = mapIds(org.Mm.eg.db, uni, 'ENTREZID', 'SYMBOL');\n",
    "# univ = unname(univ)\n",
    "# universe = univ %>% unlist %>% unique;\n",
    "# universe[1:4]"
   ]
  },
  {
   "cell_type": "code",
   "execution_count": null,
   "id": "6ebc6952-c2d6-4f9c-a1b9-ec4ce96969f4",
   "metadata": {},
   "outputs": [],
   "source": [
    "res = compareCluster(\n",
    "    geneClusters = entrezids, \n",
    "    fun = \"enrichGO\", # ORA function to apply to each cluster\n",
    "    # Arguments below are passed to enrichGO\n",
    "    OrgDb = \"org.Mm.eg.db\",\n",
    "    keyType = \"ENTREZID\", \n",
    "    ont = \"ALL\", # BP, CC, MF, or ALL for all ontologies\n",
    "    pvalueCutoff = 0.01,\n",
    "    qvalueCutoff = 0.01,\n",
    "    pAdjustMethod = \"BH\", # p-values are adjusted within clusters\n",
    "    universe = universe,\n",
    "    minGSSize = 5,\n",
    "    maxGSSize = 1000\n",
    "    ) %>%\n",
    "    setReadable(., OrgDb = org.Mm.eg.db, keyType = \"ENTREZID\");\n",
    "dim(res)"
   ]
  },
  {
   "cell_type": "code",
   "execution_count": null,
   "id": "4cf7be6a-76a4-49e9-86e7-2690ee8b5ff6",
   "metadata": {},
   "outputs": [],
   "source": [
    "res %>%\n",
    "    arrange(Cluster, pvalue) %>%\n",
    "    head(n=514)"
   ]
  },
  {
   "cell_type": "code",
   "execution_count": null,
   "id": "57379453-f613-41b7-ae57-c468c66c5603",
   "metadata": {},
   "outputs": [],
   "source": [
    "# saveRDS(res, \"../data/scGROv2p8_GxGmodules_max10kbp_binary_corr_res2.rds\")\n",
    "\n",
    "saveRDS(res, \"../data/scGROv2p8_GxGmodules_max10kbp_binary_corr_withEmpPpos_res2.rds\")"
   ]
  },
  {
   "cell_type": "code",
   "execution_count": null,
   "id": "689b40ab-4dd3-4a84-8e5c-de3e386455e1",
   "metadata": {},
   "outputs": [],
   "source": [
    "res %>%\n",
    "    arrange(Cluster, pvalue) %>%\n",
    "    # mutate(geneID=NULL) %>%\n",
    "    # write.table(\"../data/scGROv2p8_GxGmodules_max10kbp_binary_corr_res2_enrichGO.csv\", sep='\\t', quote=F, col.names=T, row.names=F)\n",
    "    write.table(\"../data/scGROv2p8_GxGmodules_max10kbp_binary_corr_withEmpPpos_res2_enrichGO.csv\", sep='\\t', quote=F, col.names=T, row.names=F)"
   ]
  },
  {
   "cell_type": "markdown",
   "id": "4f332295-b532-490e-a4fe-099495b07e96",
   "metadata": {},
   "source": [
    "### Read the Cluster Profiler result:"
   ]
  },
  {
   "cell_type": "code",
   "execution_count": null,
   "id": "9d91d9cd-15e9-4957-ae22-a874b2925851",
   "metadata": {},
   "outputs": [],
   "source": [
    "res = readRDS(\"../data/scGROv2p8_GxGmodules_max10kbp_binary_corr_res2.rds\")\n",
    "\n",
    "# res = readRDS(\"../data/scGROv2p8_GxGmodules_max10kbp_binary_corr_withEmpPpos_res2.rds\")"
   ]
  },
  {
   "cell_type": "code",
   "execution_count": null,
   "id": "0782d016-f54a-4eae-b1bd-f217146142ef",
   "metadata": {},
   "outputs": [],
   "source": [
    "res %>%\n",
    "    arrange(Cluster, pvalue) %>%\n",
    "    head(n=300)"
   ]
  },
  {
   "cell_type": "code",
   "execution_count": null,
   "id": "f6a487ad-14b6-4b9e-8a37-695ba8647e3d",
   "metadata": {},
   "outputs": [],
   "source": [
    "# select non-redundant GO terms for display:\n",
    "results = res %>%\n",
    "    filter( ID %in% c(\"GO:0003729\", \"GO:0008380\", \"GO:1990904\", \"GO:0006325\", \"GO:0000375\", \"GO:0006417\", \"GO:0016570\", \"GO:0031570\", \"GO:0042752\", \"GO:0003730\", \"GO:0006403\", \"GO:1990830\", \"GO:0016607\", \"GO:0045944\", \"GO:0016605\", \"GO:0007049\", \"GO:0009048\", \"GO:0006511\", \"GO:0031060\", \"GO:0006413\", \"GO:0031507\", \"GO:0022402\", \"GO:0006376\", \"GO:0005685\", \"GO:0016573\", \"GO:0016605\", \"GO:1901796\", \"GO:0045454\", \"GO:0000075\", \"GO:0022904\", \"GO:1901987\", \"GO:0034063\", \"GO:0007623\", \"GO:0005643\", \"GO:0032200\", \"GO:0042752\", \"GO:0006281\", \"GO:0003743\", \"GO:0010564\", \"GO:0010494\") ) #%>%\n",
    "    # mutate(geneID=NULL);\n",
    "dim(results)\n",
    "results %>%\n",
    "    arrange(Cluster, pvalue) %>%\n",
    "    head( n=100 );"
   ]
  },
  {
   "cell_type": "code",
   "execution_count": null,
   "id": "e0b06e66-253e-4571-8e92-0f66728e767b",
   "metadata": {
    "tags": []
   },
   "outputs": [],
   "source": [
    "results %>%\n",
    "    arrange(Cluster, pvalue) %>%\n",
    "    # mutate(geneID=NULL) %>%\n",
    "    # fwrite(\"../data/scGROv2p8_GxGmodules_max10kbp_binary_corr_res2_enrichGO.csv\")\n",
    "    write.table(\"../data/scGROv2p8_GxGmodules_max10kbp_binary_corr_res2_enrichGO_selected.csv\", sep='\\t', quote=F, col.names=T, row.names=F)\n",
    "    # write.table(\"../data/scGROv2p8_GxGmodules_max10kbp_binary_corr_withEmpPpos_res2_enrichGO_selected.csv\", sep='\\t', quote=F, col.names=T, row.names=F)"
   ]
  },
  {
   "cell_type": "code",
   "execution_count": null,
   "id": "3e1ebac8-5489-4157-8b72-edea1fdf5a35",
   "metadata": {
    "tags": []
   },
   "outputs": [],
   "source": [
    "dotplot(results,\n",
    "        x = \"Cluster\",\n",
    "        color = \"p.adjust\",\n",
    "        showCategory = 50,\n",
    "        split = NULL,\n",
    "        font.size = 12,\n",
    "        title = \"\",\n",
    "        by = \"geneRatio\",\n",
    "        size = NULL,\n",
    "        includeAll = TRUE,\n",
    "        label_format = 30\n",
    ")\n",
    "ggsave(filename=\"../plots/scGROv2p8_GxGmodules_max10kbp_binary_corr_res2_new_enrichGO.pdf\", width=12, height=12, units=\"in\")\n",
    "# ggsave(filename=\"../plots/scGROv2p8_GxGmodules_max10kbp_binary_corr_withEmpPpos_res2_new_enrichGO.pdf\", width=12, height=12, units=\"in\")"
   ]
  },
  {
   "cell_type": "code",
   "execution_count": null,
   "id": "7a5fcb75-00ee-41ab-a1b0-37b47c7f1209",
   "metadata": {},
   "outputs": [],
   "source": [
    "bplot = results %>%\n",
    "    arrange(Cluster, pvalue) %>%\n",
    "    data.frame() %>%\n",
    "    # separate values in a column by \"/\" and store the 1st and 2nd object in \"Overlap\", \"Total\":\n",
    "    separate( GeneRatio, c(\"Overlap\", \"Total\"), \"/\") %>%\n",
    "    mutate( GeneRatio = as.numeric(Overlap) / as.numeric(Total) ) %>%\n",
    "    ggplot( aes(x = GeneRatio, y = fct_inorder(Description), fill=qvalue)) + \n",
    "    geom_bar( stat = 'identity' ) +\n",
    "    ylab(NULL) +\n",
    "    scale_fill_viridis()\n",
    "bplot\n",
    "ggsave(filename=\"../plots/scGROv2p8_GxGmodules_max10kbp_binary_corr_res2_barplot.pdf\", width=10, height=6, units=\"in\")"
   ]
  },
  {
   "cell_type": "code",
   "execution_count": null,
   "id": "ca243827-91df-4fbc-8f3e-57ae08fef790",
   "metadata": {},
   "outputs": [],
   "source": [
    "eplot = pairwise_termsim(results)\n",
    "emapplot(eplot,\n",
    "        showCategory = 35,\n",
    "        pie.params = list(pie = \"equal\", legend_n = 5),\n",
    "        layout.params = list(layout = NULL, coords = NULL),\n",
    "        edge.params = list(show = TRUE, min = 0.1),\n",
    "        cluster.params = list(cluster = FALSE, method = stats::kmeans, n = NULL, legend = FALSE, label_style = \"shadowtext\", label_words_n = 4, label_format = 30),\n",
    "        cex.params = list(category_node = 1, category_label = 1, line = 1, pie2axis = 1, label_group = 1),\n",
    "        hilight.params = list(category = NULL, alpha_hilight = 1, alpha_no_hilight = 0.3)\n",
    "        )\n",
    "ggsave(filename=\"../plots/scGROv2p8_GxGmodules_max10kbp_binary_corr_res2_emapplot.pdf\", width=6, height=6, units=\"in\")"
   ]
  },
  {
   "cell_type": "code",
   "execution_count": null,
   "id": "71b4be8e-10ca-4d68-b78d-6607c45541c6",
   "metadata": {},
   "outputs": [],
   "source": [
    "# to remove redundant terms:\n",
    "simplifiedResults = simplify(res, cutoff=0.6, by=\"p.adjust\", select_fun=min)\n",
    "eplotS = pairwise_termsim(simplifiedResults)\n",
    "emapplot(eplotS, showCategory = 20)\n",
    "# ggsave(filename=\"../plots/scGROv2p8_GxGmodules_max10kbp_binary_corr_res2_emapplot_simplified.pdf\", width=6, height=6, units=\"in\")"
   ]
  },
  {
   "cell_type": "code",
   "execution_count": null,
   "id": "80ff9b43-85f5-46c3-aa9a-66878b8c627a",
   "metadata": {},
   "outputs": [],
   "source": [
    "cplot = cnetplot(results,\n",
    "                 showCategory = 15,\n",
    "                 # foldChange = NULL,\n",
    "                 layout = \"kk\",\n",
    "                 colorEdge = FALSE,\n",
    "                 circular = FALSE,\n",
    "                 node_label = \"all\",\n",
    "                 # cex_category = 1,\n",
    "                 # cex_gene = 1,\n",
    "                 # cex_label_category = 1,\n",
    "                 # cex_label_gene = 1,\n",
    "                 color_category = \"#E5C494\",\n",
    "                 color_gene = \"#B3B3B3\",\n",
    "                 shadowtext = \"all\"\n",
    "                 # color.params = list(foldChange = NULL, edge = FALSE, category = \"#E5C494\", gene =\"#B3B3B3\"),\n",
    "                 # cex.params = list(category_node = 1, gene_node = 1, category_label = 1, gene_label = 1),\n",
    "                 # hilight.params = list(category = NULL, alpha_hilight = 1, alpha_no_hilight = 0.3)\n",
    ")\n",
    "ggsave(filename=\"../plots/scGROv2p8_GxGmodules_max10kbp_binary_corr_res2_cnetplot.pdf\", width=12, height=12, units=\"in\")"
   ]
  },
  {
   "cell_type": "markdown",
   "id": "bcb74aa6-6c80-4c5b-a374-80bdafd8976b",
   "metadata": {},
   "source": [
    "### network diagram using igraph:"
   ]
  },
  {
   "cell_type": "code",
   "execution_count": null,
   "id": "d1df0a32-b591-4ca5-85c4-1ddc7d1cd049",
   "metadata": {},
   "outputs": [],
   "source": [
    "layouts = grep(\"^layout_\",ls(\"package:igraph\"),value=TRUE)[-1]\n",
    "layouts"
   ]
  },
  {
   "cell_type": "code",
   "execution_count": null,
   "id": "38d91b2a-2b9a-41f7-8965-13f12d183eef",
   "metadata": {},
   "outputs": [],
   "source": [
    "# to make network plot using the gens from GOterm\n",
    "networkPlot = function(corrMatrix, GOresult, GOterm ){\n",
    "    genesList = getGOgenes(GOresult, GOterm);\n",
    "    net = corrMatrix %>%\n",
    "        # filter( corr > 0.14 & pAdj <= 0.05 ) %>%\n",
    "            filter( corr > 0.1 & pAdj <= 0.05 ) %>%\n",
    "        mutate( geneA = sub(\"GN-\", \"\", geneA), geneB = sub(\"GN-\", \"\", geneB) ) %>%\n",
    "        filter( geneA %in% rownames(genesList) & geneB %in% rownames(genesList) );\n",
    "    \n",
    "    net = graph_from_data_frame(net, directed = F) \n",
    "\n",
    "    # conditional color based on pAdj:\n",
    "    # E(net)$color = ifelse(E(net)$pAdj <= 0.05 & E(net)$corr >= 0.1, \"#ce968b\", \"gray\")\n",
    "    # conditional on corr value:\n",
    "    E(net)$color = ifelse(E(net)$corr > 0.15, \"tomato\", \"gray\")\n",
    "\n",
    "    netPlot = plot(net, \n",
    "                   vlayout = layout_on_sphere(net),\n",
    "                   vertex.label.family = \"Helvetica\",\n",
    "                   vertex.label.font = 2,\n",
    "                   edge.arrow.size = .1, \n",
    "                   # edge.color = \"gray\", \n",
    "                   edge.width = 3,\n",
    "                   vertex.color = \"#cee2f4\",\n",
    "                   vertex.frame.color = \"white\", \n",
    "                   vertex.label.color = \"black\")\n",
    "    \n",
    "    return(netPlot);\n",
    "    \n",
    "    # ggsave(filename=sprintf(\"../plots/scGROv2p8_GxGmodules_max10kbp_binary_corr_res2_%s%_network.svg\", GOterm), width=12, height=12, units=\"in\")\n",
    "}"
   ]
  },
  {
   "cell_type": "code",
   "execution_count": null,
   "id": "2f14896a-5c02-41d1-b073-28111b59490e",
   "metadata": {},
   "outputs": [],
   "source": [
    "# USE:\n",
    "# filter( corr > 0.14 & pAdj <= 0.05 ) %>%\n",
    "\n",
    "cell_cycle = networkPlot(corrF, results, \"GO:0007049\");\n",
    "# ggsave(filename=\"../plots/scGROv2p8_GxGmodules_max10kbp_binary_corr_res2_GO_0007049_network.svg\", width=12, height=12, units=\"in\")\n",
    "\n",
    "# SAVE DOES NOT WORK. SAVE MANUALLY AS SVG BY RIGHT CLICKING."
   ]
  },
  {
   "cell_type": "code",
   "execution_count": null,
   "id": "896b8263-8011-481a-aa84-f75c72baac32",
   "metadata": {},
   "outputs": [],
   "source": [
    "cc_phaseTransition = networkPlot(corr, results, \"GO:1901987\");\n",
    "# ggsave(filename=\"../plots/scGROv2p8_GxGmodules_max10kbp_binary_corr_res2_GO_1901987_network.pdf\", width=12, height=12, units=\"in\")"
   ]
  },
  {
   "cell_type": "code",
   "execution_count": null,
   "id": "71a361cd-9d20-49c5-9213-903203819829",
   "metadata": {},
   "outputs": [],
   "source": [
    "DNA_repair = networkPlot(corr, results, \"GO:0006281\");\n",
    "# ggsave(filename=\"../plots/scGROv2p8_GxGmodules_max10kbp_binary_corr_res2_GO_0006281_network.pdf\", width=12, height=12, units=\"in\")"
   ]
  },
  {
   "cell_type": "code",
   "execution_count": null,
   "id": "d04ca3f7-61a1-4e91-b345-1623526b5f47",
   "metadata": {},
   "outputs": [],
   "source": [
    "splicing = networkPlot(corrF, results, \"GO:0008380\") #%>%\n",
    "    # ggsave(filename=\"../plots/scGROv2p8_GxGmodules_max10kbp_binary_corr_res2_GO_0008380_network.pdf\", width=12, height=12, units=\"in\")"
   ]
  },
  {
   "cell_type": "code",
   "execution_count": null,
   "id": "4c18853f-1b85-477e-94be-c0334a74ca80",
   "metadata": {},
   "outputs": [],
   "source": [
    "circadian = networkPlot(corr, results, \"GO:0042752\") #%>%\n",
    "    # ggsave(filename=\"../plots/scGROv2p8_GxGmodules_max10kbp_binary_corr_res2_GO_0042752_network.pdf\", width=12, height=12, units=\"in\")"
   ]
  },
  {
   "cell_type": "code",
   "execution_count": null,
   "id": "82ff997e-e1e2-44a7-bf0a-3919d59e3b3c",
   "metadata": {},
   "outputs": [],
   "source": [
    "LIF = networkPlot(corr, results, \"GO:1990830\") #%>%\n",
    "    # ggsave(filename=\"../plots/scGROv2p8_GxGmodules_max10kbp_binary_corr_res2_GO_1990830_network.pdf\", width=12, height=12, units=\"in\")"
   ]
  },
  {
   "cell_type": "raw",
   "id": "0eb3fa7d-601c-45e9-aa6e-1d31933e93c8",
   "metadata": {},
   "source": [
    "#Set edge width based on weight: \n",
    "E(net)$color = -log10(E(net)$pAdj + 0.00000001)\n",
    "#change arrowsize and edge color: \n",
    "# E(net)$arrow.size = .2 \n",
    "# E(net)$edge.color = \"gray80\" \n",
    "\n",
    "plot(net,      \n",
    "     vlayout=l, \n",
    "     # vertex.shape = \"sphere\", #”rectangle, crectangle, vrectangle, pie, raster, sphere \n",
    "     vertex.size = 15,\n",
    "     vertex.label.family = \"Helvetica\",\n",
    "     vertex.label.font = 2,\n",
    "     # vertex.label.cex = 1.2,\n",
    "     vertex.label.dist = 0.1,\n",
    "     # edge.lty = 1,\n",
    "     vertex.color=\"gray\",\n",
    "     vertex.frame.color=\"#ffffff\")"
   ]
  },
  {
   "cell_type": "markdown",
   "id": "36605cf3-7180-4f00-a1fc-ac4faec154f2",
   "metadata": {},
   "source": [
    "### make bed file of genes in the GO class for motif discovery with HOMER"
   ]
  },
  {
   "cell_type": "raw",
   "id": "9352dba1-c779-4320-96e3-2c762a4e5735",
   "metadata": {},
   "source": [
    "# to get bed files for all genes in a GOterm, unlike below function that only gets if the genes in GOterm are present as a pair in corrF corrleation matrix:\n",
    "\n",
    "# bedGOgenes = function( GOresult, clusterNumber ){\n",
    "bedGOgenes = function( GOresult, GOterm ){\n",
    "    selGenes = data.frame(GOresult) %>%\n",
    "    # filter( Cluster == clusterNumber );\n",
    "    filter( ID == GOterm );\n",
    "    geneIDs = lapply(selGenes$geneID, function(x) {\n",
    "        Ids = unlist(strsplit(gsub(\"/\", ',', x), \",\"));\n",
    "        # Ids = mapIds(org.Mm.eg.db, Ids, 'SYMBOL', 'ENTREZID');\n",
    "        Ids = c(unname(Ids));\n",
    "        return(Ids);\n",
    "    })\n",
    "    geneIDs = unlist(geneIDs)\n",
    "        \n",
    "    selGeneIDs = features %>%\n",
    "        mutate( name = names) %>%\n",
    "        filter( sub(\"GN-\", \"\", names) %in% geneIDs) %>%\n",
    "        # anchor_5p() %>%\n",
    "        # mutate( start = start - 750 ) %>%\n",
    "        # mutate( end = start + 1000 ) %>%\n",
    "        promoters( upstream = 750, downstream = 250 ) %>%\n",
    "        mutate( names = sub(\"GN-\", \"\", names) ) %>% \n",
    "        data.frame();\n",
    "    \n",
    "    return(selGeneIDs);\n",
    "}"
   ]
  },
  {
   "cell_type": "code",
   "execution_count": null,
   "id": "af45e097-c7c7-4bb7-91df-e16417396ff3",
   "metadata": {},
   "outputs": [],
   "source": [
    "# get bed files for genes in GOterm ONLY for genes if the co-expressed partner is also in the GOterm:\n",
    "bedGOgenes = function( corrMatrix, GOresult, GOterm ){\n",
    "    genesList = getGOgenes(GOresult, GOterm);\n",
    "    net = corrMatrix %>%\n",
    "        # Even if the corr instead of corrF matrix is used, it ensures that we consider relatively strongly co-Ex genes\n",
    "        filter( corr >= 0.1 & pAdj <= 0.05 ) %>%\n",
    "        filter( sub(\"GN-\", \"\", geneA) %in% rownames(genesList) & sub(\"GN-\", \"\", geneB) %in% rownames(genesList) );\n",
    "        \n",
    "    selGeneIDs = features %>%\n",
    "        mutate( name = sub(\"GN-\", \"\", names)) %>%\n",
    "        filter( names %in% c(net$geneA, net$geneB)) %>%\n",
    "        promoters( upstream = 1000, downstream = 500 ) %>%\n",
    "        data.frame();\n",
    "    \n",
    "    return(selGeneIDs);\n",
    "}"
   ]
  },
  {
   "cell_type": "code",
   "execution_count": null,
   "id": "19ba47b9-2785-4b47-a19f-dbe468725193",
   "metadata": {
    "tags": []
   },
   "outputs": [],
   "source": [
    "# make a directory\n",
    "# write bed files of gene promoters in each GO IDs:\n",
    "dir.name = \"scGROv2p8_GxGmodules_max10kbp_binary_corr_res2_GO_promoters\"\n",
    "dir.create(paste0(\"../data/\", dir.name));\n",
    "\n",
    "suppressMessages({\n",
    "    foreach(\n",
    "        id = data.frame(results)$ID\n",
    "    ) %do% {\n",
    "        # use corr instead of corrF. function filters orr >= 0.1 & pAdj <= 0.05\n",
    "        GO_promoters = bedGOgenes(corr, results, id);\n",
    "        export.bed(GO_promoters, con=paste0( \"../data/\", dir.name, \"/\", sub(\":\", \"_\", id), \".bed\"));\n",
    "        return();\n",
    "    }\n",
    "});"
   ]
  },
  {
   "cell_type": "markdown",
   "id": "fb2e15f6-a24d-43ed-b127-d6f8aae34dc5",
   "metadata": {},
   "source": [
    "### Ideogram"
   ]
  },
  {
   "cell_type": "code",
   "execution_count": null,
   "id": "4d557489-71bb-4838-8a9c-a510da9ef809",
   "metadata": {},
   "outputs": [],
   "source": [
    "mm10_karyotype = fread(\"../data/mm10_karyotype.csv\");\n",
    "mm10_gene_density = fread(\"../data/mm10_gene_density.csv\");"
   ]
  },
  {
   "cell_type": "code",
   "execution_count": null,
   "id": "53a534b0-0ac1-4421-9430-60854d5a747b",
   "metadata": {},
   "outputs": [],
   "source": [
    "GO_0006281\t = getGOgenes(results, \"GO:0006281\");\n",
    "# GO_0000075[1:4, ]\n",
    "GO_0006281"
   ]
  },
  {
   "cell_type": "code",
   "execution_count": null,
   "id": "863bdd5e-9666-4523-bcb9-cbf50c49a428",
   "metadata": {},
   "outputs": [],
   "source": [
    "ideogram(karyotype = mm10_karyotype, \n",
    "         overlaid = mm10_gene_density, \n",
    "         label = GO_0006281, \n",
    "         label_type = \"marker\", \n",
    "         output = \"../plots/Ideogram_GO_0006281_scGROv2p8_GxGmodules_max10kbp_binary_corr_res.svg\")\n",
    "# svg2pdf(\"../plots/Ideogram_ggmodules_3xtimebins10kbp_ChrConstrain_res4.svg\")"
   ]
  }
 ],
 "metadata": {
  "kernelspec": {
   "display_name": "R",
   "language": "R",
   "name": "ir"
  },
  "language_info": {
   "codemirror_mode": "r",
   "file_extension": ".r",
   "mimetype": "text/x-r-source",
   "name": "R",
   "pygments_lexer": "r",
   "version": "4.2.2"
  }
 },
 "nbformat": 4,
 "nbformat_minor": 5
}
