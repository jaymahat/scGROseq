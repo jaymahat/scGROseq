{
 "cells": [
  {
   "cell_type": "code",
   "execution_count": null,
   "id": "50064c82-41c4-4f2e-8e77-da7eb7b2e4d4",
   "metadata": {},
   "outputs": [],
   "source": [
    ".libPaths(\"/home/mahat/.conda/envs/r422/lib/R/library\")\n",
    ".libPaths()"
   ]
  },
  {
   "cell_type": "code",
   "execution_count": null,
   "id": "0161e733-ceb7-4031-947f-d0c75c8d5df0",
   "metadata": {},
   "outputs": [],
   "source": [
    "suppressMessages({\n",
    "    library(tidyverse)\n",
    "    library(scales)\n",
    "    library(foreach)\n",
    "    library(doParallel)\n",
    "    library(rtracklayer)\n",
    "    library(plyranges)\n",
    "    library(Matrix)\n",
    "    library(ggcorrplot)\n",
    "    library(data.table)\n",
    "});"
   ]
  },
  {
   "cell_type": "code",
   "execution_count": null,
   "id": "6e59710e-bdde-45f1-9cec-d6eb4f0121cf",
   "metadata": {},
   "outputs": [],
   "source": [
    "registerDoParallel(20);\n",
    "setDTthreads(threads = 15);\n",
    "\n",
    "options(\n",
    "    repr.plot.width=4,\n",
    "    repr.plot.height=4,\n",
    "    jupyter.plot_mimetypes = \"image/svg+xml\"\n",
    ");\n",
    "theme_set(theme_classic() +\n",
    "    theme(\n",
    "        axis.title.x = element_text(color=\"black\", size=14, face=\"bold\"), \n",
    "        axis.title.y = element_text(color=\"black\", size=14, face=\"bold\"),\n",
    "        axis.text = element_text(color=\"black\", size=12, face=\"bold\"),\n",
    "        plot.title = element_text(face=\"bold\", size=14, hjust = 0.5),\n",
    "        axis.line = element_blank(),\n",
    "        # axis.ticks = element_blank()\n",
    "        panel.border = element_rect(colour = \"grey\", fill=NA, linewidth=1)\n",
    "    )\n",
    ");"
   ]
  },
  {
   "cell_type": "markdown",
   "id": "ad02bcb0-01bc-4f95-845d-6ad892a61966",
   "metadata": {},
   "source": [
    "## 1. Load scGRO-seq reads and custom feature annotations"
   ]
  },
  {
   "cell_type": "code",
   "execution_count": null,
   "id": "637552ce-80ce-43ba-96bc-403fac37f0f2",
   "metadata": {},
   "outputs": [],
   "source": [
    "# load groHMM-extended genes and enhancers\n",
    "# features = read_bed(\"../data/groHMM_mES_BRsComb_LP-50_UTS10_features_v1.bed\");\n",
    "# features = read_bed(\"../data/groHMM_mES_BRsComb_LP-50_UTS10_features_customized_v2.bed\");\n",
    "features = read_bed(\"../data/groHMM_dREG_refinedFeatures_mES_mm10_OSNcustomEnhancers_SEs.bed\");\n",
    "names(features) = features$name;\n",
    "features$name=NULL;\n",
    "features$score=NULL;"
   ]
  },
  {
   "cell_type": "code",
   "execution_count": null,
   "id": "e5b2ce16-9b4b-457d-8074-bf6be494a089",
   "metadata": {},
   "outputs": [],
   "source": [
    "# load desired scGRO dataset\n",
    "scGRO = readRDS(\"../data/scGROv2p8_consolidated.rds\");\n",
    "scGRO"
   ]
  },
  {
   "cell_type": "code",
   "execution_count": null,
   "id": "2ec60e69-d3cc-43a8-8ca0-aab87cd976ba",
   "metadata": {},
   "outputs": [],
   "source": [
    "# Merge experiment ID and cell barcode to create unique cell ID across experiments\n",
    "scGRO = scGRO %>%\n",
    "    filter( plateQC & cellQC & umiQC & countQC & miRQC & mapq >= 3 ) %>%\n",
    "#    filter( umiQC ) %>%\n",
    "    mutate( cellID = factor( paste( Exp, Plate, Cell, sep=\"-\" ) ) ) %>%\n",
    "    resize( width=1, fix=\"end\" ) %>%\n",
    "    select( cellID );\n",
    "scGRO\n",
    "\n",
    "# identify all cell IDs\n",
    "allID = levels(scGRO$cellID);"
   ]
  },
  {
   "cell_type": "markdown",
   "id": "7aea1d49-4ab9-45e3-9133-f4b103874e67",
   "metadata": {},
   "source": [
    "## 2. Count scGRO-seq reads within each feature and output matrix"
   ]
  },
  {
   "cell_type": "code",
   "execution_count": null,
   "id": "efe3e553-ca21-4138-9afc-1b0524a75807",
   "metadata": {},
   "outputs": [],
   "source": [
    "# iterate through each cellID,\n",
    "# and combine outputs using cbind (column bind)\n",
    "counts = foreach(\n",
    "    id = allID,\n",
    "    .combine=\"cbind\",\n",
    "    .multicombine=T\n",
    ") %dopar% {\n",
    "    # get reads from this cellID\n",
    "    counts = scGRO %>% filter(cellID == id);\n",
    "    # count reads in each feature\n",
    "    counts = countOverlaps( features, counts );\n",
    "    # encode as sparse matrix to save memory\n",
    "    return( Matrix(counts, sparse=T) );\n",
    "}\n",
    "# columns = cells = cellIDs\n",
    "colnames(counts) = allID;\n",
    "rownames(counts) = names(features);"
   ]
  },
  {
   "cell_type": "code",
   "execution_count": null,
   "id": "28e21d0e-da78-47fa-820e-14de385a220f",
   "metadata": {},
   "outputs": [],
   "source": [
    "saveRDS( counts, file=\"../data/scGROv2p8_mapq3qc_feature_counts.rds\" );\n",
    "dim(counts);\n",
    "counts[1:5,1:5];"
   ]
  },
  {
   "cell_type": "code",
   "execution_count": null,
   "id": "6029ba09-ef70-4146-8fbf-00166e7d5805",
   "metadata": {},
   "outputs": [],
   "source": [
    "counts = readRDS(\"../data/scGROv2p8_mapq3qc_feature_counts.rds\" );"
   ]
  },
  {
   "cell_type": "code",
   "execution_count": null,
   "id": "5449c991-610d-47f8-b613-3d4dc7fe5ba0",
   "metadata": {},
   "outputs": [],
   "source": [
    "# create \"stranded\" feature coverage set\n",
    "ftcov = features;\n",
    "enhf = which(substr(names(features), 0, 2) != \"GN\");\n",
    "strand(ftcov)[enhf] = \"-\";\n",
    "ftcov = append(ftcov, ftcov[enhf]);\n",
    "strand(ftcov)[enhf] = \"+\";"
   ]
  },
  {
   "cell_type": "code",
   "execution_count": null,
   "id": "4dd963b3-2ad7-47cf-9cb7-ba1b9bc0445a",
   "metadata": {},
   "outputs": [],
   "source": [
    "# sum of mm10 chr1-19 and XYM is 2,725,537,669,\n",
    "# or approx 2.73E9.\n",
    "\n",
    "# quantify enrichment of reads in features\n",
    "#sum(counts)/length(scGRO);\n",
    "#sum(width(ftcov))/5.46E9;\n",
    "\n",
    "# read density in features:\n",
    "sum(counts)/sum(width(ftcov));\n",
    "\n",
    "# read density outside features:\n",
    "RNIF=length(scGRO)-sum(counts);\n",
    "RNIF/(5.46E9 - sum(width(ftcov)));"
   ]
  },
  {
   "cell_type": "code",
   "execution_count": null,
   "id": "a2df9a32-e1d0-4477-a475-a62b23569fb2",
   "metadata": {},
   "outputs": [],
   "source": [
    "sum(colSums(counts))"
   ]
  },
  {
   "cell_type": "code",
   "execution_count": null,
   "id": "2acc37a8-29be-4495-b6e8-5e752aa6d204",
   "metadata": {},
   "outputs": [],
   "source": [
    "reads_per_cell = as.data.frame(table(scGRO$cellID));\n",
    "colnames(reads_per_cell) = c(\"ID\", \"count\");\n",
    "rownames(reads_per_cell) = reads_per_cell$ID;\n",
    "reads_per_cell = reads_per_cell[ colnames(counts), ];\n",
    "\n",
    "reads_per_cell %>%\n",
    "    write.csv( file=\"../data/scGROv2p8_mapq3qc_ReadsPerCell.csv\" );"
   ]
  },
  {
   "cell_type": "code",
   "execution_count": null,
   "id": "af8cc719-62b4-498c-a53f-77d227ea097a",
   "metadata": {},
   "outputs": [],
   "source": [
    "Plate  = str_match( colnames(counts), \"(\\\\w+-c\\\\d+)\" )[,2];\n",
    "cellBC = str_match( colnames(counts), \"-(\\\\w+)$\" )[,2];\n",
    "\n",
    "reads_in_features = colSums(counts);\n",
    "features_per_cell = colSums(counts>0);\n",
    "pct_in_features   = reads_in_features / reads_per_cell$count;\n",
    "pct_in_features = as.numeric(pct_in_features);"
   ]
  },
  {
   "cell_type": "code",
   "execution_count": null,
   "id": "1a200271-7eb6-4c82-bfaa-c5b4a3ed693d",
   "metadata": {
    "tags": []
   },
   "outputs": [],
   "source": [
    "out = data.frame( rpc=reads_per_cell$count, fpc=features_per_cell, Plate ) %>%\n",
    "    mutate( exp=substr(Plate, 0, 7) ) %>%\n",
    "    mutate( exp=sub(\"-\", \"\", exp, fixed=T) ) %>%\n",
    "    ggplot( aes(x=rpc, y=fpc, col=exp) ) +\n",
    "    geom_point(alpha=0.5) +\n",
    "    xlim(0, 30000) +\n",
    "    ylim(0, 8000) +\n",
    "    # ggtitle(\"Reads vs features\") +\n",
    "    xlab(\"Reads per cell\") +\n",
    "    ylab(\"Features per cell\") +\n",
    "    theme( legend.key.size = unit(5, 'mm'), legend.background = element_blank(), \n",
    "          legend.title = element_text(size=0), legend.text = element_text(size = 0))\n",
    "\n",
    "ggsave(out, file=\"../plots/scGROv2p8_mapq3qc_ReadsVsFeatures.pdf\", width=4, height=4);\n",
    "out"
   ]
  },
  {
   "cell_type": "code",
   "execution_count": null,
   "id": "8f4ae8e9-dd8a-4029-91fa-f9a49787579f",
   "metadata": {},
   "outputs": [],
   "source": [
    "out = data.frame( rpc=reads_in_features, fpc=features_per_cell, Plate ) %>%\n",
    "    mutate( exp=substr(Plate, 0, 7) ) %>%\n",
    "    mutate( exp=sub(\"-\", \"\", exp, fixed=T) ) %>%\n",
    "    ggplot( aes(x=rpc, y=fpc, col=exp) ) +\n",
    "    geom_point(alpha=0.5) +\n",
    "    xlim(0, 16000) +\n",
    "    ylim(0, 8000) +\n",
    "    # scale_x_log10() +\n",
    "    # scale_y_log10() +\n",
    "    # ggtitle(\"Reads in features vs features\") +\n",
    "    xlab(\"Reads in features per cell\") +\n",
    "    ylab(\"Features per cell\") +\n",
    "    theme( legend.key.size = unit(5, 'mm'), legend.background = element_blank(), \n",
    "          legend.title = element_text(size=0), legend.text = element_text(size = 0))\n",
    "\n",
    "ggsave(out, file=\"../plots/scGROv2p8_mapq3qc_RIFvsFeatures.pdf\", width=4, height=4);\n",
    "out"
   ]
  },
  {
   "cell_type": "code",
   "execution_count": null,
   "id": "4d52bc33-a6cd-404d-add9-201d51757475",
   "metadata": {},
   "outputs": [],
   "source": [
    "summary(pct_in_features[reads_per_cell$count >= 1000])"
   ]
  },
  {
   "cell_type": "code",
   "execution_count": null,
   "id": "0f450417-6f14-46b2-a4ce-9863854ca4e6",
   "metadata": {},
   "outputs": [],
   "source": [
    "filtered_cells = reads_in_features >= 750 &\n",
    "    reads_in_features <= 15000 &\n",
    "    cellBC != \"TTCTTCTTCC\" &\n",
    "    pct_in_features >= 0.30 &\n",
    "    pct_in_features <= 0.90;"
   ]
  },
  {
   "cell_type": "code",
   "execution_count": null,
   "id": "c38f749f-b739-4791-895d-9d2502fe80dc",
   "metadata": {},
   "outputs": [],
   "source": [
    "counts = counts[, filtered_cells];\n",
    "Plate = str_match( colnames(counts), \"(\\\\w+-c\\\\d+)\" )[,2];\n",
    "\n",
    "Plate_size = table(Plate);\n",
    "#Plate_size\n",
    "#which(Plate_size < 40);"
   ]
  },
  {
   "cell_type": "code",
   "execution_count": null,
   "id": "df4df771-1686-4585-9a27-b2cd4c290437",
   "metadata": {},
   "outputs": [],
   "source": [
    "Plate_size"
   ]
  },
  {
   "cell_type": "code",
   "execution_count": null,
   "id": "124b5f58-7465-4f75-8782-1557013d32b0",
   "metadata": {},
   "outputs": [],
   "source": [
    "counts = counts[, Plate %in% names(which(Plate_size >= 24))];\n",
    "Plate = str_match( colnames(counts), \"(\\\\w+-c\\\\d+)\" )[,2];\n",
    "#unique(Plate)\n",
    "unique(Plate) %>% length"
   ]
  },
  {
   "cell_type": "code",
   "execution_count": null,
   "id": "b17a21b7-ad32-4d83-83b8-81cf5d9520d3",
   "metadata": {},
   "outputs": [],
   "source": [
    "# get average counts for each feature in each plate\n",
    "plate_counts = foreach(\n",
    "    p = unique(Plate),\n",
    "    .combine='cbind'\n",
    ") %dopar% {\n",
    "    # only use genes with 1% or higher expression for QC\n",
    "    rowMeans( counts[rowMeans(counts) > 0.01, Plate == p] );\n",
    "}\n",
    "colnames(plate_counts) = unique(Plate);"
   ]
  },
  {
   "cell_type": "code",
   "execution_count": null,
   "id": "d95220bb-dab7-44c2-8bfa-4a577318d99c",
   "metadata": {},
   "outputs": [],
   "source": [
    "# compute r^2 for all plates\n",
    "plate_corr = cor(plate_counts)**2;"
   ]
  },
  {
   "cell_type": "code",
   "execution_count": null,
   "id": "c171ac3c-0930-4b1c-8ce8-88d24732196d",
   "metadata": {},
   "outputs": [],
   "source": [
    "out = ggcorrplot(\n",
    "    plate_corr,\n",
    "    hc.order = F,\n",
    "    outline.col = \"white\"\n",
    ") +\n",
    "scale_fill_viridis_c() +\n",
    "theme(axis.text.x = element_text(angle = 90));\n",
    "\n",
    "ggsave(out, filename = \"../plots/scGROv2p8_mapq3qc_rpc750_AllPlateCorr.pdf\", width=12, height=12);\n",
    "out"
   ]
  },
  {
   "cell_type": "code",
   "execution_count": null,
   "id": "a241e13c-e7a7-46e4-b532-71e7613b368a",
   "metadata": {},
   "outputs": [],
   "source": [
    "# retain plates with r^2 > 0.6 against at least 60% of other samples\n",
    "good_plates = which(colMeans(plate_corr >= 0.6) >= 0.6) %>% names;\n",
    "good_plates = good_plates[ !good_plates %in% c(\"Exp263b-c07\", \"Exp256-c09\", \"Exp160-c04\") ]\n",
    "\n",
    "#good_plates %>% sort\n",
    "length(good_plates)"
   ]
  },
  {
   "cell_type": "code",
   "execution_count": null,
   "id": "7feb6d96-f8fd-4e8f-91d2-b598ee6985ca",
   "metadata": {},
   "outputs": [],
   "source": [
    "out = ggcorrplot(\n",
    "    plate_corr[good_plates, good_plates],\n",
    "    hc.order = F,\n",
    "    outline.col = \"white\"\n",
    ") +\n",
    "    scale_fill_viridis_c() +\n",
    "    theme(axis.text.x = element_text(angle = 90));\n",
    "\n",
    "ggsave(out, filename = \"../plots/scGROv2p8_mapq3qc_rpc750_GoodPlateCorr.pdf\", width=12, height=12);\n",
    "out"
   ]
  },
  {
   "cell_type": "code",
   "execution_count": null,
   "id": "ac3c95cc-63c8-4f08-b5df-613fc8376e5e",
   "metadata": {},
   "outputs": [],
   "source": [
    "out = ggcorrplot(\n",
    "    plate_corr[good_plates, good_plates],\n",
    "    hc.order = T,\n",
    "    outline.col = \"white\"\n",
    ") +\n",
    "    scale_fill_viridis_c() +\n",
    "    theme(axis.text.x = element_text(angle = 90));\n",
    "\n",
    "ggsave(out, filename = \"../plots/scGROv2p8_mapq3qc_rpc750_GoodPlateCorr_Clustered.pdf\", width=12, height=12);\n",
    "out"
   ]
  },
  {
   "cell_type": "code",
   "execution_count": null,
   "id": "377c9fb6-8d04-427e-835d-b071a45b0d86",
   "metadata": {},
   "outputs": [],
   "source": [
    "# save filtered count matrix\n",
    "counts = counts[, Plate %in% good_plates];\n",
    "saveRDS( counts, file=\"../data/scGROv2p8_mapq3qc_filtered_counts.rds\" );"
   ]
  },
  {
   "cell_type": "code",
   "execution_count": null,
   "id": "f5b68674-fa7b-452f-a305-425c1ad6751e",
   "metadata": {},
   "outputs": [],
   "source": [
    "sum(colSums(counts))\n",
    "dim(counts)\n",
    "head(counts)[1:5,1:5]"
   ]
  },
  {
   "cell_type": "markdown",
   "id": "c22710e1-8625-4f9a-88bc-531c7171e345",
   "metadata": {},
   "source": [
    "## 3. Display per-cell summary statistics"
   ]
  },
  {
   "cell_type": "code",
   "execution_count": null,
   "id": "22ed1983-366f-4f68-8efd-6b04bbad71db",
   "metadata": {},
   "outputs": [],
   "source": [
    "# get total reads per cell\n",
    "out = scGRO %>%\n",
    "    filter( cellID %in% colnames(counts) ) %>%\n",
    "    group_by(cellID) %>%\n",
    "    summarise( count = n() );\n",
    "\n",
    "summary(out$count);\n",
    "out"
   ]
  },
  {
   "cell_type": "code",
   "execution_count": null,
   "id": "2a27cf4e-21da-43a1-afe2-7ac2a374836f",
   "metadata": {},
   "outputs": [],
   "source": [
    "test = as.data.frame(out) %>%\n",
    "    mutate( exp=substr(cellID, 0, 7) ) %>%\n",
    "    mutate( exp=sub(\"-\", \"\", exp, fixed=T) ) %>%\n",
    "    ggplot( aes(x=count, fill=exp) ) +\n",
    "    geom_histogram(breaks=(0:50)*200) +\n",
    "    # ggtitle(\"Total reads per cell\") +\n",
    "    xlab(\"Reads per cell\") +\n",
    "    ylab(\"Number of cells\") +\n",
    "    theme( legend.key.size = unit(6, 'mm'), legend.background = element_blank(), legend.position = c(0.8, 0.6), \n",
    "          legend.title = element_text(size = 10), legend.text = element_text(size = 10))\n",
    "ggsave(test, filename = \"../plots/scGROv2p8_ReadsPerCell_histogram.pdf\", width=4, height=4);\n",
    "test"
   ]
  },
  {
   "cell_type": "code",
   "execution_count": null,
   "id": "c08159bd-6326-4045-83e3-49ec197683d7",
   "metadata": {},
   "outputs": [],
   "source": [
    "summary(colSums(counts))"
   ]
  },
  {
   "cell_type": "code",
   "execution_count": null,
   "id": "0f19ca7b-3c8f-4c47-9b75-326eff8543b7",
   "metadata": {
    "tags": []
   },
   "outputs": [],
   "source": [
    "out = data.frame(\n",
    "    reads=colSums(counts),\n",
    "    feats=colSums(counts>0),\n",
    "    Genes=colSums(counts[substr(rownames(counts), 0, 3) == \"GN-\",]>0),\n",
    "    Enhancers=colSums(counts[substr(rownames(counts), 0, 3) != \"GN-\",]>0),\n",
    "    exp  =substr(colnames(counts), 0, 7)\n",
    ") %>%\n",
    "    mutate( exp=sub(\"-\", \"\", exp, fixed=T) );\n",
    "head(out)\n",
    "# mean and median of features per cell:\n",
    "mean(out$feats)\n",
    "median(out$feats)\n",
    "\n",
    "test = out %>%\n",
    "    ggplot( aes(x=reads, fill=exp) ) +\n",
    "    geom_histogram(breaks=(0:50)*100) +\n",
    "    # ggtitle(\"Reads in features per cell\") +\n",
    "    xlab(\"Reads in features per cell\") +\n",
    "    ylab(\"Number of cells\") +\n",
    "    theme( legend.key.size = unit(6, 'mm'), legend.background = element_blank(), legend.position = c(0.8, 0.6), \n",
    "          legend.title = element_text(size = 10), legend.text = element_text(size = 10))\n",
    "ggsave(test, filename = \"../plots/scGROv2p8_ReadsInFeaturesPerCell_histogram.pdf\", width=4, height=4);\n",
    "test\n",
    "\n",
    "test = out %>%\n",
    "    ggplot( aes(x=feats, fill=exp) ) +\n",
    "    geom_histogram(breaks=(0:50)*100) +\n",
    "    # ggtitle(\"Features per cell\") +\n",
    "    xlab(\"Features per cell\") +\n",
    "    ylab(\"Number of cells\") +\n",
    "    theme( legend.key.size = unit(6, 'mm'), legend.background = element_blank(), legend.position = c(0.8, 0.6), \n",
    "          legend.title = element_text(size = 10), legend.text = element_text(size = 10))\n",
    "ggsave(test, filename = \"../plots/scGROv2p8_FeaturesPerCell_histogram.pdf\", width=4, height=4);\n",
    "test\n",
    "\n",
    "test = out %>%\n",
    "    ggplot( aes(x=Genes, fill=exp) ) +\n",
    "    geom_histogram(breaks=(0:50)*100) +\n",
    "    # ggtitle(\"Genes per cell\") +\n",
    "    xlab(\"Genes per cell\") +\n",
    "    ylab(\"Number of cells\") +\n",
    "    theme( legend.key.size = unit(6, 'mm'), legend.background = element_blank(), legend.position = c(0.8, 0.6), \n",
    "          legend.title = element_text(size = 10), legend.text = element_text(size = 10))\n",
    "ggsave(test, filename = \"../plots/scGROv2p8_GenessPerCell_histogram.pdf\", width=4, height=4);\n",
    "test\n",
    "\n",
    "test = out %>%\n",
    "    ggplot( aes(x=Enhancers, fill=exp) ) +\n",
    "    geom_histogram(breaks=(0:50)*10) +\n",
    "    # ggtitle(\"Enhancers per cell\") +\n",
    "    xlab(\"Enhancers per cell\") +\n",
    "    ylab(\"Number of cells\") +\n",
    "    theme( legend.key.size = unit(6, 'mm'), legend.background = element_blank(), legend.position = c(0.8, 0.6), \n",
    "          legend.title = element_text(size = 10), legend.text = element_text(size = 10))\n",
    "ggsave(test, filename = \"../plots/scGROv2p8_EnhancersPerCell_histogram.pdf\", width=4, height=4);\n",
    "test"
   ]
  },
  {
   "cell_type": "code",
   "execution_count": null,
   "id": "62b1eb5d-6cf7-46d7-a6b1-05ba562ff276",
   "metadata": {},
   "outputs": [],
   "source": [
    "data.frame(\n",
    "    x=rowMeans(counts)\n",
    ") %>%\n",
    "    ggplot( aes(x=x) ) +\n",
    "    geom_histogram(binwidth=0.05, fill=\"steelblue4\") +\n",
    "    scale_x_log10() +\n",
    "    ggtitle(\"Reads per feature\") +\n",
    "    xlab(\"Average reads per cell\") +\n",
    "    ylab(\"Number of features\");"
   ]
  },
  {
   "cell_type": "code",
   "execution_count": null,
   "id": "c9b11e8c-7e59-4da2-963b-0de3ee113234",
   "metadata": {},
   "outputs": [],
   "source": [
    "missed = scGRO %>% subsetByOverlaps( features, invert=T );\n",
    "rddist = as.data.frame( distanceToNearest( missed, features ) );\n",
    "\n",
    "ggplot( rddist, aes(x=distance/1000)) +\n",
    "    geom_histogram(binwidth=2) +\n",
    "    xlim(0, 150) +\n",
    "    ggtitle(\"Reads outside features\") +\n",
    "    xlab(\"Distance to feature (kb)\") +\n",
    "    ylab(\"Number of reads\");"
   ]
  },
  {
   "cell_type": "code",
   "execution_count": null,
   "id": "9160e69e-65d2-45f2-b5d7-3fa4604df455",
   "metadata": {},
   "outputs": [],
   "source": [
    "table(substr(colnames(counts), 0, 7))"
   ]
  },
  {
   "cell_type": "markdown",
   "id": "399be989-9565-4456-88ac-6a7375787094",
   "metadata": {},
   "source": [
    "## Truncate features to minimize length biases"
   ]
  },
  {
   "cell_type": "code",
   "execution_count": null,
   "id": "fbe54114-877e-4b7a-a893-866a2be606c1",
   "metadata": {},
   "outputs": [],
   "source": [
    "truncated = features;\n",
    "longfeats = width(features) > 10000;\n",
    "truncated[longfeats] = truncated[longfeats] %>%\n",
    "    resize( width = 10000, fix=\"start\" );\n",
    "\n",
    "# percent features >20kbp\n",
    "100*mean(longfeats)"
   ]
  },
  {
   "cell_type": "code",
   "execution_count": null,
   "id": "92267970-6bd2-45ce-958d-05760b4bdc1e",
   "metadata": {},
   "outputs": [],
   "source": [
    "ucounts = foreach(\n",
    "    id = colnames(counts),\n",
    "    .combine=\"cbind\",\n",
    "    .multicombine=T\n",
    ") %dopar% {\n",
    "    counts = scGRO %>% filter(cellID == id);\n",
    "    counts = countOverlaps( truncated, counts );\n",
    "    return( Matrix(counts, sparse=T) );\n",
    "}\n",
    "colnames(ucounts) = colnames(counts);\n",
    "rownames(ucounts) = names(truncated);\n",
    "saveRDS( ucounts, file=\"../data/scGROv2p8_mapq3qc_max10kbp_filtered_counts.rds\" );"
   ]
  },
  {
   "cell_type": "code",
   "execution_count": null,
   "id": "275a3bbc-ac90-431c-8de8-1ee8cb084303",
   "metadata": {},
   "outputs": [],
   "source": [
    "#% of reads in truncated features comapred to full features:\n",
    "sum(colSums(ucounts))/sum(colSums(counts))*100"
   ]
  },
  {
   "cell_type": "code",
   "execution_count": null,
   "id": "25a0418a-246a-44cf-a1a2-9fc49e279309",
   "metadata": {},
   "outputs": [],
   "source": [
    "truncated = features;\n",
    "longfeats = width(features) > 20000;\n",
    "truncated[longfeats] = truncated[longfeats] %>%\n",
    "    resize( width = 20000, fix=\"start\" );\n",
    "\n",
    "# percent features >20kbp\n",
    "100*mean(longfeats)"
   ]
  },
  {
   "cell_type": "code",
   "execution_count": null,
   "id": "925c1874-1d97-4851-934c-ec77f41e8283",
   "metadata": {},
   "outputs": [],
   "source": [
    "ucounts = foreach(\n",
    "    id = colnames(counts),\n",
    "    .combine=\"cbind\",\n",
    "    .multicombine=T\n",
    ") %dopar% {\n",
    "    counts = scGRO %>% filter(cellID == id);\n",
    "    counts = countOverlaps( truncated, counts );\n",
    "    return( Matrix(counts, sparse=T) );\n",
    "}\n",
    "colnames(ucounts) = colnames(counts);\n",
    "rownames(ucounts) = names(truncated);\n",
    "saveRDS( ucounts, file=\"../data/scGROv2p8_mapq3qc_max20kbp_filtered_counts.rds\" );"
   ]
  },
  {
   "cell_type": "code",
   "execution_count": null,
   "id": "e8b6bd2e-b0a4-4838-b23e-7b2a59864ef5",
   "metadata": {},
   "outputs": [],
   "source": [
    "#% of reads in truncated features comapred to full features:\n",
    "sum(colSums(ucounts))/sum(colSums(counts))*100"
   ]
  },
  {
   "cell_type": "code",
   "execution_count": null,
   "id": "f8e34af8-4d3b-44c5-9ae7-4750ec7bc3f6",
   "metadata": {},
   "outputs": [],
   "source": [
    "truncated = features;\n",
    "longfeats = width(features) > 30000;\n",
    "truncated[longfeats] = truncated[longfeats] %>%\n",
    "    resize( width = 30000, fix=\"start\" );\n",
    "\n",
    "# percent features >30kbp\n",
    "100*mean(longfeats)"
   ]
  },
  {
   "cell_type": "code",
   "execution_count": null,
   "id": "8cb48ed8-7bc2-4afa-9ca5-db3664c1fc4f",
   "metadata": {},
   "outputs": [],
   "source": [
    "ucounts = foreach(\n",
    "    id = colnames(counts),\n",
    "    .combine=\"cbind\",\n",
    "    .multicombine=T\n",
    ") %dopar% {\n",
    "    counts = scGRO %>% filter(cellID == id);\n",
    "    counts = countOverlaps( truncated, counts );\n",
    "    return( Matrix(counts, sparse=T) );\n",
    "}\n",
    "# columns = cells = cellIDs\n",
    "colnames(ucounts) = colnames(counts);\n",
    "rownames(ucounts) = names(truncated);\n",
    "saveRDS( ucounts, file=\"../data/scGROv2p8_mapq3qc_max30kbp_filtered_counts.rds\" );"
   ]
  },
  {
   "cell_type": "code",
   "execution_count": null,
   "id": "23967bbc-b359-4c5e-ba4b-e9ced9e46323",
   "metadata": {},
   "outputs": [],
   "source": [
    "#% of reads in truncated features comapred to full features:\n",
    "sum(colSums(ucounts))/sum(colSums(counts))*100"
   ]
  },
  {
   "cell_type": "code",
   "execution_count": null,
   "id": "c188eb83-c63e-4f3f-9a72-d433e3a2d076",
   "metadata": {},
   "outputs": [],
   "source": [
    "length(features)\n",
    "summary(width(features))\n",
    "summary(width(features) <= 3000)"
   ]
  },
  {
   "cell_type": "code",
   "execution_count": null,
   "id": "371a2630-47dc-488f-9fd7-d4bead3fd46e",
   "metadata": {},
   "outputs": [],
   "source": [
    "genebody = features %>%\n",
    "    filter( substr(names, 0, 2) == \"GN\" ) %>%\n",
    "    filter( width >= 3000 ) %>%\n",
    "    anchor_center() %>%\n",
    "    mutate( width = width - 1000 );\n",
    "\n",
    "enhs = features %>%\n",
    "    filter( substr(names, 0, 2) != \"GN\" )%>%\n",
    "    filter( width >= 2000 ) %>%\n",
    "    anchor_center() %>%\n",
    "    mutate( width = width - 500 );\n",
    "\n",
    "gbfeatures = c( genebody, enhs )"
   ]
  },
  {
   "cell_type": "code",
   "execution_count": null,
   "id": "06768b5d-02c9-4bd2-a598-1d56f4c98928",
   "metadata": {},
   "outputs": [],
   "source": [
    "gcounts = foreach(\n",
    "    id = colnames(counts),\n",
    "    .combine=\"cbind\",\n",
    "    .multicombine=T\n",
    ") %dopar% {\n",
    "    counts = scGRO %>% filter(cellID == id);\n",
    "    counts = countOverlaps( gbfeatures, counts );\n",
    "    return( Matrix(counts, sparse=T) );\n",
    "}\n",
    "# columns = cells = cellIDs\n",
    "colnames(gcounts) = colnames(counts);\n",
    "rownames(gcounts) = names(gbfeatures);\n",
    "saveRDS( gcounts, file=\"../data/scGROv2p8_mapq3qc_TSSPAStruncated_filtered_counts.rds\" );"
   ]
  },
  {
   "cell_type": "markdown",
   "id": "1968dac8-9a2f-4b2d-8c77-098d2d5009ac",
   "metadata": {},
   "source": [
    "## Subsample cells to a preset number of reads"
   ]
  },
  {
   "cell_type": "code",
   "execution_count": null,
   "id": "599c9884-95a3-45da-a362-b4673f0fffe1",
   "metadata": {},
   "outputs": [],
   "source": [
    "# subsample a count matrix such that each column\n",
    "# sums to a desired number N\n",
    "subsample_columns = function( counts, N ) {\n",
    "    # remove any columns with sum < N\n",
    "    counts = counts[ , colSums(counts) >= N ];\n",
    "    \n",
    "    nfeat = nrow(counts);\n",
    "    ncell = ncol(counts);\n",
    "\n",
    "    sscounts = foreach( i = 1:ncell, .combine = \"cbind\" ) %dopar% {\n",
    "        out = rep(0, nfeat);\n",
    "\n",
    "        # create a vector containing features' numbers\n",
    "        # repeated by read count\n",
    "        read_vec = rep( 1:nfeat, times=counts[,i] );\n",
    "        \n",
    "        # sample read_vec N times without replacement\n",
    "        ftcounts = sample( read_vec, size=N, replace=F );\n",
    "        \n",
    "        # count samplings of each feature\n",
    "        ftcounts = as.data.frame(table(ftcounts), stringsAsFactors=F);\n",
    "        ftcounts[,1] = as.integer(ftcounts[,1]);\n",
    "        out[ftcounts[,1]] = ftcounts$Freq;\n",
    "\n",
    "        return( Matrix(out, sparse=T) );\n",
    "    }\n",
    "    \n",
    "    colnames(sscounts) = colnames(counts);\n",
    "    rownames(sscounts) = rownames(counts);\n",
    "\n",
    "    return(sscounts);\n",
    "}"
   ]
  },
  {
   "cell_type": "code",
   "execution_count": null,
   "id": "50f02def-a2cc-4ecf-a8db-1ca36fde83ce",
   "metadata": {},
   "outputs": [],
   "source": [
    "ss_counts = subsample_columns( ucounts, 1000 );\n",
    "saveRDS( ss_counts, file=\"../data/scGROv2p8_mapq3qc_max30kbp_ss1000.rds\" );\n",
    "ncol(ss_counts)"
   ]
  },
  {
   "cell_type": "code",
   "execution_count": null,
   "id": "362bfb79-b821-43f4-ad43-6aa1909ad803",
   "metadata": {},
   "outputs": [],
   "source": [
    "ss_counts = subsample_columns( ucounts, 2000 );\n",
    "saveRDS( ss_counts, file=\"../data/scGROv2p8_mapq3qc_max30kbp_ss2000.rds\" );\n",
    "ncol(ss_counts)"
   ]
  },
  {
   "cell_type": "code",
   "execution_count": null,
   "id": "7c017051-afbe-488f-bc46-d642580f9e8e",
   "metadata": {},
   "outputs": [],
   "source": [
    "ss_counts = subsample_columns( ucounts, 3000 );\n",
    "saveRDS( ss_counts, file=\"../data/scGROv2p8_mapq3qc_max30kbp_ss3000.rds\" );\n",
    "ncol(ss_counts)"
   ]
  },
  {
   "cell_type": "markdown",
   "id": "97a933a1-6240-4fb1-a405-d082e656480c",
   "metadata": {},
   "source": [
    "### TSS PAS truncated counts for dREG genes (no groHMM) for scRNAseq/RNAseq comparision:"
   ]
  },
  {
   "cell_type": "code",
   "execution_count": null,
   "id": "938b7dfa-f07b-4588-be4e-cd0c944e2f97",
   "metadata": {},
   "outputs": [],
   "source": [
    "features = read_bed(\"../data/dREG_refinedFeatures_mES_mm10_OSNcustomEnhancers_SEs.bed\");\n",
    "names(features) = features$name;\n",
    "features$name=NULL;\n",
    "features$score=NULL;\n",
    "\n",
    "counts = readRDS(file=\"../data/scGROv2p8_mapq3qc_filtered_counts.rds\" );\n",
    "\n",
    "gbfeatures = features %>%\n",
    "    filter( substr(names, 0, 2) == \"GN\" ) %>%\n",
    "    filter( width >= 3000 ) %>%\n",
    "    anchor_center() %>%\n",
    "    mutate( width = width - 1000 );\n",
    "\n",
    "gcounts = foreach(\n",
    "    id = colnames(counts),\n",
    "    .combine=\"cbind\",\n",
    "    .multicombine=T\n",
    ") %dopar% {\n",
    "    counts = scGRO %>% filter(cellID == id);\n",
    "    counts = countOverlaps( gbfeatures, counts );\n",
    "    return( Matrix(counts, sparse=T) );\n",
    "}\n",
    "# columns = cells = cellIDs\n",
    "colnames(gcounts) = colnames(counts);\n",
    "rownames(gcounts) = names(gbfeatures);\n",
    "saveRDS( gcounts, file=\"../data/scGROv2p8_dREGgenesForRNAseqComp_TSSPAStruncated_filtered_counts.rds\" );"
   ]
  },
  {
   "cell_type": "code",
   "execution_count": null,
   "id": "b60d80f5-a028-4057-90af-eb08b4328c0b",
   "metadata": {},
   "outputs": [],
   "source": []
  }
 ],
 "metadata": {
  "kernelspec": {
   "display_name": "R",
   "language": "R",
   "name": "ir"
  },
  "language_info": {
   "codemirror_mode": "r",
   "file_extension": ".r",
   "mimetype": "text/x-r-source",
   "name": "R",
   "pygments_lexer": "r",
   "version": "4.2.2"
  }
 },
 "nbformat": 4,
 "nbformat_minor": 5
}
