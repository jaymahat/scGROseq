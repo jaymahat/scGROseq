{
 "cells": [
  {
   "cell_type": "code",
   "execution_count": null,
   "id": "637be83a-ef96-4ec1-93cf-0051dbbc4dc0",
   "metadata": {},
   "outputs": [],
   "source": [
    ".libPaths(\"/home/mahat/.conda/envs/r422/lib/R/library\")\n",
    "# .libPaths(c(\"/home/mahat/.conda/envs/r422/lib/R/library\",\n",
    "#             \"/net/bmc-lab2/data/lab/scgroseq/group/software/R/x86_64-pc-linux-gnu-library/4.2\"))\n",
    ".libPaths()"
   ]
  },
  {
   "cell_type": "code",
   "execution_count": null,
   "id": "b159ff73-dadd-4aa4-beec-a733593eaa4c",
   "metadata": {},
   "outputs": [],
   "source": [
    "suppressMessages({\n",
    "    library(tidyverse)\n",
    "    library(dplyr)\n",
    "    library(matrixStats)\n",
    "    library(foreach)\n",
    "    library(doParallel)\n",
    "    library(plyranges)\n",
    "    library(viridis)\n",
    "    library(ggpointdensity)\n",
    "    library(Matrix)\n",
    "    library(data.table)\n",
    "    library(Hmisc)\n",
    "    library(gplots)\n",
    "    library(rstatix)\n",
    "    library(scattermore)\n",
    "    library(igraph)\n",
    "    library(ggraph)\n",
    "    library(clusterProfiler)\n",
    "    library(rtracklayer)\n",
    "    library(stringr)\n",
    "    library(org.Mm.eg.db)\n",
    "    library(circlize)\n",
    "    library(gplots)\n",
    "    library(RIdeogram)\n",
    "    library(enrichplot)\n",
    "    library(GOSemSim)\n",
    "    library(dynamicTreeCut)\n",
    "    library(WGCNA)\n",
    "});\n",
    "source(\"./scGRO_functions.r\");"
   ]
  },
  {
   "cell_type": "code",
   "execution_count": null,
   "id": "104b0744-9e76-43bb-b44f-a1210e78db0b",
   "metadata": {},
   "outputs": [],
   "source": [
    "registerDoParallel(16);\n",
    "options(\n",
    "    repr.plot.width=8,\n",
    "    repr.plot.height=6,\n",
    "    jupyter.plot_mimetypes = \"image/svg+xml\",\n",
    "    digits=5\n",
    ");\n",
    "theme_set(theme_classic() +\n",
    "    theme(\n",
    "        axis.title.x = element_text(color=\"black\", size=14, face=\"bold\"), \n",
    "        axis.title.y = element_text(color=\"black\", size=14, face=\"bold\"),\n",
    "        axis.text = element_text(color=\"black\", size=12, face=\"bold\"),\n",
    "        plot.title = element_text(face=\"bold\", size=14, hjust = 0.5),\n",
    "        axis.line = element_blank(),\n",
    "        # axis.ticks = element_blank()\n",
    "        panel.border = element_rect(colour = \"grey\", fill=NA, linewidth=1)\n",
    "    )\n",
    ");"
   ]
  },
  {
   "cell_type": "code",
   "execution_count": null,
   "id": "d45707e4-6833-487d-8b0d-354cc9215a02",
   "metadata": {},
   "outputs": [],
   "source": [
    "# load genes with dREG status for expression filter\n",
    "genesWithdREGstatus = readRDS(\"../data/groHMM_dREG_refinedGenes_mES_mm10.rds\");\n",
    "genesWithdREGstatus\n",
    "# load groHMM-extended genes and enhancers\n",
    "# features = read_bed(\"../data/groHMM_mES_BRsComb_LP-50_UTS10_features_customized_v2.bed\");\n",
    "\n",
    "# load features\n",
    "features = read_bed(\"../data/groHMM_dREG_refinedFeatures_mES_mm10_OSNcustomEnhancers_SEs.bed\");\n",
    "# features = read_bed(\"../data/mES_BRsComb_dREGfiltered_features_customized_OSNenhancersPlusSEs_v1.bed\");\n",
    "# features = read_bed(\"../data/groHMM_mES_BRsComb_LP-50_UTS10_features_customized_OSNenhancersPlusSEs_v2.bed\");\n",
    "names(features) = features$name;\n",
    "# features$name=NULL;\n",
    "features$score=NULL;\n",
    "features"
   ]
  },
  {
   "cell_type": "code",
   "execution_count": null,
   "id": "871459af-ca50-4f6c-95d2-3f2a0a35c8ad",
   "metadata": {},
   "outputs": [],
   "source": [
    "# genes shorter than 1500 are: 2931\n",
    "# genes shorter than 1000 are: 2209\n",
    "# genes shorter than  500 are:  484\n",
    "# genes shorter than  200 are:  147\n",
    "\n",
    "# short Gm### genes\n",
    "shortGm = features %>%\n",
    "    filter( substr(names, 0, 3) == \"GN-\" ) %>%\n",
    "    filter( width > 200 ) %>%\n",
    "    filter( width < 1000 & substr(names, 0, 5) == \"GN-Gm\" );\n",
    "length(shortGm)\n",
    "summary(width(shortGm))\n",
    "names(shortGm)[1:5]\n",
    "\n",
    "# define highly expressed \"blacklist\" genes to be\n",
    "# removed from correlations\n",
    "blacklist = grep( \"GN-Rp[ls]\" , names(features) );\n",
    "blacklist = grep( \"GN-Sn[oh]\", names(features) ) %>%\n",
    "    append(blacklist);\n",
    "\n",
    "blacklist = names(features)[ blacklist ];\n",
    "length(blacklist)\n",
    "summary(width(features[ blacklist ]))\n",
    "blacklist[c(1:5, 110:115)]"
   ]
  },
  {
   "cell_type": "code",
   "execution_count": null,
   "id": "64bc9faa-8cc5-482e-a8be-c3d05a66e214",
   "metadata": {},
   "outputs": [],
   "source": [
    "# filter genes\n",
    "genes = features %>%\n",
    "    filter( substr(names, 0, 3) == \"GN-\" ) %>%\n",
    "    # remove genes less than 1500 nt\n",
    "    filter( width >= 1500 ) %>%\n",
    "    # filter genes with dREG peaks\n",
    "    filter( names %in% names(genesWithdREGstatus[genesWithdREGstatus$dREG == T]) | \n",
    "           !names %in% names(genesWithdREGstatus) ) %>%\n",
    "    # filter highly expressed genes\n",
    "    filter(!names %in% blacklist ) %>%\n",
    "    # filter Gm genes shorter than 1 kb\n",
    "    filter(!names %in% names(shortGm) ) %>%\n",
    "    # remove 500 nt at the 5' end\n",
    "    anchor_3p() %>%\n",
    "    mutate( width = width - 500 );\n",
    "summary(width(genes))\n",
    "genes"
   ]
  },
  {
   "cell_type": "code",
   "execution_count": null,
   "id": "23de1043-4818-48a4-b736-6110a0a40676",
   "metadata": {},
   "outputs": [],
   "source": [
    "enhancers = features %>%\n",
    "    filter( substr(names, 0, 3) != \"GN-\" ) %>%\n",
    "    filter( width >= 3000 );\n",
    "summary(width(enhancers))\n",
    "table(substr(enhancers$name, 0, 3));\n",
    "enhancers"
   ]
  },
  {
   "cell_type": "code",
   "execution_count": null,
   "id": "912c52a3-feb5-4d4c-aeac-4055ba7755b8",
   "metadata": {},
   "outputs": [],
   "source": [
    "# load groHMM-extended genes and enhancers\n",
    "dREG = read.table(\"../data/PROseq_mES_BRsComb.dREG.peak.full.bed\", header=F, stringsAsFactors=F);\n",
    "colnames(dREG) = c(\"chr\", \"start\", \"end\", \"score\", \"pval\", \"center\");\n",
    "# use the \"center\" column as start\n",
    "# colnames(dREG) = c(\"chr\", \"leftEnd\", \"rightEnd\", \"score\", \"pval\", \"start\");\n",
    "# dREG$end = dREG$start;\n",
    "dREG = GRanges(dREG);\n",
    "summary(dREG$score)\n",
    " # dREG = dREG %>%\n",
    " #    # removing dREG peaks with score lower than mean\n",
    " #    filter( score > median(score) );\n",
    "\n",
    "# mark dREG peaks by the overlapping enhancers (from freatures):\n",
    "hits = findOverlaps( dREG, enhancers, ignore.strand=T );\n",
    "dREG$assignedEnhancer = NA;\n",
    "# assign ovelapping SE to dREG peaks\n",
    "dREG$assignedEnhancer[hits@from] = names(enhancers)[hits@to];\n",
    "\n",
    "# filter dREG peak to only leave one with highest score:\n",
    "dREGfilt = dREG %>%\n",
    "    # filter dREG peaks that do not overlap with an enhancer\n",
    "    na.omit() %>%\n",
    "    group_by( assignedEnhancer ) %>%\n",
    "    filter( score == max(score) ) %>%\n",
    "    ungroup() %>%\n",
    "    # make data table for left_join\n",
    "    as.data.table;\n",
    "dim(dREGfilt)\n",
    "table(substr(dREGfilt$assignedEnhancer, 0, 3));\n",
    "length(unique(dREGfilt$assignedEnhancer))\n",
    "dREGfilt[1:4, ]"
   ]
  },
  {
   "cell_type": "code",
   "execution_count": null,
   "id": "148b0807-2f15-48ee-8812-bc423c254ffd",
   "metadata": {},
   "outputs": [],
   "source": [
    "Ecenter = left_join( as.data.table(enhancers), dREGfilt[,c(6:9)], by=c(\"name\"=\"assignedEnhancer\") ) %>%\n",
    "    na.omit() #%>%\n",
    "    # GRanges()\n",
    "# names(Ecenter) = Ecenter$name;\n",
    "Ecenter$pval = NULL;\n",
    "Ecenter$score = NULL;\n",
    "Ecenter[1:4, ]"
   ]
  },
  {
   "cell_type": "code",
   "execution_count": null,
   "id": "2cfde48b-007d-40bf-aba4-2d4f2983f9f0",
   "metadata": {},
   "outputs": [],
   "source": [
    "# ## join SE and dREG with dREG center:\n",
    "# # convert center to start and end\n",
    "# Ecenter = left_join( as.data.table(enhancers)[,c(1,6)], dREGfilt[,c(6:9)], by=c(\"name\"=\"assignedEnhancer\") ) %>%\n",
    "#       # some NAs come from missing entries\n",
    "#       na.omit() %>%\n",
    "#       mutate( start = center ) %>%\n",
    "#       mutate( end = center ) %>%\n",
    "#       GRanges()# %>%\n",
    "# names(Ecenter) = Ecenter$name;\n",
    "# # SEcenter$name = NULL;\n",
    "# Ecenter$center = NULL;\n",
    "\n",
    "# # create 1500 nt bin of Enhancer in sense direction\n",
    "# Edown = resize(Ecenter, width = 1500, fix=\"start\") %>%\n",
    "#     mutate( strand = \"+\" ) %>%\n",
    "#     subsetByOverlaps( genes, invert = TRUE );\n",
    "# length(Edown)\n",
    "# # create 1500 nt bin of Enhancer in anti-sense direction\n",
    "# Eup = resize(Ecenter, width = 1500, fix=\"end\") %>%\n",
    "#     mutate( strand = \"-\" ) %>%\n",
    "#     subsetByOverlaps( genes, invert = TRUE );\n",
    "# length(Eup)"
   ]
  },
  {
   "cell_type": "code",
   "execution_count": null,
   "id": "128e1add-f748-452c-9bb7-9f5fabb6a57e",
   "metadata": {},
   "outputs": [],
   "source": [
    "# create Enhancer bin in sense direction\n",
    "Edown = Ecenter %>%\n",
    "    mutate( strand = \"+\" ) %>%\n",
    "    #convert center to start\n",
    "    mutate( start = center ) %>%\n",
    "    # make sure the end is at least 1750 For > 1750, keep as it is\n",
    "    mutate( end = ifelse(end - center > 1750, end, center + 1750) ) %>%\n",
    "    GRanges() %>%\n",
    "    anchor_3p() %>%\n",
    "    mutate( width = width - 250 )\n",
    "    # # no need for this beacuse the genes will be filtered against enhancers:\n",
    "    # subsetByOverlaps( genes, invert = TRUE );\n",
    "names(Edown) = Edown$name;\n",
    "Edown$center = NULL;\n",
    "Edown\n",
    "# create Enhancer bin in anti-sense direction\n",
    "Eup = Ecenter %>%\n",
    "    mutate( strand = \"-\" ) %>%\n",
    "    mutate( end = center) %>%\n",
    "    mutate( start = ifelse(center - start > 1750, start, center - 1750) ) %>%\n",
    "    GRanges() %>%\n",
    "    anchor_3p() %>%\n",
    "    mutate( width = width - 250 );\n",
    "names(Eup) = Eup$name;\n",
    "Eup$center = NULL;\n",
    "Eup"
   ]
  },
  {
   "cell_type": "code",
   "execution_count": null,
   "id": "7db38914-1d61-4aba-a82f-0f8b22246201",
   "metadata": {},
   "outputs": [],
   "source": [
    "# combine features:\n",
    "expressedFeatures = c(Eup, Edown, genes) %>%\n",
    "     sort();\n",
    "summary(width(expressedFeatures))\n",
    "expressedFeatures\n",
    "\n",
    "# trim the long genes to 10 kb\n",
    "longf = which( width(expressedFeatures) >= 10000 );\n",
    "expressedFeatures[longf] = expressedFeatures[longf] %>%\n",
    "    resize( width = 10000, fix=\"start\" );\n",
    "summary(width(expressedFeatures))\n",
    "expressedFeatures\n",
    "\n",
    "# writing the file to check in IGV:\n",
    "write_bed(expressedFeatures, file=\"../data/ExpressedFeatures_4c_ExG_All_Corr.bed\")"
   ]
  },
  {
   "cell_type": "code",
   "execution_count": null,
   "id": "acae5899-c47c-487c-abcd-394198b1f044",
   "metadata": {},
   "outputs": [],
   "source": [
    "# filter out features that overlap:\n",
    "hits = findOverlaps(expressedFeatures)\n",
    "expressedFeatures$overlappingFeature = NA;\n",
    "# assign ovelapping feature\n",
    "expressedFeatures$overlappingFeature[hits@from] = names(expressedFeatures)[hits@to];\n",
    "\n",
    "test = expressedFeatures %>%\n",
    "    na.omit() %>%\n",
    "    group_by( overlappingFeature ) %>%\n",
    "    filter( n_distinct(name) == 1 ) %>%\n",
    "    ungroup();\n",
    "test"
   ]
  },
  {
   "cell_type": "code",
   "execution_count": null,
   "id": "7c94826c-6623-473d-aef8-23660a5d6c9e",
   "metadata": {},
   "outputs": [],
   "source": [
    "scGRO = readRDS(\"../data/scGROv2p8_consolidated.rds\");\n",
    "counts = readRDS(\"../data/scGROv2p8_mapq3qc_max10kbp_filtered_counts.rds\");\n",
    "#counts = counts[,colSums(counts) >= 1000 ];\n",
    "dim(counts)\n",
    "allcells = colnames(counts);\n",
    "table(substr(allcells, 0, 6));"
   ]
  },
  {
   "cell_type": "code",
   "execution_count": null,
   "id": "287bf640-cf2f-4b91-a83e-500d4681571d",
   "metadata": {},
   "outputs": [],
   "source": [
    "# Merge experiment ID and cell barcode to create unique cell ID across experiments\n",
    "scGRO = scGRO %>%\n",
    "    filter( mapq >= 3 & countQC & umiQC & plateQC & cellQC & miRQC ) %>%\n",
    "    subsetByOverlaps( expressedFeatures ) %>%\n",
    "    mutate( cellID = factor( paste( Exp, Plate, Cell, sep=\"-\") ) ) %>%\n",
    "    filter( cellID %in% allcells ) #%>%\n",
    "    # select( cellID );\n",
    "scGRO"
   ]
  },
  {
   "cell_type": "code",
   "execution_count": null,
   "id": "59028396-df52-4f20-89b6-c92fa23d0ac2",
   "metadata": {
    "tags": []
   },
   "outputs": [],
   "source": [
    "counts = foreach(\n",
    "    id = allcells,\n",
    "    .combine=\"cbind2\"\n",
    ") %dopar% {\n",
    "    reads = scGRO %>% filter(cellID == id);\n",
    "    # count reads in each feature for this cellID\n",
    "    counts1 = countOverlaps( expressedFeatures, reads );\n",
    "\n",
    "    counts = cbind(counts1) %>%\n",
    "        Matrix(sparse=T);\n",
    "\n",
    "    return( counts );\n",
    "}\n",
    "# columns = cells = cellIDs\n",
    "colnames(counts) = allcells;\n",
    "rownames(counts) = names(expressedFeatures);\n",
    "dim(counts)"
   ]
  },
  {
   "cell_type": "code",
   "execution_count": null,
   "id": "bdee7be4-afce-496c-8c66-cd0f0ed2b070",
   "metadata": {},
   "outputs": [],
   "source": [
    "# to sum rows with same rownames\n",
    "# the sense and anti-sense bins of enhancers have same names\n",
    "counts = rowsum(counts, row.names(counts))\n",
    "dim(counts)\n",
    "# rowSums(counts)\n",
    "# colSums(counts)"
   ]
  },
  {
   "cell_type": "code",
   "execution_count": null,
   "id": "b33cd1c4-af73-464f-92cb-3fc902d08035",
   "metadata": {},
   "outputs": [],
   "source": [
    "data.frame(\n",
    "    x=rowMeans(counts>0)\n",
    ") %>%\n",
    "    ggplot( aes(x=x) ) +\n",
    "    geom_histogram(binwidth=0.05) +\n",
    "    scale_x_log10() +\n",
    "    ggtitle(\"Reads per Feature\") +\n",
    "    xlab(\"Reads per cell\") +\n",
    "    ylab(\"Number of features\");"
   ]
  },
  {
   "cell_type": "code",
   "execution_count": null,
   "id": "6755b9bb-c508-4de1-b833-09f5e4156b7b",
   "metadata": {},
   "outputs": [],
   "source": [
    "# only retain features with counts in 0.1% or more cells\n",
    "observed = counts[ rowMeans(counts>0) >= 0.001, ];\n",
    "dim(observed)\n",
    "\n",
    "test = substr(rownames(observed), 0, 3)\n",
    "summary(as.factor(test))"
   ]
  },
  {
   "cell_type": "markdown",
   "id": "5661f73c-4418-4672-9842-3b3c5b8cab65",
   "metadata": {},
   "source": [
    "## ExG Correlation:"
   ]
  },
  {
   "cell_type": "code",
   "execution_count": null,
   "id": "530e3f09-7ef9-4fd6-ba07-adbcf4698763",
   "metadata": {},
   "outputs": [],
   "source": [
    "# transforming the matrix to calculate corr, hmisc package reqires genes in columns and cells in rows\n",
    "obsx = as.matrix(t(observed))\n",
    "dim(obsx)\n",
    "obsx[1:5,1:5]"
   ]
  },
  {
   "cell_type": "code",
   "execution_count": null,
   "id": "ead3d130-8597-4c27-9b6f-c3f3dd6d075d",
   "metadata": {},
   "outputs": [],
   "source": [
    "# ++++++++++++++++++++++++++++\n",
    "# flattenCorrMatrix\n",
    "# ++++++++++++++++++++++++++++\n",
    "# cormat : matrix of the correlation coefficients\n",
    "# pmat : matrix of the correlation p-values\n",
    "flattenCorrMatrix = function(cormat, pmat) {\n",
    "  ut = upper.tri(cormat)\n",
    "  data.frame(\n",
    "    Gene = rownames(cormat)[row(cormat)[ut]],\n",
    "    Enhancer = rownames(cormat)[col(cormat)[ut]],\n",
    "    corr = (cormat)[ut],\n",
    "    pVal = pmat[ut]\n",
    "    )\n",
    "}"
   ]
  },
  {
   "cell_type": "markdown",
   "id": "1571614d-a10e-4d54-b5d9-b648f4ccb1ff",
   "metadata": {},
   "source": [
    "#### Pearson correlation on non-binarized data:"
   ]
  },
  {
   "cell_type": "code",
   "execution_count": null,
   "id": "db9ea1f1-544b-4a9e-8cc2-af6f598119b9",
   "metadata": {},
   "outputs": [],
   "source": [
    "# # use hmisc package to calculate correlation and p-value:\n",
    "# corrP = rcorr(obsx, type = \"pearson\")"
   ]
  },
  {
   "cell_type": "markdown",
   "id": "63fb3203-0719-4a99-9810-de8293556cf1",
   "metadata": {},
   "source": [
    "#### Spearman correlation on non-binarized data:"
   ]
  },
  {
   "cell_type": "code",
   "execution_count": null,
   "id": "94a7a89d-8911-43e8-9081-f8fcb927be01",
   "metadata": {},
   "outputs": [],
   "source": [
    "# # use hmisc package to calculate correlation and p-value:\n",
    "# corrS = rcorr(obsx, type = \"spearman\")"
   ]
  },
  {
   "cell_type": "markdown",
   "id": "07cd5025-d508-44f2-9490-4a8319587dcf",
   "metadata": {},
   "source": [
    "#### Pearson/Spearman on binary matrix\n",
    "##### Pearson and Spearman on binary data gives same result"
   ]
  },
  {
   "cell_type": "code",
   "execution_count": null,
   "id": "4e189f2e-4667-45c2-9eb7-f1d0313cf9ba",
   "metadata": {},
   "outputs": [],
   "source": [
    "# Binarize observed counts\n",
    "obsb = observed;\n",
    "obsb[obsb>1] = 1;\n",
    "# transforming the matrix to calculate corr, hmisc package reqires genes in columns and cells in rows\n",
    "obsb = as.matrix(t(obsb))\n",
    "dim(obsb)\n",
    "obsb[1:5,1:5]"
   ]
  },
  {
   "cell_type": "code",
   "execution_count": null,
   "id": "1e7c4d8c-7c1c-4340-a470-60727473d9db",
   "metadata": {},
   "outputs": [],
   "source": [
    "# use hmisc package to calculate correlation and p-value:\n",
    "corrB = rcorr(obsb, type = \"pearson\")"
   ]
  },
  {
   "cell_type": "code",
   "execution_count": null,
   "id": "d88ef815-76d7-463d-a30b-981d6131f177",
   "metadata": {},
   "outputs": [],
   "source": [
    "corrBflat = flattenCorrMatrix( corrB$r, corrB$P ) %>%\n",
    "    mutate( pAdj = p.adjust(pVal, method = \"fdr\") ) %>%\n",
    "    mutate( corrRank = rank(corr) ) %>%\n",
    "    mutate( pValRank = rank(pVal) );\n",
    "dim(corrBflat)\n",
    "\n",
    "# save file:\n",
    "fwrite(corrBflat, file=\"../data/scGROv2p8_ExG_max10kbp_ALL_correlation_0p001Exp.csv.gz\")"
   ]
  },
  {
   "cell_type": "code",
   "execution_count": null,
   "id": "e5504f48-61fa-4d5b-885e-8afbe1e979de",
   "metadata": {},
   "outputs": [],
   "source": [
    "corrPlot = corrBflat %>%\n",
    "    ggplot(aes(x = corrRank, y = corr)) +\n",
    "    geom_point(pch = '.', aes(color = pAdj)) +\n",
    "    ylim(-0.1, 0.3) +\n",
    "    scale_color_viridis() +\n",
    "    ggtitle(\"ExG Binary Corr\") +\n",
    "    xlab(\"Rank\") +\n",
    "    ylab(\"Binary corr. coeff.\");\n",
    "ggsave(corrPlot, filename = \"../plots/scGRO_ExG_max10kbp_0p001Exp_binary_corrCoeff_rank.png\", width=4, height=4);\n",
    "\n",
    "corrPlot = corrBflat %>%\n",
    "    ggplot(aes(x = pValRank, y = pVal)) +\n",
    "    geom_point(pch = '.', aes(color = pAdj)) +\n",
    "    scale_color_viridis() +\n",
    "    ggtitle(\"ExG Binary Corr\") +\n",
    "    xlab(\"Rank\") +\n",
    "    ylab(\"Binary corr. p-value\");\n",
    "ggsave(corrPlot, filename = \"../plots/scGRO_ExG_max10kbp_0p001Exp_binary_corrPvalue_rank.png\", width=4, height=4);\n",
    "\n",
    "corrPlot = corrBflat %>%\n",
    "    ggplot(aes( x = corr, y = pVal)) +\n",
    "    geom_point(pch = '.', aes(color = pAdj)) +\n",
    "    scale_color_viridis() +\n",
    "    ggtitle(\"ExG Binary Corr\") +\n",
    "    xlab(\"Binary corr. coeff.\") +\n",
    "    ylab(\"Binary corr. p-value\") ;\n",
    "ggsave(corrPlot, filename = \"../plots/scGRO_ExG_max10kbp_0p001Exp_binary_corrCoeff_vs_pvalue.png\", width=4, height=4)"
   ]
  },
  {
   "cell_type": "code",
   "execution_count": null,
   "id": "ee2aa280-d4f3-4306-aba0-df0dc5acff25",
   "metadata": {},
   "outputs": [],
   "source": [
    "# flatten the corr matrixes:\n",
    "# corrPflatRaw = flattenCorrMatrix( corrP$r, corrP$P )\n",
    "# corrSflatRaw = flattenCorrMatrix( corrS$r, corrS$P )\n",
    "# corrBflatRaw = flattenCorrMatrix( corrB$r, corrB$P )\n",
    "# dim(corrBflatRaw)\n",
    "\n",
    "# # join correlation and chi-square stat files by genes and enhancers\n",
    "# corr = left_join(   corrPflatRaw, corrSflatRaw, by=c(\"Gene\", \"Enhancer\"), suffix = c(\".P\", \".S\") ) %>%\n",
    "#           left_join(., corrBflatRaw, by=c(\"Gene\", \"Enhancer\") ) %>%\n",
    "#           left_join(., corrChiSquare, by=c(\"Gene\", \"Enhancer\") );"
   ]
  },
  {
   "cell_type": "code",
   "execution_count": null,
   "id": "332a80ca-8742-46a9-ac3c-a84eb9a09e9d",
   "metadata": {},
   "outputs": [],
   "source": [
    "# filter for enhancers (enhancer names with chr are mostly in 1st col and genes are in 2nd column, alphabetically)\n",
    "corr_ENH = corrBflat %>%\n",
    "            filter( substr(Gene, 0, 3) == \"chr\" & substr(Enhancer, 0, 3) == \"GN-\" ) %>%\n",
    "            # switch the columns to the Gene - Enhancer order:\n",
    "            relocate( Gene, .after = Enhancer ) %>%\n",
    "            rename( Enhancer = Gene, Gene = Enhancer );\n",
    "dim(corr_ENH)\n",
    "# filter for enhancers (SEs and other custom enhancers with INT_ and Sox, Nanog, Oct names are mostly in 2nd col and genes are in 1st column, alphabetically)\n",
    "corr_INT = corrBflat %>%\n",
    "          filter( substr(Gene, 0, 3) == \"GN-\" & substr(Enhancer, 0, 3) != \"GN-\" );\n",
    "dim(corr_INT)\n",
    "# combine ENH and INT files:\n",
    "corrRaw = data.table(rbind(corr_ENH, corr_INT)) %>%\n",
    "          # filter(as.character(seqnames(expressedFeatures[Gene])) == as.character(seqnames(expressedFeatures[Enhancer]))) %>%\n",
    "          mutate( pAdj = p.adjust(pVal, method = \"fdr\") ) %>%\n",
    "          # na.omit();\n",
    "          arrange( Gene );\n",
    "dim(corrRaw)\n",
    "corrRaw[1:6, ]\n",
    "dim(corrRaw)\n",
    "table(substr(corrRaw$Gene, 0, 3));\n",
    "table(substr(corrRaw$Enhancer, 0, 3));\n",
    "corrRaw[1:4, ]\n",
    "\n",
    "# lookup gene attributes\n",
    "Gene = expressedFeatures[ corrRaw$Gene ];\n",
    "Enhancer = expressedFeatures[ corrRaw$Enhancer ];\n",
    "corrRaw$lengthG = width(Gene);\n",
    "corrRaw$lengthE = width(Enhancer);\n",
    "corrRaw$strG    = as.character(strand(Gene));\n",
    "corrRaw$strE    = as.character(strand(Enhancer));\n",
    "\n",
    "# # compute distance between gene promoters\n",
    "# proG = resize(Gene, width=1, fix=\"start\");\n",
    "# proE = resize(Enhancer, width=1, fix=\"center\");\n",
    "# strand(proG) = \"*\";\n",
    "# strand(proE) = \"*\";\n",
    "# corrRaw$distance = width(pgap( proG, proE ));\n",
    "# corrRaw$distance = ifelse(as.character(seqnames(proG)) == as.character(seqnames(proE)), width(pgap( proG, proE )), \"NA\");\n",
    "corrRaw[1:4, ]"
   ]
  },
  {
   "cell_type": "markdown",
   "id": "037726a5-f588-44cb-8ab8-727773b14ad9",
   "metadata": {},
   "source": [
    "## Merge the 4 ExG tests: three type of correlations and a chi-square"
   ]
  },
  {
   "cell_type": "code",
   "execution_count": null,
   "id": "878d307d-1034-4196-b2a2-ee4adb9f81ad",
   "metadata": {},
   "outputs": [],
   "source": [
    "# Read Chi-square ExG correlation\n",
    "corrChiSquare = fread(file=\"../data/scGROv2p8_ExG_1Kpermuted_chisq_empp.csv.gz\");\n",
    "dim(corrChiSquare)\n",
    "corrChiSquare[1:4,]\n",
    "\n",
    "corr = left_join(corrChiSquare, corrRaw, by=c(\"Gene\", \"Enhancer\") ) %>%\n",
    "       # remove rows with NA:\n",
    "       na.omit()\n",
    "dim(corr)\n",
    "corr[1:6, ]\n",
    "\n",
    "fwrite(corr, file=\"../data/scGROv2p8_ExG_max10kbp_ALL_correlation_0p001Exp_with_chisq_empp.csv.gz\")"
   ]
  },
  {
   "cell_type": "code",
   "execution_count": null,
   "id": "ed5a6f99-d5d8-4f95-ae65-4fb4793c3b84",
   "metadata": {},
   "outputs": [],
   "source": [
    "# # CRISPR verified genes and thier SEs bins:\n",
    "# corrRawF = corrRaw %>%\n",
    "#     # filter for GN- and thier SEs:\n",
    "#     filter( substr(Gene, 0, 3) == \"GN-\" & substr(Enhancer, 0, 3) == \"INT\" ) %>%\n",
    "#     # Ensure that the CGN and SEs are proper pairs:\n",
    "#     filter( paste0(sub(\"_[^_]+$\", \"\", Gene), sub(\"_[^_]+$\", \"\", Enhancer)) %in% paste0(SEassignment$assignedGene, SEassignment$name) ) %>%\n",
    "#     filter( pAdj < 0.05 ) %>%\n",
    "#     arrange( Gene );\n",
    "# dim(corrRawF)\n",
    "# corrRawF\n",
    "# corrRawF$Enh_Gene\n",
    "\n",
    "# SE_gene_bin_hist = corrRawF %>%\n",
    "#     ggplot(aes(x = Enh_Gene)) +\n",
    "#     geom_histogram() +\n",
    "#     geom_histogram(bins = 21, position = \"identity\", color = \"white\") +\n",
    "#     geom_density() +\n",
    "#     xlim(-10, 10) +\n",
    "#     theme(legend.position=\"none\") +\n",
    "#     ggtitle(\"Binary (SE-Gene)\") +\n",
    "#     xlab(\"Bin difference\") +\n",
    "#     ylab(\"Number of pairs\") +\n",
    "#     scale_fill_manual(values=c(\"#39568CFF\")) +\n",
    "#     theme(strip.background = element_blank(),\n",
    "#         strip.text = element_text(size = 14, face=\"bold\"))\n",
    "# SE_gene_bin_hist\n",
    "\n",
    "# summary_bin_hist = data.frame(\n",
    "#     Neg = sum(corrRawF$Enh_Gene < 0)/length(corrRawF$Enh_Gene),\n",
    "#     Zero = sum(corrRawF$Enh_Gene == 0)/length(corrRawF$Enh_Gene),\n",
    "#     Pos = sum(corrRawF$Enh_Gene > 0)/length(corrRawF$Enh_Gene)\n",
    "#     ) %>%\n",
    "#     pivot_longer(1:3, names_to = 'Category', values_to = 'Incidence') %>%\n",
    "#     # use fct_inorder from forcats (part of tidyverse) to keep the original order of the data:\n",
    "#     ggplot(aes(x = fct_inorder(Category), y = Incidence)) +\n",
    "#     # geom_bar(stat=\"identity\", fill=c(\"#9e9a75\",\"gray\", \"#41533b\")) +\n",
    "#     geom_col(fill=c(\"#9e9a75\",\"gray\", \"#41533b\")) +\n",
    "#     theme(legend.position=\"none\") +\n",
    "#     ggtitle(\"Binary (SE-Gene)\") +\n",
    "#     xlab(\"Class\") +\n",
    "#     ylab(\"Fraction of pairs\") +\n",
    "#     # scale_fill_manual(values=c(\"#9e9a75\",\"gray\", \"#41533b\")) +\n",
    "#     theme(strip.background = element_blank(),\n",
    "#         strip.text = element_text(size = 14, face=\"bold\"))\n",
    "# summary_bin_hist"
   ]
  },
  {
   "cell_type": "markdown",
   "id": "35ec9eaf-35f9-49ab-bc56-5d416d85e8d7",
   "metadata": {},
   "source": [
    "## Read corr file:"
   ]
  },
  {
   "cell_type": "code",
   "execution_count": null,
   "id": "b5bfe726-6e26-45b8-9476-c66a59411e32",
   "metadata": {},
   "outputs": [],
   "source": [
    "corrRaw = fread(\"../data/scGROv2p8_ExG_max10kbp_ALL_correlation_0p001Exp_with_chisq_empp.csv.gz\");\n",
    "dim(corrRaw)"
   ]
  },
  {
   "cell_type": "markdown",
   "id": "bb5ae1cf-1438-42d7-bae5-b2cab9948281",
   "metadata": {},
   "source": [
    "### Co-transcribed genes & enhancers in same chromosomes:"
   ]
  },
  {
   "cell_type": "code",
   "execution_count": null,
   "id": "a74584ab-4943-44fb-936e-9b454a62be81",
   "metadata": {},
   "outputs": [],
   "source": [
    "chr_corr = corrRaw %>%\n",
    "    filter(as.character(seqnames(expressedFeatures[Gene])) == as.character(seqnames(expressedFeatures[Enhancer])));\n",
    "dim(chr_corr)\n",
    "chr_corr[1:4, ]\n",
    "\n",
    "# lookup gene attributes\n",
    "Gene = expressedFeatures[ chr_corr$Gene ];\n",
    "Enhancer = expressedFeatures[ chr_corr$Enhancer ];\n",
    "\n",
    "# compute distance between gene promoters\n",
    "proG = resize(Gene, width=1, fix=\"start\");\n",
    "proE = resize(Enhancer, width=1, fix=\"center\");\n",
    "strand(proG) = \"*\";\n",
    "strand(proE) = \"*\";\n",
    "chr_corr$distance = width(pgap( proG, proE ));\n",
    "# corrRaw$distance = ifelse(as.character(seqnames(proG)) == as.character(seqnames(proE)), width(pgap( proG, proE )), \"NA\");\n",
    "chr_corr[1:4, ]"
   ]
  },
  {
   "cell_type": "code",
   "execution_count": null,
   "id": "3c5b88f5-7f41-49b3-9fa8-d80d56bafa03",
   "metadata": {},
   "outputs": [],
   "source": [
    "chr_corr %>%\n",
    "    ggplot( aes(x=distance)) +\n",
    "    geom_histogram(bins=40, fill = \"#445577\", col = \"white\") +\n",
    "    xlim(0, 2500000) +\n",
    "    ggtitle(\"All features on same chromosome\") +\n",
    "    xlab(\"Distance between G-E (kb)\") +\n",
    "    ylab(\"Number of feature pairs\");\n",
    "\n",
    "chr_corr %>%\n",
    "    filter( corr > 0.05 & pAdj < 0.05 ) %>%\n",
    "    ggplot( aes(x=distance)) +\n",
    "    geom_histogram(bins=40, fill = \"#445577\", col = \"white\") +\n",
    "    xlim(0, 2500000) +\n",
    "    ggtitle(\"Correlated features on same chromosome\") +\n",
    "    xlab(\"Distance between G-E (kb)\") +\n",
    "    ylab(\"Number of feature pairs\");\n",
    "\n",
    "chr_corr %>%\n",
    "    filter( emp_p_pos < 0.05 ) %>%\n",
    "    ggplot( aes(x=distance)) +\n",
    "    geom_histogram(bins=40, fill = \"#445577\", col = \"white\") +\n",
    "    xlim(0, 2500000) +\n",
    "    ggtitle(\"Correlated features on same chromosome\") +\n",
    "    xlab(\"Distance between G-E (kb)\") +\n",
    "    ylab(\"Number of feature pairs\");\n",
    "\n",
    "chr_corr %>%\n",
    "    filter(  corr >= 0.075 & pAdj <= 0.05 & emp_p_pos <= 0.05 ) %>%\n",
    "    ggplot( aes(x=distance)) +\n",
    "    geom_histogram(bins=40, fill = \"#445577\", col = \"white\") +\n",
    "    xlim(0, 2500000) +\n",
    "    ggtitle(\"Correlated features on same chromosome\") +\n",
    "    xlab(\"Distance between G-E (kb)\") +\n",
    "    ylab(\"Number of feature pairs\");"
   ]
  },
  {
   "cell_type": "code",
   "execution_count": null,
   "id": "8c354ed4-5b0e-4799-991d-f45c526d0d9b",
   "metadata": {},
   "outputs": [],
   "source": [
    "# all enhancers:\n",
    "chr_corrAll = chr_corr %>%\n",
    "    filter( distance <= 2500000 ) %>%\n",
    "    arrange( Gene );\n",
    "dim(chr_corrAll)\n",
    "# make a new column class to plot all vs significant as overlapping histogram:\n",
    "# chr_corrAll$class = ifelse(chr_corrAll$corr > 0.05 & chr_corrAll$pAdj < 0.05, \"correlated pairs\", \"uncorrelated pairs\")\n",
    "chr_corrAll$class = ifelse(chr_corrAll$corr >= 0.075 & chr_corrAll$emp_p_pos <= 0.05 & chr_corrAll$obsCotrans >= 0.0005, \"correlated pairs\", \"uncorrelated pairs\")\n",
    "\n",
    "summary(as.factor(chr_corrAll$class))\n",
    "chr_corrAll[1:4, ]\n",
    "\n",
    "# correlation between Pearson correlation coefficient and observed co-transcription\n",
    "chr_corrAll %>%\n",
    "    filter( class == \"correlated pairs\" ) %>%\n",
    "    ggplot( aes(x=corr, y=obsCotrans) ) +\n",
    "    geom_pointdensity(show.legend = F) +\n",
    "    scale_x_log10(limits=c(0.001,1)) +\n",
    "    scale_y_log10(limits=c(0.001,1)) +\n",
    "    scale_color_viridis() +\n",
    "    xlab(\"Pearson correlation coefficient\") +\n",
    "    ylab(\"Observed co-transcription\")\n",
    "\n",
    "\n",
    "chr_corrAll %>%\n",
    "    ggplot( aes(x=distance, fill=class)) +\n",
    "    geom_histogram(bins = 25, position = \"identity\", \n",
    "                   alpha = 0.5, \n",
    "                   # color = \"white\",\n",
    "                   # mapping = aes(y = after_stat(count))) +\n",
    "                   # mapping = aes(y = after_stat(ncount))) +\n",
    "                   # mapping = aes(y = after_stat(count/sum(count)))) +\n",
    "                   mapping = aes(y = after_stat(density))) +\n",
    "    # geom_density() +\n",
    "    # xlim(0, 2500000) +\n",
    "    theme(legend.position = c(0.7, 0.85), \n",
    "          legend.text = element_text(size=10, face=\"bold\"),\n",
    "          legend.key.size = unit(0.7, 'cm')) +\n",
    "    guides(fill=guide_legend(title=\"\")) +\n",
    "    # scale_x_log10() +\n",
    "    # ggtitle(\"Co-expressed genes\") +\n",
    "    xlab(\"Gene-Enhancer distance (kb)\") +\n",
    "    ylab(\"Density\")\n",
    "ggsave(filename=\"../plots/GxE_distance_between_co-transcribed_pairs_max10kbp_0p001Exp.pdf\", width=4, height=4, units=\"in\")\n",
    "\n",
    "chr_corrAll %>%\n",
    "    ggplot( aes(x=distance, fill=class)) +\n",
    "    geom_histogram(bins = 25, position = \"identity\") +\n",
    "    # xlim(0, 2500000) +\n",
    "    theme(legend.position = \"none\") +\n",
    "    guides(fill=guide_legend(title=\"\")) +\n",
    "\n",
    "    facet_wrap(~class, scales = \"free\") +\n",
    "    scale_fill_manual(values=c(\"#1F968B\", \"darkgray\")) +\n",
    "    theme(strip.background = element_blank(),\n",
    "        strip.text = element_text(size = 14, face=\"bold\")) +\n",
    "\n",
    "    # ggtitle(\"Co-expressed genes\") +\n",
    "    xlab(\"Distance between G-E (bp)\") +\n",
    "    ylab(\"Number of pairs\")\n",
    "# ggsave(filename=\"../plots/GxE_distance_between_co-transcribed_pairs_max10kbp_0p001Exp_facets.pdf\", width=8, height=6, units=\"in\")\n",
    "\n",
    "ks.test(distance ~ class, chr_corrAll);"
   ]
  },
  {
   "cell_type": "code",
   "execution_count": null,
   "id": "115606b1-f682-43c1-bd15-0c1f21150caf",
   "metadata": {},
   "outputs": [],
   "source": [
    "# Genes and SEs:\n",
    "chr_corrSE = chr_corr %>%\n",
    "    filter( distance <= 2500000 ) %>%\n",
    "    filter( substr(Enhancer, 0, 3) == \"INT\" ) %>%\n",
    "    arrange( Gene );\n",
    "dim(chr_corrSE)\n",
    "# make a new column class to plot all vs significant as overlapping histogram:\n",
    "# chr_corrSE$class = ifelse(chr_corrSE$corr > 0.05 & chr_corrSE$pAdj < 0.05, \"correlated pairs\", \"uncorrelated pairs\") # chr_corrF$corr >= 0.05 & \n",
    "chr_corrSE$class = ifelse(chr_corrSE$corr >= 0.075 & chr_corrSE$pAdj <= 0.05 & chr_corrSE$emp_p_pos <= 0.05 & chr_corrSE$obsCotrans >= 0.0005, \"correlated pairs\", \"uncorrelated pairs\")\n",
    "\n",
    "summary(as.factor(chr_corrSE$class))\n",
    "chr_corrSE[1:4, ]\n",
    "\n",
    "chr_corrSE %>%\n",
    "    ggplot( aes(x=distance, fill=class)) +\n",
    "    geom_histogram(bins = 25, position = \"identity\", \n",
    "                   alpha = 0.5, \n",
    "                   # color = \"white\",\n",
    "                   # mapping = aes(y = after_stat(count))) +\n",
    "                   # mapping = aes(y = after_stat(ncount))) +\n",
    "                   # mapping = aes(y = after_stat(count/sum(count)))) +\n",
    "                   mapping = aes(y = after_stat(density))) +\n",
    "    # geom_density() +\n",
    "    # xlim(0, 2500000) +\n",
    "    theme(legend.position = c(0.7, 0.85), \n",
    "          legend.text = element_text(size=10, face=\"bold\"),\n",
    "          legend.key.size = unit(0.7, 'cm')) +\n",
    "    guides(fill=guide_legend(title=\"\")) +\n",
    "    # scale_x_log10() +\n",
    "    # ggtitle(\"Co-expressed genes\") +\n",
    "    xlab(\"Gene-SE distance (kb)\") +\n",
    "    ylab(\"Density\")\n",
    "ggsave(filename=\"../plots/GxE_distance_between_co-transcribed_Gene-SE_max10kbp_0p001Exp.pdf\", width=4, height=4, units=\"in\")\n",
    "\n",
    "chr_corrSE %>%\n",
    "    ggplot( aes(x=distance, fill=class)) +\n",
    "    geom_histogram(bins = 25, position = \"identity\") +\n",
    "    # xlim(0, 2500000) +\n",
    "    theme(legend.position = \"none\") +\n",
    "    guides(fill=guide_legend(title=\"\")) +\n",
    "\n",
    "    facet_wrap(~class, scales = \"free\") +\n",
    "    scale_fill_manual(values=c(\"#1F968B\", \"darkgray\")) +\n",
    "    theme(strip.background = element_blank(),\n",
    "        strip.text = element_text(size = 14, face=\"bold\")) +\n",
    "\n",
    "    # ggtitle(\"Co-expressed genes\") +\n",
    "    xlab(\"Distance between Gene & SE (bp)\") +\n",
    "    ylab(\"Number of pairs\")\n",
    "# ggsave(filename=\"../plots/GxE_distance_between_co-transcribed_Gene-SE_facets_max10kbp_0p001Exp.pdf\", width=8, height=6, units=\"in\")\n",
    "\n",
    "ks.test(distance ~ class, chr_corrSE);"
   ]
  },
  {
   "cell_type": "code",
   "execution_count": null,
   "id": "b199c881-404a-42a2-a4c1-18ce01dc371a",
   "metadata": {},
   "outputs": [],
   "source": [
    "summary(chr_corrSE[ chr_corrSE$class == \"correlated pairs\", chr_corrSE$distance])"
   ]
  },
  {
   "cell_type": "code",
   "execution_count": null,
   "id": "bde02a75-4926-4722-989d-0d1a7cfa50e9",
   "metadata": {},
   "outputs": [],
   "source": [
    "test = chr_corr %>%\n",
    "    filter( distance <= 2500000 ) %>%\n",
    "    filter( substr(Enhancer, 0, 3) == \"INT\" ) %>%\n",
    "    # filter( corr > 0.05 & pAdj < 0.05 ) %>%\n",
    "    filter(corr >= 0.075 & pAdj <= 0.05 & emp_p_pos <= 0.05 & obsCotrans >= 0.0005) %>%\n",
    "    arrange( Gene );\n",
    "dim(test)\n",
    "test = data.frame( counts = table(test$Enhancer))\n",
    "test[1:4, ]\n",
    "\n",
    "test %>%\n",
    "    ggplot(aes(x = counts.Freq)) +\n",
    "    geom_histogram(binwidth = 1) +\n",
    "    theme(legend.position = c(0.7, 0.85), \n",
    "          legend.text = element_text(size=10, face=\"bold\"),\n",
    "          legend.key.size = unit(0.7, 'cm')) +\n",
    "    guides(fill=guide_legend(title=\"\")) +\n",
    "    # scale_x_log10() +\n",
    "    # ggtitle(\"Co-expressed genes\") +\n",
    "    xlab(\"Frequency of genes correlated with SE\") +\n",
    "    ylab(\"Number of SE\")\n",
    "ggsave(filename=\"../plots/GxE_Frequency_of_genes_correlated_with_SE.pdf\", width=5, height=4, units=\"in\")"
   ]
  },
  {
   "cell_type": "code",
   "execution_count": null,
   "id": "1774cde9-9c77-4326-9e86-5861fd859e91",
   "metadata": {},
   "outputs": [],
   "source": [
    "# Genes and TEs:\n",
    "chr_corrTE = chr_corr %>%\n",
    "    filter( distance <= 2500000 ) %>%\n",
    "    filter( substr(Enhancer, 0, 3) == \"chr\" ) %>%\n",
    "    arrange( Gene );\n",
    "dim(chr_corrTE)\n",
    "# make a new column class to plot all vs significant as overlapping histogram:\n",
    "# chr_corrTE$class = ifelse(chr_corrTE$corr > 0.075 & chr_corrTE$pAdj < 0.05, \"correlated pairs\", \"uncorrelated pairs\")\n",
    "chr_corrTE$class = ifelse(chr_corrTE$corr >= 0.075 & chr_corrTE$pAdj <= 0.05 & chr_corrTE$emp_p_pos <= 0.05 & chr_corrTE$obsCotrans >= 0.0005, \"correlated pairs\", \"uncorrelated pairs\")\n",
    "\n",
    "summary(as.factor(chr_corrTE$class))\n",
    "dim(chr_corrTE)\n",
    "chr_corrTE[1:4, ]\n",
    "\n",
    "chr_corrTE %>%\n",
    "    ggplot( aes(x=distance, fill=class)) +\n",
    "    geom_histogram(bins = 25, position = \"identity\", \n",
    "                   alpha = 0.5, \n",
    "                   # color = \"white\",\n",
    "                   # mapping = aes(y = after_stat(count))) +\n",
    "                   # mapping = aes(y = after_stat(ncount))) +\n",
    "                   # mapping = aes(y = after_stat(count/sum(count)))) +\n",
    "                   mapping = aes(y = after_stat(density))) +\n",
    "    # geom_density() +\n",
    "    # xlim(0, 2500000) +\n",
    "    theme(legend.position = c(0.7, 0.9), \n",
    "          legend.text = element_text(size=10, face=\"bold\"),\n",
    "          legend.key.size = unit(0.7, 'cm')) +\n",
    "    guides(fill=guide_legend(title=\"\")) +\n",
    "    # scale_x_log10() +\n",
    "    # ggtitle(\"Co-expressed genes\") +\n",
    "    xlab(\" Gene-Enhancer distance (kb)\") +\n",
    "    ylab(\"Density\")\n",
    "ggsave(filename=\"../plots/GxE_distance_between_co-transcribed_Gene-TE_max10kbp_0p001Exp.pdf\", width=4, height=4, units=\"in\")\n",
    "\n",
    "chr_corrTE %>%\n",
    "    ggplot( aes(x=distance, fill=class)) +\n",
    "    geom_histogram(bins = 25, position = \"identity\") +\n",
    "    # xlim(0, 2500000) +\n",
    "    theme(legend.position = \"none\") +\n",
    "    guides(fill=guide_legend(title=\"\")) +\n",
    "\n",
    "    facet_wrap(~class, scales = \"free\") +\n",
    "    scale_fill_manual(values=c(\"#1F968B\", \"darkgray\")) +\n",
    "    theme(strip.background = element_blank(),\n",
    "        strip.text = element_text(size = 14, face=\"bold\")) +\n",
    "\n",
    "    # ggtitle(\"Co-expressed genes\") +\n",
    "    xlab(\"Distance between Gene & TE (kb)\") +\n",
    "    ylab(\"Number of pairs\")\n",
    "# ggsave(filename=\"../plots/GxE_distance_between_co-transcribed_Gene-TE_facets.pdf\", width=8, height=6, units=\"in\")\n",
    "\n",
    "ks.test(distance ~ class, chr_corrTE);"
   ]
  },
  {
   "cell_type": "code",
   "execution_count": null,
   "id": "9466ec52-64e7-4842-bc83-4461f2319485",
   "metadata": {},
   "outputs": [],
   "source": [
    "summary(chr_corrTE[ chr_corrTE$class == \"correlated pairs\", chr_corrTE$distance])"
   ]
  },
  {
   "cell_type": "code",
   "execution_count": null,
   "id": "d09e3640-da96-40fc-85f8-eb40fa67f94c",
   "metadata": {},
   "outputs": [],
   "source": [
    "chr_corr %>%\n",
    "    filter( distance <= 2500000 ) %>%\n",
    "    filter( corr > 0.05 & pAdj < 0.05 ) %>%\n",
    "    ggplot( aes(x=distance/1000, y=-log10(pAdj)) ) +\n",
    "    geom_pointdensity(size=0.5) +\n",
    "    # xlim(0, 2000) +\n",
    "    scale_color_viridis() +\n",
    "    ggtitle(\"Gene pairs on different strands\") +\n",
    "    xlab(\"Distance between pair (kb)\") +\n",
    "    ylab(\"-log10 P\");"
   ]
  },
  {
   "cell_type": "markdown",
   "id": "657f29ba-6389-489b-9550-7e0f266cf99b",
   "metadata": {},
   "source": [
    "### OSN custom enhancers:"
   ]
  },
  {
   "cell_type": "code",
   "execution_count": null,
   "id": "7091ace2-bd28-47e1-a7a6-01642c00d6f5",
   "metadata": {},
   "outputs": [],
   "source": [
    "# query_genes = c(\"GN-Nanog\",\"GN-Sox2\",\"GN-Sox2long\", \"GN-Pou5f1\", \"GN-Klf4\");\n",
    "# query_SE = c(\"INT_STITCHED_3342\", \"INT_STITCHED_3347\", \"INT_STITCHED_3348\", \"INT_STITCHED_3349\", \"INT_STITCHED_1480\", \"INT_STITCHED_1482\", \"INT_STITCHED_7784\", \"INT_STITCHED_1973\")\n",
    "\n",
    "# # query = c(query_genes, query_SE, query_enh);"
   ]
  },
  {
   "cell_type": "code",
   "execution_count": null,
   "id": "83008f7b-4ee5-4c44-9fde-8e6dd4ff44c5",
   "metadata": {},
   "outputs": [],
   "source": [
    "# OSN_corr = corr %>%\n",
    "#     filter( distance <= 500000 ) %>%\n",
    "#     filter( pAdj < 0.05 ) %>%\n",
    "#     filter( Gene %in% query_genes & substr(Enhancer, 0, 3) == \"INT\" );\n",
    "#     # filter( Gene %in% query_genes & substr(Enhancer, 0, 3) %in% c(\"Klf\", \"Pou\", \" Sox\", \"Nan\") );      \n",
    "# OSN_corr"
   ]
  },
  {
   "cell_type": "markdown",
   "id": "004573fa-31d7-4a89-a7d8-1220940ab085",
   "metadata": {},
   "source": [
    "### Dendogram & dynamic tree cut"
   ]
  },
  {
   "cell_type": "code",
   "execution_count": null,
   "id": "f0cd039e-f93b-4a60-bca4-b3f4191979e9",
   "metadata": {},
   "outputs": [],
   "source": [
    "# corrP$r[1:4,1:4]\n",
    "# dim(corrP$r)"
   ]
  },
  {
   "cell_type": "code",
   "execution_count": null,
   "id": "99a38e56-ac7b-4c62-a69a-cef3c6c8bc11",
   "metadata": {},
   "outputs": [],
   "source": [
    "corrF = fread(\"../data/scGROv2p8_ExG_max10kbp_ALL_correlation_0p001Exp_with_chisq_empp.csv.gz\") %>%\n",
    "    filter(as.character(seqnames(expressedFeatures[Gene])) == as.character(seqnames(expressedFeatures[Enhancer]))) %>%\n",
    "    # filter( distance <= 500000 ) %>%\n",
    "    # ignoring custom enhancers at Sox2, Nanog, Klf4, and Pou5f1\n",
    "    filter( substr(Enhancer, 0, 3) %in% c(\"chr\", \"INT\") );\n",
    "dim(corrF)\n",
    "\n",
    "corrF = corrF %>%\n",
    "    # filter( corr > 0.05 & pAdj < 0.05 ); \n",
    "    # 1545874 \n",
    "    # filter( corr > 0.1 & pAdj < 0.05 ); \n",
    "    # 126666\n",
    "    filter( corr > 0.075 & pAdj < 0.05 & emp_p_pos < 0.05 & obsCotrans > 0.0005 ) # 49,143\n",
    "dim(corrF)\n",
    "table(substr(corrF$Gene, 0, 3));\n",
    "table(substr(corrF$Enhancer, 0, 3));\n",
    "summary(corrF$corr)\n",
    "summary(corrF$emp_p_pos)\n",
    "corrF[1:4,]"
   ]
  },
  {
   "cell_type": "code",
   "execution_count": null,
   "id": "fda87bed-8c73-4192-ab40-9574c8b1573f",
   "metadata": {},
   "outputs": [],
   "source": [
    "# corrF = corrF %>%\n",
    "#     # filter( corr > 0.05 & pAdj < 0.05 ); \n",
    "#     # 1545874 \n",
    "#     # filter( corr > 0.1 & pAdj < 0.05 ); \n",
    "#     # 126666\n",
    "#     filter( corr > 0.1 & pAdj < 0.05 & emp_p_pos < 0.05 )\n",
    "# dim(corrF)\n",
    "# table(substr(corrF$Gene, 0, 3));\n",
    "# table(substr(corrF$Enhancer, 0, 3));\n",
    "# summary(corrF$corr)\n",
    "# summary(corrF$emp_p_pos)\n",
    "# corrF[1:4,]"
   ]
  },
  {
   "cell_type": "markdown",
   "id": "332e82bb-656b-41e6-8337-b96d7456ee57",
   "metadata": {},
   "source": [
    "### Gene_x_Enhancer modules"
   ]
  },
  {
   "cell_type": "code",
   "execution_count": null,
   "id": "536d7ca6-3404-48b6-8b48-c887b7a5d949",
   "metadata": {},
   "outputs": [],
   "source": [
    "ggnetR = corrF %>%\n",
    "    # mutate( Gene = sub(\"GN-\", \"\", Gene) ) %>%\n",
    "    graph_from_data_frame(directed = F);"
   ]
  },
  {
   "cell_type": "code",
   "execution_count": null,
   "id": "16319024-b88b-4e1d-877a-87fa36b4a38c",
   "metadata": {},
   "outputs": [],
   "source": [
    "plot(ggnetR, \n",
    "     vlayout = layout_on_sphere(ggnetR),\n",
    "     vertex.shape = 'none',\n",
    "     vertex.label = NA,\n",
    "     # vertex.color = \"#cee2f4\",\n",
    "     # vertex.size=0.1,\n",
    "     # vertex.label.family = \"Helvetica\",\n",
    "     # vertex.label.font = 1,\n",
    "     # vertex.label.color = \"white\",\n",
    "     # vertex.frame.color = \"white\",\n",
    "     # edge.color = \"gray\",\n",
    "     edge.arrow.size = .1,  \n",
    "     edge.width = 0.5\n",
    "    )\n",
    "ggsave(filename=\"../plots/ExG_igraph.pdf\", width=16, height=16, units=\"in\")"
   ]
  },
  {
   "cell_type": "code",
   "execution_count": null,
   "id": "5f859253-b64c-4b4f-aea0-6189c57e1cf6",
   "metadata": {},
   "outputs": [],
   "source": [
    "optimize_resolution = function(network, resolution) {\n",
    "    modules = network %>% \n",
    "    cluster_leiden(resolution_parameter = resolution,\n",
    "                   objective_function = \"modularity\")\n",
    "\n",
    "    parsed_modules = data.frame(\n",
    "        gene_ID = names(membership(modules)),\n",
    "        module = as.vector(membership(modules)) \n",
    "    );\n",
    "\n",
    "    num_module_10 = table(parsed_modules$module) %>% \n",
    "        as.data.frame %>%\n",
    "        filter(Freq >= 10) %>% \n",
    "        nrow();\n",
    "\n",
    "    num_genes_contained = table(parsed_modules$module) %>% \n",
    "        as.data.frame %>%\n",
    "        filter(Freq >= 10) %>% \n",
    "        summarise(sum = sum(Freq)) %>%\n",
    "        as.numeric()\n",
    "\n",
    "    return( c(num_module_10, num_genes_contained) );\n",
    "}"
   ]
  },
  {
   "cell_type": "code",
   "execution_count": null,
   "id": "1ea31d5a-1a04-4da5-842b-7010d2ec0a94",
   "metadata": {},
   "outputs": [],
   "source": [
    "optimization_resultsR = purrr::map_dfc(\n",
    "  .x = seq(from = 0.5, to = 20, by = 0.5),\n",
    "  .f = optimize_resolution, \n",
    "  network = ggnetR\n",
    ") %>%\n",
    "    t() %>%\n",
    "    cbind( resolution = seq(from = 0.5, to = 20, by = 0.5) ) %>% \n",
    "    as.data.frame()\n",
    "optimization_resultsR"
   ]
  },
  {
   "cell_type": "code",
   "execution_count": null,
   "id": "686b1d86-ed99-4996-a116-86cc225dccf8",
   "metadata": {},
   "outputs": [],
   "source": [
    "# ggmods0p5 = ggnetR %>%\n",
    "#     cluster_leiden(resolution_parameter = 0.5, objective_function = \"modularity\");\n",
    "ggmods1 = ggnetR %>%\n",
    "    cluster_leiden(resolution_parameter = 1, objective_function = \"modularity\");\n",
    "ggmods1p5 = ggnetR %>%\n",
    "    cluster_leiden(resolution_parameter = 1.5, objective_function = \"modularity\");\n",
    "ggmods2 = ggnetR %>%\n",
    "    cluster_leiden(resolution_parameter = 2, objective_function = \"modularity\");\n",
    "ggmods5 = ggnetR %>%\n",
    "    cluster_leiden(resolution_parameter = 5, objective_function = \"modularity\");\n",
    "ggmods10 = ggnetR %>%\n",
    "    cluster_leiden(resolution_parameter = 10, objective_function = \"modularity\");\n",
    "# ggmods15 = ggnetR %>%\n",
    "#     cluster_leiden(resolution_parameter = 15, objective_function = \"modularity\");\n",
    "# ggmods20 = ggnetR %>%\n",
    "#     cluster_leiden(resolution_parameter = 20, objective_function = \"modularity\");"
   ]
  },
  {
   "cell_type": "code",
   "execution_count": null,
   "id": "3108a0ad-d6f2-480c-80b2-81fb1cfeaf8f",
   "metadata": {},
   "outputs": [],
   "source": [
    "data.frame(\n",
    "    module = unlist(as.vector(membership(ggmods1)))\n",
    ") %>%\n",
    "    ggplot(aes(x=module)) +\n",
    "    geom_histogram(binwidth=1) +\n",
    "    scale_y_log10() +\n",
    "    xlab(\"Module number\") +\n",
    "    ylab(\"Number of genes\")\n",
    "\n",
    "data.frame(\n",
    "    module = unlist(as.vector(membership(ggmods1p5)))\n",
    ") %>%\n",
    "    ggplot(aes(x=module)) +\n",
    "    geom_histogram(binwidth=1) +\n",
    "    scale_y_log10() +\n",
    "    xlab(\"Module number\") +\n",
    "    ylab(\"Number of genes\")\n",
    "\n",
    "data.frame(\n",
    "    module = unlist(as.vector(membership(ggmods2)))\n",
    ") %>%\n",
    "    ggplot(aes(x=module)) +\n",
    "    geom_histogram(binwidth=1) +\n",
    "    scale_y_log10() +\n",
    "    xlab(\"Module number\") +\n",
    "    ylab(\"Number of genes\")\n",
    "\n",
    "data.frame(\n",
    "    module = unlist(as.vector(membership(ggmods5)))\n",
    ") %>%\n",
    "    ggplot(aes(x=module)) +\n",
    "    geom_histogram(binwidth=1) +\n",
    "    scale_y_log10() +\n",
    "    xlab(\"Module number\") +\n",
    "    ylab(\"Number of genes\")\n",
    "\n",
    "data.frame(\n",
    "    module = unlist(as.vector(membership(ggmods10)))\n",
    ") %>%\n",
    "    ggplot(aes(x=module)) +\n",
    "    geom_histogram(binwidth=1) +\n",
    "    scale_y_log10() +\n",
    "    xlab(\"Module number\") +\n",
    "    ylab(\"Number of genes\")"
   ]
  },
  {
   "cell_type": "code",
   "execution_count": null,
   "id": "ea3c96a7-094b-4f40-9ba3-f03b2b4a55cc",
   "metadata": {},
   "outputs": [],
   "source": [
    "ggmodUSED = ggmods1"
   ]
  },
  {
   "cell_type": "code",
   "execution_count": null,
   "id": "ea1f98b4-f155-4e76-80dd-3051a11cf9f7",
   "metadata": {},
   "outputs": [],
   "source": [
    "data.frame(\n",
    "    gene_ID = names(membership(ggmodUSED)),\n",
    "    module = unlist(as.vector(membership(ggmodUSED)))\n",
    ") %>%\n",
    "    group_by(module) %>%\n",
    "    mutate( mod.size=dplyr::n() ) %>%\n",
    "    ungroup() %>%\n",
    "    mutate( gene_ID = sub(\"GN-\", \"\", gene_ID, fixed=T) ) %>%\n",
    "    arrange_at(\"module\") %>%\n",
    "    fwrite(\"../data/scGROv2p8_ExGmodules_max10kbp_binary_corr_withEmpPpos_res1.csv\");"
   ]
  },
  {
   "cell_type": "code",
   "execution_count": null,
   "id": "9be4dd9a-dc03-49d3-adc0-a838b99a84c6",
   "metadata": {},
   "outputs": [],
   "source": [
    "# only select modules that are bigger than 5 genes:\n",
    "ggmodUSED = groups(ggmodUSED)[lengths(groups(ggmodUSED)) > 10]\n",
    "length(ggmodUSED)\n",
    "ggmodUSED[1]"
   ]
  },
  {
   "cell_type": "code",
   "execution_count": null,
   "id": "7fe01b96-6afd-4d50-b900-8c75d46864da",
   "metadata": {},
   "outputs": [],
   "source": [
    "ggmodUSEDgenes = lapply(ggmodUSED, function(y) {\n",
    "        y = y[substr(y, 0, 3) == \"GN-\"];\n",
    "        y = sub(\"GN-\", \"\", y)\n",
    "        return(unname(y));\n",
    "    })\n",
    "ggmodUSEDgenes[1]"
   ]
  },
  {
   "cell_type": "code",
   "execution_count": null,
   "id": "b1c053a7-35d4-4d2b-85aa-430a8cf6a93a",
   "metadata": {},
   "outputs": [],
   "source": [
    "suppressMessages({\n",
    "    entrezids = lapply(ggmodUSEDgenes, function(x) {\n",
    "        x = mapIds(org.Mm.eg.db, x, 'ENTREZID', 'SYMBOL');\n",
    "        return(unname(x));\n",
    "    })\n",
    "});\n",
    "\n",
    "universe = entrezids %>% unlist %>% unique;"
   ]
  },
  {
   "cell_type": "code",
   "execution_count": null,
   "id": "6ebc6952-c2d6-4f9c-a1b9-ec4ce96969f4",
   "metadata": {},
   "outputs": [],
   "source": [
    "res = compareCluster(\n",
    "    geneClusters = entrezids, \n",
    "    fun = \"enrichGO\", # ORA function to apply to each cluster\n",
    "    # Arguments below are passed to enrichGO\n",
    "    OrgDb = \"org.Mm.eg.db\",\n",
    "    keyType = \"ENTREZID\", \n",
    "    ont = \"ALL\", # BP, CC, MF, or ALL for all ontologies\n",
    "    pvalueCutoff = 0.01,\n",
    "    qvalueCutoff = 0.05,\n",
    "    pAdjustMethod = \"BH\", # p-values are adjusted within clusters\n",
    "    universe = universe,\n",
    "    minGSSize = 5,\n",
    "    maxGSSize = 1000\n",
    "    ) %>%\n",
    "    setReadable(., OrgDb = org.Mm.eg.db, keyType = \"ENTREZID\");\n",
    "dim(res)"
   ]
  },
  {
   "cell_type": "code",
   "execution_count": null,
   "id": "eda7038f-d0e6-4bb8-b658-cc81f79bcd53",
   "metadata": {},
   "outputs": [],
   "source": [
    "# saveRDS(res, file = \"../data/scGROv2p8_ExGmodules_max10kbp_binary_corr_res2.rds\");\n",
    "\n",
    "saveRDS(res, file = \"../data/scGROv2p8_ExGmodules_max10kbp_binary_corr_withEmpPpos_res1.rds\");"
   ]
  },
  {
   "cell_type": "code",
   "execution_count": null,
   "id": "f4024457-6969-44be-a290-7546031dfd46",
   "metadata": {},
   "outputs": [],
   "source": [
    "res %>%\n",
    "    # mutate(geneID=NULL) %>%\n",
    "    head(n=100)"
   ]
  },
  {
   "cell_type": "code",
   "execution_count": null,
   "id": "e0b06e66-253e-4571-8e92-0f66728e767b",
   "metadata": {
    "tags": []
   },
   "outputs": [],
   "source": [
    "res %>%\n",
    "    arrange(Cluster, pvalue) %>%\n",
    "    # mutate(geneID=NULL) %>%\n",
    "    # fwrite(\"../data/scGROv2p8_ExGmodules_max10kbp_binary_corr_res1_enrichGO.csv\")\n",
    "    write.table(\"../data/scGROv2p8_ExGmodules_max10kbp_binary_corr_withEmpPpos_res1_enrichGO.csv\", sep='\\t', quote=F, col.names=T, row.names=T)"
   ]
  },
  {
   "cell_type": "code",
   "execution_count": null,
   "id": "e80aa1d6-7949-4d5c-9318-71f5886b56ef",
   "metadata": {},
   "outputs": [],
   "source": [
    "# res = readRDS(\"../data/scGROv2p8_ExGmodules_max10kbp_binary_corr_res2.rds\")\n",
    "# dim(res)\n",
    "\n",
    "# res = readRDS(\"../data/scGROv2p8_ExGmodules_max10kbp_binary_corr_withEmpPpos_res1.rds\");\n",
    "# dim(res)"
   ]
  },
  {
   "cell_type": "markdown",
   "id": "7e27f474-ccee-44f1-81f7-d252245ae019",
   "metadata": {},
   "source": [
    "### make bed file of genes in the GO class for motif discovery with HOMER"
   ]
  },
  {
   "cell_type": "code",
   "execution_count": null,
   "id": "4e89e971-87eb-4e35-8ddd-32486ba79eee",
   "metadata": {},
   "outputs": [],
   "source": [
    "# get bed files for genes in GOterm ONLY for genes if the co-expressed partner is also in the GOterm:\n",
    "bedModules = function( corr, expressedFeatures, submodule ){\n",
    "    # get features in the submodule:\n",
    "    proms =  expressedFeatures[ unlist(submodule) ] %>%\n",
    "        # filter features such that they have to be present in the correlated matrix\n",
    "        filter( names %in% c(corr$Gene, corr$Enhancer)) %>%\n",
    "        # 750 of gene is -500 to +250, as the gene starts are trimmed 250 nt\n",
    "        # It is redundant for enhancers and the two 750 nt blocks overlap 500 nt\n",
    "        promoters( upstream = 750, downstream = 0 ) %>%\n",
    "        # removing the excess 250 nt\n",
    "        # the resulting 500 nt is just promoter of genes and center of enhancers\n",
    "        anchor_5p() %>%\n",
    "        resize( width = 500 ) %>%\n",
    "        # promoters( ifelse(substr(names, 0, 3) == \"GN\", \n",
    "        #                   (upstream = 750, downstream = 0), \n",
    "        #                   (upstream = 500, downstream = 0)) ) %>%\n",
    "        data.frame();\n",
    "        return(proms); \n",
    "}"
   ]
  },
  {
   "cell_type": "code",
   "execution_count": null,
   "id": "98838421-8495-4f2d-98fe-5bd99b88c018",
   "metadata": {},
   "outputs": [],
   "source": [
    "# select resolution:\n",
    "ggmodUSED = ggmods1\n",
    "resName = \"res1\"\n",
    "\n",
    "# only select modules with more than 10 members:\n",
    "ggmodUSED = groups(ggmodUSED)[lengths(groups(ggmodUSED)) > 10];\n",
    "\n",
    "# make a directory\n",
    "# write bed files of gene promoters in each GO IDs:\n",
    "dir.name = paste0(\"scGROv2p8_ExGmodules_max10kbp_binary_corrModules_promoters_\", resName)\n",
    "dir.create(paste0(\"../data/\", dir.name));\n",
    "\n",
    "suppressMessages({\n",
    "    foreach(\n",
    "        submodule = 1:length(ggmodUSED)\n",
    "    ) %do% {\n",
    "        feat_promoters = bedModules(corrF, expressedFeatures, ggmodUSED[submodule]);\n",
    "        export.bed(feat_promoters, con=paste0( \"../data/\", dir.name, \"/\", \"ExGmodules_\", \n",
    "                                              resName, \"submod_\", submodule, \".bed\"));\n",
    "        return();\n",
    "    }\n",
    "});"
   ]
  },
  {
   "cell_type": "code",
   "execution_count": null,
   "id": "25ceb755-ca69-47b8-bc72-6f7b3902e1c0",
   "metadata": {},
   "outputs": [],
   "source": [
    "bkg = expressedFeatures %>%\n",
    "        promoters( upstream = 750, downstream = 0 ) %>%\n",
    "        anchor_5p() %>%\n",
    "        resize( width = 500 ) %>%\n",
    "        # filter enhancers in \"-\" strand (Redundant with \"+\" off in position)\n",
    "        filter( substr(name, 0, 3) == \"GN-\" | (substr(name, 0, 3) != \"GN-\" & strand == \"+\") ) %>%\n",
    "        data.frame();\n",
    "bkg[1:4, ]\n",
    "\n",
    "export.bed(bkg, con=\"../data/scGROv2p8_ExGmodules_background_promoters.bed\");"
   ]
  },
  {
   "cell_type": "code",
   "execution_count": null,
   "id": "991187fa-9d92-45fb-9d6f-950a34cc9682",
   "metadata": {},
   "outputs": [],
   "source": [
    "# results = res %>%\n",
    "#     filter( ID %in% c(\"GO:0043488\", \"GO:0010608\", \"GO:0003823\", \"GO:0016887\", \"GO:0030234\", \"GO:0010528\", \n",
    "#                       \"GO:1990837\", \"GO:0005884\", \"GO:0008106\", \"GO:0005740\", \"GO:0072687\") ) %>%\n",
    "#     # redundant with cluster 66 and GO:1990837\n",
    "#     filter( !GeneRatio %in% c(\"66/481\") );\n",
    "#     # mutate(geneID=NULL);\n",
    "# dim(results)\n",
    "# results %>%\n",
    "#     arrange(Cluster, pvalue) %>%\n",
    "#     head( n=100 );"
   ]
  },
  {
   "cell_type": "code",
   "execution_count": null,
   "id": "3e1ebac8-5489-4157-8b72-edea1fdf5a35",
   "metadata": {
    "tags": []
   },
   "outputs": [],
   "source": [
    "# dotplot(results,\n",
    "#         x = \"Cluster\",\n",
    "#         color = \"p.adjust\",\n",
    "#         showCategory = 5,\n",
    "#         split = NULL,\n",
    "#         font.size = 12,\n",
    "#         title = \"\",\n",
    "#         by = \"geneRatio\",\n",
    "#         size = NULL,\n",
    "#         includeAll = TRUE,\n",
    "#         label_format = 30,\n",
    "# )\n",
    "# ggsave(filename=\"../plots/scGROv2p8_ExGmodules_max10kbp_binary_corr_res15_dotplot.pdf\", width=8, height=8, units=\"in\")"
   ]
  },
  {
   "cell_type": "code",
   "execution_count": null,
   "id": "d2231a28-169c-434a-93ab-86042242cea5",
   "metadata": {},
   "outputs": [],
   "source": [
    "# bplot = results %>%\n",
    "#     arrange(Cluster, pvalue) %>%\n",
    "#     data.frame() %>%\n",
    "#     # separate values in a column by \"/\" and store the 1st and 2nd object in \"Overlap\", \"Total\":\n",
    "#     separate( GeneRatio, c(\"Overlap\", \"Total\"), \"/\") %>%\n",
    "#     mutate( GeneRatio = as.numeric(Overlap) / as.numeric(Total) ) %>%\n",
    "#     ggplot( aes(x = GeneRatio, y = fct_inorder(Description), fill=qvalue)) + \n",
    "#     geom_bar( stat = 'identity' ) +\n",
    "#     ylab(NULL) +\n",
    "#     scale_fill_viridis()\n",
    "# ggsave(filename = \"../plots/scGROv2p8_ExGmodules_max10kbp_binary_corr_res15_barplot.pdf\", width=12, height=8, units=\"in\")"
   ]
  },
  {
   "cell_type": "code",
   "execution_count": null,
   "id": "ca243827-91df-4fbc-8f3e-57ae08fef790",
   "metadata": {},
   "outputs": [],
   "source": [
    "# eplot = pairwise_termsim(results)\n",
    "# emapplot(eplot, showCategory = 30)\n",
    "# ggsave(filename = \"../plots/scGROv2p8_ExGmodules_max10kbp_binary_corr_res15_emapplot.pdf\", width=4, height=4, units=\"in\")"
   ]
  },
  {
   "cell_type": "code",
   "execution_count": null,
   "id": "71b4be8e-10ca-4d68-b78d-6607c45541c6",
   "metadata": {},
   "outputs": [],
   "source": [
    "# # to remove redundant terms:\n",
    "# simplifiedResults = simplify(results, cutoff=0.6, by=\"p.adjust\", select_fun=min)\n",
    "# eplotS = pairwise_termsim(simplifiedResults)\n",
    "# emapplot(eplotS, showCategory = 10)\n",
    "# ggsave(filename = \"../plots/scGROv2p8_ExGmodules_max10kbp_binary_corr_res15_emapplot_simplified.pdf\", width=4, height=4, units=\"in\")"
   ]
  },
  {
   "cell_type": "code",
   "execution_count": null,
   "id": "80ff9b43-85f5-46c3-aa9a-66878b8c627a",
   "metadata": {},
   "outputs": [],
   "source": [
    "# cplot = cnetplot(results,\n",
    "#                  showCategory = 5,\n",
    "#                  # foldChange = NULL,\n",
    "#                  layout = \"kk\",\n",
    "#                  colorEdge = FALSE,\n",
    "#                  circular = FALSE,\n",
    "#                  node_label = \"all\",\n",
    "#                  cex.params = list(category_node = 1, gene_node = 1, category_label = 1, gene_label = 1),\n",
    "#                  color_category = \"#E5C494\",\n",
    "#                  color_gene = \"#B3B3B3\",\n",
    "#                  shadowtext = \"all\"\n",
    "#                  # color.params = list(foldChange = NULL, edge = FALSE, category = \"#E5C494\", gene =\"#B3B3B3\"),\n",
    "#                  # cex.params = list(category_node = 1, gene_node = 1, category_label = 1, gene_label = 1),\n",
    "#                  # hilight.params = list(category = NULL, alpha_hilight = 1, alpha_no_hilight = 0.3)\n",
    "# )\n",
    "# ggsave(filename = \"../plots/scGROv2p8_ExGmodules_max10kbp_binary_corr_res15_cnetplot.pdf\", width=4, height=4, units=\"in\")"
   ]
  },
  {
   "cell_type": "markdown",
   "id": "d0563752-86ae-4204-8c8b-8570cd671f5c",
   "metadata": {},
   "source": [
    "### network diagram using igraph:"
   ]
  },
  {
   "cell_type": "code",
   "execution_count": null,
   "id": "34635d57-54cc-48ed-bcc8-acf64108214a",
   "metadata": {},
   "outputs": [],
   "source": [
    "layouts = grep(\"^layout_\",ls(\"package:igraph\"),value=TRUE)[-1]\n",
    "layouts"
   ]
  },
  {
   "cell_type": "code",
   "execution_count": null,
   "id": "ed6a9569-d4ec-4a46-ba63-fd443349d292",
   "metadata": {},
   "outputs": [],
   "source": [
    "# to make network plot using the gens from GOterm\n",
    "networkPlot = function(corrMatrix, GOresult, GOterm ){\n",
    "    genesList = getGOgenes(GOresult, GOterm);\n",
    "    net = corrMatrix %>%\n",
    "        filter( corr > 0.075 & pAdj <= 0.05 ) %>%\n",
    "        mutate( Gene = sub(\"GN-\", \"\", Gene) ) %>%\n",
    "        filter( Gene %in% rownames(genesList) );\n",
    "    \n",
    "    net = graph_from_data_frame(net, directed = F) \n",
    "\n",
    "    # conditional color based on pAdj:\n",
    "    # E(net)$color = ifelse(E(net)$pAdj <= 0.05 & E(net)$corr >= 0.1, \"#ce968b\", \"gray\")\n",
    "    # conditional on corr value:\n",
    "    E(net)$color = ifelse(E(net)$corr > 0.1, \"tomato\", \"gray\")\n",
    "    # V(net)$label.color = ifelse(substr(V(net), 0, 3) == \"GN-\", \"black\", \"white\")\n",
    "\n",
    "    netPlot = plot(net, \n",
    "                   vlayout = layout_on_sphere(net),\n",
    "                   vertex.label.family = \"Helvetica\",\n",
    "                   vertex.label.font = 1,\n",
    "                   edge.arrow.size = .1, \n",
    "                   # edge.color = \"gray\", \n",
    "                   edge.width = 3,\n",
    "                   vertex.color = \"#cee2f4\", \n",
    "                   vertex.label.color = \"black\",\n",
    "                   vertex.frame.color = \"white\")\n",
    "    \n",
    "    return(netPlot);\n",
    "    \n",
    "    # ggsave(filename=sprintf(\"../plots/scGROv2p8_GxGmodules_max10kbp_binary_corr_%s%_network.pdf\", GOterm), width=12, height=12, units=\"in\")\n",
    "}"
   ]
  },
  {
   "cell_type": "code",
   "execution_count": null,
   "id": "c26aaaa0-5d93-47cb-a19b-5d15ae9744f4",
   "metadata": {},
   "outputs": [],
   "source": [
    "mRNA_stability = networkPlot(corrF, results, \"GO:0043488\")\n",
    "# ggsave(filename = \"../plots/scGROv2p8_ExGmodules_max10kbp_binary_corr_GO-0048002_network_test.png\", width=12, height=12, units=\"in\")\n",
    "\n",
    "# SAVE DOES NOT WORK. SAVE MANUALLY AS SVG BY RIGHT CLICKING."
   ]
  },
  {
   "cell_type": "code",
   "execution_count": null,
   "id": "5f909c4c-4c29-4902-bdc0-771cf9e45aab",
   "metadata": {},
   "outputs": [],
   "source": [
    "postTranscriptional_gene_regulation = networkPlot(corrF, results, \"GO:0010608\")"
   ]
  },
  {
   "cell_type": "code",
   "execution_count": null,
   "id": "4c876421-74bb-4354-9f26-80c72c74f12d",
   "metadata": {},
   "outputs": [],
   "source": [
    "antigen_binding = networkPlot(corrF, results, \"GO:0003823\")"
   ]
  },
  {
   "cell_type": "code",
   "execution_count": null,
   "id": "f5b25f52-8275-4940-bebf-600ae336ee6b",
   "metadata": {},
   "outputs": [],
   "source": [
    "ATP_hydrolysis_activity = networkPlot(corrF, results, \"GO:0016887\")"
   ]
  },
  {
   "cell_type": "code",
   "execution_count": null,
   "id": "2dda8839-71de-48ba-8c5c-fa9300154501",
   "metadata": {},
   "outputs": [],
   "source": [
    "enzyme_regulator_activity = networkPlot(corrF, results, \"GO:0030234\")"
   ]
  },
  {
   "cell_type": "code",
   "execution_count": null,
   "id": "0f1fd033-1d54-4c9d-92ce-a3e80f7bc596",
   "metadata": {},
   "outputs": [],
   "source": [
    "regulation_transposition = networkPlot(corrF, results, \"GO:0010528\")"
   ]
  },
  {
   "cell_type": "code",
   "execution_count": null,
   "id": "21e3d222-6403-409c-98d5-b1811c0b41aa",
   "metadata": {},
   "outputs": [],
   "source": [
    "sequence_specific_DNA_binding = networkPlot(corrF, results, \"GO:1990837\")"
   ]
  },
  {
   "cell_type": "code",
   "execution_count": null,
   "id": "d2da49f8-c53f-44aa-8aad-39a28a28a285",
   "metadata": {},
   "outputs": [],
   "source": [
    "actin_filament = networkPlot(corrF, results, \"GO:0005884\")"
   ]
  },
  {
   "cell_type": "code",
   "execution_count": null,
   "id": "bc3f0693-6960-4768-9d9b-461b28c7e359",
   "metadata": {},
   "outputs": [],
   "source": [
    "alcohol_dehydrogenase_NADP_activity = networkPlot(corrF, results, \"GO:0008106\")"
   ]
  },
  {
   "cell_type": "code",
   "execution_count": null,
   "id": "4aebf64d-fcb8-4ac6-bb5c-09f538b2ae0a",
   "metadata": {},
   "outputs": [],
   "source": [
    "mitochondrial_envelope = networkPlot(corrF, results, \"GO:0005740\")"
   ]
  },
  {
   "cell_type": "code",
   "execution_count": null,
   "id": "3dc321ca-f228-4c15-b4fc-7a4a005e5cfa",
   "metadata": {},
   "outputs": [],
   "source": [
    "meiotic_spindle = networkPlot(corrF, results, \"GO:0072687\")"
   ]
  },
  {
   "cell_type": "markdown",
   "id": "f5f8178e-b7ed-4d15-92d2-f50fab5d99f9",
   "metadata": {},
   "source": [
    "### Ideogram"
   ]
  },
  {
   "cell_type": "code",
   "execution_count": null,
   "id": "9d95d9af-f133-4b39-8dda-36a49829df14",
   "metadata": {},
   "outputs": [],
   "source": [
    "mm10_karyotype = fread(\"../data/mm10_karyotype.csv\");\n",
    "mm10_gene_density = fread(\"../data/mm10_gene_density.csv\");"
   ]
  },
  {
   "cell_type": "code",
   "execution_count": null,
   "id": "9ad74081-bb55-4ffb-9fdb-8131418e63f0",
   "metadata": {},
   "outputs": [],
   "source": [
    "# gets both genes and enhancers:\n",
    "getGOfeatures = function( corrMatrix, GOresult, GOterm ){\n",
    "    selGenes = data.frame(GOresult) %>%\n",
    "    filter( ID %in% GOterm );\n",
    "    geneIDs = lapply(selGenes$geneID, function(x) {\n",
    "        Ids = unlist(strsplit(gsub(\"/\", ',', x), \",\"));\n",
    "        # Ids = mapIds(org.Mm.eg.db, Ids, 'SYMBOL', 'ENTREZID');\n",
    "        Ids = c(unname(Ids));\n",
    "        return(Ids);\n",
    "    })\n",
    "    geneIDs = unlist(geneIDs)\n",
    "        \n",
    "    # select corr pairs of geneIDs:\n",
    "    net = corrMatrix %>%\n",
    "        filter(  pAdj < 0.05 ) %>% #  corr > 0.075 &\n",
    "        filter( sub(\"GN-\", \"\", Gene) %in% geneIDs );\n",
    "    \n",
    "    selGeneIDs = features %>%\n",
    "        mutate( name = names) %>%\n",
    "        filter( names %in% c(net$Gene, net$Enhancer)) %>%\n",
    "        data.frame();\n",
    "\n",
    "    markerGenes = data.frame(\n",
    "    Type = ifelse(substr(selGeneIDs$name, 0, 3) == \"GN-\", \"Gene\", ifelse(substr(selGeneIDs$name, 0, 3) == \"chr\", \"Enhancer\", \"SE\")),\n",
    "    Shape = ifelse(substr(selGeneIDs$name, 0, 3) == \"GN-\", \"circle\", ifelse(substr(selGeneIDs$name, 0, 3) == \"chr\", \"triangle\", \"box\")),\n",
    "    # Shape = ifelse(substr(selGeneIDs$name, 0, 3) == \"GN-\", \"circle\", \"triangle\"),\n",
    "    Chr = selGeneIDs$seqnames,\n",
    "    Start = selGeneIDs$start,\n",
    "    End = selGeneIDs$end,\n",
    "    # color = ifelse(substr(selGeneIDs$name, 0, 3) == \"GN-\", \"3a4664\", \"cc8921\")\n",
    "    color = ifelse(substr(selGeneIDs$name, 0, 3) == \"GN-\", \"3a4664\", ifelse(substr(selGeneIDs$name, 0, 3) == \"chr\", \"cc8921\", \"cf4a49\")))\n",
    "    \n",
    "    rownames(markerGenes) = sub(\"GN-\", \"\", selGeneIDs$name);\n",
    "    \n",
    "    return(markerGenes);\n",
    "}"
   ]
  },
  {
   "cell_type": "code",
   "execution_count": null,
   "id": "abcfebfa-eb4c-4f44-8efc-2ee4d112fb4f",
   "metadata": {},
   "outputs": [],
   "source": [
    "GO_0010608 = getGOfeatures(corrF, results, \"GO:0010608\");\n",
    "dim(GO_0010608)\n",
    "GO_0010608#[1:4, ]\n",
    "\n",
    "GO_0003823 = getGOfeatures(corrF, results, \"GO:0003823\");\n",
    "dim(GO_0003823)\n",
    "GO_0003823#[1:4, ]\n",
    "\n",
    "GO_0010528 = getGOfeatures(corrF, results, \"GO:0010528\");\n",
    "dim(GO_0010528)\n",
    "GO_0010528#[1:4, ]\n",
    "\n",
    "GO_1990837 = getGOfeatures(corrF, results, \"GO:1990837\");\n",
    "dim(GO_1990837)\n",
    "GO_1990837#[1:4, ]\n",
    "\n",
    "GO_0008106 = getGOfeatures(corrF, results, \"GO:0008106\");\n",
    "dim(GO_0008106)\n",
    "GO_0008106#[1:4, ]\n",
    "\n",
    "GO_0005740 = getGOfeatures(corrF, results, \"GO:0005740\");\n",
    "dim(GO_0005740)\n",
    "GO_0005740#[1:4, ]\n",
    "\n",
    "\n",
    "GO_00 = getGOfeatures(corrF, results, c(\"GO:0010608\", \"GO:0003823\", \"GO:0010528\", \"GO:1990837\", \"GO:0008106\", \"GO:0005740\"));\n",
    "dim(GO_00)\n",
    "GO_00[1:4, ]\n",
    "\n",
    "summary(as.factor(GO_00$Chr))"
   ]
  },
  {
   "cell_type": "code",
   "execution_count": null,
   "id": "1a4d50ec-7858-468e-8f25-4752160bc1a0",
   "metadata": {},
   "outputs": [],
   "source": [
    "ideogram(karyotype = mm10_karyotype, # mm10_karyotype[1:10,] # for chrs 1:10 only\n",
    "         # overlaid = mm10_gene_density,  \n",
    "         label = GO_00, \n",
    "         label_type = \"marker\", \n",
    "         # position of legend\n",
    "         Lx = 60, Ly = 35,\n",
    "         output = \"../plots/Ideogram_GO_scGROv2p8_ExGmodules_max10kbp_binary_corr_res15.svg\")\n",
    "# svg2pdf(\"../plots/Ideogram_ggmodules_3xtimebins10kbp_ChrConstrain_res4.svg\")\n",
    "# convertSVG(\"../plots/Ideogram_GO_0002475_scGROv2p8_ExGmodules_max10kbp_binary_corr.svg\", device = \"png\")"
   ]
  },
  {
   "cell_type": "code",
   "execution_count": null,
   "id": "bba86b7f-68d8-40a8-8de2-60174c69794c",
   "metadata": {},
   "outputs": [],
   "source": [
    "# get bed files for genes in GOterm ONLY for genes if the co-expressed partner is also in the GOterm:\n",
    "bedGOfeatures = function( corrMatrix, GOresult, GOterm ){\n",
    "    genesList = getGOfeatures(corrMatrix, GOresult, GOterm);\n",
    "    net = corrMatrix %>%\n",
    "        # Even if the corr instead of corrF matrix is used, it ensures that we consider relatively strongly co-Ex genes\n",
    "        filter( corr > 0.075 & pAdj < 0.05 ) %>%\n",
    "        filter( sub(\"GN-\", \"\", Gene) %in% rownames(genesList) & Enhancer %in% rownames(genesList) );\n",
    "        \n",
    "    selGeneIDs = features %>%\n",
    "        # mutate( name = sub(\"GN-\", \"\", names)) %>%\n",
    "        filter( names %in% c(net$Gene, net$Enhancer)) %>%\n",
    "        promoters( upstream = 750, downstream = 750 ) %>%\n",
    "        data.frame();\n",
    "    \n",
    "    return(selGeneIDs);\n",
    "}"
   ]
  },
  {
   "cell_type": "code",
   "execution_count": null,
   "id": "32e90a24-46ce-4806-bbe4-7e3290f7ec4e",
   "metadata": {},
   "outputs": [],
   "source": [
    "# make a directory\n",
    "# write bed files of gene promoters in each GO IDs:\n",
    "dir.name = \"scGROv2p8_GxGmodules_max10kbp_binary_corr_res2_GO_promoters\"\n",
    "dir.create(paste0(\"../data/\", dir.name));\n",
    "\n",
    "suppressMessages({\n",
    "    foreach(\n",
    "        id = data.frame(results)$ID\n",
    "    ) %do% {\n",
    "        # use corr instead of corrF. function filters orr >= 0.1 & pAdj <= 0.05\n",
    "        GO_promoters = bedGOgenes(corr, results, id);\n",
    "        export.bed(GO_promoters, con=paste0( \"../data/\", dir.name, \"/\", sub(\":\", \"_\", id), \".bed\"));\n",
    "        return();\n",
    "    }\n",
    "});"
   ]
  }
 ],
 "metadata": {
  "kernelspec": {
   "display_name": "R",
   "language": "R",
   "name": "ir"
  },
  "language_info": {
   "codemirror_mode": "r",
   "file_extension": ".r",
   "mimetype": "text/x-r-source",
   "name": "R",
   "pygments_lexer": "r",
   "version": "4.2.2"
  }
 },
 "nbformat": 4,
 "nbformat_minor": 5
}
