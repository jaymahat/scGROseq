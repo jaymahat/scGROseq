{
 "cells": [
  {
   "cell_type": "code",
   "execution_count": null,
   "id": "6885eedd-bfba-455f-ae62-168875c91628",
   "metadata": {},
   "outputs": [],
   "source": [
    ".libPaths(\"/home/mahat/.conda/envs/r422/lib/R/library\")\n",
    ".libPaths()"
   ]
  },
  {
   "cell_type": "code",
   "execution_count": null,
   "id": "9db58c45-23df-41b8-bf99-cdfc9afb5872",
   "metadata": {},
   "outputs": [],
   "source": [
    "suppressMessages({\n",
    "    library(tidyverse)\n",
    "    library(ggExtra)\n",
    "    library(matrixStats)\n",
    "    library(plyranges)\n",
    "    library(viridis)\n",
    "    library(data.table)\n",
    "    library(ggbio)\n",
    "    library(ggridges)\n",
    "    library(ggbeeswarm)\n",
    "    library(ggpointdensity)\n",
    "    library(Matrix)\n",
    "});\n",
    "source(\"./scGRO_functions.r\");"
   ]
  },
  {
   "cell_type": "code",
   "execution_count": null,
   "id": "8a623f44-ed47-4336-a09c-e230051a735b",
   "metadata": {},
   "outputs": [],
   "source": [
    "options(\n",
    "    repr.plot.width=6,\n",
    "    repr.plot.height=4,\n",
    "    jupyter.plot_mimetypes = \"image/svg+xml\"\n",
    ");\n",
    "theme_set(theme_classic() +\n",
    "    theme(\n",
    "        axis.title.x = element_text(color=\"black\", size=14, face=\"bold\"), \n",
    "        axis.title.y = element_text(color=\"black\", size=14, face=\"bold\"),\n",
    "        axis.text = element_text(color=\"black\", size=12, face=\"bold\"),\n",
    "        plot.title = element_text(face=\"bold\", size=14, hjust = 0.5),\n",
    "        axis.line = element_blank(),\n",
    "        # axis.ticks = element_blank()\n",
    "        panel.border = element_rect(colour = \"grey\", fill=NA, linewidth=1)\n",
    "    )\n",
    ");"
   ]
  },
  {
   "cell_type": "code",
   "execution_count": null,
   "id": "0b9f8d5e-127d-4c0e-9167-7aefa54ba044",
   "metadata": {},
   "outputs": [],
   "source": [
    "# Get equation and r^2 as string\n",
    "# https://groups.google.com/forum/#!topic/ggplot2/1TgH-kG5XMA\n",
    "\n",
    "lm_eqn = function(x, y) {\n",
    "    m = lm(y ~ x);\n",
    "    eq = substitute(italic(y) == a + b %.% italic(x)*\",\"~~italic(r)^2~\"=\"~r2, \n",
    "         list(a = format(unname(coef(m)[1]), digits = 2),\n",
    "              b = format(unname(coef(m)[2]), digits = 2),\n",
    "             r2 = format(summary(m)$r.squared, digits = 3)))\n",
    "    as.character(as.expression(eq));\n",
    "}"
   ]
  },
  {
   "cell_type": "code",
   "execution_count": null,
   "id": "feeccd35-7390-42fa-8478-f665b605d90f",
   "metadata": {},
   "outputs": [],
   "source": [
    "#features = read_bed(\"../data/groHMM_mES_BRsComb_LP-50_UTS10_features_customized_v2.bed\");\n",
    "# features = read_bed(\"../data/mES_BRsComb_dREGfiltered_features_customized_OSNenhancersPlusSEs_v1.bed\");\n",
    "features = read_bed(\"../data/dREG_refinedFeatures_mES_mm10_OSNcustomEnhancers_SEs.bed\");\n",
    "names(features) = features$name;\n",
    "features$score=NULL;\n",
    "features\n",
    "\n",
    "# # select genes longer than 5kp from each feature\n",
    "# # truncate genes longer than 30kb to 30kb\n",
    "# features = features %>%\n",
    "#     filter( width(features) >= 3000 | substr(name, 0, 2) != \"GN\" ) %>%\n",
    "#     anchor_center() %>%\n",
    "#     mutate(width=width-1000);\n",
    "# length(features)\n",
    "\n",
    "#resize 30+kb genes to 30kb\n",
    "longf = which( width(features) > 30000 & substr(names(features), 0, 2) == \"GN\" );\n",
    "features[longf] = features[longf] %>%\n",
    "     resize( width = 30000, fix=\"start\" );\n",
    "features"
   ]
  },
  {
   "cell_type": "code",
   "execution_count": null,
   "id": "49600903-b52e-4608-a3c0-5193ecf946ee",
   "metadata": {},
   "outputs": [],
   "source": [
    "scGRO  = readRDS(\"../data/scGROv2p8_consolidated.rds\");\n",
    "counts = readRDS( \"../data/scGROv2p8_mapq3qc_filtered_counts.rds\" );\n",
    "# scGRO  = readRDS(\"../jay_m/data_jay_m/scGROv2p9_filtered_consolidated.rds\");\n",
    "# counts = readRDS( \"../jay_m/data_jay_m/scGROv2p9_mapq3qc_filtered_counts.rds\" );\n",
    "# hist(colSums(counts))\n",
    "# head(scGRO)\n",
    "# head(counts)"
   ]
  },
  {
   "cell_type": "code",
   "execution_count": null,
   "id": "b34624f1-b01f-410c-9920-793f9b8e234e",
   "metadata": {
    "tags": []
   },
   "outputs": [],
   "source": [
    "# Merge experiment ID and cell barcode to create unique cell ID across experiments\n",
    "scGRO = scGRO %>%\n",
    "    filter( umiQC & plateQC & cellQC & countQC & miRQC ) %>%\n",
    "    mutate(cellID = factor( paste( Exp, Plate, Cell, sep=\"-\") ) ) %>%\n",
    "    # filter( !(Exp == \"Exp236\" & Plate %in% paste0(\"c0\", 5:8)) ) %>%\n",
    "    # filter( !(Exp == \"Exp260b\") ) %>%\n",
    "    resize(width=1, fix=\"end\") %>%\n",
    "    filter(cellID %in% colnames(counts)) %>%\n",
    "    # subsetByOverlaps(features) %>%\n",
    "    select( cellID );\n",
    "names(scGRO) = NULL;\n",
    "scGRO"
   ]
  },
  {
   "cell_type": "code",
   "execution_count": null,
   "id": "05d457db-9c80-41f2-9908-beeb22b20364",
   "metadata": {},
   "outputs": [],
   "source": [
    "scrambled = scGRO;\n",
    "scrambled$cellID = droplevels(scrambled$cellID);\n",
    "scrambled$cellID = sample(scrambled$cellID);"
   ]
  },
  {
   "cell_type": "code",
   "execution_count": null,
   "id": "af49fa37-8c2a-43a2-838c-93f7d1f26c16",
   "metadata": {},
   "outputs": [],
   "source": [
    "# load dREG peak calls and convert to GRanges\n",
    "dREG = read.table(\"../data/PROseq_mES_BRsComb.dREG.peak.full.bed\", header=F, stringsAsFactors=F);\n",
    "colnames(dREG) = c(\"chr\", \"start\", \"end\", \"score\", \"pval\", \"center\");\n",
    "dREG = GRanges(dREG)\n",
    "dREG"
   ]
  },
  {
   "cell_type": "raw",
   "id": "abc200e8-c68a-46d5-981b-565c8bf7c2c8",
   "metadata": {},
   "source": [
    "get_position_matrix = function(reads, window, binsize=100) {\n",
    "    tss = promoters(window, upstream=0, downstream=1);\n",
    "    nbins = ceiling(width(window)/binsize);\n",
    "    reads = subsetByOverlaps(reads, window) %>%\n",
    "        mutate( pos = distanceToNearest(., tss) ) %>%\n",
    "        mutate( bin = factor(ceiling(pos.distance/binsize), levels=1:nbins) );\n",
    "    cells = levels(reads$cellID);\n",
    "    #out = Matrix( nrow=nbins, ncol=length(cells), sparse=T );\n",
    "    out = stats::xtabs( ~ bin + cellID, data=reads, sparse=T );\n",
    "    colnames(out) = cells;\n",
    "    \n",
    "    return(out);\n",
    "}"
   ]
  },
  {
   "cell_type": "raw",
   "id": "23a7baec-5af4-4c72-ae64-3fa7aa98cd6a",
   "metadata": {},
   "source": [
    "get_position_table = function(reads, gene, enh) {\n",
    "    gtss = promoters(gene, upstream=0, downstream=1);\n",
    "    etss = promoters(enh,  upstream=0, downstream=1);\n",
    "    \n",
    "    greads = subsetByOverlaps(reads, gene) %>%\n",
    "        mutate( pos = distanceToNearest(., gtss) ) %>%\n",
    "        as.data.frame %>%\n",
    "        select(cellID, pos=pos.distance);\n",
    "    \n",
    "    ereads = subsetByOverlaps(reads, enh ) %>%\n",
    "        mutate( pos = distanceToNearest(., etss) ) %>%\n",
    "        as.data.frame %>%\n",
    "        select(cellID, pos=pos.distance);\n",
    "    \n",
    "    out = left_join(greads, ereads,\n",
    "                    by=c(\"cellID\"), suffix = c(\".gene\", \".enh\"),\n",
    "                    multiple=\"all\") %>%\n",
    "        na.omit %>%\n",
    "        mutate(diff = pos.enh - pos.gene);\n",
    "    #out = c(greads, ereads);\n",
    "    #out = out %>%\n",
    "    #    group_by(cellID) %>%\n",
    "    #    mutate(pos.distance = pos.distance-pos.distance[1]) %>%\n",
    "    #    ungroup;\n",
    "    \n",
    "    return(out);\n",
    "}"
   ]
  },
  {
   "cell_type": "raw",
   "id": "0c97aedb-feb9-493d-95c0-ebbe343ce1c3",
   "metadata": {},
   "source": [
    "# plot_position_plormn_table = function(reads, gene, enh) {\n",
    "#     table = get_position_table(reads, gene, enh);\n",
    "#     out = table %>%\n",
    "#     ggplot(aes(x=diff/1000)) +\n",
    "#     xlab(\"Enh - Gene Polymerase position\") +\n",
    "#     ylab(paste0(\"Number of cells\", \" - (\", nrow(table), \")\")) +\n",
    "#     geom_histogram(binwidth=1) +\n",
    "#     # xlim(-30, 30) +\n",
    "#     ggtitle(paste(names(gene), \"-\", names(enh)));\n",
    "    \n",
    "#     return(out);\n",
    "# }\n",
    "\n",
    "plot_position_table = function(reads, gene, enh) {\n",
    "    strand(enh) = \"+\"\n",
    "    pl = get_position_table(reads, gene, enh);\n",
    "    strand(enh) = \"-\"\n",
    "    mn = get_position_table(reads, gene, enh);\n",
    "    table = rbind(pl, mn);\n",
    "    out = table %>%\n",
    "    ggplot(aes(x=diff/1000)) +\n",
    "    xlab(\"Enh - Gene Polymerase position\") +\n",
    "    ylab(paste0(\"Number of cells\", \" - (\", nrow(table), \")\")) +\n",
    "    geom_histogram(binwidth=1) +\n",
    "    # xlim(-30, 30) +\n",
    "    ggtitle(paste(names(gene), \"-\", names(enh)));\n",
    "    \n",
    "    return(out);\n",
    "}"
   ]
  },
  {
   "cell_type": "markdown",
   "id": "bc14e6f9-313e-45d1-bc0a-a5e88bd522c6",
   "metadata": {},
   "source": [
    "### plot distance between Pol II in gene and enhancer in same cells and thier positions"
   ]
  },
  {
   "cell_type": "code",
   "execution_count": null,
   "id": "5d2b7117-b5a0-417c-8d42-1b11441aa6c0",
   "metadata": {},
   "outputs": [],
   "source": [
    "geneA = features[\"GN-Hccs\"]\n",
    "geneB = features[\"GN-LOC101055907\"]\n",
    "# strand(geneA) = \"+\";\n",
    "# strand(geneB) = \"-\"\n",
    "plot_position_pairs( scGRO, geneA, geneB, dREG );\n",
    "plot_position_table( scGRO, geneA, geneB );"
   ]
  },
  {
   "cell_type": "code",
   "execution_count": null,
   "id": "d7baf631-4582-45bf-9dc8-9e353f2f6680",
   "metadata": {},
   "outputs": [],
   "source": [
    "gene = features[\"GN-Sox2\"]\n",
    "enh = features[\"Sox2_2kbDn\"]\n",
    "strand(enh) = \"+\";\n",
    "plot_position_pairs( scGRO, gene, enh, dREG );\n",
    "strand(enh) = \"-\"\n",
    "plot_position_pairs( scGRO, gene, enh, dREG );\n",
    "\n",
    "plot_position_table(scGRO, gene, enh);"
   ]
  },
  {
   "cell_type": "code",
   "execution_count": null,
   "id": "5a904429-9299-4760-b9a1-5d380cda25a1",
   "metadata": {},
   "outputs": [],
   "source": [
    "gene = features[\"GN-Sox2\"]\n",
    "enh = features[\"Sox2_105kbDn\"]\n",
    "strand(enh) = \"+\";\n",
    "plot_position_pairs( scGRO, gene, enh, dREG );\n",
    "strand(enh) = \"-\"\n",
    "plot_position_pairs( scGRO, gene, enh, dREG );\n",
    "\n",
    "plot_position_table(scGRO, gene, enh);"
   ]
  },
  {
   "cell_type": "code",
   "execution_count": null,
   "id": "19d2330e-7c40-4d5d-ad22-9db1349659eb",
   "metadata": {},
   "outputs": [],
   "source": [
    "gene = features[\"GN-Sox2\"]\n",
    "enh = features[\"Sox2_1MbDn\"]\n",
    "strand(enh) = \"+\";\n",
    "plot_position_pairs( scGRO, gene, enh, dREG );\n",
    "strand(enh) = \"-\"\n",
    "plot_position_pairs( scGRO, gene, enh, dREG );\n",
    "\n",
    "plot_position_table(scGRO, gene, enh);"
   ]
  },
  {
   "cell_type": "code",
   "execution_count": null,
   "id": "ff379741-3e6f-4ba8-bd78-81446c0526b0",
   "metadata": {},
   "outputs": [],
   "source": [
    "gene = features[\"GN-Pou5f1\"]\n",
    "enh = features[\"Pou5f1_3kbUp\"]\n",
    "strand(enh) = \"+\";\n",
    "plot_position_pairs( scGRO, gene, enh, dREG );\n",
    "strand(enh) = \"-\"\n",
    "plot_position_pairs( scGRO, gene, enh, dREG );\n",
    "\n",
    "plot_position_table(scGRO, gene, enh);"
   ]
  },
  {
   "cell_type": "code",
   "execution_count": null,
   "id": "39b2f2d2-2703-4b81-9b79-553b473fae9d",
   "metadata": {},
   "outputs": [],
   "source": [
    "gene = features[\"GN-Pou5f1\"]\n",
    "enh = features[\"Pou5f1_25kbUp\"]\n",
    "strand(enh) = \"+\";\n",
    "plot_position_pairs( scGRO, gene, enh, dREG );\n",
    "strand(enh) = \"-\"\n",
    "plot_position_pairs( scGRO, gene, enh, dREG );\n",
    "\n",
    "plot_position_table(scGRO, gene, enh);"
   ]
  },
  {
   "cell_type": "code",
   "execution_count": null,
   "id": "78206c5f-55eb-4b46-97a3-036840896717",
   "metadata": {},
   "outputs": [],
   "source": [
    "gene = features[\"GN-Pou5f1\"]\n",
    "enh = features[\"Pou5f1_20kbUp\"]\n",
    "strand(enh) = \"+\";\n",
    "plot_position_pairs( scGRO, gene, enh, dREG );\n",
    "strand(enh) = \"-\"\n",
    "plot_position_pairs( scGRO, gene, enh, dREG );\n",
    "\n",
    "plot_position_table(scGRO, gene, enh);"
   ]
  },
  {
   "cell_type": "raw",
   "id": "500428b1-3273-4129-adf5-49a76bb970a0",
   "metadata": {},
   "source": [
    "SEcorr = chr_corr %>%\n",
    "    filter( Gene %in% query_SE & Enhancer %in% query_SE ) %>%\n",
    "    filter( emp_p_pos < 0.05 & distance <= 1000000 ) %>%\n",
    "    filter(pGene >= 0.05 & pEnh >= 0.05 )#; %>%\n",
    "\n",
    "Gene\tEnhancer\tpGene\tpEnh\texpCotrans\tobsCotrans\tchisq\temp_p_pos\temp_p_neg\tgeneLength\tenhsLength\tgeneStrand\tenhsStrand\tdistance\n",
    "GN-Sulf1\tINT_STITCHED_45\t0.07974301\t0.12925170\t0.010306919\t0.022675737\t0.014843198\t0.000\t1.000\t10000\t45151\t+\t*\t341631\n",
    "GN-Nr5a2\tINT_STITCHED_466\t0.05177627\t0.05215420\t0.002700349\t0.019652305\t0.106419118\t0.000\t1.000\t10000\t9328\t-\t*\t4524\n",
    "GN-Etl4\tINT_STITCHED_746\t0.06727135\t0.14436886\t0.009711888\t0.019652305\t0.010174323\t0.000\t1.000\t10000\t25279\t+\t*\t87622\n",
    "GN-Dnmt3b\tINT_STITCHED_1210\t0.07029478\t0.05177627\t0.003639601\t0.008314437\t0.006004527\t0.020\t0.980\t10000\t13465\t+\t*\t766718\n",
    "GN-Cbfa2t2\tINT_STITCHED_1210\t0.08578987\t0.05177627\t0.004441879\t0.010959940\t0.009564670\t0.002\t0.998\t10000\t13465\t+\t*\t20294\n",
    "GN-Gar1\tINT_STITCHED_1732\t0.05555556\t0.18178382\t0.010099101\t0.018896447\t0.007663385\t0.004\t0.996\t8787\t14351\t-\t*\t287297\n",
    "GN-Rad23b\tINT_STITCHED_1973\t0.07482993\t0.10733182\t0.008031633\t0.015495087\t0.006935470\t0.016\t0.984\t10000\t21823\t+\t*\t106345\n",
    "GN-Rcc2\tINT_STITCHED_2292\t0.15873016\t0.08541194\t0.013557451\t0.023053666\t0.006651552\t0.032\t0.968\t10000\t16431\t+\t*\t856646\n",
    "GN-Kazn\tINT_STITCHED_2292\t0.05442177\t0.08541194\t0.004648269\t0.012849584\t0.014470241\t0.000\t1.000\t10000\t16431\t-\t*\t681281\n",
    "GN-Med13l\tINT_STITCHED_2745\t0.05668934\t0.05631141\t0.003192257\t0.007558579\t0.005972191\t0.018\t0.982\t10000\t17725\t+\t*\t128066\n",
    "GN-Pml\tINT_STITCHED_4555\t0.09183673\t0.05177627\t0.004754963\t0.010204082\t0.006244610\t0.015\t0.985\t10000\t12081\t-\t*\t21904\n",
    "GN-Gclc\tINT_STITCHED_4657\t0.05895692\t0.06764928\t0.003988393\t0.008314437\t0.004692280\t0.041\t0.959\t10000\t14043\t+\t*\t604801\n",
    "GN-Ooep\tINT_STITCHED_4657\t0.05593348\t0.06764928\t0.003783860\t0.023053666\t0.098134025\t0.000\t1.000\t10000\t14043\t-\t*\t19251\n",
    "GN-Rnu3a\tINT_STITCHED_4954\t0.62055933\t0.72637944\t0.450761543\t0.619425548\t0.063109968\t0.000\t1.000\t4975\t853\t+\t*\t480\n",
    "GN-Herc4\tINT_STITCHED_5044\t0.07785336\t0.07747543\t0.006031723\t0.012093726\t0.006092435\t0.037\t0.963\t10000\t13918\t+\t*\t352834\n",
    "GN-Hnrnph3\tINT_STITCHED_5044\t0.06802721\t0.07747543\t0.005270438\t0.013227513\t0.012013243\t0.001\t0.999\t10000\t13918\t-\t*\t132970\n",
    "GN-Epn2\tINT_STITCHED_5533\t0.05177627\t0.05668934\t0.002935162\t0.006802721\t0.005096144\t0.028\t0.972\t10000\t6155\t-\t*\t929207\n",
    "GN-LOC108167924\tINT_STITCHED_5711\t0.06160242\t0.07105064\t0.004376891\t0.047619048\t0.427217376\t0.000\t1.000\t10000\t6487\t-\t*\t4039\n",
    "GN-Ddx24\tINT_STITCHED_6151\t0.05668934\t0.05064248\t0.002870889\t0.006424792\t0.004399414\t0.042\t0.958\t10000\t12131\t-\t*\t720122\n",
    "GN-Ptch1\tINT_STITCHED_6460\t0.06198035\t0.06160242\t0.003818139\t0.009070295\t0.007224759\t0.011\t0.989\t10000\t26208\t-\t*\t390221\n",
    "GN-Ctsl\tINT_STITCHED_6460\t0.06991686\t0.06160242\t0.004307047\t0.009070295\t0.005267768\t0.031\t0.969\t10000\t26208\t-\t*\t414708\n",
    "GN-Basp1\tINT_STITCHED_7104\t0.06916100\t0.16439909\t0.011370005\t0.021541950\t0.009100124\t0.006\t0.994\t10000\t13894\t-\t*\t336396\n",
    "GN-Myo10\tINT_STITCHED_7104_2\t0.08163265\t0.08767952\t0.007157512\t0.035903250\t0.115447595\t0.000\t1.000\t10000\t10035\t+\t*\t6417\n",
    "GN-Usp7\tINT_STITCHED_7359\t0.07936508\t0.11602419\t0.009208269\t0.016628874\t0.005979992\t0.041\t0.959\t10000\t11985\t-\t*\t29694\n",
    "GN-H2-M5\tINT_STITCHED_7792\t0.05139834\t0.07369615\t0.003787859\t0.027966742\t0.154340046\t0.000\t1.000\t8167\t13848\t-\t*\t3732\n",
    "GN-Wdr43\tINT_STITCHED_7884\t0.09939531\t0.05064248\t0.005033625\t0.010204082\t0.005311007\t0.025\t0.975\t10000\t10887\t+\t*\t870702\n",
    "GN-Myl12a\tINT_STITCHED_7884\t0.05064248\t0.05064248\t0.002564661\t0.006424792\t0.005809975\t0.014\t0.986\t10000\t10887\t-\t*\t257021"
   ]
  },
  {
   "cell_type": "code",
   "execution_count": null,
   "id": "9eab80b1-7804-4ea8-8c5e-5833bd0ba832",
   "metadata": {},
   "outputs": [],
   "source": [
    "gene = features[\"GN-Sulf1\"]\n",
    "enh = features[\"INT_STITCHED_45\"]\n",
    "# plot_2strand_position_pairs(scGRO, gene, enh, dREG);\n",
    "strand(enh) = \"+\"\n",
    "plot_position_pairs( scGRO, gene, enh, dREG );\n",
    "strand(enh) = \"-\"\n",
    "plot_position_pairs( scGRO, gene, enh, dREG );\n",
    "\n",
    "plot_position_table(scGRO, gene, enh);"
   ]
  },
  {
   "cell_type": "code",
   "execution_count": null,
   "id": "536d361d-abb2-43a5-9bdb-6d76db581c3c",
   "metadata": {},
   "outputs": [],
   "source": [
    "gene = features[\"GN-Sulf1\"]\n",
    "enh = features[\"INT_STITCHED_45\"]\n",
    "start(gene) = 12692262;\n",
    "gene = resize(gene, width=30000, fix=\"start\");\n",
    "start(enh) = 13069651;\n",
    "strand(enh) = \"+\";\n",
    "enh = resize(enh, width=30000, fix=\"start\");\n",
    "plot_position_pairs( scGRO, gene, enh, dREG );\n",
    "end(enh) = 13095010;\n",
    "strand(enh) = \"-\";\n",
    "enh = resize(enh, width=30000, fix=\"start\");\n",
    "plot_position_pairs( scGRO, gene, enh, dREG );\n",
    "\n",
    "plot_position_table(scGRO, gene, enh);"
   ]
  },
  {
   "cell_type": "code",
   "execution_count": null,
   "id": "e5ad8440-3a65-48a5-b481-cbea04b739a4",
   "metadata": {},
   "outputs": [],
   "source": [
    "gene = features[\"GN-Slco5a1\"]\n",
    "enh = features[\"INT_STITCHED_45\"]\n",
    "strand(enh) = \"+\";\n",
    "plot_position_pairs( scGRO, gene, enh, dREG );\n",
    "strand(enh) = \"-\"\n",
    "plot_position_pairs( scGRO, gene, enh, dREG );\n",
    "\n",
    "plot_position_table(scGRO, gene, enh);"
   ]
  },
  {
   "cell_type": "code",
   "execution_count": null,
   "id": "2cfb53e1-e16b-4aad-b4b3-5b0715bb4386",
   "metadata": {},
   "outputs": [],
   "source": [
    "gene = features[\"GN-Nr5a2\"]\n",
    "enh = features[\"INT_STITCHED_466\"]\n",
    "strand(enh) = \"+\";\n",
    "plot_position_pairs( scGRO, gene, enh, dREG );\n",
    "strand(enh) = \"-\"\n",
    "plot_position_pairs( scGRO, gene, enh, dREG );\n",
    "\n",
    "plot_position_table(scGRO, gene, enh);"
   ]
  },
  {
   "cell_type": "code",
   "execution_count": null,
   "id": "a8c33718-d0f6-4194-a049-34d02e3056dd",
   "metadata": {},
   "outputs": [],
   "source": [
    "gene = features[\"GN-Etl4\"]\n",
    "enh = features[\"INT_STITCHED_746\"];\n",
    "strand(enh) = \"+\";\n",
    "plot_position_pairs( scGRO, gene, enh, dREG );\n",
    "strand(enh) = \"-\"\n",
    "plot_position_pairs( scGRO, gene, enh, dREG );\n",
    "\n",
    "plot_position_table(scGRO, gene, enh);"
   ]
  },
  {
   "cell_type": "code",
   "execution_count": null,
   "id": "8b10e26d-67e0-431d-8878-82adcfdecdd1",
   "metadata": {},
   "outputs": [],
   "source": [
    "gene = features[\"GN-Dnmt3b\"]\n",
    "enh = features[\"INT_STITCHED_1210\"];\n",
    "strand(enh) = \"+\"\n",
    "plot_position_pairs( scGRO, gene, enh, dREG );\n",
    "strand(enh) = \"-\"\n",
    "plot_position_pairs( scGRO, gene, enh, dREG );\n",
    "\n",
    "plot_position_table(scGRO, gene, enh);"
   ]
  },
  {
   "cell_type": "code",
   "execution_count": null,
   "id": "6368fb84-346f-487f-a31d-67376ec818d5",
   "metadata": {},
   "outputs": [],
   "source": [
    "gene = features[\"GN-Cbfa2t2\"]\n",
    "enh = features[\"INT_STITCHED_1210\"];\n",
    "strand(enh) = \"+\"\n",
    "plot_position_pairs( scGRO, gene, enh, dREG );\n",
    "strand(enh) = \"-\"\n",
    "plot_position_pairs( scGRO, gene, enh, dREG );\t\n",
    "\n",
    "plot_position_table(scGRO, gene, enh);"
   ]
  },
  {
   "cell_type": "code",
   "execution_count": null,
   "id": "b4181e08-da0f-4739-81aa-41e7d4c0c676",
   "metadata": {},
   "outputs": [],
   "source": [
    "gene = features[\"GN-Gar1\"]\n",
    "enh = features[\"INT_STITCHED_1732\"];\n",
    "strand(enh) = \"+\"\n",
    "plot_position_pairs( scGRO, gene, enh, dREG );\n",
    "strand(enh) = \"-\"\n",
    "plot_position_pairs( scGRO, gene, enh, dREG );\t\n",
    "\n",
    "plot_position_table(scGRO, gene, enh);"
   ]
  },
  {
   "cell_type": "code",
   "execution_count": null,
   "id": "6cdf62d7-7e58-4a61-9cd2-0437794eb8c7",
   "metadata": {},
   "outputs": [],
   "source": [
    "gene = features[\"GN-Rad23b\"]\n",
    "enh = features[\"INT_STITCHED_1973\"];\n",
    "strand(enh) = \"+\"\n",
    "plot_position_pairs( scGRO, gene, enh, dREG );\n",
    "strand(enh) = \"-\"\n",
    "plot_position_pairs( scGRO, gene, enh, dREG );\n",
    "\n",
    "plot_position_table(scGRO, gene, enh);"
   ]
  },
  {
   "cell_type": "code",
   "execution_count": null,
   "id": "5cb8deb1-4e27-4ead-9e39-a950142477cb",
   "metadata": {},
   "outputs": [],
   "source": [
    "gene = features[\"GN-Rcc2\"]\n",
    "enh = features[\"INT_STITCHED_2292\"];\n",
    "strand(enh) = \"+\"\n",
    "plot_position_pairs( scGRO, gene, enh, dREG );\n",
    "strand(enh) = \"-\"\n",
    "plot_position_pairs( scGRO, gene, enh, dREG );\n",
    "\n",
    "plot_position_table(scGRO, gene, enh);"
   ]
  },
  {
   "cell_type": "code",
   "execution_count": null,
   "id": "4c8d5451-35e4-4c3b-a3e2-a3e90930b924",
   "metadata": {},
   "outputs": [],
   "source": [
    "gene = features[\"GN-Kazn\"]\n",
    "enh = features[\"INT_STITCHED_2292\"];\n",
    "strand(enh) = \"+\"\n",
    "plot_position_pairs( scGRO, gene, enh, dREG );\n",
    "strand(enh) = \"-\"\n",
    "plot_position_pairs( scGRO, gene, enh, dREG );\n",
    "\n",
    "plot_position_table(scGRO, gene, enh);"
   ]
  },
  {
   "cell_type": "code",
   "execution_count": null,
   "id": "fa4330f6-7cb3-4764-945b-5f6c91a874ae",
   "metadata": {},
   "outputs": [],
   "source": [
    "gene = features[\"GN-Med13l\"]\n",
    "enh = features[\"INT_STITCHED_2745\"];\n",
    "strand(enh) = \"+\"\n",
    "plot_position_pairs( scGRO, gene, enh, dREG );\n",
    "strand(enh) = \"-\"\t\n",
    "plot_position_pairs( scGRO, gene, enh, dREG );\n",
    "\n",
    "plot_position_table(scGRO, gene, enh);"
   ]
  },
  {
   "cell_type": "code",
   "execution_count": null,
   "id": "49981197-dd10-435f-a494-d74a3c8a925d",
   "metadata": {},
   "outputs": [],
   "source": [
    "gene = features[\"GN-Pml\"]\n",
    "enh = features[\"INT_STITCHED_4555\"];\n",
    "strand(enh) = \"+\"\n",
    "plot_position_pairs( scGRO, gene, enh, dREG );\n",
    "strand(enh) = \"-\"\n",
    "plot_position_pairs( scGRO, gene, enh, dREG );\n",
    "\n",
    "plot_position_table(scGRO, gene, enh);"
   ]
  },
  {
   "cell_type": "code",
   "execution_count": null,
   "id": "79ea6e29-49fd-48b4-a467-e4e1cd5970c5",
   "metadata": {},
   "outputs": [],
   "source": [
    "gene = features[\"GN-Gclc\"]\n",
    "enh = features[\"INT_STITCHED_4657\"];\n",
    "strand(enh) = \"+\"\n",
    "plot_position_pairs( scGRO, gene, enh, dREG );\n",
    "strand(enh) = \"-\"\n",
    "plot_position_pairs( scGRO, gene, enh, dREG );\n",
    "\n",
    "plot_position_table(scGRO, gene, enh);"
   ]
  },
  {
   "cell_type": "code",
   "execution_count": null,
   "id": "776b86a0-c46f-48c7-a833-0a9b5e403106",
   "metadata": {},
   "outputs": [],
   "source": [
    "gene = features[\"GN-Ooep\"]\n",
    "enh = features[\"INT_STITCHED_4657\"];\n",
    "strand(enh) = \"+\"\n",
    "plot_position_pairs( scGRO, gene, enh, dREG );\n",
    "strand(enh) = \"-\"\n",
    "plot_position_pairs( scGRO, gene, enh, dREG );\n",
    "\n",
    "plot_position_table(scGRO, gene, enh);"
   ]
  },
  {
   "cell_type": "code",
   "execution_count": null,
   "id": "16d72d55-e019-487e-aea0-08d5564f876f",
   "metadata": {},
   "outputs": [],
   "source": [
    "gene = features[\"GN-Gtf3c6\"]\n",
    "enh = features[\"INT_STITCHED_4954\"];\n",
    "strand(enh) = \"+\"\n",
    "plot_position_pairs( scGRO, gene, enh, dREG );\n",
    "strand(enh) = \"-\"\n",
    "plot_position_pairs( scGRO, gene, enh, dREG );\n",
    "\n",
    "plot_position_table(scGRO, gene, enh);"
   ]
  },
  {
   "cell_type": "code",
   "execution_count": null,
   "id": "b2ad01ef-9836-4c32-b2b6-26239bf516b8",
   "metadata": {},
   "outputs": [],
   "source": [
    "gene = features[\"GN-Herc4\"]\n",
    "enh = features[\"INT_STITCHED_5044\"];\n",
    "strand(enh) = \"+\"\n",
    "plot_position_pairs( scGRO, gene, enh, dREG );\n",
    "strand(enh) = \"-\"\n",
    "plot_position_pairs( scGRO, gene, enh, dREG );\n",
    "\n",
    "plot_position_table(scGRO, gene, enh);"
   ]
  },
  {
   "cell_type": "code",
   "execution_count": null,
   "id": "51072f5c-6801-4dab-b52b-efe97eeb9b3b",
   "metadata": {},
   "outputs": [],
   "source": [
    "gene = features[\"GN-Hnrnph3\"]\n",
    "enh = features[\"INT_STITCHED_5044\"];\n",
    "strand(enh) = \"+\"\n",
    "plot_position_pairs( scGRO, gene, enh, dREG );\n",
    "strand(enh) = \"-\"\n",
    "plot_position_pairs( scGRO, gene, enh, dREG );\n",
    "\n",
    "plot_position_table(scGRO, gene, enh);"
   ]
  },
  {
   "cell_type": "code",
   "execution_count": null,
   "id": "9af2d44f-6634-4113-9e44-f7a39e02d81f",
   "metadata": {},
   "outputs": [],
   "source": [
    "gene = features[\"GN-Epn2\"]\n",
    "enh = features[\"INT_STITCHED_5533\"];\n",
    "strand(enh) = \"+\"\n",
    "plot_position_pairs( scGRO, gene, enh, dREG );\n",
    "strand(enh) = \"-\"\n",
    "plot_position_pairs( scGRO, gene, enh, dREG );\n",
    "\n",
    "plot_position_table(scGRO, gene, enh);"
   ]
  },
  {
   "cell_type": "code",
   "execution_count": null,
   "id": "d8b96ccf-5b3f-4f21-9385-8ed2a0cb08d2",
   "metadata": {},
   "outputs": [],
   "source": [
    "gene = features[\"GN-LOC108167924\"]\n",
    "enh = features[\"INT_STITCHED_5711\"];\n",
    "strand(enh) = \"+\"\n",
    "plot_position_pairs( scGRO, gene, enh, dREG );\n",
    "strand(enh) = \"-\"\n",
    "plot_position_pairs( scGRO, gene, enh, dREG );\n",
    "\n",
    "plot_position_table(scGRO, gene, enh);"
   ]
  },
  {
   "cell_type": "code",
   "execution_count": null,
   "id": "23379f25-1aee-49e0-b5ba-124b841c3342",
   "metadata": {},
   "outputs": [],
   "source": [
    "gene = features[\"GN-Ddx24\"]\n",
    "enh = features[\"INT_STITCHED_6151\"];\n",
    "strand(enh) = \"+\"\n",
    "plot_position_pairs( scGRO, gene, enh, dREG );\n",
    "strand(enh) = \"-\"\n",
    "plot_position_pairs( scGRO, gene, enh, dREG );\n",
    "\n",
    "plot_position_table(scGRO, gene, enh);"
   ]
  },
  {
   "cell_type": "code",
   "execution_count": null,
   "id": "e9ea4d2a-5ab1-4024-b20a-aaab87bf8e38",
   "metadata": {},
   "outputs": [],
   "source": [
    "gene = features[\"GN-Ptch1\"]\n",
    "enh = features[\"INT_STITCHED_6460\"];\n",
    "strand(enh) = \"+\"\n",
    "plot_position_pairs( scGRO, gene, enh, dREG );\n",
    "strand(enh) = \"-\"\n",
    "plot_position_pairs( scGRO, gene, enh, dREG );\n",
    "\n",
    "plot_position_table(scGRO, gene, enh);"
   ]
  },
  {
   "cell_type": "code",
   "execution_count": null,
   "id": "38dc89f7-ae0e-4d2d-b3ad-77af4819a36c",
   "metadata": {},
   "outputs": [],
   "source": [
    "gene = features[\"GN-Ctsl\"]\n",
    "enh = features[\"INT_STITCHED_6460\"];\n",
    "strand(enh) = \"+\"\n",
    "plot_position_pairs( scGRO, gene, enh, dREG );\n",
    "strand(enh) = \"-\"\n",
    "plot_position_pairs( scGRO, gene, enh, dREG );\n",
    "\n",
    "plot_position_table(scGRO, gene, enh);"
   ]
  },
  {
   "cell_type": "code",
   "execution_count": null,
   "id": "c6283e79-697c-414a-84cd-bd1971d2f9ea",
   "metadata": {},
   "outputs": [],
   "source": [
    "gene = features[\"GN-Basp1\"]\n",
    "enh = features[\"INT_STITCHED_7104\"];\n",
    "strand(enh) = \"+\"\n",
    "plot_position_pairs( scGRO, gene, enh, dREG );\n",
    "strand(enh) = \"-\"\n",
    "plot_position_pairs( scGRO, gene, enh, dREG );\n",
    "\n",
    "plot_position_table(scGRO, gene, enh);"
   ]
  },
  {
   "cell_type": "code",
   "execution_count": null,
   "id": "41aa5d60-f922-414d-95b8-bd317b4b1602",
   "metadata": {},
   "outputs": [],
   "source": [
    "gene = features[\"GN-Myo10\"]\n",
    "enh = features[\"INT_STITCHED_7104_2\"];\n",
    "strand(enh) = \"+\"\n",
    "plot_position_pairs( scGRO, gene, enh, dREG );\n",
    "strand(enh) = \"-\"\n",
    "plot_position_pairs( scGRO, gene, enh, dREG );\n",
    "\n",
    "plot_position_table(scGRO, gene, enh);"
   ]
  },
  {
   "cell_type": "code",
   "execution_count": null,
   "id": "fda81591-8c00-4a89-95f5-2a79de58715c",
   "metadata": {},
   "outputs": [],
   "source": [
    "gene = features[\"GN-Usp7\"]\n",
    "enh = features[\"INT_STITCHED_7359\"];\n",
    "strand(enh) = \"+\"\n",
    "plot_position_pairs( scGRO, gene, enh, dREG );\n",
    "strand(enh) = \"-\"\n",
    "plot_position_pairs( scGRO, gene, enh, dREG );\n",
    "\n",
    "plot_position_table(scGRO, gene, enh);"
   ]
  },
  {
   "cell_type": "code",
   "execution_count": null,
   "id": "e831613f-c0d9-4b5c-839b-4ec6ef83f028",
   "metadata": {},
   "outputs": [],
   "source": [
    "gene = features[\"GN-H2-M5\"]\n",
    "enh = features[\"INT_STITCHED_7792\"];\n",
    "strand(enh) = \"+\"\n",
    "plot_position_pairs( scGRO, gene, enh, dREG );\n",
    "strand(enh) = \"-\"\n",
    "plot_position_pairs( scGRO, gene, enh, dREG );\n",
    "\n",
    "plot_position_table(scGRO, gene, enh);"
   ]
  },
  {
   "cell_type": "code",
   "execution_count": null,
   "id": "dde55ef7-ff6e-4637-b707-6d9f93f845e6",
   "metadata": {},
   "outputs": [],
   "source": [
    "gene = features[\"GN-Wdr43\"]\n",
    "enh = features[\"INT_STITCHED_7884\"];\n",
    "strand(enh) = \"+\"\n",
    "plot_position_pairs( scGRO, gene, enh, dREG );\n",
    "strand(enh) = \"-\"\n",
    "plot_position_pairs( scGRO, gene, enh, dREG );\n",
    "\n",
    "plot_position_table(scGRO, gene, enh);"
   ]
  },
  {
   "cell_type": "code",
   "execution_count": null,
   "id": "fd74220f-66a8-4587-a6ef-e6ac40ea6bee",
   "metadata": {},
   "outputs": [],
   "source": [
    "gene = features[\"GN-Myl12a\"]\n",
    "enh = features[\"INT_STITCHED_7884\"];\n",
    "strand(enh) = \"+\"\n",
    "plot_position_pairs( scGRO, gene, enh, dREG );\n",
    "strand(enh) = \"-\"\n",
    "plot_position_pairs( scGRO, gene, enh, dREG );\n",
    "\n",
    "plot_position_table(scGRO, gene, enh);"
   ]
  },
  {
   "cell_type": "code",
   "execution_count": null,
   "id": "3ea2e438-416f-4af1-b932-f108706797fe",
   "metadata": {},
   "outputs": [],
   "source": []
  },
  {
   "cell_type": "raw",
   "id": "a27f1eab-1cc8-424e-986d-28a2bbbb486f",
   "metadata": {},
   "source": [
    "SEcorr = chr_corr %>%\n",
    "    filter( Gene %in% query_SE & Enhancer %in% query_SE ) %>%\n",
    "    filter( emp_p_pos < 0.05 & distance <= 100000 ) %>%\n",
    "    filter(pGene >= 0.025 & pEnh >= 0.025 )#; %>%\n",
    "\n",
    "Gene\tEnhancer\tpGene\tpEnh\texpCotrans\tobsCotrans\tchisq\temp_p_pos\temp_p_neg\tgeneLength\tenhsLength\tgeneStrand\tenhsStrand\tdistance\n",
    "GN-Nr5a2\tINT_STITCHED_466\t0.05177627\t0.05215420\t0.002700349\t0.019652305\t0.106419118\t0.000\t1.000\t10000\t9328\t-\t*\t4524\n",
    "GN-Aldh9a1\tINT_STITCHED_559\t0.04761905\t0.11111111\t0.005291005\t0.012093726\t0.008746356\t0.002\t0.998\t10000\t7615\t+\t*\t82953\n",
    "GN-Sde2\tINT_STITCHED_611\t0.04081633\t0.03061224\t0.001249479\t0.003779289\t0.005122085\t0.021\t0.979\t10000\t10397\t+\t*\t73212\n",
    "GN-Etl4\tINT_STITCHED_746\t0.06727135\t0.14436886\t0.009711888\t0.019652305\t0.010174323\t0.000\t1.000\t10000\t25279\t+\t*\t87622\n",
    "GN-Gpr107\tINT_STITCHED_803\t0.02910053\t0.05555556\t0.001616696\t0.004913076\t0.006721191\t0.004\t0.996\t10000\t12043\t+\t*\t94577\n",
    "GN-Csnk2a1\tINT_STITCHED_1196\t0.05177627\t0.04913076\t0.002543807\t0.006424792\t0.005921062\t0.008\t0.992\t10000\t6803\t+\t*\t51180\n",
    "GN-Cbfa2t2\tINT_STITCHED_1210\t0.08578987\t0.05177627\t0.004441879\t0.010959940\t0.009564670\t0.002\t0.998\t10000\t13465\t+\t*\t20294\n",
    "GN-Gm39962\tINT_STITCHED_1210\t0.03099017\t0.05177627\t0.001604555\t0.022675737\t0.276708841\t0.000\t1.000\t10000\t13465\t-\t*\t5161\n",
    "GN-Gm14261\tINT_STITCHED_1300\t0.02532124\t0.05706727\t0.001445014\t0.015495087\t0.136610815\t0.000\t1.000\t10000\t24445\t+\t*\t2941\n",
    "GN-Trim33\tINT_STITCHED_1658\t0.04648526\t0.02569917\t0.001194633\t0.003779289\t0.005592055\t0.006\t0.994\t10000\t10755\t+\t*\t74910\n",
    "GN-Slc37a3\tINT_STITCHED_3045\t0.03741497\t0.03212396\t0.001201917\t0.003401361\t0.004024864\t0.043\t0.957\t10000\t8611\t-\t*\t63946\n",
    "GN-Nanog\tINT_STITCHED_3348\t0.05933485\t0.03325775\t0.001973343\t0.010582011\t0.037555124\t0.000\t1.000\t10000\t17754\t+\t*\t17463\n",
    "GN-Etnk1\tINT_STITCHED_3437\t0.06386999\t0.03325775\t0.002124172\t0.005291005\t0.004721290\t0.032\t0.968\t10000\t15957\t+\t*\t65582\n",
    "GN-Pml\tINT_STITCHED_4555\t0.09183673\t0.05177627\t0.004754963\t0.010204082\t0.006244610\t0.015\t0.985\t10000\t12081\t-\t*\t21904\n",
    "GN-Ooep\tINT_STITCHED_4657\t0.05593348\t0.06764928\t0.003783860\t0.023053666\t0.098134025\t0.000\t1.000\t10000\t14043\t-\t*\t19251\n",
    "GN-Rnu3a\tINT_STITCHED_4954\t0.62055933\t0.72637944\t0.450761543\t0.619425548\t0.063109968\t0.000\t1.000\t4975\t853\t+\t*\t480\n",
    "GN-2410006H16Rik\tINT_STITCHED_5533\t0.03930461\t0.05668934\t0.002228153\t0.005291005\t0.004210245\t0.037\t0.963\t10000\t6155\t+\t*\t93980\n",
    "GN-E130012A19Rik\tINT_STITCHED_5711\t0.04006047\t0.07105064\t0.002846322\t0.008314437\t0.010504883\t0.002\t0.998\t7417\t6487\t-\t*\t26642\n",
    "GN-LOC108167924\tINT_STITCHED_5711\t0.06160242\t0.07105064\t0.004376891\t0.047619048\t0.427217376\t0.000\t1.000\t10000\t6487\t-\t*\t4039\n",
    "GN-Rara\tINT_STITCHED_5719\t0.02721088\t0.04383976\t0.001192919\t0.004535147\t0.009364003\t0.002\t0.998\t10000\t6794\t+\t*\t5948\n",
    "GN-Mapt\tINT_STITCHED_5752\t0.03061224\t0.05442177\t0.001665973\t0.011715797\t0.060624638\t0.000\t1.000\t10000\t14603\t+\t*\t11145\n",
    "GN-Ppp2r5c\tINT_STITCHED_6188_2\t0.03779289\t0.05857899\t0.002213870\t0.005291005\t0.004277020\t0.046\t0.954\t10000\t7795\t+\t*\t6714\n",
    "GN-LOC102638940\tINT_STITCHED_6188_2\t0.04421769\t0.05857899\t0.002590227\t0.036659108\t0.448103001\t0.000\t1.000\t10000\t7795\t-\t*\t6632\n",
    "GN-Ppp2r5c\tINT_STITCHED_6188\t0.03779289\t0.05442177\t0.002056756\t0.005668934\t0.006343888\t0.010\t0.990\t10000\t10256\t+\t*\t11287\n",
    "GN-Gm30363\tINT_STITCHED_6709\t0.03174603\t0.13983371\t0.004439165\t0.023809524\t0.084522821\t0.000\t1.000\t10000\t9670\t-\t*\t4391\n",
    "GN-Dmtn\tINT_STITCHED_6887\t0.03212396\t0.04157218\t0.001335463\t0.009826153\t0.053982623\t0.000\t1.000\t10000\t9364\t-\t*\t2697\n",
    "GN-Tsc22d1\tINT_STITCHED_6904\t0.03476946\t0.05177627\t0.001800233\t0.034013605\t0.576426148\t0.000\t1.000\t10000\t10591\t+\t*\t5024\n",
    "GN-Myo10\tINT_STITCHED_7104_2\t0.08163265\t0.08767952\t0.007157512\t0.035903250\t0.115447595\t0.000\t1.000\t10000\t10035\t+\t*\t6417\n",
    "GN-Usp7\tINT_STITCHED_7359\t0.07936508\t0.11602419\t0.009208269\t0.016628874\t0.005979992\t0.041\t0.959\t10000\t11985\t-\t*\t29694\n",
    "GN-H2-M5\tINT_STITCHED_7792\t0.05139834\t0.07369615\t0.003787859\t0.027966742\t0.154340046\t0.000\t1.000\t8167\t13848\t-\t*\t3732\n",
    "GN-Rab12\tINT_STITCHED_7876_2\t0.03590325\t0.09448224\t0.003392219\t0.007558579\t0.005117167\t0.039\t0.961\t10000\t10118\t-\t*\t42871\n",
    "GN-Gm36856\tINT_STITCHED_7887\t0.03061224\t0.05479970\t0.001677542\t0.007558579\t0.020617429\t0.000\t1.000\t10000\t11863\t+\t*\t9416\n",
    "GN-Gm20544\tINT_STITCHED_8261\t0.02721088\t0.04497354\t0.001223770\t0.026832955\t0.535909867\t0.000\t1.000"
   ]
  },
  {
   "cell_type": "code",
   "execution_count": null,
   "id": "b811fb1f-c65a-4613-ad8f-861f66e9b45a",
   "metadata": {},
   "outputs": [],
   "source": [
    "gene = features[\"GN-Nr5a2\"]\n",
    "enh = features[\"INT_STITCHED_466\"];\n",
    "strand(enh) = \"+\"\n",
    "plot_position_pairs( scGRO, gene, enh, dREG );\n",
    "strand(enh) = \"-\"\n",
    "plot_position_pairs( scGRO, gene, enh, dREG );\n",
    "\n",
    "plot_position_table(scGRO, gene, enh);"
   ]
  },
  {
   "cell_type": "code",
   "execution_count": null,
   "id": "fc410a79-1428-48e0-804c-7f4116ba5fd0",
   "metadata": {},
   "outputs": [],
   "source": [
    "gene = features[\"GN-Aldh9a1\"]\n",
    "enh = features[\"INT_STITCHED_559\"];\n",
    "strand(enh) = \"+\"\n",
    "plot_position_pairs( scGRO, gene, enh, dREG );\n",
    "strand(enh) = \"-\"\n",
    "plot_position_pairs( scGRO, gene, enh, dREG );\n",
    "\n",
    "plot_position_table(scGRO, gene, enh);"
   ]
  },
  {
   "cell_type": "code",
   "execution_count": null,
   "id": "8c2623b5-a165-4774-b769-1adb22b8c5c2",
   "metadata": {},
   "outputs": [],
   "source": [
    "gene = features[\"GN-Sde2\"]\n",
    "enh = features[\"INT_STITCHED_611\"];\n",
    "strand(enh) = \"+\"\n",
    "plot_position_pairs( scGRO, gene, enh, dREG );\n",
    "strand(enh) = \"-\"\n",
    "plot_position_pairs( scGRO, gene, enh, dREG );\n",
    "\n",
    "plot_position_table(scGRO, gene, enh);"
   ]
  },
  {
   "cell_type": "code",
   "execution_count": null,
   "id": "327f76eb-4e38-4169-8b5b-48ecee80bc32",
   "metadata": {},
   "outputs": [],
   "source": [
    "gene = features[\"GN-Etl4\"]\n",
    "enh = features[\"INT_STITCHED_746\"];\n",
    "strand(enh) = \"+\"\n",
    "plot_position_pairs( scGRO, gene, enh, dREG );\n",
    "strand(enh) = \"-\"\n",
    "plot_position_pairs( scGRO, gene, enh, dREG );\n",
    "\n",
    "plot_position_table(scGRO, gene, enh);"
   ]
  },
  {
   "cell_type": "code",
   "execution_count": null,
   "id": "13579ebe-465b-482a-aaff-acbcae270a44",
   "metadata": {},
   "outputs": [],
   "source": [
    "gene = features[\"GN-Gpr107\"]\n",
    "enh = features[\"INT_STITCHED_803\"];\n",
    "strand(enh) = \"+\"\n",
    "plot_position_pairs( scGRO, gene, enh, dREG );\n",
    "strand(enh) = \"-\"\n",
    "plot_position_pairs( scGRO, gene, enh, dREG );\n",
    "\n",
    "plot_position_table(scGRO, gene, enh);"
   ]
  },
  {
   "cell_type": "code",
   "execution_count": null,
   "id": "7dda6739-bc12-4997-8141-1b7afa26ac27",
   "metadata": {},
   "outputs": [],
   "source": [
    "gene = features[\"GN-Csnk2a1\"]\n",
    "enh = features[\"INT_STITCHED_1196\"];\n",
    "strand(enh) = \"+\"\n",
    "plot_position_pairs( scGRO, gene, enh, dREG );\n",
    "strand(enh) = \"-\"\n",
    "plot_position_pairs( scGRO, gene, enh, dREG );\n",
    "\n",
    "plot_position_table(scGRO, gene, enh);"
   ]
  },
  {
   "cell_type": "code",
   "execution_count": null,
   "id": "07c47ef4-ed4e-465a-83ba-a8a887016887",
   "metadata": {},
   "outputs": [],
   "source": [
    "gene = features[\"GN-Cbfa2t2\"]\n",
    "enh = features[\"INT_STITCHED_1210\"];\n",
    "strand(enh) = \"+\"\n",
    "plot_position_pairs( scGRO, gene, enh, dREG );\n",
    "strand(enh) = \"-\"\n",
    "plot_position_pairs( scGRO, gene, enh, dREG );\n",
    "\n",
    "plot_position_table(scGRO, gene, enh);"
   ]
  },
  {
   "cell_type": "code",
   "execution_count": null,
   "id": "d40848c5-1402-4077-8d18-8b13a151c3b4",
   "metadata": {},
   "outputs": [],
   "source": [
    "gene = features[\"GN-Gm39962\"]\n",
    "enh = features[\"INT_STITCHED_1210\"];\n",
    "strand(enh) = \"+\"\n",
    "plot_position_pairs( scGRO, gene, enh, dREG );\n",
    "strand(enh) = \"-\"\n",
    "plot_position_pairs( scGRO, gene, enh, dREG );\n",
    "\n",
    "plot_position_table(scGRO, gene, enh);"
   ]
  },
  {
   "cell_type": "code",
   "execution_count": null,
   "id": "2ec91512-8c93-4125-af90-a11a415cb09e",
   "metadata": {},
   "outputs": [],
   "source": [
    "gene = features[\"GN-Gm14261\"]\n",
    "enh = features[\"INT_STITCHED_1300\"];\n",
    "strand(enh) = \"+\"\n",
    "plot_position_pairs( scGRO, gene, enh, dREG );\n",
    "strand(enh) = \"-\"\n",
    "plot_position_pairs( scGRO, gene, enh, dREG );\n",
    "\n",
    "plot_position_table(scGRO, gene, enh);"
   ]
  },
  {
   "cell_type": "code",
   "execution_count": null,
   "id": "c067157c-e2a8-4b13-bece-8b72623b7037",
   "metadata": {},
   "outputs": [],
   "source": [
    "gene = features[\"GN-Trim33\"]\n",
    "enh = features[\"INT_STITCHED_1658\"];\n",
    "strand(enh) = \"+\"\n",
    "plot_position_pairs( scGRO, gene, enh, dREG );\n",
    "strand(enh) = \"-\"\n",
    "plot_position_pairs( scGRO, gene, enh, dREG );\n",
    "\n",
    "plot_position_table(scGRO, gene, enh);"
   ]
  },
  {
   "cell_type": "code",
   "execution_count": null,
   "id": "69f2113a-4a74-40c5-b3ef-14cb52a4ae0b",
   "metadata": {},
   "outputs": [],
   "source": [
    "gene = features[\"GN-Slc37a3\"]\n",
    "enh = features[\"INT_STITCHED_3045\"];\n",
    "strand(enh) = \"+\"\n",
    "plot_position_pairs( scGRO, gene, enh, dREG );\n",
    "strand(enh) = \"-\"\n",
    "plot_position_pairs( scGRO, gene, enh, dREG );\n",
    "\n",
    "plot_position_table(scGRO, gene, enh);"
   ]
  },
  {
   "cell_type": "code",
   "execution_count": null,
   "id": "8cb20810-a829-4e03-a3f5-771570060f01",
   "metadata": {},
   "outputs": [],
   "source": [
    "gene = features[\"GN-Nanog\"]\n",
    "enh = features[\"INT_STITCHED_3348\"];\n",
    "strand(enh) = \"+\"\n",
    "plot_position_pairs( scGRO, gene, enh, dREG );\n",
    "strand(enh) = \"-\"\n",
    "plot_position_pairs( scGRO, gene, enh, dREG );\n",
    "\n",
    "plot_position_table(scGRO, gene, enh);"
   ]
  },
  {
   "cell_type": "code",
   "execution_count": null,
   "id": "3af7c046-721c-471e-ae99-0d366a180bf4",
   "metadata": {},
   "outputs": [],
   "source": [
    "gene = features[\"GN-Etnk1\"]\n",
    "enh = features[\"INT_STITCHED_3437\"];\n",
    "strand(enh) = \"+\"\n",
    "plot_position_pairs( scGRO, gene, enh, dREG );\n",
    "strand(enh) = \"-\"\n",
    "plot_position_pairs( scGRO, gene, enh, dREG );\n",
    "\n",
    "plot_position_table(scGRO, gene, enh);"
   ]
  },
  {
   "cell_type": "code",
   "execution_count": null,
   "id": "6c4d5418-e498-4362-94f0-ae11094cff4b",
   "metadata": {},
   "outputs": [],
   "source": [
    "gene = features[\"GN-Pml\"]\n",
    "enh = features[\"INT_STITCHED_4555\"];\n",
    "strand(enh) = \"+\"\n",
    "plot_position_pairs( scGRO, gene, enh, dREG );\n",
    "strand(enh) = \"-\"\n",
    "plot_position_pairs( scGRO, gene, enh, dREG );\n",
    "\n",
    "plot_position_table(scGRO, gene, enh);"
   ]
  },
  {
   "cell_type": "code",
   "execution_count": null,
   "id": "66831b9e-a46b-4e8f-bf3f-d1ed9e409e1c",
   "metadata": {},
   "outputs": [],
   "source": [
    "gene = features[\"GN-Ooep\"]\n",
    "enh = features[\"INT_STITCHED_4657\"];\n",
    "strand(enh) = \"+\"\n",
    "plot_position_pairs( scGRO, gene, enh, dREG );\n",
    "strand(enh) = \"-\"\n",
    "plot_position_pairs( scGRO, gene, enh, dREG );\n",
    "\n",
    "plot_position_table(scGRO, gene, enh);"
   ]
  },
  {
   "cell_type": "code",
   "execution_count": null,
   "id": "ad9f7be1-0874-455d-80e3-a28faf36bcb1",
   "metadata": {},
   "outputs": [],
   "source": [
    "gene = features[\"GN-Rnu3a\"]\n",
    "enh = features[\"INT_STITCHED_4954\"];\n",
    "strand(enh) = \"+\"\n",
    "plot_position_pairs( scGRO, gene, enh, dREG );\n",
    "strand(enh) = \"-\"\n",
    "plot_position_pairs( scGRO, gene, enh, dREG );\n",
    "\n",
    "plot_position_table(scGRO, gene, enh);"
   ]
  },
  {
   "cell_type": "code",
   "execution_count": null,
   "id": "2f090ea4-c220-45bb-8eca-3f56873b006e",
   "metadata": {},
   "outputs": [],
   "source": [
    "gene = features[\"GN-2410006H16Rik\"]\n",
    "enh = features[\"INT_STITCHED_5533\"];\n",
    "strand(enh) = \"+\"\n",
    "plot_position_pairs( scGRO, gene, enh, dREG );\n",
    "strand(enh) = \"-\"\n",
    "plot_position_pairs( scGRO, gene, enh, dREG );\n",
    "\n",
    "plot_position_table(scGRO, gene, enh);"
   ]
  },
  {
   "cell_type": "code",
   "execution_count": null,
   "id": "ff817416-b582-48a0-8e88-37bd58f4bef3",
   "metadata": {},
   "outputs": [],
   "source": [
    "gene = features[\"GN-E130012A19Rik\"]\n",
    "enh = features[\"INT_STITCHED_5711\"];\n",
    "strand(enh) = \"+\"\n",
    "plot_position_pairs( scGRO, gene, enh, dREG );\n",
    "strand(enh) = \"-\"\n",
    "plot_position_pairs( scGRO, gene, enh, dREG );\n",
    "\n",
    "plot_position_table(scGRO, gene, enh);"
   ]
  },
  {
   "cell_type": "code",
   "execution_count": null,
   "id": "f859e589-1701-4404-81db-991bc5ee25c1",
   "metadata": {},
   "outputs": [],
   "source": [
    "gene = features[\"GN-LOC108167924\"]\n",
    "enh = features[\"INT_STITCHED_5711\"];\n",
    "strand(enh) = \"+\"\n",
    "plot_position_pairs( scGRO, gene, enh, dREG );\n",
    "strand(enh) = \"-\"\n",
    "plot_position_pairs( scGRO, gene, enh, dREG );\n",
    "\n",
    "plot_position_table(scGRO, gene, enh);"
   ]
  },
  {
   "cell_type": "code",
   "execution_count": null,
   "id": "6c900e33-0c3b-49f0-9223-3b41b9b9b02f",
   "metadata": {},
   "outputs": [],
   "source": [
    "gene = features[\"GN-Rara\"]\n",
    "enh = features[\"INT_STITCHED_5719\"];\n",
    "strand(enh) = \"+\"\n",
    "plot_position_pairs( scGRO, gene, enh, dREG );\n",
    "strand(enh) = \"-\"\n",
    "plot_position_pairs( scGRO, gene, enh, dREG );\n",
    "\n",
    "plot_position_table(scGRO, gene, enh);"
   ]
  },
  {
   "cell_type": "code",
   "execution_count": null,
   "id": "e98048fe-88d6-4571-a804-c0ea62f67980",
   "metadata": {},
   "outputs": [],
   "source": [
    "gene = features[\"GN-Mapt\"]\n",
    "enh = features[\"INT_STITCHED_5752\"];\n",
    "strand(enh) = \"+\"\n",
    "plot_position_pairs( scGRO, gene, enh, dREG );\n",
    "strand(enh) = \"-\"\n",
    "plot_position_pairs( scGRO, gene, enh, dREG );\n",
    "\n",
    "plot_position_table(scGRO, gene, enh);"
   ]
  },
  {
   "cell_type": "code",
   "execution_count": null,
   "id": "e89c59e9-115c-4d5d-901a-c165e4ec7634",
   "metadata": {},
   "outputs": [],
   "source": [
    "gene = features[\"GN-Ppp2r5c\"]\n",
    "enh = features[\"INT_STITCHED_6188_2\"];\n",
    "strand(enh) = \"+\"\n",
    "plot_position_pairs( scGRO, gene, enh, dREG );\n",
    "strand(enh) = \"-\"\n",
    "plot_position_pairs( scGRO, gene, enh, dREG );\n",
    "\n",
    "plot_position_table(scGRO, gene, enh);"
   ]
  },
  {
   "cell_type": "code",
   "execution_count": null,
   "id": "afb772c6-34aa-43ff-88fc-95fefef3ccec",
   "metadata": {},
   "outputs": [],
   "source": [
    "gene = features[\"GN-LOC102638940\"]\n",
    "enh = features[\"INT_STITCHED_6188_2\"];\n",
    "strand(enh) = \"+\"\n",
    "plot_position_pairs( scGRO, gene, enh, dREG );\n",
    "strand(enh) = \"-\"\n",
    "plot_position_pairs( scGRO, gene, enh, dREG );\n",
    "\n",
    "plot_position_table(scGRO, gene, enh);"
   ]
  },
  {
   "cell_type": "code",
   "execution_count": null,
   "id": "00f81f8f-20e6-4341-9dbd-e1df3c1f48c5",
   "metadata": {},
   "outputs": [],
   "source": [
    "gene = features[\"GN-Ppp2r5c\"]\n",
    "enh = features[\"INT_STITCHED_6188\"];\n",
    "strand(enh) = \"+\"\n",
    "plot_position_pairs( scGRO, gene, enh, dREG );\n",
    "strand(enh) = \"-\"\n",
    "plot_position_pairs( scGRO, gene, enh, dREG );\n",
    "\n",
    "plot_position_table(scGRO, gene, enh);"
   ]
  },
  {
   "cell_type": "code",
   "execution_count": null,
   "id": "4975fabc-e549-4da5-932c-523a94a84462",
   "metadata": {},
   "outputs": [],
   "source": [
    "gene = features[\"GN-Gm30363\"]\n",
    "enh = features[\"INT_STITCHED_6709\"];\n",
    "strand(enh) = \"+\"\n",
    "plot_position_pairs( scGRO, gene, enh, dREG );\n",
    "strand(enh) = \"-\"\n",
    "plot_position_pairs( scGRO, gene, enh, dREG );\n",
    "\n",
    "plot_position_table(scGRO, gene, enh);"
   ]
  },
  {
   "cell_type": "code",
   "execution_count": null,
   "id": "61042212-4d74-460e-8bdf-fedb3ffb4f51",
   "metadata": {},
   "outputs": [],
   "source": [
    "gene = features[\"GN-Dmtn\"]\n",
    "enh = features[\"INT_STITCHED_6887\"];\n",
    "strand(enh) = \"+\"\n",
    "plot_position_pairs( scGRO, gene, enh, dREG );\n",
    "strand(enh) = \"-\"\n",
    "plot_position_pairs( scGRO, gene, enh, dREG );\n",
    "\n",
    "plot_position_table(scGRO, gene, enh);"
   ]
  },
  {
   "cell_type": "code",
   "execution_count": null,
   "id": "3e011da9-0d2f-424c-9e36-10344c13b533",
   "metadata": {},
   "outputs": [],
   "source": [
    "gene = features[\"GN-Tsc22d1\"]\n",
    "enh = features[\"INT_STITCHED_6904\"];\n",
    "strand(enh) = \"+\"\n",
    "plot_position_pairs( scGRO, gene, enh, dREG );\n",
    "strand(enh) = \"-\"\n",
    "plot_position_pairs( scGRO, gene, enh, dREG );\n",
    "\n",
    "plot_position_table(scGRO, gene, enh);"
   ]
  },
  {
   "cell_type": "code",
   "execution_count": null,
   "id": "b1924411-4d8d-4999-a0c3-a4a13619b308",
   "metadata": {},
   "outputs": [],
   "source": [
    "gene = features[\"GN-Myo10\"]\n",
    "enh = features[\"INT_STITCHED_7104_2\"];\n",
    "strand(enh) = \"+\"\n",
    "plot_position_pairs( scGRO, gene, enh, dREG );\n",
    "strand(enh) = \"-\"\n",
    "plot_position_pairs( scGRO, gene, enh, dREG );\n",
    "\n",
    "plot_position_table(scGRO, gene, enh);"
   ]
  },
  {
   "cell_type": "code",
   "execution_count": null,
   "id": "d81731f4-c4ff-4dc3-b3e7-64ba12d58331",
   "metadata": {},
   "outputs": [],
   "source": [
    "gene = features[\"GN-Usp7\"]\n",
    "enh = features[\"INT_STITCHED_7359\"];\n",
    "strand(enh) = \"+\"\n",
    "plot_position_pairs( scGRO, gene, enh, dREG );\n",
    "strand(enh) = \"-\"\n",
    "plot_position_pairs( scGRO, gene, enh, dREG );\n",
    "\n",
    "plot_position_table(scGRO, gene, enh);"
   ]
  },
  {
   "cell_type": "code",
   "execution_count": null,
   "id": "3e11fe9a-5a8b-49b9-810a-73f519efaf1e",
   "metadata": {},
   "outputs": [],
   "source": [
    "gene = features[\"GN-H2-M5\"]\n",
    "enh = features[\"INT_STITCHED_7792\"];\n",
    "strand(enh) = \"+\"\n",
    "plot_position_pairs( scGRO, gene, enh, dREG );\n",
    "strand(enh) = \"-\"\n",
    "plot_position_pairs( scGRO, gene, enh, dREG );\n",
    "\n",
    "plot_position_table(scGRO, gene, enh);"
   ]
  },
  {
   "cell_type": "code",
   "execution_count": null,
   "id": "89f08f3c-6bf8-4f35-8097-4eb724c5623e",
   "metadata": {},
   "outputs": [],
   "source": [
    "gene = features[\"GN-Rab12\"]\n",
    "enh = features[\"INT_STITCHED_7876_2\"];\n",
    "strand(enh) = \"+\"\n",
    "plot_position_pairs( scGRO, gene, enh, dREG );\n",
    "strand(enh) = \"-\"\n",
    "plot_position_pairs( scGRO, gene, enh, dREG );\n",
    "\n",
    "plot_position_table(scGRO, gene, enh);"
   ]
  },
  {
   "cell_type": "code",
   "execution_count": null,
   "id": "840ddbce-0408-48a6-ae01-402a392fd8f0",
   "metadata": {},
   "outputs": [],
   "source": [
    "gene = features[\"GN-Gm36856\"]\n",
    "enh = features[\"INT_STITCHED_7887\"];\n",
    "strand(enh) = \"+\"\n",
    "plot_position_pairs( scGRO, gene, enh, dREG );\n",
    "strand(enh) = \"-\"\n",
    "plot_position_pairs( scGRO, gene, enh, dREG );\n",
    "\n",
    "plot_position_table(scGRO, gene, enh);"
   ]
  },
  {
   "cell_type": "code",
   "execution_count": null,
   "id": "671d62c9-b882-45bb-91d9-106bf785f8e8",
   "metadata": {},
   "outputs": [],
   "source": [
    "gene = features[\"GN-Gm20544\"]\n",
    "enh = features[\"INT_STITCHED_8261\"];\n",
    "strand(enh) = \"+\"\n",
    "plot_position_pairs( scGRO, gene, enh, dREG );\n",
    "strand(enh) = \"-\"\n",
    "plot_position_pairs( scGRO, gene, enh, dREG );\n",
    "\n",
    "plot_position_table(scGRO, gene, enh);"
   ]
  },
  {
   "cell_type": "code",
   "execution_count": null,
   "id": "37eb74d5-cd3f-4258-ada5-6def87aca5a4",
   "metadata": {},
   "outputs": [],
   "source": []
  },
  {
   "cell_type": "raw",
   "id": "50ed071a-97d7-47e8-bc1e-15831657e59a",
   "metadata": {},
   "source": [
    "## SE assigned genes by the original paper:\n",
    "SEcorr = chr_corr %>%\n",
    "    filter( Gene %in% query_SE & Enhancer %in% query_SE ) %>%\n",
    "    filter( emp_p_pos < 0.05 & distance <= 1000000 ) %>%\n",
    "    filter(pGene >= 0.01 & pEnh >= 0.01 )\n",
    "\n",
    "Gene\tEnhancer\tpGene\tpEnh\texpCotrans\tobsCotrans\tchisq\temp_p_pos\temp_p_neg\tgeneLength\tenhsLength\tgeneStrand\tenhsStrand\tdistance\n",
    "<chr>\t<chr>\t<dbl>\t<dbl>\t<dbl>\t<dbl>\t<dbl>\t<dbl>\t<dbl>\t<int>\t<int>\t<chr>\t<chr>\t<int>\n",
    "GN-Dst\tINT_STITCHED_88\t0.02229781\t0.03136810\t0.0006994399\t0.007936508\t0.074881560\t0.000\t1.000\t10000\t4534\t+\t*\t3866\n",
    "GN-Nr5a2\tINT_STITCHED_466\t0.05177627\t0.05215420\t0.0027003495\t0.019652305\t0.106419118\t0.000\t1.000\t10000\t9328\t-\t*\t4524\n",
    "GN-Etl4\tINT_STITCHED_746\t0.06727135\t0.14436886\t0.0097118885\t0.019652305\t0.010174323\t0.000\t1.000\t10000\t25279\t+\t*\t87622\n",
    "GN-Cbfa2t2\tINT_STITCHED_1210\t0.08578987\t0.05177627\t0.0044418792\t0.010959940\t0.009564670\t0.002\t0.998\t10000\t13465\t+\t*\t20294\n",
    "GN-Zfp704\tINT_STITCHED_1392\t0.04610733\t0.01058201\t0.0004879083\t0.001889645\t0.004027120\t0.026\t0.974\t10000\t10001\t-\t*\t29002\n",
    "GN-B330016D10Rik\tINT_STITCHED_2291\t0.02040816\t0.09561602\t0.0019513474\t0.004535147\t0.003421237\t0.049\t0.951\t6789\t29312\t+\t*\t276502\n",
    "GN-Kazn\tINT_STITCHED_2292\t0.05442177\t0.08541194\t0.0046482690\t0.012849584\t0.014470241\t0.000\t1.000\t10000\t16431\t-\t*\t681281\n",
    "GN-Med13l\tINT_STITCHED_2745\t0.05668934\t0.05631141\t0.0031922570\t0.007558579\t0.005972191\t0.018\t0.982\t10000\t17725\t+\t*\t128066\n",
    "GN-Nanog\tINT_STITCHED_3348\t0.05933485\t0.03325775\t0.0019733433\t0.010582011\t0.037555124\t0.000\t1.000\t10000\t17754\t+\t*\t17463\n",
    "GN-Phc1\tINT_STITCHED_3348\t0.14550265\t0.03325775\t0.0048390903\t0.009448224\t0.004390104\t0.043\t0.957\t10000\t17754\t-\t*\t349872\n",
    "GN-Idh2\tINT_STITCHED_3652\t0.02872260\t0.03250189\t0.0009335388\t0.003023432\t0.004678597\t0.018\t0.982\t10000\t28888\t-\t*\t913318\n",
    "GN-Tead1\tINT_STITCHED_3765\t0.09108088\t0.04497354\t0.0040962299\t0.009070295\t0.006040023\t0.014\t0.986\t10000\t2815\t+\t*\t152595\n",
    "GN-Utf1\tINT_STITCHED_3890\t0.05668934\t0.02456538\t0.0013925953\t0.019274376\t0.229613073\t0.000\t1.000\t10000\t3779\t+\t*\t5280\n",
    "GN-Dppa5a\tINT_STITCHED_4657\t0.02456538\t0.06764928\t0.0016618304\t0.023809524\t0.295168696\t0.000\t1.000\t10000\t14043\t-\t*\t8862\n",
    "GN-Lrrc2\tINT_STITCHED_4748\t0.02947846\t0.01549509\t0.0004567713\t0.002267574\t0.007178660\t0.004\t0.996\t10000\t4546\t+\t*\t5327\n",
    "GN-Derl3\tINT_STITCHED_5091\t0.01549509\t0.02154195\t0.0003337944\t0.001511716\t0.004156747\t0.032\t0.968\t8779\t12208\t+\t*\t20906\n",
    "GN-Rara\tINT_STITCHED_5719\t0.02721088\t0.04383976\t0.0011929186\t0.004535147\t0.009364003\t0.002\t0.998\t10000\t6794\t+\t*\t5948\n",
    "GN-Mapt\tINT_STITCHED_5752\t0.03061224\t0.05442177\t0.0016659725\t0.011715797\t0.060624638\t0.000\t1.000\t10000\t14603\t+\t*\t11145\n",
    "GN-Esrrb\tINT_STITCHED_6113\t0.01360544\t0.12018141\t0.0016351212\t0.004535147\t0.005143443\t0.014\t0.986\t10000\t10057\t+\t*\t74887\n",
    "GN-Ppp2r5c\tINT_STITCHED_6188\t0.03779289\t0.05442177\t0.0020567562\t0.005668934\t0.006343888\t0.010\t0.990\t10000\t10256\t+\t*\t11287\n",
    "GN-Tsc22d1\tINT_STITCHED_6904\t0.03476946\t0.05177627\t0.0018002330\t0.034013605\t0.576426148\t0.000\t1.000\t10000\t10591\t+\t*\t5024\n",
    "GN-Tsc22d1\tINT_STITCHED_6906\t0.03476946\t0.02796674\t0.0009723886\t0.003023432\t0.004326230\t0.015\t0.985\t10000\t12300\t+\t*\t115373\n",
    "GN-Rpap3\tINT_STITCHED_7317\t0.02343159\t0.13454271\t0.0031525502\t0.006424792\t0.003396478\t0.047\t0.953\t10000\t19947\t-\t*\t338565\n",
    "GN-Usp7\tINT_STITCHED_7359\t0.07936508\t0.11602419\t0.0092082688\t0.016628874\t0.005979992\t0.041\t0.959\t10000\t11985\t-\t*\t29694\n",
    "GN-H2-M5\tINT_STITCHED_7792\t0.05139834\t0.07369615\t0.0037878593\t0.027966742\t0.154340046\t0.000\t1.000\t8167\t13848\t-\t*\t3732\n",
    "\n",
    "Gene\tEnhancer\tpGene\tpEnh\texpCotrans\tobsCotrans\tchisq\temp_p_pos\temp_p_neg\tgeneLength\tenhsLength\tgeneStrand\tenhsStrand\tdistance\n",
    "<chr>\t<chr>\t<dbl>\t<dbl>\t<dbl>\t<dbl>\t<dbl>\t<dbl>\t<dbl>\t<int>\t<int>\t<chr>\t<chr>\t<int>\n",
    "GN-Dst\tINT_STITCHED_88\t0.02229781\t0.03136810\t0.0006994399\t0.007936508\t0.074881560\t0.000\t1.000\t10000\t4534\t+\t*\t3866\n",
    "GN-Nr5a2\tINT_STITCHED_466\t0.05177627\t0.05215420\t0.0027003495\t0.019652305\t0.106419118\t0.000\t1.000\t10000\t9328\t-\t*\t4524\n",
    "GN-Uck2\tINT_STITCHED_556\t0.10997732\t0.06311413\t0.0069411236\t0.013983371\t0.007144845\t0.018\t0.982\t10000\t18183\t-\t*\t1160589\n",
    "GN-Etl4\tINT_STITCHED_746\t0.06727135\t0.14436886\t0.0097118885\t0.019652305\t0.010174323\t0.000\t1.000\t10000\t25279\t+\t*\t87622\n",
    "GN-Cbfa2t2\tINT_STITCHED_1210\t0.08578987\t0.05177627\t0.0044418792\t0.010959940\t0.009564670\t0.002\t0.998\t10000\t13465\t+\t*\t20294\n",
    "GN-Zfp704\tINT_STITCHED_1392\t0.04610733\t0.01058201\t0.0004879083\t0.001889645\t0.004027120\t0.026\t0.974\t10000\t10001\t-\t*\t29002\n",
    "GN-B330016D10Rik\tINT_STITCHED_2291\t0.02040816\t0.09561602\t0.0019513474\t0.004535147\t0.003421237\t0.049\t0.951\t6789\t29312\t+\t*\t276502\n",
    "GN-Kazn\tINT_STITCHED_2292\t0.05442177\t0.08541194\t0.0046482690\t0.012849584\t0.014470241\t0.000\t1.000\t10000\t16431\t-\t*\t681281\n",
    "GN-Med13l\tINT_STITCHED_2745\t0.05668934\t0.05631141\t0.0031922570\t0.007558579\t0.005972191\t0.018\t0.982\t10000\t17725\t+\t*\t128066\n",
    "GN-Nanog\tINT_STITCHED_3348\t0.05933485\t0.03325775\t0.0019733433\t0.010582011\t0.037555124\t0.000\t1.000\t10000\t17754\t+\t*\t17463\n",
    "GN-Phc1\tINT_STITCHED_3348\t0.14550265\t0.03325775\t0.0048390903\t0.009448224\t0.004390104\t0.043\t0.957\t10000\t17754\t-\t*\t349872\n",
    "GN-Idh2\tINT_STITCHED_3652\t0.02872260\t0.03250189\t0.0009335388\t0.003023432\t0.004678597\t0.018\t0.982\t10000\t28888\t-\t*\t913318\n",
    "GN-Tead1\tINT_STITCHED_3765\t0.09108088\t0.04497354\t0.0040962299\t0.009070295\t0.006040023\t0.014\t0.986\t10000\t2815\t+\t*\t152595\n",
    "GN-Utf1\tINT_STITCHED_3890\t0.05668934\t0.02456538\t0.0013925953\t0.019274376\t0.229613073\t0.000\t1.000\t10000\t3779\t+\t*\t5280\n",
    "GN-Chd9\tINT_STITCHED_4179\t0.04119426\t0.05479970\t0.0022574327\t0.006046863\t0.006361112\t0.010\t0.990\t10000\t18391\t+\t*\t1954880\n",
    "GN-Hmg20a\tINT_STITCHED_4555\t0.02343159\t0.05177627\t0.0012132005\t0.003779289\t0.005427638\t0.016\t0.984\t10000\t12081\t+\t*\t1852845\n",
    "GN-Dppa5a\tINT_STITCHED_4657\t0.02456538\t0.06764928\t0.0016618304\t0.023809524\t0.295168696\t0.000\t1.000\t10000\t14043\t-\t*\t8862\n",
    "GN-Lrrc2\tINT_STITCHED_4748\t0.02947846\t0.01549509\t0.0004567713\t0.002267574\t0.007178660\t0.004\t0.996\t10000\t4546\t+\t*\t5327\n",
    "GN-Derl3\tINT_STITCHED_5091\t0.01549509\t0.02154195\t0.0003337944\t0.001511716\t0.004156747\t0.032\t0.968\t8779\t12208\t+\t*\t20906\n",
    "GN-Rara\tINT_STITCHED_5719\t0.02721088\t0.04383976\t0.0011929186\t0.004535147\t0.009364003\t0.002\t0.998\t10000\t6794\t+\t*\t5948\n",
    "GN-Mapt\tINT_STITCHED_5752\t0.03061224\t0.05442177\t0.0016659725\t0.011715797\t0.060624638\t0.000\t1.000\t10000\t14603\t+\t*\t11145\n",
    "GN-Esrrb\tINT_STITCHED_6113\t0.01360544\t0.12018141\t0.0016351212\t0.004535147\t0.005143443\t0.014\t0.986\t10000\t10057\t+\t*\t74887\n",
    "GN-Ppp2r5c\tINT_STITCHED_6188\t0.03779289\t0.05442177\t0.0020567562\t0.005668934\t0.006343888\t0.010\t0.990\t10000\t10256\t+\t*\t11287\n",
    "GN-Tsc22d1\tINT_STITCHED_6904\t0.03476946\t0.05177627\t0.0018002330\t0.034013605\t0.576426148\t0.000\t1.000\t10000\t10591\t+\t*\t5024\n",
    "GN-Tsc22d1\tINT_STITCHED_6906\t0.03476946\t0.02796674\t0.0009723886\t0.003023432\t0.004326230\t0.015\t0.985\t10000\t12300\t+\t*\t115373\n",
    "GN-Rpap3\tINT_STITCHED_7317\t0.02343159\t0.13454271\t0.0031525502\t0.006424792\t0.003396478\t0.047\t0.953\t10000\t19947\t-\t*\t338565\n",
    "GN-Usp7\tINT_STITCHED_7359\t0.07936508\t0.11602419\t0.0092082688\t0.016628874\t0.005979992\t0.041\t0.959\t10000\t11985\t-\t*\t29694\n",
    "GN-H2-M5\tINT_STITCHED_7792\t0.05139834\t0.07369615\t0.0037878593\t0.027966742\t0.154340046\t0.000\t1.000\t8167\t13848\t-\t*\t3732\n",
    "GN-Kctd16\tINT_STITCHED_8140\t0.01171580\t0.04157218\t0.0004870513\t0.003023432\t0.013208517\t0.000\t1.000\t10000\t9781\t+\t*\t1628530"
   ]
  },
  {
   "cell_type": "code",
   "execution_count": null,
   "id": "0d6f9b1e-41d5-4446-98df-2c9932deee57",
   "metadata": {},
   "outputs": [],
   "source": [
    "gene = features[\"GN-Dst\"]\n",
    "enh = features[\"INT_STITCHED_88\"];\n",
    "strand(enh) = \"+\"\n",
    "plot_position_pairs( scGRO, gene, enh, dREG );\n",
    "strand(enh) = \"-\"\n",
    "plot_position_pairs( scGRO, gene, enh, dREG );\n",
    "\n",
    "plot_position_table(scGRO, gene, enh);"
   ]
  },
  {
   "cell_type": "code",
   "execution_count": null,
   "id": "34664b84-22b4-4334-9305-f4835d03b193",
   "metadata": {},
   "outputs": [],
   "source": [
    "gene = features[\"GN-Nr5a2\"]\n",
    "enh = features[\"INT_STITCHED_466\"];\n",
    "strand(enh) = \"+\"\n",
    "plot_position_pairs( scGRO, gene, enh, dREG );\n",
    "strand(enh) = \"-\"\n",
    "plot_position_pairs( scGRO, gene, enh, dREG );\n",
    "\n",
    "plot_position_table(scGRO, gene, enh);"
   ]
  },
  {
   "cell_type": "code",
   "execution_count": null,
   "id": "d1d645b3-5f01-476c-bfb0-d26b8ea82216",
   "metadata": {},
   "outputs": [],
   "source": [
    "gene = features[\"GN-Uck2\"]\n",
    "enh = features[\"INT_STITCHED_556\"];\n",
    "strand(enh) = \"+\"\n",
    "plot_position_pairs( scGRO, gene, enh, dREG );\n",
    "strand(enh) = \"-\"\n",
    "plot_position_pairs( scGRO, gene, enh, dREG );\n",
    "\n",
    "plot_position_table(scGRO, gene, enh);"
   ]
  },
  {
   "cell_type": "code",
   "execution_count": null,
   "id": "ea5ce4c7-f9da-4053-9da8-dff581ff31ec",
   "metadata": {},
   "outputs": [],
   "source": [
    "gene = features[\"GN-Etl4\"]\n",
    "enh = features[\"INT_STITCHED_746\"];\n",
    "strand(enh) = \"+\"\n",
    "plot_position_pairs( scGRO, gene, enh, dREG );\n",
    "strand(enh) = \"-\"\n",
    "plot_position_pairs( scGRO, gene, enh, dREG );\n",
    "\n",
    "plot_position_table(scGRO, gene, enh);"
   ]
  },
  {
   "cell_type": "code",
   "execution_count": null,
   "id": "6dcf75ae-0b6f-48f7-9dfb-35207b1002f7",
   "metadata": {},
   "outputs": [],
   "source": [
    "gene = features[\"GN-Cbfa2t2\"]\n",
    "enh = features[\"INT_STITCHED_1210\"];\n",
    "strand(enh) = \"+\"\n",
    "plot_position_pairs( scGRO, gene, enh, dREG );\n",
    "strand(enh) = \"-\"\n",
    "plot_position_pairs( scGRO, gene, enh, dREG );\n",
    "\n",
    "plot_position_table(scGRO, gene, enh);"
   ]
  },
  {
   "cell_type": "code",
   "execution_count": null,
   "id": "c2b28372-1750-4ff9-a539-8c4270090d77",
   "metadata": {},
   "outputs": [],
   "source": [
    "gene = features[\"GN-Zfp704\"]\n",
    "enh = features[\"INT_STITCHED_1392\"];\n",
    "strand(enh) = \"+\"\n",
    "plot_position_pairs( scGRO, gene, enh, dREG );\n",
    "strand(enh) = \"-\"\n",
    "plot_position_pairs( scGRO, gene, enh, dREG );\n",
    "\n",
    "plot_position_table(scGRO, gene, enh);"
   ]
  },
  {
   "cell_type": "code",
   "execution_count": null,
   "id": "94c385ff-3bf9-4d65-a4f6-19b99514ade1",
   "metadata": {},
   "outputs": [],
   "source": [
    "gene = features[\"GN-B330016D10Rik\"]\n",
    "enh = features[\"INT_STITCHED_2291\"];\n",
    "strand(enh) = \"+\"\n",
    "plot_position_pairs( scGRO, gene, enh, dREG );\n",
    "strand(enh) = \"-\"\n",
    "plot_position_pairs( scGRO, gene, enh, dREG );\n",
    "\n",
    "plot_position_table(scGRO, gene, enh);"
   ]
  },
  {
   "cell_type": "code",
   "execution_count": null,
   "id": "fb72e89d-71c9-40af-a0a2-d55e1a4c3986",
   "metadata": {},
   "outputs": [],
   "source": [
    "gene = features[\"GN-Kazn\"]\n",
    "enh = features[\"INT_STITCHED_2292\"];\n",
    "strand(enh) = \"+\"\n",
    "plot_position_pairs( scGRO, gene, enh, dREG );\n",
    "strand(enh) = \"-\"\n",
    "plot_position_pairs( scGRO, gene, enh, dREG );\n",
    "\n",
    "plot_position_table(scGRO, gene, enh);"
   ]
  },
  {
   "cell_type": "code",
   "execution_count": null,
   "id": "09521972-5915-44b0-9717-1932c11edd78",
   "metadata": {},
   "outputs": [],
   "source": [
    "gene = features[\"GN-Med13l\"]\n",
    "enh = features[\"INT_STITCHED_2745\"];\n",
    "strand(enh) = \"+\"\n",
    "plot_position_pairs( scGRO, gene, enh, dREG );\n",
    "strand(enh) = \"-\"\n",
    "plot_position_pairs( scGRO, gene, enh, dREG );\n",
    "\n",
    "plot_position_table(scGRO, gene, enh);"
   ]
  },
  {
   "cell_type": "code",
   "execution_count": null,
   "id": "450f4d04-793c-436a-91c1-6c7c4e473d3a",
   "metadata": {},
   "outputs": [],
   "source": [
    "gene = features[\"GN-Nanog\"]\n",
    "enh = features[\"INT_STITCHED_3348\"];\n",
    "strand(enh) = \"+\"\n",
    "plot_position_pairs( scGRO, gene, enh, dREG );\n",
    "strand(enh) = \"-\"\n",
    "plot_position_pairs( scGRO, gene, enh, dREG );\n",
    "\n",
    "plot_position_table(scGRO, gene, enh);"
   ]
  },
  {
   "cell_type": "code",
   "execution_count": null,
   "id": "3297ec28-a04c-4cec-b6be-7c6fe6d96612",
   "metadata": {},
   "outputs": [],
   "source": [
    "gene = features[\"GN-Phc1\"]\n",
    "enh = features[\"INT_STITCHED_3348\"];\n",
    "strand(enh) = \"+\"\n",
    "plot_position_pairs( scGRO, gene, enh, dREG );\n",
    "strand(enh) = \"-\"\n",
    "plot_position_pairs( scGRO, gene, enh, dREG );\n",
    "\n",
    "plot_position_table(scGRO, gene, enh);"
   ]
  },
  {
   "cell_type": "code",
   "execution_count": null,
   "id": "ca39a9f0-6633-417c-9144-bbfb54c25e01",
   "metadata": {},
   "outputs": [],
   "source": [
    "gene = features[\"GN-Idh2\"]\n",
    "enh = features[\"INT_STITCHED_3652\"];\n",
    "strand(enh) = \"+\"\n",
    "plot_position_pairs( scGRO, gene, enh, dREG );\n",
    "strand(enh) = \"-\"\n",
    "plot_position_pairs( scGRO, gene, enh, dREG );\n",
    "\n",
    "plot_position_table(scGRO, gene, enh);"
   ]
  },
  {
   "cell_type": "code",
   "execution_count": null,
   "id": "9b5dc8e1-5672-4743-b8bd-2799936de4ef",
   "metadata": {},
   "outputs": [],
   "source": [
    "gene = features[\"GN-Tead1\"]\n",
    "enh = features[\"INT_STITCHED_3765\"];\n",
    "strand(enh) = \"+\"\n",
    "plot_position_pairs( scGRO, gene, enh, dREG );\n",
    "strand(enh) = \"-\"\n",
    "plot_position_pairs( scGRO, gene, enh, dREG );\n",
    "\n",
    "plot_position_table(scGRO, gene, enh);"
   ]
  },
  {
   "cell_type": "code",
   "execution_count": null,
   "id": "5e18a1e8-7ac3-425a-997d-6330c8567687",
   "metadata": {},
   "outputs": [],
   "source": [
    "gene = features[\"GN-Utf1\"]\n",
    "enh = features[\"INT_STITCHED_3890\"];\n",
    "strand(enh) = \"+\"\n",
    "plot_position_pairs( scGRO, gene, enh, dREG );\n",
    "strand(enh) = \"-\"\n",
    "plot_position_pairs( scGRO, gene, enh, dREG );\n",
    "\n",
    "plot_position_table(scGRO, gene, enh);"
   ]
  },
  {
   "cell_type": "code",
   "execution_count": null,
   "id": "be66209e-fb3b-49e0-9440-46538bf45d6f",
   "metadata": {},
   "outputs": [],
   "source": [
    "gene = features[\"GN-Chd9\"]\n",
    "enh = features[\"INT_STITCHED_4179\"];\n",
    "strand(enh) = \"+\"\n",
    "plot_position_pairs( scGRO, gene, enh, dREG );\n",
    "strand(enh) = \"-\"\n",
    "plot_position_pairs( scGRO, gene, enh, dREG );\n",
    "\n",
    "plot_position_table(scGRO, gene, enh);"
   ]
  },
  {
   "cell_type": "code",
   "execution_count": null,
   "id": "436a2225-698a-4ff8-8c82-0000715b6b38",
   "metadata": {},
   "outputs": [],
   "source": [
    "gene = features[\"GN-Hmg20a\"]\n",
    "enh = features[\"INT_STITCHED_4555\"];\n",
    "strand(enh) = \"+\"\n",
    "plot_position_pairs( scGRO, gene, enh, dREG );\n",
    "strand(enh) = \"-\"\n",
    "plot_position_pairs( scGRO, gene, enh, dREG );\n",
    "\n",
    "plot_position_table(scGRO, gene, enh);\t"
   ]
  },
  {
   "cell_type": "code",
   "execution_count": null,
   "id": "1d9bfe4a-4adb-40c9-8eb8-06f198b38e8d",
   "metadata": {},
   "outputs": [],
   "source": [
    "gene = features[\"GN-Dppa5a\"]\n",
    "enh = features[\"INT_STITCHED_4657\"];\n",
    "strand(enh) = \"+\"\n",
    "plot_position_pairs( scGRO, gene, enh, dREG );\n",
    "strand(enh) = \"-\"\n",
    "plot_position_pairs( scGRO, gene, enh, dREG );\n",
    "\n",
    "plot_position_table(scGRO, gene, enh);"
   ]
  },
  {
   "cell_type": "code",
   "execution_count": null,
   "id": "a5c36880-fe93-43b5-8f2f-bf0b2dc4145e",
   "metadata": {},
   "outputs": [],
   "source": [
    "gene = features[\"GN-Lrrc2\"]\n",
    "enh = features[\"INT_STITCHED_4748\"];\n",
    "strand(enh) = \"+\"\n",
    "plot_position_pairs( scGRO, gene, enh, dREG );\n",
    "strand(enh) = \"-\"\n",
    "plot_position_pairs( scGRO, gene, enh, dREG );\n",
    "\n",
    "plot_position_table(scGRO, gene, enh);"
   ]
  },
  {
   "cell_type": "code",
   "execution_count": null,
   "id": "84afcc3a-e59f-4327-a364-5498612df186",
   "metadata": {},
   "outputs": [],
   "source": [
    "gene = features[\"GN-Derl3\"]\n",
    "enh = features[\"INT_STITCHED_5091\"];\n",
    "strand(enh) = \"+\"\n",
    "plot_position_pairs( scGRO, gene, enh, dREG );\n",
    "strand(enh) = \"-\"\n",
    "plot_position_pairs( scGRO, gene, enh, dREG );\n",
    "\n",
    "plot_position_table(scGRO, gene, enh);"
   ]
  },
  {
   "cell_type": "code",
   "execution_count": null,
   "id": "bd24767f-e69f-43ad-a615-629514b51a06",
   "metadata": {},
   "outputs": [],
   "source": [
    "gene = features[\"GN-Rara\"]\n",
    "enh = features[\"INT_STITCHED_5719\"];\n",
    "strand(enh) = \"+\"\n",
    "plot_position_pairs( scGRO, gene, enh, dREG );\n",
    "strand(enh) = \"-\"\n",
    "plot_position_pairs( scGRO, gene, enh, dREG );\n",
    "\n",
    "plot_position_table(scGRO, gene, enh);"
   ]
  },
  {
   "cell_type": "code",
   "execution_count": null,
   "id": "805fa340-835e-4366-a246-50277948cbd3",
   "metadata": {},
   "outputs": [],
   "source": [
    "gene = features[\"GN-Mapt\"]\n",
    "enh = features[\"INT_STITCHED_5752\"];\n",
    "strand(enh) = \"+\"\n",
    "plot_position_pairs( scGRO, gene, enh, dREG );\n",
    "strand(enh) = \"-\"\n",
    "plot_position_pairs( scGRO, gene, enh, dREG );\n",
    "\n",
    "plot_position_table(scGRO, gene, enh);"
   ]
  },
  {
   "cell_type": "code",
   "execution_count": null,
   "id": "4864aa1a-f550-4d41-8b9b-0bfcae8abe7f",
   "metadata": {},
   "outputs": [],
   "source": [
    "gene = features[\"GN-Esrrb\"]\n",
    "enh = features[\"INT_STITCHED_6113\"];\n",
    "strand(enh) = \"+\"\n",
    "plot_position_pairs( scGRO, gene, enh, dREG );\n",
    "strand(enh) = \"-\"\n",
    "plot_position_pairs( scGRO, gene, enh, dREG );\n",
    "\n",
    "plot_position_table(scGRO, gene, enh);"
   ]
  },
  {
   "cell_type": "code",
   "execution_count": null,
   "id": "26cec8b5-4665-4818-afab-dc9f87c007ee",
   "metadata": {},
   "outputs": [],
   "source": [
    "gene = features[\"GN-Ppp2r5c\"]\n",
    "enh = features[\"INT_STITCHED_6188\"];\n",
    "strand(enh) = \"+\"\n",
    "plot_position_pairs( scGRO, gene, enh, dREG );\n",
    "strand(enh) = \"-\"\n",
    "plot_position_pairs( scGRO, gene, enh, dREG );\n",
    "\n",
    "plot_position_table(scGRO, gene, enh);"
   ]
  },
  {
   "cell_type": "code",
   "execution_count": null,
   "id": "fc7af2df-5104-4b4b-acfe-e210f4f288f3",
   "metadata": {},
   "outputs": [],
   "source": [
    "gene = features[\"GN-Tsc22d1\"]\n",
    "enh = features[\"INT_STITCHED_6904\"];\n",
    "strand(enh) = \"+\"\n",
    "plot_position_pairs( scGRO, gene, enh, dREG );\n",
    "strand(enh) = \"-\"\n",
    "plot_position_pairs( scGRO, gene, enh, dREG );\n",
    "\n",
    "plot_position_table(scGRO, gene, enh);"
   ]
  },
  {
   "cell_type": "code",
   "execution_count": null,
   "id": "3097b694-eb8d-400f-997c-352e6db65f22",
   "metadata": {},
   "outputs": [],
   "source": [
    "gene = features[\"GN-Tsc22d1\"]\n",
    "enh = features[\"INT_STITCHED_6906\"];\n",
    "strand(enh) = \"+\"\n",
    "plot_position_pairs( scGRO, gene, enh, dREG );\n",
    "strand(enh) = \"-\"\n",
    "plot_position_pairs( scGRO, gene, enh, dREG );\n",
    "\n",
    "plot_position_table(scGRO, gene, enh);"
   ]
  },
  {
   "cell_type": "code",
   "execution_count": null,
   "id": "70827763-b40c-4c60-82cc-8743fbf8050b",
   "metadata": {},
   "outputs": [],
   "source": [
    "gene = features[\"GN-Rpap3\"]\n",
    "enh = features[\"INT_STITCHED_7317\"];\n",
    "strand(enh) = \"+\"\n",
    "plot_position_pairs( scGRO, gene, enh, dREG );\n",
    "strand(enh) = \"-\"\n",
    "plot_position_pairs( scGRO, gene, enh, dREG );\n",
    "\n",
    "plot_position_table(scGRO, gene, enh);"
   ]
  },
  {
   "cell_type": "code",
   "execution_count": null,
   "id": "1044445c-9ee6-478c-a023-d23e4780061e",
   "metadata": {},
   "outputs": [],
   "source": [
    "gene = features[\"GN-Usp7\"]\n",
    "enh = features[\"INT_STITCHED_7359\"];\n",
    "strand(enh) = \"+\"\n",
    "plot_position_pairs( scGRO, gene, enh, dREG );\n",
    "strand(enh) = \"-\"\n",
    "plot_position_pairs( scGRO, gene, enh, dREG );\n",
    "\n",
    "plot_position_table(scGRO, gene, enh);"
   ]
  },
  {
   "cell_type": "code",
   "execution_count": null,
   "id": "5c8ed498-86ec-40ee-9597-317386835fbd",
   "metadata": {},
   "outputs": [],
   "source": [
    "gene = features[\"GN-H2-M5\"]\n",
    "enh = features[\"INT_STITCHED_7792\"];\n",
    "strand(enh) = \"+\"\n",
    "plot_position_pairs( scGRO, gene, enh, dREG );\n",
    "strand(enh) = \"-\"\n",
    "plot_position_pairs( scGRO, gene, enh, dREG );\n",
    "\n",
    "plot_position_table(scGRO, gene, enh);"
   ]
  },
  {
   "cell_type": "code",
   "execution_count": null,
   "id": "9ce3c4fe-8d7f-4039-8b35-c859536e9ecc",
   "metadata": {},
   "outputs": [],
   "source": [
    "gene = features[\"GN-Kctd16\"]\n",
    "enh = features[\"INT_STITCHED_8140\"];\n",
    "strand(enh) = \"+\"\n",
    "plot_position_pairs( scGRO, gene, enh, dREG );\n",
    "strand(enh) = \"-\"\n",
    "plot_position_pairs( scGRO, gene, enh, dREG );\n",
    "\n",
    "plot_position_table(scGRO, gene, enh);"
   ]
  },
  {
   "cell_type": "code",
   "execution_count": null,
   "id": "0ad79595-78f4-4729-bd8e-4cea899619b4",
   "metadata": {},
   "outputs": [],
   "source": []
  },
  {
   "cell_type": "code",
   "execution_count": null,
   "id": "7f2f6277-a924-4d59-95c7-8e6c9d62b2bd",
   "metadata": {},
   "outputs": [],
   "source": []
  },
  {
   "cell_type": "code",
   "execution_count": null,
   "id": "69d9826c-4812-4a6a-9134-3970a5aeee3d",
   "metadata": {},
   "outputs": [],
   "source": []
  },
  {
   "cell_type": "code",
   "execution_count": null,
   "id": "805e567d-ea18-46a3-8d0e-d734c22f1351",
   "metadata": {},
   "outputs": [],
   "source": [
    "marginal_corr = function( reads, gene, enh ) {\n",
    "    query = features[ c(gene, enh) ];\n",
    "    qstart= promoters(query, upstream=0, downstream=1);\n",
    "    \n",
    "    genepol = subsetByOverlaps(reads, query[1]) %>%\n",
    "        mutate( gene = distanceToNearest(., qstart[1]) );\n",
    "    genepol$gstrand = as.character(strand(genepol));\n",
    "    \n",
    "    enhpol = subsetByOverlaps(reads, query[2]) %>%\n",
    "        mutate( enh = distanceToNearest(., qstart[2]) );\n",
    "    enhpol$estrand = as.character(strand(enhpol));\n",
    "\n",
    "    genepol = mcols(genepol) %>%\n",
    "        as.data.frame %>%\n",
    "        filter(cellID %in% enhpol$cellID) %>%\n",
    "        select(cellID, gene.distance, gstrand);\n",
    "    \n",
    "    enhpol  = mcols(enhpol) %>%\n",
    "        as.data.frame %>%\n",
    "        filter(cellID %in% genepol$cellID) %>%\n",
    "        select(cellID, enh.distance, estrand);\n",
    "\n",
    "    p = left_join(genepol, enhpol, by=\"cellID\") %>%\n",
    "            ggplot(aes(x=gene.distance/1000, y=enh.distance/1000)) +\n",
    "            geom_point() +\n",
    "            xlim(0, 50) +\n",
    "            ylim(0, 20) +\n",
    "            xlab(\"Gene distance transcribed (kb)\") +\n",
    "            ylab(\"Enhancer distance transcribed (kb)\") +\n",
    "            theme(legend.position=\"none\");\n",
    "\n",
    "    ggMarginal(p, type=\"histogram\")\n",
    "}"
   ]
  },
  {
   "cell_type": "code",
   "execution_count": null,
   "id": "1bdbb31b-d48a-4750-a0d3-168e802b128c",
   "metadata": {},
   "outputs": [],
   "source": [
    "marginal_corr( scGRO, \"GN-Sox2\", \"Sox2_105kbDn_pl\" );"
   ]
  },
  {
   "cell_type": "code",
   "execution_count": null,
   "id": "ea5ef234-9fea-4c3e-ba5d-dc5bb038b95e",
   "metadata": {},
   "outputs": [],
   "source": [
    "marginal_corr( scGRO, \"GN-Pou5f1\", \"Pou5f1_25kbUp_mn\" );"
   ]
  }
 ],
 "metadata": {
  "kernelspec": {
   "display_name": "R",
   "language": "R",
   "name": "ir"
  },
  "language_info": {
   "codemirror_mode": "r",
   "file_extension": ".r",
   "mimetype": "text/x-r-source",
   "name": "R",
   "pygments_lexer": "r",
   "version": "4.2.2"
  }
 },
 "nbformat": 4,
 "nbformat_minor": 5
}
