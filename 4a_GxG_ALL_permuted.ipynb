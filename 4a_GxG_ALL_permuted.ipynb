{
 "cells": [
  {
   "cell_type": "code",
   "execution_count": null,
   "id": "40fa598b-dae8-4447-92ae-689b6c1f49ff",
   "metadata": {},
   "outputs": [],
   "source": [
    ".libPaths(\"/home/mahat/.conda/envs/r422/lib/R/library\")\n",
    "# .libPaths(c(\"/home/mahat/.conda/envs/r422/lib/R/library\",\n",
    "#             \"/net/bmc-lab2/data/lab/scgroseq/group/software/R/x86_64-pc-linux-gnu-library/4.2\"))\n",
    ".libPaths()"
   ]
  },
  {
   "cell_type": "code",
   "execution_count": null,
   "id": "b159ff73-dadd-4aa4-beec-a733593eaa4c",
   "metadata": {},
   "outputs": [],
   "source": [
    "suppressMessages({\n",
    "    library(tidyverse)\n",
    "    library(matrixStats)\n",
    "    library(foreach)\n",
    "    library(doParallel)\n",
    "    library(plyranges)\n",
    "    library(viridis)\n",
    "    library(ggpointdensity)\n",
    "    library(Matrix)\n",
    "    library(data.table)\n",
    "});"
   ]
  },
  {
   "cell_type": "code",
   "execution_count": null,
   "id": "104b0744-9e76-43bb-b44f-a1210e78db0b",
   "metadata": {},
   "outputs": [],
   "source": [
    "registerDoParallel(16);\n",
    "options(\n",
    "    repr.plot.width=4,\n",
    "    repr.plot.height=4,\n",
    "    jupyter.plot_mimetypes = \"image/svg+xml\",\n",
    "    digits=5\n",
    ");\n",
    "theme_set(theme_classic() +\n",
    "    theme(\n",
    "        axis.title.x = element_text(color=\"black\", size=14, face=\"bold\"), \n",
    "        axis.title.y = element_text(color=\"black\", size=14, face=\"bold\"),\n",
    "        axis.text = element_text(color=\"black\", size=12, face=\"bold\"),\n",
    "        plot.title = element_text(face=\"bold\", size=14, hjust = 0.5),\n",
    "        axis.line = element_blank(),\n",
    "        # axis.ticks = element_blank()\n",
    "        panel.border = element_rect(colour = \"grey\", fill=NA, linewidth=1)\n",
    "    )\n",
    ");"
   ]
  },
  {
   "cell_type": "code",
   "execution_count": null,
   "id": "d45707e4-6833-487d-8b0d-354cc9215a02",
   "metadata": {},
   "outputs": [],
   "source": [
    "# load genes with dREG status for expression filter\n",
    "genesWithdREGstatus = readRDS(\"../data/groHMM_dREG_refinedGenes_mES_mm10.rds\");\n",
    "genesWithdREGstatus\n",
    "# load groHMM-extended genes and enhancers\n",
    "# features = read_bed(\"../data/groHMM_mES_BRsComb_LP-50_UTS10_features_customized_v2.bed\");\n",
    "\n",
    "# load features\n",
    "features = read_bed(\"../data/groHMM_dREG_refinedFeatures_mES_mm10_OSNcustomEnhancers_SEs.bed\");\n",
    "# features = read_bed(\"../data/mES_BRsComb_dREGfiltered_features_customized_OSNenhancersPlusSEs_v1.bed\");\n",
    "# features = read_bed(\"../data/groHMM_mES_BRsComb_LP-50_UTS10_features_customized_OSNenhancersPlusSEs_v2.bed\");\n",
    "names(features) = features$name;\n",
    "features$name=NULL;\n",
    "features$score=NULL;\n",
    "features"
   ]
  },
  {
   "cell_type": "code",
   "execution_count": null,
   "id": "1bff364b-056d-483c-bac2-cdfb0851a12f",
   "metadata": {},
   "outputs": [],
   "source": [
    "# genes shorter than 1500 are: 2931\n",
    "# genes shorter than 1000 are: 2209\n",
    "# genes shorter than  500 are:  484\n",
    "# genes shorter than  200 are:  147\n",
    "\n",
    "# short Gm### genes\n",
    "shortGm = features %>%\n",
    "    filter( substr(names, 0, 3) == \"GN-\" ) %>%\n",
    "    filter( width > 200 ) %>%\n",
    "    filter( width < 1000 & substr(names, 0, 5) == \"GN-Gm\" );\n",
    "length(shortGm)\n",
    "summary(width(shortGm))\n",
    "names(shortGm)[1:5]\n",
    "\n",
    "# define highly expressed \"blacklist\" genes to be\n",
    "# removed from correlations\n",
    "blacklist = grep( \"GN-Rp[ls]\" , names(features) );\n",
    "blacklist = grep( \"GN-Sn[oh]\", names(features) ) %>%\n",
    "    append(blacklist);\n",
    "\n",
    "blacklist = names(features)[ blacklist ];\n",
    "length(blacklist)\n",
    "summary(width(features[ blacklist ]))\n",
    "blacklist[c(1:5, 110:115)]"
   ]
  },
  {
   "cell_type": "code",
   "execution_count": null,
   "id": "f45449e3-5e07-41e4-84af-a3f7e0830aec",
   "metadata": {},
   "outputs": [],
   "source": [
    "# Specify feature length (half at the start and other half at the end)\n",
    "# to be trimmed to eliminate the effect of paused Pol II at TSS and TES\n",
    "trimEndLength =  1000;\n",
    "# specify maximum gene length to be used for G-E correlation:\n",
    "maxLength = 10000;"
   ]
  },
  {
   "cell_type": "code",
   "execution_count": null,
   "id": "6f7a4954-3ca2-41df-9479-d0f9c0b6bbf8",
   "metadata": {},
   "outputs": [],
   "source": [
    "# filter genes\n",
    "genes = features %>%\n",
    "    filter( substr(names, 0, 3) == \"GN-\" ) %>%\n",
    "# remove genes less than 200 nt (mostly Gm genes)\n",
    "    filter( width >= 200 ) %>%\n",
    "# filter genes with dREG peaks\n",
    "    filter( names %in% names(genesWithdREGstatus[genesWithdREGstatus$dREG == T]) | \n",
    "           !names %in% names(genesWithdREGstatus) ) %>%\n",
    "# filter highly expressed genes\n",
    "    filter(!names %in% blacklist ) %>%\n",
    "# filter Gm genes shorter than 1 kb\n",
    "    filter(!names %in% names(shortGm) );\n",
    "\n",
    "# trim 250 nt from either ends of genes that are longer than 1000\n",
    "trimGenes = which( width(genes) >= 1000 );\n",
    "genes[trimGenes] = genes[trimGenes] %>%\n",
    "# truncate 500 bp in the front and 500 nt in the end of long genes\n",
    "    anchor_center() %>%\n",
    "    mutate( width = width - 500);\n",
    "\n",
    "# trim additional 250 nt from either ends of genes that are now longer than 1000 (originally 1500)\n",
    "trimGenes = which( width(genes) >= 1000 );\n",
    "genes[trimGenes] = genes[trimGenes] %>%\n",
    "# truncate 500 bp in the front and 500 nt in the end of long genes\n",
    "    anchor_center() %>%\n",
    "    mutate( width = width - 500);\n",
    "\n",
    "# trim the long genes to 10 kb\n",
    "longf = which( width(genes) >= 10000 );\n",
    "genes[longf] = genes[longf] %>%\n",
    "    resize( width = 10000, fix=\"start\" );\n",
    "length(genes)\n",
    "# summary(width(genes %>% filter(width <1000)))\n",
    "summary(width(genes))"
   ]
  },
  {
   "cell_type": "raw",
   "id": "acab62be-9502-44f3-8181-5514c89953db",
   "metadata": {},
   "source": [
    "# create 10kbp time-bins within each feature\n",
    "timebins1 = resize( genes,  width= 10000, fix=\"start\" );\n",
    "timebins2 = shift_downstream(timebins1, width(timebins1));\n",
    "timebins3 = shift_downstream(timebins2, width(timebins1));"
   ]
  },
  {
   "cell_type": "raw",
   "id": "34e4b9a0-e03d-4145-b17e-73e8a6298d32",
   "metadata": {},
   "source": [
    "# intersect with original features to trim excess\n",
    "# (some features are <30 kbp)\n",
    "timebins1 = pintersect( timebins1, genes );\n",
    "timebins2 = pintersect( timebins2, genes );\n",
    "timebins3 = pintersect( timebins3, genes );"
   ]
  },
  {
   "cell_type": "code",
   "execution_count": null,
   "id": "7c94826c-6623-473d-aef8-23660a5d6c9e",
   "metadata": {},
   "outputs": [],
   "source": [
    "scGRO = readRDS(\"../data/scGROv2p8_consolidated.rds\");\n",
    "counts = readRDS(\"../data/scGROv2p8_mapq3qc_max30kbp_filtered_counts.rds\");\n",
    "#counts = counts[,colSums(counts) >= 1000 ];\n",
    "dim(counts)\n",
    "allcells = colnames(counts);"
   ]
  },
  {
   "cell_type": "code",
   "execution_count": null,
   "id": "fb4475ed-5fd3-4b06-9aef-7643be24d56c",
   "metadata": {},
   "outputs": [],
   "source": [
    "table(substr(allcells, 0, 6));"
   ]
  },
  {
   "cell_type": "code",
   "execution_count": null,
   "id": "287bf640-cf2f-4b91-a83e-500d4681571d",
   "metadata": {},
   "outputs": [],
   "source": [
    "# Merge experiment ID and cell barcode to create unique cell ID across experiments\n",
    "scGRO = scGRO %>%\n",
    "    filter( mapq >= 3 & countQC & umiQC & plateQC & cellQC & miRQC ) %>%\n",
    "    subsetByOverlaps( genes ) %>%\n",
    "    mutate( cellID = factor( paste( Exp, Plate, Cell, sep=\"-\") ) ) %>%\n",
    "    filter( cellID %in% allcells ) %>%\n",
    "    select( cellID );\n",
    "\n",
    "scGRO"
   ]
  },
  {
   "cell_type": "code",
   "execution_count": null,
   "id": "59028396-df52-4f20-89b6-c92fa23d0ac2",
   "metadata": {
    "tags": []
   },
   "outputs": [],
   "source": [
    "counts = foreach(\n",
    "    id = allcells,\n",
    "    .combine=\"cbind2\"\n",
    ") %dopar% {\n",
    "    reads = scGRO %>% filter(cellID == id);\n",
    "    # count reads in each feature for this cellID\n",
    "    counts1 = countOverlaps( genes, reads );\n",
    "\n",
    "    counts = cbind(counts1) %>%\n",
    "        Matrix(sparse=T);\n",
    "\n",
    "    return( counts );\n",
    "}\n",
    "# columns = cells = cellIDs\n",
    "colnames(counts) = allcells;\n",
    "rownames(counts) = names(genes);"
   ]
  },
  {
   "cell_type": "code",
   "execution_count": null,
   "id": "b33cd1c4-af73-464f-92cb-3fc902d08035",
   "metadata": {},
   "outputs": [],
   "source": [
    "data.frame(\n",
    "    x=rowMeans(counts>0)\n",
    ") %>%\n",
    "    ggplot( aes(x=x) ) +\n",
    "    geom_histogram(binwidth=0.05) +\n",
    "    scale_x_log10() +\n",
    "    ggtitle(\"Reads per gene\") +\n",
    "    xlab(\"Reads per cell\") +\n",
    "    ylab(\"Number of genes\");"
   ]
  },
  {
   "cell_type": "code",
   "execution_count": null,
   "id": "6755b9bb-c508-4de1-b833-09f5e4156b7b",
   "metadata": {},
   "outputs": [],
   "source": [
    "# only retain features with counts in 0.5% or more cells\n",
    "observed = counts[ rowMeans(counts>0) >= 0.001, ];\n",
    "dim(observed)"
   ]
  },
  {
   "cell_type": "raw",
   "id": "95a37e2f-554a-4d40-977e-bd985bc14d77",
   "metadata": {},
   "source": [
    "# save list of features included in this analysis\n",
    "sub(\"GN-\", \"\", rownames(observed), fixed=T) %>%\n",
    "    as.data.frame %>%\n",
    "    fwrite(\"../data/scGRO_coex_features.txt\", col.names=F);"
   ]
  },
  {
   "cell_type": "code",
   "execution_count": null,
   "id": "95316360-0425-4463-8d26-461101ea17bc",
   "metadata": {},
   "outputs": [],
   "source": [
    "Niters = 1000;\n",
    "Ncells = ncol(observed);\n",
    "Ngenes = nrow(observed);\n",
    "Nreads = colSums(observed);"
   ]
  },
  {
   "cell_type": "code",
   "execution_count": null,
   "id": "7348706b-ccbb-4f3e-a5ce-04fa1efbe175",
   "metadata": {},
   "outputs": [],
   "source": [
    "# sampling probability = read count / total reads in each cell\n",
    "bin1total = colSums(observed[, allcells]);\n",
    "pmatrix1 = t(t(observed[, allcells]) / bin1total);\n",
    "\n",
    "# average across cells\n",
    "pvector1 = rowMeans(pmatrix1);"
   ]
  },
  {
   "cell_type": "code",
   "execution_count": null,
   "id": "9d2c4cf7-bdbf-4603-8c72-616ca2712eca",
   "metadata": {},
   "outputs": [],
   "source": [
    "# Binarize observed counts\n",
    "obsx = observed;\n",
    "obsx[obsx>1] = 1;\n",
    "\n",
    "# Multiply each Ngenes x Ncells matrix by its transpose.\n",
    "# Because data is binary, this counts co-occurence of\n",
    "# 1's among all genes pairs.\n",
    "#obsx = obsx %*% t(obsx) / 3 / Ncells;\n",
    "\n",
    "# implement chisq test\n",
    "# compute average gene expression\n",
    "obs_avg = rowMeans(obsx);\n",
    "# compute expected coexpression (meanA * meanB)\n",
    "AxB = obs_avg %*% t(obs_avg);\n",
    "obsAB = as.matrix(obsx %*% t(obsx)) / Ncells;\n",
    "obs_chisq = (obsAB-AxB)^2/AxB;\n",
    "obs_chisq = obs_chisq * ifelse(obsAB>AxB, 1, -1);\n",
    "\n",
    "dim(obsx)"
   ]
  },
  {
   "cell_type": "code",
   "execution_count": null,
   "id": "39620159-a072-4454-8648-dce5bf49d23b",
   "metadata": {
    "tags": []
   },
   "outputs": [],
   "source": [
    "# repeat each cellID by its read count\n",
    "index1 = rep(1:Ncells, times=bin1total);\n",
    "emp_p_pos = matrix(0, nrow=Ngenes, ncol=Ngenes);\n",
    "emp_p_neg = matrix(0, nrow=Ngenes, ncol=Ngenes);\n",
    "#emp_p     = matrix(0, nrow=Ngenes, ncol=Ngenes);\n",
    "sim_chisq = matrix(0, nrow=Ngenes, ncol=Ngenes);\n",
    "\n",
    "for( n in 1:Niters ) {\n",
    "    if( n %% 100 == 0 ) {\n",
    "        message(n);\n",
    "    }\n",
    "    \n",
    "    # randomly sample from genes with replacement\n",
    "    simx  = sample.int( Ngenes, size=sum(bin1total), replace=T, prob=pvector1);\n",
    "    \n",
    "    # assign sampled genes to cells based on read count\n",
    "    simx = cbind(simx, index1);\n",
    "    \n",
    "    # binarize\n",
    "    simx = unique(simx);\n",
    "    simx = sparseMatrix(i=simx[,1], j=simx[,2], x=1, dims=c(Ngenes, Ncells));\n",
    "    \n",
    "    suppressWarnings({\n",
    "        # compute coexpression\n",
    "        #simx = simx %*% t(simx) / 3 / Ncells;\n",
    "        # compare to observed coexpression\n",
    "        #emp_p = emp_p + (2*simx >= obsx);\n",
    "\n",
    "        # implement chisq test\n",
    "        # compute average gene expression from this permutation\n",
    "        sim_avg = rowMeans(simx);\n",
    "        # compute every combination of coexpression\n",
    "        AxB = sim_avg %*% t(sim_avg);\n",
    "        simAB = as.matrix(simx %*% t(simx)) / Ncells;\n",
    "        sim_chisq = (simAB-AxB)^2/AxB;\n",
    "        sim_chisq = sim_chisq * ifelse(simAB>AxB, 1, -1);\n",
    "        emp_p_pos = emp_p_pos + !(obs_chisq > sim_chisq);\n",
    "        emp_p_neg = emp_p_neg + !(obs_chisq < sim_chisq);\n",
    "        # chisq = (AB-A*B)^2/(A*B)\n",
    "        # also add the old method of p-value by just observing the incidence of obsx smaller than simx\n",
    "        #emp_p = emp_p + (simAB >= AxB);\n",
    "    });\n",
    "}"
   ]
  },
  {
   "cell_type": "code",
   "execution_count": null,
   "id": "93254858-5ae2-4516-a7b2-0eeb6031ea50",
   "metadata": {},
   "outputs": [],
   "source": [
    "AxB = obs_avg %*% t(obs_avg);\n",
    "chr_corr = data.frame(\n",
    "    geneA = rep(1:Ngenes, each=Ngenes),\n",
    "    geneB = rep(1:Ngenes, Ngenes),\n",
    "    pA    = rep(obs_avg, each=Ngenes),\n",
    "    pB    = rep(obs_avg, Ngenes),\n",
    "    expAB = as.vector(AxB),\n",
    "    pBoth = as.vector(obsAB),\n",
    "    chisq = as.vector(obs_chisq),\n",
    "    emp_p_pos = as.numeric(emp_p_pos) / Niters, # correlated cotranscription\n",
    "    emp_p_neg = as.numeric(emp_p_neg) / Niters  # anticorrelated cotranscription\n",
    "    #emp_p     = as.numeric(emp_p) / Niters  # anticorrelated cotranscription\n",
    ");\n",
    "# chr_corr = chr_corr[ chr_corr$geneA < chr_corr$geneB, ];\n",
    "chr_corr$geneA = as.factor(rownames(observed)[chr_corr$geneA]);\n",
    "chr_corr$geneB = as.factor(rownames(observed)[chr_corr$geneB]);"
   ]
  },
  {
   "cell_type": "code",
   "execution_count": null,
   "id": "7ec42fa7-0e9a-4592-9844-208f69b90b13",
   "metadata": {},
   "outputs": [],
   "source": [
    "# fwrite(chr_corr, file=\"../data/scGROv2p8_mapq3qc_max10kbp_1Kpermuted_chisq_empp.csv.gz\");"
   ]
  },
  {
   "cell_type": "code",
   "execution_count": null,
   "id": "d085c96b-ed94-4bea-8a89-4a7e8d650af0",
   "metadata": {},
   "outputs": [],
   "source": [
    "chr_corrInput = fread(file=\"../data/scGROv2p8_mapq3qc_max10kbp_1Kpermuted_chisq_empp.csv.gz\");\n",
    "dim(chr_corrInput)\n",
    "dim(chr_corrInput)"
   ]
  },
  {
   "cell_type": "code",
   "execution_count": null,
   "id": "19a1acd4-1b90-44bf-b2dd-6c930a1eafda",
   "metadata": {},
   "outputs": [],
   "source": [
    "chr_corr = chr_corrInput %>%\n",
    "    filter(geneA < geneB) %>%\n",
    "    filter(!geneA %in% blacklist & !geneB %in% blacklist) %>%\n",
    "    filter(as.character(seqnames(features[geneA])) == as.character(seqnames(features[geneB]))) #%>%\n",
    "    # filter(emp_p_pos <= 0.05);"
   ]
  },
  {
   "cell_type": "code",
   "execution_count": null,
   "id": "7cc9b242-9e67-4caa-a1a8-bcaed52ead3c",
   "metadata": {},
   "outputs": [],
   "source": [
    "# lookup gene attributes\n",
    "geneB = features[ chr_corr$geneA ];\n",
    "geneA = features[ chr_corr$geneB ];\n",
    "chr_corr$lengthA = width(geneA);\n",
    "chr_corr$lengthB = width(geneB);\n",
    "chr_corr$strA    = as.character(strand(geneA));\n",
    "chr_corr$strB    = as.character(strand(geneB));\n",
    "chr_corr$fdr_pos = p.adjust(chr_corr$emp_p_pos, method = \"fdr\");"
   ]
  },
  {
   "cell_type": "code",
   "execution_count": null,
   "id": "52026734-d8a9-4d87-a488-38076b59f8cc",
   "metadata": {},
   "outputs": [],
   "source": [
    "# compute distance between gene promoters\n",
    "proA = resize(geneA, width=1, fix=\"start\");\n",
    "proB = resize(geneB, width=1, fix=\"start\");\n",
    "strand(proA) = \"*\";\n",
    "strand(proB) = \"*\";\n",
    "chr_corr$distance = width(pgap( proA, proB ));\n",
    "sum(chr_corr$distance >= 2e6);\n",
    "\n",
    "chr_corr = chr_corr %>% \n",
    "    filter(distance < 10e6);\n",
    "nrow(chr_corr)"
   ]
  },
  {
   "cell_type": "code",
   "execution_count": null,
   "id": "0fcbb67f-8171-4895-a52e-178c6a58e711",
   "metadata": {},
   "outputs": [],
   "source": [
    "chr_corr %>%\n",
    "    ggplot( aes(x=distance/1000)) +\n",
    "    geom_histogram(binwidth=50, color=\"#445577\", fill=\"#445577\") +\n",
    "    xlim(0, 10000) +\n",
    "    ggtitle(\"Correlated genes on either strand\") +\n",
    "    xlab(\"Distance between pair (kb)\") +\n",
    "    ylab(\"Number of feature pairs\");\n",
    "ggsave(filename=\"../plots/Distance_between_allGenes_.pdf\", width=4, height=4, units=\"in\")\n",
    "\n",
    "chr_corr %>%\n",
    "    filter(emp_p_pos <= 0.05) %>%\n",
    "    ggplot( aes(x=distance/1000)) +\n",
    "    geom_histogram(binwidth=50, color=\"#445577\", fill=\"#445577\") +\n",
    "    xlim(0, 10000) +\n",
    "    ggtitle(\"Correlated genes on either strand\") +\n",
    "    xlab(\"Distance between pair (kb)\") +\n",
    "    ylab(\"Number of feature pairs\");\n",
    "ggsave(filename=\"../plots/Distance_between_corrGenes_.pdf\", width=4, height=4, units=\"in\")"
   ]
  },
  {
   "cell_type": "code",
   "execution_count": null,
   "id": "3c5b88f5-7f41-49b3-9fa8-d80d56bafa03",
   "metadata": {},
   "outputs": [],
   "source": [
    "chr_corr %>%\n",
    "    filter( strA != strB ) %>%\n",
    "    ggplot( aes(x=distance/1000)) +\n",
    "    geom_histogram(binwidth=50, color=\"#445577\", fill=\"#445577\") +\n",
    "    # scale_x_log10(c(0,2000)) +\n",
    "    xlim(0, 10000) +\n",
    "    ggtitle(\"Correlated genes on different strands\") +\n",
    "    xlab(\"Distance between pair (kb)\") +\n",
    "    ylab(\"Number of feature pairs\");"
   ]
  },
  {
   "cell_type": "code",
   "execution_count": null,
   "id": "3fca766b-b9c3-4479-9256-69eebede70c5",
   "metadata": {},
   "outputs": [],
   "source": [
    "chr_corr %>%\n",
    "    filter( strA == strB ) %>%\n",
    "    ggplot( aes(x=distance/1000)) +\n",
    "    geom_histogram(binwidth=50, color=\"#445577\", fill=\"#445577\") +\n",
    "    xlim(0, 10000) +\n",
    "    ggtitle(\"Correlated genes on same strand\") +\n",
    "    xlab(\"Distance between pair (kb)\") +\n",
    "    ylab(\"Number of feature pairs\");"
   ]
  },
  {
   "cell_type": "code",
   "execution_count": null,
   "id": "e900914a-7d2c-4957-bdea-8caf5e654a95",
   "metadata": {},
   "outputs": [],
   "source": [
    "chr_corr %>%\n",
    "    filter( strA != strB & distance <= 50000 ) %>%\n",
    "    ggplot( aes(x=distance, y=-log10(emp_p_pos)) ) +\n",
    "    geom_point(size=0.5) +\n",
    "    xlim(0, 50000) +\n",
    "    scale_color_viridis() +\n",
    "    ggtitle(\"Gene pairs on different strands\") +\n",
    "    xlab(\"Distance between gene TSS (bp)\") +\n",
    "    ylab(\"-log10 P\");"
   ]
  },
  {
   "cell_type": "code",
   "execution_count": null,
   "id": "ef67a296-2e9b-4097-b7b4-ea9f38e848f0",
   "metadata": {},
   "outputs": [],
   "source": [
    "chr_corr %>%\n",
    "    filter( strA == strB & distance <= 50000 ) %>%\n",
    "    ggplot( aes(x=distance, y=-log10(emp_p_pos)) ) +\n",
    "    geom_point(size=0.5) +\n",
    "    xlim(0, 50000) +\n",
    "    scale_color_viridis() +\n",
    "    ggtitle(\"Gene pairs on same strands\") +\n",
    "    xlab(\"Distance between gene TSS (bp)\") +\n",
    "    ylab(\"-log10 P\");"
   ]
  },
  {
   "cell_type": "code",
   "execution_count": null,
   "id": "36b7e7bb-f65a-4842-a9ee-f4749c58bf65",
   "metadata": {},
   "outputs": [],
   "source": [
    "chr_corr %>%\n",
    "    filter( strA != strB ) %>%\n",
    "    ggplot( aes(x=distance/1000, y=-log10(emp_p_pos)) ) +\n",
    "    geom_pointdensity(size=0.5) +\n",
    "    xlim(0, 500) +\n",
    "    scale_color_viridis() +\n",
    "    ggtitle(\"Gene pairs on different strands\") +\n",
    "    xlab(\"Distance between pair (kb)\") +\n",
    "    ylab(\"-log10 P\");"
   ]
  },
  {
   "cell_type": "code",
   "execution_count": null,
   "id": "072d67e2-7aba-4380-a18a-08e4945ee555",
   "metadata": {},
   "outputs": [],
   "source": [
    "chr_corr %>%\n",
    "    filter( strA == strB ) %>%\n",
    "    ggplot( aes(x=distance/1000, y=-log10(emp_p_pos)) ) +\n",
    "    geom_pointdensity(size=0.5) +\n",
    "    xlim(0, 500) +\n",
    "    scale_color_viridis() +\n",
    "    ggtitle(\"Gene pairs on same strands\") +\n",
    "    xlab(\"Distance between pair (kb)\") +\n",
    "    ylab(\"-log10 P\");"
   ]
  },
  {
   "cell_type": "code",
   "execution_count": null,
   "id": "7ac9a30e-7065-48dc-8a1d-9c7ddb08f660",
   "metadata": {},
   "outputs": [],
   "source": [
    "dim(chr_corr)"
   ]
  },
  {
   "cell_type": "code",
   "execution_count": null,
   "id": "deb1377b-a547-4d60-9121-4cb44b8e8145",
   "metadata": {},
   "outputs": [],
   "source": [
    "rowMeans( observed[query,]>0 ) %>% t %>% t;"
   ]
  },
  {
   "cell_type": "code",
   "execution_count": null,
   "id": "68f745e3-277c-4e5b-aee5-521da0a86265",
   "metadata": {},
   "outputs": [],
   "source": []
  }
 ],
 "metadata": {
  "kernelspec": {
   "display_name": "R",
   "language": "R",
   "name": "ir"
  },
  "language_info": {
   "codemirror_mode": "r",
   "file_extension": ".r",
   "mimetype": "text/x-r-source",
   "name": "R",
   "pygments_lexer": "r",
   "version": "4.2.2"
  }
 },
 "nbformat": 4,
 "nbformat_minor": 5
}
