{
 "cells": [
  {
   "cell_type": "code",
   "execution_count": null,
   "id": "f11c1d41-4948-47c1-8c3b-fdeacff54058",
   "metadata": {},
   "outputs": [],
   "source": [
    ".libPaths(\"/home/mahat/.conda/envs/r422/lib/R/library\")\n",
    ".libPaths()"
   ]
  },
  {
   "cell_type": "code",
   "execution_count": null,
   "id": "9db58c45-23df-41b8-bf99-cdfc9afb5872",
   "metadata": {},
   "outputs": [],
   "source": [
    "suppressMessages({\n",
    "    library(tidyverse)\n",
    "    library(ggExtra)\n",
    "    library(matrixStats)\n",
    "    library(plyranges)\n",
    "    library(viridis)\n",
    "    library(data.table)\n",
    "    library(ggbio)\n",
    "    library(ggridges)\n",
    "    library(ggbeeswarm)\n",
    "    library(ggpointdensity)\n",
    "    library(Matrix)\n",
    "});\n",
    "source(\"./scGRO_functions.r\");"
   ]
  },
  {
   "cell_type": "code",
   "execution_count": null,
   "id": "8a623f44-ed47-4336-a09c-e230051a735b",
   "metadata": {},
   "outputs": [],
   "source": [
    "options(\n",
    "    repr.plot.width=6,\n",
    "    repr.plot.height=4,\n",
    "    jupyter.plot_mimetypes = \"image/svg+xml\"\n",
    ");\n",
    "theme_set(theme_classic() +\n",
    "    theme(\n",
    "        axis.title.x = element_text(color=\"black\", size=14, face=\"bold\"), \n",
    "        axis.title.y = element_text(color=\"black\", size=14, face=\"bold\"),\n",
    "        axis.text = element_text(color=\"black\", size=12, face=\"bold\"),\n",
    "        plot.title = element_text(face=\"bold\", size=14, hjust = 0.5),\n",
    "        axis.line = element_blank(),\n",
    "        # axis.ticks = element_blank()\n",
    "        panel.border = element_rect(colour = \"grey\", fill=NA, linewidth=1)\n",
    "    )\n",
    ");"
   ]
  },
  {
   "cell_type": "code",
   "execution_count": null,
   "id": "0b9f8d5e-127d-4c0e-9167-7aefa54ba044",
   "metadata": {},
   "outputs": [],
   "source": [
    "# Get equation and r^2 as string\n",
    "# https://groups.google.com/forum/#!topic/ggplot2/1TgH-kG5XMA\n",
    "\n",
    "lm_eqn = function(x, y) {\n",
    "    m = lm(y ~ x);\n",
    "    eq = substitute(italic(y) == a + b %.% italic(x)*\",\"~~italic(r)^2~\"=\"~r2, \n",
    "         list(a = format(unname(coef(m)[1]), digits = 2),\n",
    "              b = format(unname(coef(m)[2]), digits = 2),\n",
    "             r2 = format(summary(m)$r.squared, digits = 3)))\n",
    "    as.character(as.expression(eq));\n",
    "}"
   ]
  },
  {
   "cell_type": "code",
   "execution_count": null,
   "id": "feeccd35-7390-42fa-8478-f665b605d90f",
   "metadata": {},
   "outputs": [],
   "source": [
    "#features = read_bed(\"../data/groHMM_mES_BRsComb_LP-50_UTS10_features_customized_v2.bed\");\n",
    "# features = read_bed(\"../data/mES_BRsComb_dREGfiltered_features_customized_OSNenhancersPlusSEs_v1.bed\");\n",
    "features = read_bed(\"../data/dREG_refinedFeatures_mES_mm10_OSNcustomEnhancers_SEs.bed\");\n",
    "names(features) = features$name;\n",
    "features$score=NULL;\n",
    "features\n",
    "\n",
    "# # select genes longer than 5kp from each feature\n",
    "# # truncate genes longer than 30kb to 30kb\n",
    "# features = features %>%\n",
    "#     filter( width(features) >= 3000 | substr(name, 0, 2) != \"GN\" ) %>%\n",
    "#     anchor_center() %>%\n",
    "#     mutate(width=width-1000);\n",
    "# length(features)\n",
    "\n",
    "#resize 30+kb genes to 30kb\n",
    "longf = which( width(features) > 30000 & substr(names(features), 0, 2) == \"GN\" );\n",
    "features[longf] = features[longf] %>%\n",
    "     resize( width = 30000, fix=\"start\" );\n",
    "features"
   ]
  },
  {
   "cell_type": "code",
   "execution_count": null,
   "id": "49600903-b52e-4608-a3c0-5193ecf946ee",
   "metadata": {},
   "outputs": [],
   "source": [
    "scGRO  = readRDS(\"../data/scGROv2p8_consolidated.rds\");\n",
    "counts = readRDS( \"../data/scGROv2p8_mapq3qc_filtered_counts.rds\" );\n",
    "# scGRO  = readRDS(\"../jay_m/data_jay_m/scGROv2p9_filtered_consolidated.rds\");\n",
    "# counts = readRDS( \"../jay_m/data_jay_m/scGROv2p9_mapq3qc_filtered_counts.rds\" );\n",
    "# hist(colSums(counts))\n",
    "# head(scGRO)\n",
    "# head(counts)"
   ]
  },
  {
   "cell_type": "code",
   "execution_count": null,
   "id": "b34624f1-b01f-410c-9920-793f9b8e234e",
   "metadata": {
    "tags": []
   },
   "outputs": [],
   "source": [
    "# Merge experiment ID and cell barcode to create unique cell ID across experiments\n",
    "scGRO = scGRO %>%\n",
    "    filter( umiQC & plateQC & cellQC & countQC & miRQC ) %>%\n",
    "    mutate(cellID = factor( paste( Exp, Plate, Cell, sep=\"-\") ) ) %>%\n",
    "    # filter( !(Exp == \"Exp236\" & Plate %in% paste0(\"c0\", 5:8)) ) %>%\n",
    "    # filter( !(Exp == \"Exp260b\") ) %>%\n",
    "    resize(width=1, fix=\"end\") %>%\n",
    "    filter(cellID %in% colnames(counts)) %>%\n",
    "    # subsetByOverlaps(features) %>%\n",
    "    select( cellID );\n",
    "names(scGRO) = NULL;\n",
    "scGRO"
   ]
  },
  {
   "cell_type": "code",
   "execution_count": null,
   "id": "05d457db-9c80-41f2-9908-beeb22b20364",
   "metadata": {},
   "outputs": [],
   "source": [
    "scrambled = scGRO;\n",
    "scrambled$cellID = droplevels(scrambled$cellID);\n",
    "scrambled$cellID = sample(scrambled$cellID);"
   ]
  },
  {
   "cell_type": "code",
   "execution_count": null,
   "id": "af49fa37-8c2a-43a2-838c-93f7d1f26c16",
   "metadata": {},
   "outputs": [],
   "source": [
    "# load dREG peak calls and convert to GRanges\n",
    "dREG = read.table(\"../data/PROseq_mES_BRsComb.dREG.peak.full.bed\", header=F, stringsAsFactors=F);\n",
    "colnames(dREG) = c(\"chr\", \"start\", \"end\", \"score\", \"pval\", \"center\");\n",
    "dREG = GRanges(dREG)\n",
    "dREG"
   ]
  },
  {
   "cell_type": "code",
   "execution_count": null,
   "id": "a3e49f89-274d-49b7-9738-c0adf417b5e3",
   "metadata": {},
   "outputs": [],
   "source": [
    "# chr_corr = fread(file=\"../data/scGROv2p8_mapq3qc_3xtimebins10kbp_1Kpermuted_chisq_empp.csv.gz\");\n",
    "# # chr_corr = fread(file=\"../data/scGROv2p8_mapq3qc_max10kbp_1Kpermuted_chisq_empp.csv.gz\");\n",
    "#     # filter(emp_p_pos < 0.1 | emp_p_neg < 0.1);\n",
    "#     # filter(emp_p_pos < 0.01);\n",
    "# nrow(chr_corr)\n",
    "# head(chr_corr)"
   ]
  },
  {
   "cell_type": "code",
   "execution_count": null,
   "id": "883c5a5d-69f5-4e07-8455-b22ec6f6cf6f",
   "metadata": {},
   "outputs": [],
   "source": [
    "# chr_corrF = chr_corr %>%\n",
    "#     filter( emp_p_pos <= 0.01 & pA >= 0.025 & pB >= 0.025 & pBoth >= expAB*5);\n",
    "# dim(chr_corrF)\n",
    "# chr_corrF[1:5, ]"
   ]
  },
  {
   "cell_type": "markdown",
   "id": "bc14e6f9-313e-45d1-bc0a-a5e88bd522c6",
   "metadata": {},
   "source": [
    "### plot distance between Genes in same cells and thier positions"
   ]
  },
  {
   "cell_type": "code",
   "execution_count": null,
   "id": "d7baf631-4582-45bf-9dc8-9e353f2f6680",
   "metadata": {},
   "outputs": [],
   "source": [
    "geneA = features[\"GN-Larp7\"]\n",
    "geneA\n",
    "geneB = features[\"GN-Chmp2a\"]\n",
    "geneB\n",
    "plot_position_pairs( scGRO, geneA, geneB, dREG );\n",
    "ggsave(filename=\"../plots/Gene-Gene_pairs_Larp7-Chmp2a.pdf\", width=4, height=4, units=\"in\")\n",
    "\n",
    "plot_position_table(scGRO, geneA, geneB);\n",
    "ggsave(filename=\"../plots/Gene-Gene_relativePosition_Larp7-Chmp2a.pdf\", width=4, height=4, units=\"in\")"
   ]
  },
  {
   "cell_type": "code",
   "execution_count": null,
   "id": "abf40a84-721f-4140-a501-d5e080edadba",
   "metadata": {},
   "outputs": [],
   "source": [
    "geneA = features[\"GN-Rbmxl2\"]\n",
    "geneA\n",
    "geneB = features[\"GN-Hnrnpa1\"]\n",
    "geneB\n",
    "plot_position_pairs( scGRO, geneA, geneB, dREG );\n",
    "ggsave(filename=\"../plots/Gene-Gene_pairs_Rbmxl2-Hnrnpa1.pdf\", width=4, height=4, units=\"in\")\n",
    "\n",
    "plot_position_table(scGRO, geneA, geneB);\n",
    "ggsave(filename=\"../plots/Gene-Gene_relativePosition_Rbmxl2-Hnrnpa1.pdf\", width=4, height=4, units=\"in\")"
   ]
  },
  {
   "cell_type": "code",
   "execution_count": null,
   "id": "1e1a341c-2d0a-4f87-8756-db0d6095fe91",
   "metadata": {},
   "outputs": [],
   "source": [
    "# geneA = features[\"GN-Hnrnpa1\"]\n",
    "geneA = features[\"GN-Smarcc1\"]\n",
    "geneA\n",
    "geneB = features[\"GN-Prkdc\"]\n",
    "geneB\n",
    "plot_position_pairs( scGRO, geneA, geneB, dREG );\n",
    "ggsave(filename=\"../plots/Gene-Gene_pairs_Smarcc1-Prkdc.pdf\", width=4, height=4, units=\"in\")\n",
    "plot_position_table(scGRO, geneA, geneB);\n",
    "ggsave(filename=\"../plots/Gene-Gene_relativePosition_Smarcc1-Prkdc.pdf\", width=4, height=4, units=\"in\")"
   ]
  },
  {
   "cell_type": "code",
   "execution_count": null,
   "id": "5c4b2906-07c8-4a07-88bb-59dcf994c5f6",
   "metadata": {},
   "outputs": [],
   "source": [
    "# geneA = features[\"GN-Hnrnpa1\"]\n",
    "geneA = features[\"GN-Smarcc1\"]\n",
    "geneA\n",
    "geneB = features[\"GN-Senp2\"]\n",
    "geneB\n",
    "plot_position_pairs( scGRO, geneA, geneB, dREG );\n",
    "# ggsave(filename=\"../plots/Gene-Gene_pairs_Npm1-.pdf\", width=4, height=4, units=\"in\")\n",
    "plot_position_table(scGRO, geneA, geneB);\n",
    "# ggsave(filename=\"../plots/Gene-Gene_relativePosition_Npm1-.pdf\", width=4, height=4, units=\"in\")"
   ]
  },
  {
   "cell_type": "code",
   "execution_count": null,
   "id": "5a904429-9299-4760-b9a1-5d380cda25a1",
   "metadata": {},
   "outputs": [],
   "source": [
    "gene = features[\"GN-Sox2\"]\n",
    "enh = features[\"Sox2_105kbDn\"]\n",
    "strand(enh) = \"+\";\n",
    "plot_position_pairs( scGRO, gene, enh, dREG );\n",
    "strand(enh) = \"-\"\n",
    "plot_position_pairs( scGRO, gene, enh, dREG );\n",
    "\n",
    "plot_position_table(scGRO, gene, enh);"
   ]
  },
  {
   "cell_type": "code",
   "execution_count": null,
   "id": "19d2330e-7c40-4d5d-ad22-9db1349659eb",
   "metadata": {},
   "outputs": [],
   "source": [
    "geneA = features[\"GN-Nras\"]\n",
    "geneB = features[\"GN-Prdx6\"]\n",
    "plot_position_pairs( scGRO, geneA, geneB, dREG );\n",
    "plot_position_table(scGRO, geneA, geneB);"
   ]
  },
  {
   "cell_type": "code",
   "execution_count": null,
   "id": "d030cf0f-7330-4483-9096-be62a0186537",
   "metadata": {},
   "outputs": [],
   "source": [
    "geneA = features[\"GN-Dusp12\"]\t\n",
    "geneB = features[\"GN-Rab11b\"]\n",
    "plot_position_pairs( scGRO, geneA, geneB, dREG );\n",
    "plot_position_table(scGRO, geneA, geneB);"
   ]
  },
  {
   "cell_type": "code",
   "execution_count": null,
   "id": "d5c6f949-111e-4408-a99f-4c9c400ca31e",
   "metadata": {},
   "outputs": [],
   "source": [
    "geneA = features[\"GN-Surf6\"]\n",
    "geneB = features[\"GN-Bub3\"]\n",
    "plot_position_pairs( scGRO, geneA, geneB, dREG );\n",
    "plot_position_table(scGRO, geneA, geneB);"
   ]
  },
  {
   "cell_type": "code",
   "execution_count": null,
   "id": "883e1c38-a913-467e-9b41-999cb2ac0c86",
   "metadata": {},
   "outputs": [],
   "source": [
    "geneA = features[\"GN-Purb\"]\n",
    "geneB = features[\"GN-Ndufa7\"]\n",
    "plot_position_pairs( scGRO, geneA, geneB, dREG );\n",
    "plot_position_table(scGRO, geneA, geneB);"
   ]
  },
  {
   "cell_type": "code",
   "execution_count": null,
   "id": "7c2b9e62-34f9-4584-8d40-71ca0ea5f21f",
   "metadata": {},
   "outputs": [],
   "source": [
    "# LHX2_TARGET_GENES according to MSigDB\n",
    "geneA = features[\"GN-Enc1\"]\n",
    "geneB = features[\"GN-Rpl7l1\"]\n",
    "plot_position_pairs( scGRO, geneA, geneB, dREG );\n",
    "plot_position_table(scGRO, geneA, geneB);"
   ]
  },
  {
   "cell_type": "code",
   "execution_count": null,
   "id": "09182ce8-17d2-4226-bb3b-281c48a17c41",
   "metadata": {},
   "outputs": [],
   "source": [
    "geneA = features[\"GN-Ftsj3\"]\n",
    "geneB = features[\"GN-Oxa1l\"]\n",
    "plot_position_pairs( scGRO, geneA, geneB, dREG );\n",
    "plot_position_table(scGRO, geneA, geneB);"
   ]
  },
  {
   "cell_type": "code",
   "execution_count": null,
   "id": "b5bb9cdb-ff59-41db-b434-a16c063baf4e",
   "metadata": {},
   "outputs": [],
   "source": [
    "geneA = features[\"GN-Ahsa1\"]\n",
    "geneB = features[\"GN-Brd2\"]\n",
    "plot_position_pairs( scGRO, geneA, geneB, dREG );\n",
    "plot_position_table(scGRO, geneA, geneB);"
   ]
  },
  {
   "cell_type": "code",
   "execution_count": null,
   "id": "1612d935-2516-41fd-b8f4-eefe4b818b11",
   "metadata": {},
   "outputs": [],
   "source": [
    "# Pnn interacts with Rnps1\n",
    "# https://journals.asm.org/doi/10.1128/MCB.23.20.7363-7376.2003#F4\n",
    "# GN-Pnn\tGN-Rnps1\t0.03350970\t0.02544722\t0.0008527286\t0.004913076\t0.01933373\t0.009\t0.991\n",
    "geneA = features[\"GN-Pnn\"]\n",
    "geneB = features[\"GN-Rnps1\"]\n",
    "plot_position_pairs( scGRO, geneA, geneB, dREG );\n",
    "ggsave(filename=\"../plots/Pnn_Rnps1_sameCell_readPairs.pdf\", width=4, height=4, units=\"in\")\n",
    "plot_position_table(scGRO, geneA, geneB);"
   ]
  },
  {
   "cell_type": "code",
   "execution_count": null,
   "id": "14dd47db-4a0b-4a6d-abf4-2a11df034acd",
   "metadata": {},
   "outputs": [],
   "source": [
    "geneA = features[\"GN-Srsf2\"]\n",
    "geneB = features[\"GN-Morf4l2\"]\n",
    "plot_position_pairs( scGRO, geneA, geneB, dREG );\n",
    "plot_position_table(scGRO, geneA, geneB);"
   ]
  },
  {
   "cell_type": "code",
   "execution_count": null,
   "id": "37a9bb39-fc62-44ab-bf8c-2aec48a27e52",
   "metadata": {},
   "outputs": [],
   "source": [
    "# https://maayanlab.cloud/Harmonizome/gene_set/RNPS1/Pathway+Commons+Protein-Protein+Interactions\n",
    "geneA = features[\"GN-Tcp1\"]\n",
    "geneB = features[\"GN-Rnps1\"]\n",
    "plot_position_pairs( scGRO, geneA, geneB, dREG );\n",
    "plot_position_table(scGRO, geneA, geneB);"
   ]
  },
  {
   "cell_type": "code",
   "execution_count": null,
   "id": "d63ad399-294e-4bb0-9b8b-b979bcae0b23",
   "metadata": {},
   "outputs": [],
   "source": [
    "geneA = features[\"GN-Tcp1\"]\n",
    "geneB = features[\"GN-Mrpl18\"]\n",
    "plot_position_pairs( scGRO, geneA, geneB, dREG );\n",
    "plot_position_table(scGRO, geneA, geneB);"
   ]
  },
  {
   "cell_type": "code",
   "execution_count": null,
   "id": "56bb49f3-07d7-4493-b359-931999949f31",
   "metadata": {},
   "outputs": [],
   "source": [
    "geneA = features[\"GN-Eif2b5\"]\n",
    "geneB = features[\"GN-Rnps1\"]\n",
    "plot_position_pairs( scGRO, geneA, geneB, dREG );\n",
    "plot_position_table(scGRO, geneA, geneB);"
   ]
  },
  {
   "cell_type": "code",
   "execution_count": null,
   "id": "7f3dffe8-42e0-4af5-a9c3-02d8fec33116",
   "metadata": {},
   "outputs": [],
   "source": [
    "geneA = features[\"GN-Rpl30\"]\n",
    "geneB = features[\"GN-Rnps1\"]\n",
    "plot_position_pairs( scGRO, geneA, geneB, dREG );\n",
    "plot_position_table(scGRO, geneA, geneB);"
   ]
  },
  {
   "cell_type": "code",
   "execution_count": null,
   "id": "9523b125-e712-40f9-8b81-72cf49d29432",
   "metadata": {},
   "outputs": [],
   "source": [
    "geneA = features[\"GN-Btf3\"]\n",
    "geneB = features[\"GN-Rbm3\"]\n",
    "plot_position_pairs( scGRO, geneA, geneB, dREG );\n",
    "plot_position_table(scGRO, geneA, geneB);"
   ]
  },
  {
   "cell_type": "code",
   "execution_count": null,
   "id": "d13f97c5-7728-4e58-9bdb-928a110971b0",
   "metadata": {},
   "outputs": [],
   "source": [
    "geneA = features[\"GN-Tcp1\"]\n",
    "geneB = features[\"GN-Rnps1\"]\n",
    "plot_position_pairs( scGRO, geneA, geneB, dREG );\n",
    "plot_position_table(scGRO, geneA, geneB);"
   ]
  },
  {
   "cell_type": "code",
   "execution_count": null,
   "id": "29ac0736-6d57-47bf-8aba-015df64bb773",
   "metadata": {},
   "outputs": [],
   "source": [
    "geneA = features[\"GN-\"]\n",
    "geneB = features[\"GN-\"]\n",
    "plot_position_pairs( scGRO, geneA, geneB, dREG );\n",
    "plot_position_table(scGRO, geneA, geneB);"
   ]
  }
 ],
 "metadata": {
  "kernelspec": {
   "display_name": "R",
   "language": "R",
   "name": "ir"
  },
  "language_info": {
   "codemirror_mode": "r",
   "file_extension": ".r",
   "mimetype": "text/x-r-source",
   "name": "R",
   "pygments_lexer": "r",
   "version": "4.2.2"
  }
 },
 "nbformat": 4,
 "nbformat_minor": 5
}
