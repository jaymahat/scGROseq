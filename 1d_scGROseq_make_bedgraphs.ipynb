{
 "cells": [
  {
   "cell_type": "markdown",
   "id": "b298ae25-95d3-409d-aa6f-9cb5e286d3bc",
   "metadata": {},
   "source": [
    "### Make bedgraph files:"
   ]
  },
  {
   "cell_type": "code",
   "execution_count": null,
   "id": "115e1948-1171-4adf-9d46-4733e6462f7a",
   "metadata": {},
   "outputs": [],
   "source": [
    ".libPaths(\"/home/mahat/.conda/envs/r422/lib/R/library\")\n",
    ".libPaths()"
   ]
  },
  {
   "cell_type": "code",
   "execution_count": null,
   "id": "0161e733-ceb7-4031-947f-d0c75c8d5df0",
   "metadata": {},
   "outputs": [],
   "source": [
    "suppressMessages({\n",
    "    library(tidyverse)\n",
    "    library(scales)\n",
    "    library(foreach)\n",
    "    library(doParallel)\n",
    "    library(rtracklayer)\n",
    "    library(plyranges)\n",
    "    library(Matrix)\n",
    "    library(ggcorrplot)\n",
    "});"
   ]
  },
  {
   "cell_type": "code",
   "execution_count": null,
   "id": "6e59710e-bdde-45f1-9cec-d6eb4f0121cf",
   "metadata": {},
   "outputs": [],
   "source": [
    "registerDoParallel(8);\n",
    "options(\n",
    "    repr.plot.width=5,\n",
    "    repr.plot.height=3,\n",
    "    jupyter.plot_mimetypes = \"image/svg+xml\"\n",
    ");\n",
    "theme_set(theme_classic());"
   ]
  },
  {
   "cell_type": "markdown",
   "id": "ad02bcb0-01bc-4f95-845d-6ad892a61966",
   "metadata": {},
   "source": [
    "## 1. Load scGRO-seq reads and custom feature annotations"
   ]
  },
  {
   "cell_type": "code",
   "execution_count": null,
   "id": "637552ce-80ce-43ba-96bc-403fac37f0f2",
   "metadata": {},
   "outputs": [],
   "source": [
    "# load groHMM-extended genes and enhancers\n",
    "# features = read_bed(\"../data/groHMM_mES_BRsComb_LP-50_UTS10_features_customized_v2.bed\");\n",
    "features = read_bed(\"../data/groHMM_dREG_refinedFeatures_mES_mm10_OSNcustomEnhancers_SEs.bed\");\n",
    "names(features) = features$name;\n",
    "features$name=NULL;\n",
    "features$score=NULL;\n",
    "\n",
    "# truncate long features to 20kb to reduce bias\n",
    "#longf = which( width(features) > 20000 );\n",
    "#features[longf] = features[longf] %>%\n",
    "#    resize( width = 20000, fix=\"start\" );"
   ]
  },
  {
   "cell_type": "code",
   "execution_count": null,
   "id": "e5b2ce16-9b4b-457d-8074-bf6be494a089",
   "metadata": {
    "tags": []
   },
   "outputs": [],
   "source": [
    "# load desired scGRO dataset\n",
    "scGRO = readRDS(\"../data/scGROv2p8_consolidated.rds\");\n",
    "length(scGRO)\n",
    "counts = readRDS( \"../data/scGROv2p8_mapq3qc_filtered_counts.rds\" );\n",
    "dim(counts)"
   ]
  },
  {
   "cell_type": "code",
   "execution_count": null,
   "id": "9c113fc4-aa94-4079-a43a-eeaac46244af",
   "metadata": {},
   "outputs": [],
   "source": [
    "# Merge experiment ID and cell barcode to create unique cell ID across experiments\n",
    "scGROfilt = scGRO %>%\n",
    "    filter( mapq >= 3 & umiQC & plateQC & cellQC & countQC & miRQC ) %>%\n",
    "    # filter( umiQC & miRQC ) %>%\n",
    "    mutate( ExpID = factor(paste( Exp, sep=\"\") ) ) %>%\n",
    "    mutate( PlateID = factor(paste( Exp, Plate, sep=\"-\") ) ) %>%\n",
    "    mutate( cellID = factor( paste( Exp, Plate, Cell, sep=\"-\") ) ) %>%\n",
    "    # filter( seqnames != \"chrM\" ) %>%\n",
    "    resize( width=1, fix=\"end\" ) %>%\n",
    "    # Only keep reads that belong to filtered cells\n",
    "    filter( cellID %in% colnames(counts) ) %>%\n",
    "    select( ExpID, PlateID, cellID );\n",
    "# names(scGRO) = NULL;\n",
    "scGROfilt"
   ]
  },
  {
   "cell_type": "code",
   "execution_count": null,
   "id": "35199024-dbe8-44b0-bd5e-77e55005590e",
   "metadata": {},
   "outputs": [],
   "source": [
    "unique(scGROfilt$ExpID)\n",
    "unique(scGROfilt$PlateID)"
   ]
  },
  {
   "cell_type": "code",
   "execution_count": null,
   "id": "e720ceda-2aa6-496c-bfe2-925d48780c16",
   "metadata": {},
   "outputs": [],
   "source": [
    "# begraph of all cells\n",
    "id = \"ExpXXX_cXX\"\n",
    "outf = paste0( \"../data/scGROv2p8_mapq3qc_filtered_BedGraphs/\", id, \"_pl.bedGraph\" );\n",
    "counts = scGROfilt %>%\n",
    "    filter(strand == \"+\") %>%\n",
    "    coverage();\n",
    "export(counts, format=\"bedGraph\", con=outf);\n",
    "\n",
    "outf = paste0( \"../data/scGROv2p8_mapq3qc_filtered_BedGraphs/\", id, \"_mn.bedGraph\" );\n",
    "counts = scGROfilt %>%\n",
    "    filter(strand == \"-\") %>%\n",
    "    coverage()\n",
    "export(counts, format=\"bedGraph\", con=outf);"
   ]
  },
  {
   "cell_type": "code",
   "execution_count": null,
   "id": "cf308dce-99a6-4ceb-b21a-bbebc63565c2",
   "metadata": {},
   "outputs": [],
   "source": [
    "# begraph of all cells except Exp236_c05-c08\n",
    "id = \"ExpXXX_BUT_236_c05-08\"\n",
    "outf = paste0( \"../data/scGROv2p8_mapq3qc_filtered_BedGraphs/\", id, \"_pl.bedGraph\" );\n",
    "counts = scGROfilt %>%\n",
    "    filter(strand == \"+\" & !PlateID %in% c(\"Exp236-c05\", \"Exp236-c06\", \"Exp236-c07\", \"Exp236-c08\")) %>%\n",
    "    coverage();\n",
    "export(counts, format=\"bedGraph\", con=outf);\n",
    "\n",
    "outf = paste0( \"../data/scGROv2p8_mapq3qc_filtered_BedGraphs/\", id, \"_mn.bedGraph\" );\n",
    "counts = scGROfilt %>%\n",
    "    filter(strand == \"-\" & !PlateID %in% c(\"Exp236-c05\", \"Exp236-c06\", \"Exp236-c07\", \"Exp236-c08\")) %>%\n",
    "    coverage()\n",
    "export(counts, format=\"bedGraph\", con=outf);"
   ]
  },
  {
   "cell_type": "code",
   "execution_count": null,
   "id": "e31ea4d4-90ca-43ba-af77-51a83e59c13d",
   "metadata": {
    "tags": []
   },
   "outputs": [],
   "source": [
    "#Exp level:\n",
    "scGROfilt$ExpID = droplevels(scGROfilt$ExpID);\n",
    "\n",
    "foreach(\n",
    "    id = levels(scGROfilt$ExpID)\n",
    ") %do% {\n",
    "    outf = paste0( \"../data/scGROv2p8_mapq3qc_filtered_BedGraphs/\", id, \"_pl.bedGraph\" );\n",
    "    counts = scGROfilt %>%\n",
    "        filter(strand == \"+\" & ExpID == id) %>%\n",
    "        coverage();\n",
    "    export(counts, format=\"bedGraph\", con=outf);\n",
    "    \n",
    "    outf = paste0( \"../data/scGROv2p8_mapq3qc_filtered_BedGraphs/\", id, \"_mn.bedGraph\" );\n",
    "    counts = scGROfilt %>%\n",
    "        filter(strand == \"-\" & ExpID == id) %>%\n",
    "        coverage()\n",
    "    export(counts, format=\"bedGraph\", con=outf);\n",
    "    return();\n",
    "}"
   ]
  },
  {
   "cell_type": "code",
   "execution_count": null,
   "id": "3a3c24bf-e690-4f28-b7fd-fae5412cf09c",
   "metadata": {
    "tags": []
   },
   "outputs": [],
   "source": [
    "#Plate level:\n",
    "scGROfilt$PlateID = droplevels(scGROfilt$PlateID);\n",
    "\n",
    "foreach(\n",
    "    id = levels(scGROfilt$PlateID)\n",
    ") %do% {\n",
    "    outf = paste0( \"../data/scGROv2p8_mapq3qc_filtered_BedGraphs/\", id, \"_pl.bedGraph\" );\n",
    "    counts = scGROfilt %>%\n",
    "        filter(strand == \"+\" & PlateID == id) %>%\n",
    "        coverage();\n",
    "    export(counts, format=\"bedGraph\", con=outf);\n",
    "    \n",
    "    outf = paste0( \"../data/scGROv2p8_mapq3qc_filtered_BedGraphs/\", id, \"_mn.bedGraph\" );\n",
    "    counts = scGROfilt %>%\n",
    "        filter(strand == \"-\" & PlateID == id) %>%\n",
    "        coverage()\n",
    "    export(counts, format=\"bedGraph\", con=outf);\n",
    "    return();\n",
    "}"
   ]
  },
  {
   "cell_type": "code",
   "execution_count": null,
   "id": "0416bc7f-fcc5-422c-9ad7-6589a3e668bf",
   "metadata": {},
   "outputs": [],
   "source": [
    "scGROfiltExp264a = scGROfilt %>%\n",
    "                filter(ExpID == \"Exp264a\");\n",
    "scGROfiltExp264a\n",
    "\n",
    "unique(scGROfiltExp264a$ExpID)\n",
    "unique(scGROfiltExp264a$PlateID)\n",
    "\n",
    "length(levels(scGROfiltExp264a$cellID));\n",
    "scGROfiltExp264a$cellID = droplevels(scGROfiltExp264a$cellID);\n",
    "length(levels(scGROfiltExp264a$cellID));"
   ]
  },
  {
   "cell_type": "code",
   "execution_count": null,
   "id": "1855980b-7a19-4e9c-87cb-22f553b85f71",
   "metadata": {
    "tags": []
   },
   "outputs": [],
   "source": [
    "# generate bedGraphs (or bigWigs) of read coverage for individual cells in Exp264a\n",
    "\n",
    "foreach(\n",
    "    id = levels(scGROfiltExp264a$cellID)\n",
    ") %do% {\n",
    "    outf = paste0( \"../data/scGROv2p8_filtered_Exp264a_singleCells_BedGraphs/\", id, \"_pl.bedGraph\" );\n",
    "    counts = scGROfiltExp264a %>%\n",
    "        filter(strand == \"+\" & cellID == id) %>%\n",
    "        coverage();\n",
    "    export(counts, format=\"bedGraph\", con=outf);\n",
    "    \n",
    "    outf = paste0( \"../data/scGROv2p8_filtered_Exp264a_singleCells_BedGraphs/\", id, \"_mn.bedGraph\" );\n",
    "    counts = scGROfiltExp264a %>%\n",
    "        filter(strand == \"-\" & cellID == id) %>%\n",
    "        coverage()\n",
    "    export(counts, format=\"bedGraph\", con=outf);\n",
    "    return();\n",
    "}"
   ]
  }
 ],
 "metadata": {
  "kernelspec": {
   "display_name": "R",
   "language": "R",
   "name": "ir"
  },
  "language_info": {
   "codemirror_mode": "r",
   "file_extension": ".r",
   "mimetype": "text/x-r-source",
   "name": "R",
   "pygments_lexer": "r",
   "version": "4.2.2"
  }
 },
 "nbformat": 4,
 "nbformat_minor": 5
}
