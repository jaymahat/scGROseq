{
 "cells": [
  {
   "cell_type": "code",
   "execution_count": 2,
   "id": "637be83a-ef96-4ec1-93cf-0051dbbc4dc0",
   "metadata": {},
   "outputs": [
    {
     "data": {
      "text/html": [
       "'/net/bmc-lab2/data/lab/sharp/mahat/conda/envs/r422/lib/R/library'"
      ],
      "text/latex": [
       "'/net/bmc-lab2/data/lab/sharp/mahat/conda/envs/r422/lib/R/library'"
      ],
      "text/markdown": [
       "'/net/bmc-lab2/data/lab/sharp/mahat/conda/envs/r422/lib/R/library'"
      ],
      "text/plain": [
       "[1] \"/net/bmc-lab2/data/lab/sharp/mahat/conda/envs/r422/lib/R/library\""
      ]
     },
     "metadata": {},
     "output_type": "display_data"
    }
   ],
   "source": [
    ".libPaths(\"/home/mahat/.conda/envs/r422/lib/R/library\")\n",
    "# .libPaths(c(\"/home/mahat/.conda/envs/r422/lib/R/library\",\n",
    "#             \"/net/bmc-lab2/data/lab/scgroseq/group/software/R/x86_64-pc-linux-gnu-library/4.2\"))\n",
    ".libPaths()"
   ]
  },
  {
   "cell_type": "code",
   "execution_count": 3,
   "id": "b159ff73-dadd-4aa4-beec-a733593eaa4c",
   "metadata": {},
   "outputs": [
    {
     "name": "stdout",
     "output_type": "stream",
     "text": [
      "               Installed ReposVer Built  \n",
      "ergm           \"4.4.0\"   \"4.6.0\"  \"4.2.2\"\n",
      "network        \"1.18.1\"  \"1.18.2\" \"4.2.2\"\n",
      "networkDynamic \"0.11.3\"  \"0.11.4\" \"4.2.2\"\n",
      "sna            \"2.7-1\"   \"2.7-2\"  \"4.2.2\"\n",
      "statnet.common \"4.8.0\"   \"4.9.0\"  \"4.2.2\"\n",
      "tergm          \"4.1.1\"   \"4.2.0\"  \"4.2.2\"\n"
     ]
    },
    {
     "name": "stderr",
     "output_type": "stream",
     "text": [
      "Warning message:\n",
      "“package ‘ggrastr’ was built under R version 4.2.3”\n"
     ]
    }
   ],
   "source": [
    "suppressMessages({\n",
    "    library(tidyverse)\n",
    "    library(dplyr)\n",
    "    library(matrixStats)\n",
    "    library(foreach)\n",
    "    library(doParallel)\n",
    "    library(plyranges)\n",
    "    library(viridis)\n",
    "    library(ggpointdensity)\n",
    "    library(Matrix)\n",
    "    library(data.table)\n",
    "    library(Hmisc)\n",
    "    library(gplots)\n",
    "    library(rstatix)\n",
    "    library(scattermore)\n",
    "    library(igraph)\n",
    "    library(ggraph)\n",
    "    library(network)\n",
    "    library(sna)\n",
    "    library(statnet)\n",
    "    library(rtracklayer)\n",
    "    library(clusterProfiler)\n",
    "    library(stringr)\n",
    "    library(org.Mm.eg.db)\n",
    "    library(circlize)\n",
    "    library(gplots)\n",
    "    library(RIdeogram)\n",
    "    library(enrichplot)\n",
    "    library(GOSemSim)\n",
    "    library(dynamicTreeCut)\n",
    "    library(WGCNA)\n",
    "    library(ggrastr)\n",
    "});\n",
    "source(\"./scGRO_functions.r\");"
   ]
  },
  {
   "cell_type": "code",
   "execution_count": 4,
   "id": "104b0744-9e76-43bb-b44f-a1210e78db0b",
   "metadata": {},
   "outputs": [],
   "source": [
    "registerDoParallel(16);\n",
    "options(\n",
    "    repr.plot.width=6,\n",
    "    repr.plot.height=6,\n",
    "    jupyter.plot_mimetypes = \"image/svg+xml\",\n",
    "    digits=5\n",
    ");\n",
    "theme_set(theme_classic() +\n",
    "    theme(\n",
    "        axis.title.x = element_text(color=\"black\", size=14, face=\"bold\"), \n",
    "        axis.title.y = element_text(color=\"black\", size=14, face=\"bold\"),\n",
    "        axis.text = element_text(color=\"black\", size=12, face=\"bold\"),\n",
    "        plot.title = element_text(face=\"bold\", size=14, hjust = 0.5),\n",
    "        axis.line = element_blank(),\n",
    "        # axis.ticks = element_blank()\n",
    "        panel.border = element_rect(colour = \"grey\", fill=NA, linewidth=1)\n",
    "    )\n",
    ");"
   ]
  },
  {
   "cell_type": "code",
   "execution_count": 5,
   "id": "d0c7ec70-b04a-49de-9760-2fc2dc851f7d",
   "metadata": {},
   "outputs": [],
   "source": [
    "# Get equation and r^2 as string\n",
    "# https://groups.google.com/forum/#!topic/ggplot2/1TgH-kG5XMA\n",
    "\n",
    "lm_eqn = function(x, y) {\n",
    "    m = lm(y ~ x+0);\n",
    "    eq = substitute(italic(y) == a + b %.% italic(x)*\",\"~~italic(r)^2~\"=\"~r2, \n",
    "         list(a = format(unname(coef(m)[1]), digits = 2),\n",
    "              b = format(unname(coef(m)[2]), digits = 2),\n",
    "             r2 = format(summary(m)$r.squared, digits = 2)))\n",
    "    eq2 = substitute(italic(y) == a %.% italic(x)*\",\"~~italic(r)^2~\"=\"~r2, \n",
    "     list(a = format(unname(coef(m)[1]), digits = 2),\n",
    "         r2 = format(summary(m)$r.squared, digits = 2)))\n",
    "\n",
    "    as.character(as.expression(eq2));\n",
    "}"
   ]
  },
  {
   "cell_type": "code",
   "execution_count": 6,
   "id": "0310caff-6116-4a5d-9295-ae13eaf72701",
   "metadata": {},
   "outputs": [
    {
     "data": {
      "text/plain": [
       "GRanges object with 23980 ranges and 2 metadata columns:\n",
       "                  seqnames            ranges strand |            name      dREG\n",
       "                     <Rle>         <IRanges>  <Rle> |     <character> <logical>\n",
       "        GN-Lypla1     chr1   4807559-4857592      + |       GN-Lypla1      TRUE\n",
       "         GN-Tcea1     chr1   4857693-4916049      + |        GN-Tcea1      TRUE\n",
       "       GN-Atp6v1h     chr1   5082977-5170849      + |      GN-Atp6v1h      TRUE\n",
       "         GN-Oprk1     chr1   5588449-5606134      + |        GN-Oprk1      TRUE\n",
       "        GN-Rb1cc1     chr1   6214661-6287049      + |       GN-Rb1cc1      TRUE\n",
       "              ...      ...               ...    ... .             ...       ...\n",
       "  GN-LOC108168665     chrY 86943635-86944319      - | GN-LOC108168665     FALSE\n",
       "  GN-LOC108168654     chrY 88804769-88805453      - | GN-LOC108168654     FALSE\n",
       "       GN-Gm21996     chrY 89700320-89745550      - |      GN-Gm21996     FALSE\n",
       "  GN-LOC108168534     chrY 90737350-90750205      - | GN-LOC108168534     FALSE\n",
       "  GN-LOC108168644     chrY 90822500-90829395      - | GN-LOC108168644      TRUE\n",
       "  -------\n",
       "  seqinfo: 22 sequences from an unspecified genome; no seqlengths"
      ]
     },
     "metadata": {},
     "output_type": "display_data"
    },
    {
     "data": {
      "text/plain": [
       "GRanges object with 36559 ranges and 0 metadata columns:\n",
       "                seqnames            ranges strand\n",
       "                   <Rle>         <IRanges>  <Rle>\n",
       "      GN-Lypla1     chr1   4807559-4857592      +\n",
       "       GN-Tcea1     chr1   4857693-4916049      +\n",
       "     GN-Atp6v1h     chr1   5082977-5170849      +\n",
       "       GN-Oprk1     chr1   5588449-5606134      +\n",
       "      GN-Rb1cc1     chr1   6214661-6287049      +\n",
       "            ...      ...               ...    ...\n",
       "  chrY-90724550     chrY 90724550-90727549      *\n",
       "  chrY-90737450     chrY 90737450-90742449      *\n",
       "  chrY-90742920     chrY 90742920-90745919      *\n",
       "  chrY-90760850     chrY 90760850-90765849      *\n",
       "  chrY-90774850     chrY 90774850-90777849      *\n",
       "  -------\n",
       "  seqinfo: 21 sequences from an unspecified genome; no seqlengths"
      ]
     },
     "metadata": {},
     "output_type": "display_data"
    }
   ],
   "source": [
    "# load genes with dREG status for expression filter\n",
    "genesWithdREGstatus = readRDS(\"../data/groHMM_dREG_refinedGenes_mES_mm10.rds\");\n",
    "genesWithdREGstatus\n",
    "# load groHMM-extended genes and enhancers\n",
    "# features = read_bed(\"../data/groHMM_mES_BRsComb_LP-50_UTS10_features_customized_v2.bed\");\n",
    "\n",
    "# load features\n",
    "features = read_bed(\"../data/groHMM_dREG_refinedFeatures_mES_mm10_OSNcustomEnhancers_SEs.bed\");\n",
    "# features = read_bed(\"../data/mES_BRsComb_dREGfiltered_features_customized_OSNenhancersPlusSEs_v1.bed\");\n",
    "# features = read_bed(\"../data/groHMM_mES_BRsComb_LP-50_UTS10_features_customized_OSNenhancersPlusSEs_v2.bed\");\n",
    "names(features) = features$name;\n",
    "features$name=NULL;\n",
    "features$score=NULL;\n",
    "features"
   ]
  },
  {
   "cell_type": "code",
   "execution_count": 7,
   "id": "ac954ce3-d7f9-45b0-a460-85de6c01d352",
   "metadata": {},
   "outputs": [
    {
     "data": {
      "text/html": [
       "614"
      ],
      "text/latex": [
       "614"
      ],
      "text/markdown": [
       "614"
      ],
      "text/plain": [
       "[1] 614"
      ]
     },
     "metadata": {},
     "output_type": "display_data"
    },
    {
     "data": {
      "text/plain": [
       "   Min. 1st Qu.  Median    Mean 3rd Qu.    Max. \n",
       "    203     401     626     612     815     999 "
      ]
     },
     "metadata": {},
     "output_type": "display_data"
    },
    {
     "data": {
      "text/html": [
       "<style>\n",
       ".list-inline {list-style: none; margin:0; padding: 0}\n",
       ".list-inline>li {display: inline-block}\n",
       ".list-inline>li:not(:last-child)::after {content: \"\\00b7\"; padding: 0 .5ex}\n",
       "</style>\n",
       "<ol class=list-inline><li>'GN-Gm8210'</li><li>'GN-Gm33795'</li><li>'GN-Gm10561'</li><li>'GN-Gm20257'</li><li>'GN-Gm39669'</li></ol>\n"
      ],
      "text/latex": [
       "\\begin{enumerate*}\n",
       "\\item 'GN-Gm8210'\n",
       "\\item 'GN-Gm33795'\n",
       "\\item 'GN-Gm10561'\n",
       "\\item 'GN-Gm20257'\n",
       "\\item 'GN-Gm39669'\n",
       "\\end{enumerate*}\n"
      ],
      "text/markdown": [
       "1. 'GN-Gm8210'\n",
       "2. 'GN-Gm33795'\n",
       "3. 'GN-Gm10561'\n",
       "4. 'GN-Gm20257'\n",
       "5. 'GN-Gm39669'\n",
       "\n",
       "\n"
      ],
      "text/plain": [
       "[1] \"GN-Gm8210\"  \"GN-Gm33795\" \"GN-Gm10561\" \"GN-Gm20257\" \"GN-Gm39669\""
      ]
     },
     "metadata": {},
     "output_type": "display_data"
    },
    {
     "data": {
      "text/html": [
       "117"
      ],
      "text/latex": [
       "117"
      ],
      "text/markdown": [
       "117"
      ],
      "text/plain": [
       "[1] 117"
      ]
     },
     "metadata": {},
     "output_type": "display_data"
    },
    {
     "data": {
      "text/plain": [
       "   Min. 1st Qu.  Median    Mean 3rd Qu.    Max. \n",
       "    375    6785   10938   16845   15023  200344 "
      ]
     },
     "metadata": {},
     "output_type": "display_data"
    },
    {
     "data": {
      "text/html": [
       "<style>\n",
       ".list-inline {list-style: none; margin:0; padding: 0}\n",
       ".list-inline>li {display: inline-block}\n",
       ".list-inline>li:not(:last-child)::after {content: \"\\00b7\"; padding: 0 .5ex}\n",
       "</style>\n",
       "<ol class=list-inline><li>'GN-Snhg6'</li><li>'GN-Snhg7os'</li><li>'GN-Snhg11'</li><li>'GN-Snhg7'</li><li>'GN-Snhg17'</li><li>'GN-Rps6kb2'</li><li>'GN-Rps6ka4'</li><li>'GN-Rpl10'</li><li>'GN-Rpl36a'</li><li>'GN-Rps6ka3'</li><li>'GN-Rpl39'</li></ol>\n"
      ],
      "text/latex": [
       "\\begin{enumerate*}\n",
       "\\item 'GN-Snhg6'\n",
       "\\item 'GN-Snhg7os'\n",
       "\\item 'GN-Snhg11'\n",
       "\\item 'GN-Snhg7'\n",
       "\\item 'GN-Snhg17'\n",
       "\\item 'GN-Rps6kb2'\n",
       "\\item 'GN-Rps6ka4'\n",
       "\\item 'GN-Rpl10'\n",
       "\\item 'GN-Rpl36a'\n",
       "\\item 'GN-Rps6ka3'\n",
       "\\item 'GN-Rpl39'\n",
       "\\end{enumerate*}\n"
      ],
      "text/markdown": [
       "1. 'GN-Snhg6'\n",
       "2. 'GN-Snhg7os'\n",
       "3. 'GN-Snhg11'\n",
       "4. 'GN-Snhg7'\n",
       "5. 'GN-Snhg17'\n",
       "6. 'GN-Rps6kb2'\n",
       "7. 'GN-Rps6ka4'\n",
       "8. 'GN-Rpl10'\n",
       "9. 'GN-Rpl36a'\n",
       "10. 'GN-Rps6ka3'\n",
       "11. 'GN-Rpl39'\n",
       "\n",
       "\n"
      ],
      "text/plain": [
       " [1] \"GN-Snhg6\"   \"GN-Snhg7os\" \"GN-Snhg11\"  \"GN-Snhg7\"   \"GN-Snhg17\" \n",
       " [6] \"GN-Rps6kb2\" \"GN-Rps6ka4\" \"GN-Rpl10\"   \"GN-Rpl36a\"  \"GN-Rps6ka3\"\n",
       "[11] \"GN-Rpl39\"  "
      ]
     },
     "metadata": {},
     "output_type": "display_data"
    }
   ],
   "source": [
    "# genes shorter than 1500 are: 2931\n",
    "# genes shorter than 1000 are: 2209\n",
    "# genes shorter than  500 are:  484\n",
    "# genes shorter than  200 are:  147\n",
    "\n",
    "# short Gm### genes\n",
    "shortGm = features %>%\n",
    "    filter( substr(names, 0, 3) == \"GN-\" ) %>%\n",
    "    filter( width > 200 ) %>%\n",
    "    filter( width < 1000 & substr(names, 0, 5) == \"GN-Gm\" );\n",
    "length(shortGm)\n",
    "summary(width(shortGm))\n",
    "names(shortGm)[1:5]\n",
    "\n",
    "# define highly expressed \"blacklist\" genes to be\n",
    "# removed from correlations\n",
    "blacklist = grep( \"GN-Rp[ls]\" , names(features) );\n",
    "blacklist = grep( \"GN-Sn[oh]\", names(features) ) %>%\n",
    "    append(blacklist);\n",
    "\n",
    "blacklist = names(features)[ blacklist ];\n",
    "length(blacklist)\n",
    "summary(width(features[ blacklist ]))\n",
    "blacklist[c(1:5, 110:115)]"
   ]
  },
  {
   "cell_type": "code",
   "execution_count": 8,
   "id": "e41b0b11-b599-4cc6-83b1-8435a5008528",
   "metadata": {},
   "outputs": [],
   "source": [
    "# Specify feature length (half at the start and other half at the end)\n",
    "# to be trimmed to eliminate the effect of paused Pol II at TSS and TES\n",
    "trimEndLength =  1000;\n",
    "# specify maximum gene length to be used for G-E correlation:\n",
    "maxLength = 10000;"
   ]
  },
  {
   "cell_type": "code",
   "execution_count": 9,
   "id": "712028d0-f569-44cb-bbe2-e97c2a3cb7bb",
   "metadata": {},
   "outputs": [
    {
     "data": {
      "text/html": [
       "15666"
      ],
      "text/latex": [
       "15666"
      ],
      "text/markdown": [
       "15666"
      ],
      "text/plain": [
       "[1] 15666"
      ]
     },
     "metadata": {},
     "output_type": "display_data"
    },
    {
     "data": {
      "text/plain": [
       "   Min. 1st Qu.  Median    Mean 3rd Qu.    Max. \n",
       "    200   10000   10000    8738   10000   10000 "
      ]
     },
     "metadata": {},
     "output_type": "display_data"
    }
   ],
   "source": [
    "# filter genes\n",
    "genes = features %>%\n",
    "    filter( substr(names, 0, 3) == \"GN-\" ) %>%\n",
    "# remove genes less than 200 nt (mostly Gm genes)\n",
    "    filter( width >= 200 ) %>%\n",
    "# filter genes with dREG peaks\n",
    "    filter( names %in% names(genesWithdREGstatus[genesWithdREGstatus$dREG == T]) | \n",
    "           !names %in% names(genesWithdREGstatus) ) %>%\n",
    "# filter highly expressed genes\n",
    "    filter(!names %in% blacklist ) %>%\n",
    "# filter Gm genes shorter than 1 kb\n",
    "    filter(!names %in% names(shortGm) );\n",
    "\n",
    "# trim 250 nt from either ends of genes that are longer than 1000\n",
    "trimGenes = which( width(genes) >= 1000 );\n",
    "genes[trimGenes] = genes[trimGenes] %>%\n",
    "# truncate 500 bp in the front and 500 nt in the end of long genes\n",
    "    anchor_center() %>%\n",
    "    mutate( width = width - 500);\n",
    "\n",
    "# trim additional 250 nt from either ends of genes that are now longer than 1000 (originally 1500)\n",
    "trimGenes = which( width(genes) >= 1000 );\n",
    "genes[trimGenes] = genes[trimGenes] %>%\n",
    "# truncate 500 bp in the front and 500 nt in the end of long genes\n",
    "    anchor_center() %>%\n",
    "    mutate( width = width - 500);\n",
    "\n",
    "# trim the long genes to 10 kb\n",
    "longf = which( width(genes) >= 10000 );\n",
    "genes[longf] = genes[longf] %>%\n",
    "    resize( width = 10000, fix=\"start\" );\n",
    "length(genes)\n",
    "# summary(width(genes %>% filter(width <1000)))\n",
    "summary(width(genes))"
   ]
  },
  {
   "cell_type": "code",
   "execution_count": 10,
   "id": "7e1fd376-a03c-40fd-bc33-8df70f985e87",
   "metadata": {},
   "outputs": [],
   "source": [
    "# # create 10kbp time-bins within each feature\n",
    "# timebins1 = resize( genes,  width= 10000, fix=\"start\" );\n",
    "\n",
    "# # intersect with original features to trim excess\n",
    "# # (some features are <30 kbp)\n",
    "# timebins1 = pintersect( timebins1, genes );"
   ]
  },
  {
   "cell_type": "code",
   "execution_count": 11,
   "id": "7c94826c-6623-473d-aef8-23660a5d6c9e",
   "metadata": {},
   "outputs": [
    {
     "data": {
      "text/html": [
       "<style>\n",
       ".list-inline {list-style: none; margin:0; padding: 0}\n",
       ".list-inline>li {display: inline-block}\n",
       ".list-inline>li:not(:last-child)::after {content: \"\\00b7\"; padding: 0 .5ex}\n",
       "</style>\n",
       "<ol class=list-inline><li>36559</li><li>2635</li></ol>\n"
      ],
      "text/latex": [
       "\\begin{enumerate*}\n",
       "\\item 36559\n",
       "\\item 2635\n",
       "\\end{enumerate*}\n"
      ],
      "text/markdown": [
       "1. 36559\n",
       "2. 2635\n",
       "\n",
       "\n"
      ],
      "text/plain": [
       "[1] 36559  2635"
      ]
     },
     "metadata": {},
     "output_type": "display_data"
    }
   ],
   "source": [
    "scGRO = readRDS(\"../data/scGROv2p8_consolidated.rds\");\n",
    "counts = readRDS(\"../data/scGROv2p8_mapq3qc_max10kbp_filtered_counts.rds\");\n",
    "#counts = counts[,colSums(counts) >= 1000 ];\n",
    "dim(counts)\n",
    "allcells = colnames(counts);"
   ]
  },
  {
   "cell_type": "code",
   "execution_count": 12,
   "id": "fb4475ed-5fd3-4b06-9aef-7643be24d56c",
   "metadata": {},
   "outputs": [
    {
     "data": {
      "text/plain": [
       "\n",
       "Exp156 Exp160 Exp208 Exp211 Exp236 Exp246 Exp260 Exp263 Exp264 \n",
       "   104    100    142    115    835     93    679    268    299 "
      ]
     },
     "metadata": {},
     "output_type": "display_data"
    }
   ],
   "source": [
    "table(substr(allcells, 0, 6));"
   ]
  },
  {
   "cell_type": "code",
   "execution_count": 13,
   "id": "287bf640-cf2f-4b91-a83e-500d4681571d",
   "metadata": {},
   "outputs": [
    {
     "data": {
      "text/plain": [
       "GRanges object with 1074546 ranges and 12 metadata columns:\n",
       "            seqnames            ranges strand |      mapq    PolPos      Exp\n",
       "               <Rle>         <IRanges>  <Rle> | <integer> <integer> <factor>\n",
       "        [1]     chr1   4808020-4808069      + |         3   4808069  Exp264a\n",
       "        [2]     chr1   4808144-4808171      + |        42   4808171  Exp264a\n",
       "        [3]     chr1   4808183-4808243      + |        40   4808243  Exp260b\n",
       "        [4]     chr1   4808217-4808271      + |        23   4808271  Exp236 \n",
       "        [5]     chr1   4808223-4808280      + |        42   4808280  Exp156 \n",
       "        ...      ...               ...    ... .       ...       ...      ...\n",
       "  [1074542]     chrY 90828680-90828724      - |        22  90828680  Exp236 \n",
       "  [1074543]     chrY 90828694-90828728      - |        42  90828694  Exp260b\n",
       "  [1074544]     chrY 90828695-90828735      - |        28  90828695  Exp236 \n",
       "  [1074545]     chrY 90828695-90828737      - |         4  90828695  Exp236 \n",
       "  [1074546]     chrY 90828697-90828745      - |        16  90828697  Exp246 \n",
       "               Plate         Cell      UMI     miRQC     umiQC   plateQC\n",
       "            <factor>     <factor> <factor> <logical> <logical> <logical>\n",
       "        [1]      c04 AGACTGGACG      ACCCC      TRUE      TRUE      TRUE\n",
       "        [2]      c14 CTATCCAGAT      GCAGG      TRUE      TRUE      TRUE\n",
       "        [3]      c13 TTCCGTCGGA      TTTTT      TRUE      TRUE      TRUE\n",
       "        [4]      c06 AAGACAACGG      TCTCT      TRUE      TRUE      TRUE\n",
       "        [5]      c09 GTACTACAGGAC    AAGGA      TRUE      TRUE      TRUE\n",
       "        ...      ...          ...      ...       ...       ...       ...\n",
       "  [1074542]      c14   GGCTAGAAGG    CCTAC      TRUE      TRUE      TRUE\n",
       "  [1074543]      c11   TTGTAGACAG    ACAGA      TRUE      TRUE      TRUE\n",
       "  [1074544]      c03   CCGCTTAGAC    CGAGC      TRUE      TRUE      TRUE\n",
       "  [1074545]      c08   GGTGTCTGCA    CAGAG      TRUE      TRUE      TRUE\n",
       "  [1074546]      c03   CGGCTGTTCT    GATCC      TRUE      TRUE      TRUE\n",
       "               cellQC   countQC                  cellID\n",
       "            <logical> <logical>                <factor>\n",
       "        [1]      TRUE      TRUE Exp264a-c04-AGACTGGACG \n",
       "        [2]      TRUE      TRUE Exp264a-c14-CTATCCAGAT \n",
       "        [3]      TRUE      TRUE Exp260b-c13-TTCCGTCGGA \n",
       "        [4]      TRUE      TRUE Exp236-c06-AAGACAACGG  \n",
       "        [5]      TRUE      TRUE Exp156-c09-GTACTACAGGAC\n",
       "        ...       ...       ...                     ...\n",
       "  [1074542]      TRUE      TRUE  Exp236-c14-GGCTAGAAGG \n",
       "  [1074543]      TRUE      TRUE  Exp260b-c11-TTGTAGACAG\n",
       "  [1074544]      TRUE      TRUE  Exp236-c03-CCGCTTAGAC \n",
       "  [1074545]      TRUE      TRUE  Exp236-c08-GGTGTCTGCA \n",
       "  [1074546]      TRUE      TRUE  Exp246-c03-CGGCTGTTCT \n",
       "  -------\n",
       "  seqinfo: 22 sequences from an unspecified genome; no seqlengths"
      ]
     },
     "metadata": {},
     "output_type": "display_data"
    }
   ],
   "source": [
    "# Merge experiment ID and cell barcode to create unique cell ID across experiments\n",
    "scGRO = scGRO %>%\n",
    "    filter( mapq >= 3 & countQC & umiQC & plateQC & cellQC & miRQC ) %>%\n",
    "    subsetByOverlaps( genes ) %>%\n",
    "    mutate( cellID = factor( paste( Exp, Plate, Cell, sep=\"-\") ) ) %>%\n",
    "    filter( cellID %in% allcells ) #%>%\n",
    "    # select( cellID );\n",
    "\n",
    "scGRO"
   ]
  },
  {
   "cell_type": "code",
   "execution_count": null,
   "id": "59028396-df52-4f20-89b6-c92fa23d0ac2",
   "metadata": {
    "tags": []
   },
   "outputs": [
    {
     "data": {
      "text/html": [
       "<style>\n",
       ".list-inline {list-style: none; margin:0; padding: 0}\n",
       ".list-inline>li {display: inline-block}\n",
       ".list-inline>li:not(:last-child)::after {content: \"\\00b7\"; padding: 0 .5ex}\n",
       "</style>\n",
       "<ol class=list-inline><li>15666</li><li>2635</li></ol>\n"
      ],
      "text/latex": [
       "\\begin{enumerate*}\n",
       "\\item 15666\n",
       "\\item 2635\n",
       "\\end{enumerate*}\n"
      ],
      "text/markdown": [
       "1. 15666\n",
       "2. 2635\n",
       "\n",
       "\n"
      ],
      "text/plain": [
       "[1] 15666  2635"
      ]
     },
     "metadata": {},
     "output_type": "display_data"
    }
   ],
   "source": [
    "counts = foreach(\n",
    "    id = allcells,\n",
    "    .combine=\"cbind2\"\n",
    ") %dopar% {\n",
    "    reads = scGRO %>% filter(cellID == id);\n",
    "    # count reads in each feature for this cellID\n",
    "    counts1 = countOverlaps( genes, reads );\n",
    "\n",
    "    counts = cbind(counts1) %>%\n",
    "        Matrix(sparse=T);\n",
    "\n",
    "    return( counts );\n",
    "}\n",
    "# columns = cells = cellIDs\n",
    "colnames(counts) = allcells;\n",
    "rownames(counts) = names(genes);\n",
    "dim(counts)"
   ]
  },
  {
   "cell_type": "code",
   "execution_count": 13,
   "id": "b33cd1c4-af73-464f-92cb-3fc902d08035",
   "metadata": {},
   "outputs": [
    {
     "name": "stderr",
     "output_type": "stream",
     "text": [
      "Warning message:\n",
      "“\u001b[1m\u001b[22mTransformation introduced infinite values in continuous x-axis”\n",
      "Warning message:\n",
      "“\u001b[1m\u001b[22mRemoved 179 rows containing non-finite values (`stat_bin()`).”\n"
     ]
    },
    {
     "data": {
      "image/svg+xml": [
       "<?xml version=\"1.0\" encoding=\"UTF-8\"?>\n",
       "<svg xmlns=\"http://www.w3.org/2000/svg\" xmlns:xlink=\"http://www.w3.org/1999/xlink\" width=\"432pt\" height=\"432pt\" viewBox=\"0 0 432 432\" version=\"1.1\">\n",
       "<defs>\n",
       "<g>\n",
       "<symbol overflow=\"visible\" id=\"glyph0-0\">\n",
       "<path style=\"stroke:none;\" d=\"M 0.625 2.203125 L 0.625 -8.8125 L 6.875 -8.8125 L 6.875 2.203125 Z M 1.328125 1.515625 L 6.171875 1.515625 L 6.171875 -8.109375 L 1.328125 -8.109375 Z M 1.328125 1.515625 \"/>\n",
       "</symbol>\n",
       "<symbol overflow=\"visible\" id=\"glyph0-1\">\n",
       "<path style=\"stroke:none;\" d=\"M 5.75 -4.5625 C 5.75 -5.707031 5.640625 -6.507812 5.421875 -6.96875 C 5.210938 -7.4375 4.859375 -7.671875 4.359375 -7.671875 C 3.847656 -7.671875 3.484375 -7.4375 3.265625 -6.96875 C 3.054688 -6.507812 2.953125 -5.707031 2.953125 -4.5625 C 2.953125 -3.414062 3.054688 -2.601562 3.265625 -2.125 C 3.484375 -1.65625 3.847656 -1.421875 4.359375 -1.421875 C 4.859375 -1.421875 5.210938 -1.65625 5.421875 -2.125 C 5.640625 -2.601562 5.75 -3.414062 5.75 -4.5625 Z M 8.09375 -4.546875 C 8.09375 -3.035156 7.765625 -1.867188 7.109375 -1.046875 C 6.460938 -0.234375 5.546875 0.171875 4.359375 0.171875 C 3.148438 0.171875 2.21875 -0.234375 1.5625 -1.046875 C 0.914062 -1.867188 0.59375 -3.035156 0.59375 -4.546875 C 0.59375 -6.054688 0.914062 -7.222656 1.5625 -8.046875 C 2.21875 -8.867188 3.148438 -9.28125 4.359375 -9.28125 C 5.546875 -9.28125 6.460938 -8.867188 7.109375 -8.046875 C 7.765625 -7.222656 8.09375 -6.054688 8.09375 -4.546875 Z M 8.09375 -4.546875 \"/>\n",
       "</symbol>\n",
       "<symbol overflow=\"visible\" id=\"glyph0-2\">\n",
       "<path style=\"stroke:none;\" d=\"M 3.59375 -1.734375 L 7.609375 -1.734375 L 7.609375 0 L 0.984375 0 L 0.984375 -1.734375 L 4.3125 -4.65625 C 4.613281 -4.925781 4.832031 -5.1875 4.96875 -5.4375 C 5.113281 -5.695312 5.1875 -5.96875 5.1875 -6.25 C 5.1875 -6.675781 5.039062 -7.019531 4.75 -7.28125 C 4.46875 -7.539062 4.085938 -7.671875 3.609375 -7.671875 C 3.242188 -7.671875 2.84375 -7.59375 2.40625 -7.4375 C 1.976562 -7.28125 1.515625 -7.046875 1.015625 -6.734375 L 1.015625 -8.734375 C 1.546875 -8.910156 2.066406 -9.046875 2.578125 -9.140625 C 3.097656 -9.234375 3.609375 -9.28125 4.109375 -9.28125 C 5.191406 -9.28125 6.035156 -9.039062 6.640625 -8.5625 C 7.242188 -8.082031 7.546875 -7.410156 7.546875 -6.546875 C 7.546875 -6.046875 7.414062 -5.582031 7.15625 -5.15625 C 6.90625 -4.726562 6.367188 -4.15625 5.546875 -3.4375 Z M 3.59375 -1.734375 \"/>\n",
       "</symbol>\n",
       "<symbol overflow=\"visible\" id=\"glyph0-3\">\n",
       "<path style=\"stroke:none;\" d=\"M 4.609375 -7.171875 L 2.03125 -3.359375 L 4.609375 -3.359375 Z M 4.21875 -9.109375 L 6.828125 -9.109375 L 6.828125 -3.359375 L 8.125 -3.359375 L 8.125 -1.65625 L 6.828125 -1.65625 L 6.828125 0 L 4.609375 0 L 4.609375 -1.65625 L 0.5625 -1.65625 L 0.5625 -3.671875 Z M 4.21875 -9.109375 \"/>\n",
       "</symbol>\n",
       "<symbol overflow=\"visible\" id=\"glyph0-4\">\n",
       "<path style=\"stroke:none;\" d=\"M 4.515625 -4.5 C 4.109375 -4.5 3.800781 -4.363281 3.59375 -4.09375 C 3.394531 -3.832031 3.296875 -3.4375 3.296875 -2.90625 C 3.296875 -2.363281 3.394531 -1.957031 3.59375 -1.6875 C 3.800781 -1.425781 4.109375 -1.296875 4.515625 -1.296875 C 4.929688 -1.296875 5.242188 -1.425781 5.453125 -1.6875 C 5.660156 -1.957031 5.765625 -2.363281 5.765625 -2.90625 C 5.765625 -3.4375 5.660156 -3.832031 5.453125 -4.09375 C 5.242188 -4.363281 4.929688 -4.5 4.515625 -4.5 Z M 7.421875 -8.875 L 7.421875 -7.1875 C 7.035156 -7.375 6.671875 -7.507812 6.328125 -7.59375 C 5.992188 -7.6875 5.660156 -7.734375 5.328125 -7.734375 C 4.628906 -7.734375 4.082031 -7.535156 3.6875 -7.140625 C 3.300781 -6.753906 3.078125 -6.175781 3.015625 -5.40625 C 3.285156 -5.613281 3.578125 -5.765625 3.890625 -5.859375 C 4.203125 -5.960938 4.539062 -6.015625 4.90625 -6.015625 C 5.84375 -6.015625 6.597656 -5.738281 7.171875 -5.1875 C 7.742188 -4.644531 8.03125 -3.929688 8.03125 -3.046875 C 8.03125 -2.078125 7.707031 -1.296875 7.0625 -0.703125 C 6.425781 -0.117188 5.570312 0.171875 4.5 0.171875 C 3.3125 0.171875 2.394531 -0.222656 1.75 -1.015625 C 1.101562 -1.816406 0.78125 -2.953125 0.78125 -4.421875 C 0.78125 -5.929688 1.15625 -7.113281 1.90625 -7.96875 C 2.664062 -8.832031 3.707031 -9.265625 5.03125 -9.265625 C 5.457031 -9.265625 5.863281 -9.226562 6.25 -9.15625 C 6.644531 -9.09375 7.035156 -9 7.421875 -8.875 Z M 7.421875 -8.875 \"/>\n",
       "</symbol>\n",
       "<symbol overflow=\"visible\" id=\"glyph0-5\">\n",
       "<path style=\"stroke:none;\" d=\"M 4.359375 -4.078125 C 3.910156 -4.078125 3.566406 -3.957031 3.328125 -3.71875 C 3.097656 -3.476562 2.984375 -3.132812 2.984375 -2.6875 C 2.984375 -2.238281 3.097656 -1.894531 3.328125 -1.65625 C 3.566406 -1.414062 3.910156 -1.296875 4.359375 -1.296875 C 4.785156 -1.296875 5.113281 -1.414062 5.34375 -1.65625 C 5.582031 -1.894531 5.703125 -2.238281 5.703125 -2.6875 C 5.703125 -3.132812 5.582031 -3.476562 5.34375 -3.71875 C 5.113281 -3.957031 4.785156 -4.078125 4.359375 -4.078125 Z M 2.640625 -4.859375 C 2.085938 -5.023438 1.671875 -5.28125 1.390625 -5.625 C 1.109375 -5.96875 0.96875 -6.398438 0.96875 -6.921875 C 0.96875 -7.679688 1.253906 -8.265625 1.828125 -8.671875 C 2.398438 -9.078125 3.242188 -9.28125 4.359375 -9.28125 C 5.453125 -9.28125 6.285156 -9.078125 6.859375 -8.671875 C 7.441406 -8.273438 7.734375 -7.691406 7.734375 -6.921875 C 7.734375 -6.398438 7.585938 -5.96875 7.296875 -5.625 C 7.015625 -5.28125 6.597656 -5.023438 6.046875 -4.859375 C 6.660156 -4.679688 7.125 -4.398438 7.4375 -4.015625 C 7.757812 -3.628906 7.921875 -3.144531 7.921875 -2.5625 C 7.921875 -1.65625 7.617188 -0.972656 7.015625 -0.515625 C 6.421875 -0.0546875 5.535156 0.171875 4.359375 0.171875 C 3.171875 0.171875 2.273438 -0.0546875 1.671875 -0.515625 C 1.066406 -0.972656 0.765625 -1.65625 0.765625 -2.5625 C 0.765625 -3.144531 0.921875 -3.628906 1.234375 -4.015625 C 1.546875 -4.398438 2.015625 -4.679688 2.640625 -4.859375 Z M 3.1875 -6.671875 C 3.1875 -6.316406 3.285156 -6.039062 3.484375 -5.84375 C 3.691406 -5.644531 3.984375 -5.546875 4.359375 -5.546875 C 4.722656 -5.546875 5.003906 -5.644531 5.203125 -5.84375 C 5.398438 -6.039062 5.5 -6.316406 5.5 -6.671875 C 5.5 -7.035156 5.398438 -7.3125 5.203125 -7.5 C 5.003906 -7.695312 4.722656 -7.796875 4.359375 -7.796875 C 3.984375 -7.796875 3.691406 -7.695312 3.484375 -7.5 C 3.285156 -7.3125 3.1875 -7.035156 3.1875 -6.671875 Z M 3.1875 -6.671875 \"/>\n",
       "</symbol>\n",
       "<symbol overflow=\"visible\" id=\"glyph0-6\">\n",
       "<path style=\"stroke:none;\" d=\"M 1.28125 -2.359375 L 3.46875 -2.359375 L 3.46875 0 L 1.28125 0 Z M 1.28125 -2.359375 \"/>\n",
       "</symbol>\n",
       "<symbol overflow=\"visible\" id=\"glyph0-7\">\n",
       "<path style=\"stroke:none;\" d=\"M 1.46875 -1.625 L 3.546875 -1.625 L 3.546875 -7.515625 L 1.40625 -7.078125 L 1.40625 -8.671875 L 3.53125 -9.109375 L 5.765625 -9.109375 L 5.765625 -1.625 L 7.84375 -1.625 L 7.84375 0 L 1.46875 0 Z M 1.46875 -1.625 \"/>\n",
       "</symbol>\n",
       "<symbol overflow=\"visible\" id=\"glyph1-0\">\n",
       "<path style=\"stroke:none;\" d=\"M 0.71875 2.5625 L 0.71875 -10.21875 L 7.96875 -10.21875 L 7.96875 2.5625 Z M 1.53125 1.75 L 7.171875 1.75 L 7.171875 -9.40625 L 1.53125 -9.40625 Z M 1.53125 1.75 \"/>\n",
       "</symbol>\n",
       "<symbol overflow=\"visible\" id=\"glyph1-1\">\n",
       "<path style=\"stroke:none;\" d=\"M 5.203125 -5.890625 C 5.773438 -5.890625 6.179688 -5.992188 6.421875 -6.203125 C 6.671875 -6.410156 6.796875 -6.757812 6.796875 -7.25 C 6.796875 -7.726562 6.671875 -8.070312 6.421875 -8.28125 C 6.179688 -8.488281 5.773438 -8.59375 5.203125 -8.59375 L 4.0625 -8.59375 L 4.0625 -5.890625 Z M 4.0625 -4 L 4.0625 0 L 1.328125 0 L 1.328125 -10.578125 L 5.5 -10.578125 C 6.882812 -10.578125 7.898438 -10.34375 8.546875 -9.875 C 9.203125 -9.40625 9.53125 -8.664062 9.53125 -7.65625 C 9.53125 -6.957031 9.359375 -6.382812 9.015625 -5.9375 C 8.679688 -5.488281 8.175781 -5.15625 7.5 -4.9375 C 7.875 -4.851562 8.207031 -4.660156 8.5 -4.359375 C 8.789062 -4.066406 9.085938 -3.613281 9.390625 -3 L 10.875 0 L 7.96875 0 L 6.6875 -2.625 C 6.425781 -3.15625 6.160156 -3.515625 5.890625 -3.703125 C 5.628906 -3.898438 5.273438 -4 4.828125 -4 Z M 4.0625 -4 \"/>\n",
       "</symbol>\n",
       "<symbol overflow=\"visible\" id=\"glyph1-2\">\n",
       "<path style=\"stroke:none;\" d=\"M 9.140625 -3.984375 L 9.140625 -3.265625 L 3.203125 -3.265625 C 3.265625 -2.671875 3.476562 -2.222656 3.84375 -1.921875 C 4.21875 -1.628906 4.734375 -1.484375 5.390625 -1.484375 C 5.921875 -1.484375 6.46875 -1.5625 7.03125 -1.71875 C 7.59375 -1.875 8.171875 -2.113281 8.765625 -2.4375 L 8.765625 -0.484375 C 8.160156 -0.253906 7.554688 -0.0820312 6.953125 0.03125 C 6.359375 0.144531 5.757812 0.203125 5.15625 0.203125 C 3.726562 0.203125 2.613281 -0.160156 1.8125 -0.890625 C 1.019531 -1.617188 0.625 -2.640625 0.625 -3.953125 C 0.625 -5.242188 1.015625 -6.257812 1.796875 -7 C 2.578125 -7.75 3.648438 -8.125 5.015625 -8.125 C 6.265625 -8.125 7.265625 -7.75 8.015625 -7 C 8.765625 -6.25 9.140625 -5.242188 9.140625 -3.984375 Z M 6.53125 -4.828125 C 6.53125 -5.304688 6.390625 -5.691406 6.109375 -5.984375 C 5.828125 -6.285156 5.457031 -6.4375 5 -6.4375 C 4.507812 -6.4375 4.109375 -6.296875 3.796875 -6.015625 C 3.492188 -5.742188 3.304688 -5.347656 3.234375 -4.828125 Z M 6.53125 -4.828125 \"/>\n",
       "</symbol>\n",
       "<symbol overflow=\"visible\" id=\"glyph1-3\">\n",
       "<path style=\"stroke:none;\" d=\"M 4.765625 -3.5625 C 4.242188 -3.5625 3.847656 -3.472656 3.578125 -3.296875 C 3.304688 -3.117188 3.171875 -2.851562 3.171875 -2.5 C 3.171875 -2.1875 3.28125 -1.9375 3.5 -1.75 C 3.71875 -1.570312 4.015625 -1.484375 4.390625 -1.484375 C 4.867188 -1.484375 5.269531 -1.648438 5.59375 -1.984375 C 5.925781 -2.328125 6.09375 -2.757812 6.09375 -3.28125 L 6.09375 -3.5625 Z M 8.640625 -4.53125 L 8.640625 0 L 6.09375 0 L 6.09375 -1.171875 C 5.75 -0.691406 5.363281 -0.34375 4.9375 -0.125 C 4.519531 0.09375 4.003906 0.203125 3.390625 0.203125 C 2.566406 0.203125 1.898438 -0.0351562 1.390625 -0.515625 C 0.878906 -0.992188 0.625 -1.613281 0.625 -2.375 C 0.625 -3.3125 0.941406 -3.992188 1.578125 -4.421875 C 2.222656 -4.859375 3.226562 -5.078125 4.59375 -5.078125 L 6.09375 -5.078125 L 6.09375 -5.28125 C 6.09375 -5.675781 5.929688 -5.96875 5.609375 -6.15625 C 5.296875 -6.34375 4.804688 -6.4375 4.140625 -6.4375 C 3.597656 -6.4375 3.09375 -6.378906 2.625 -6.265625 C 2.15625 -6.160156 1.71875 -6 1.3125 -5.78125 L 1.3125 -7.71875 C 1.851562 -7.851562 2.398438 -7.953125 2.953125 -8.015625 C 3.503906 -8.085938 4.050781 -8.125 4.59375 -8.125 C 6.019531 -8.125 7.050781 -7.835938 7.6875 -7.265625 C 8.320312 -6.703125 8.640625 -5.789062 8.640625 -4.53125 Z M 8.640625 -4.53125 \"/>\n",
       "</symbol>\n",
       "<symbol overflow=\"visible\" id=\"glyph1-4\">\n",
       "<path style=\"stroke:none;\" d=\"M 6.609375 -6.765625 L 6.609375 -11.015625 L 9.15625 -11.015625 L 9.15625 0 L 6.609375 0 L 6.609375 -1.140625 C 6.265625 -0.679688 5.878906 -0.34375 5.453125 -0.125 C 5.035156 0.09375 4.550781 0.203125 4 0.203125 C 3.019531 0.203125 2.21875 -0.179688 1.59375 -0.953125 C 0.96875 -1.734375 0.65625 -2.734375 0.65625 -3.953125 C 0.65625 -5.179688 0.96875 -6.179688 1.59375 -6.953125 C 2.21875 -7.734375 3.019531 -8.125 4 -8.125 C 4.550781 -8.125 5.035156 -8.015625 5.453125 -7.796875 C 5.878906 -7.578125 6.265625 -7.234375 6.609375 -6.765625 Z M 4.9375 -1.640625 C 5.476562 -1.640625 5.890625 -1.835938 6.171875 -2.234375 C 6.460938 -2.628906 6.609375 -3.203125 6.609375 -3.953125 C 6.609375 -4.710938 6.460938 -5.289062 6.171875 -5.6875 C 5.890625 -6.082031 5.476562 -6.28125 4.9375 -6.28125 C 4.40625 -6.28125 3.992188 -6.082031 3.703125 -5.6875 C 3.421875 -5.289062 3.28125 -4.710938 3.28125 -3.953125 C 3.28125 -3.203125 3.421875 -2.628906 3.703125 -2.234375 C 3.992188 -1.835938 4.40625 -1.640625 4.9375 -1.640625 Z M 4.9375 -1.640625 \"/>\n",
       "</symbol>\n",
       "<symbol overflow=\"visible\" id=\"glyph1-5\">\n",
       "<path style=\"stroke:none;\" d=\"M 7.40625 -7.6875 L 7.40625 -5.75 C 6.863281 -5.976562 6.335938 -6.148438 5.828125 -6.265625 C 5.328125 -6.378906 4.851562 -6.4375 4.40625 -6.4375 C 3.925781 -6.4375 3.566406 -6.375 3.328125 -6.25 C 3.097656 -6.132812 2.984375 -5.953125 2.984375 -5.703125 C 2.984375 -5.492188 3.070312 -5.332031 3.25 -5.21875 C 3.425781 -5.113281 3.742188 -5.035156 4.203125 -4.984375 L 4.65625 -4.921875 C 5.945312 -4.765625 6.816406 -4.492188 7.265625 -4.109375 C 7.710938 -3.734375 7.9375 -3.144531 7.9375 -2.34375 C 7.9375 -1.488281 7.625 -0.847656 7 -0.421875 C 6.382812 -0.00390625 5.457031 0.203125 4.21875 0.203125 C 3.695312 0.203125 3.15625 0.160156 2.59375 0.078125 C 2.03125 -0.00390625 1.457031 -0.128906 0.875 -0.296875 L 0.875 -2.21875 C 1.375 -1.96875 1.890625 -1.78125 2.421875 -1.65625 C 2.953125 -1.539062 3.492188 -1.484375 4.046875 -1.484375 C 4.535156 -1.484375 4.90625 -1.550781 5.15625 -1.6875 C 5.40625 -1.820312 5.53125 -2.023438 5.53125 -2.296875 C 5.53125 -2.523438 5.441406 -2.691406 5.265625 -2.796875 C 5.097656 -2.910156 4.757812 -3 4.25 -3.0625 L 3.796875 -3.109375 C 2.671875 -3.253906 1.878906 -3.515625 1.421875 -3.890625 C 0.972656 -4.273438 0.75 -4.859375 0.75 -5.640625 C 0.75 -6.484375 1.035156 -7.109375 1.609375 -7.515625 C 2.191406 -7.921875 3.078125 -8.125 4.265625 -8.125 C 4.734375 -8.125 5.222656 -8.085938 5.734375 -8.015625 C 6.242188 -7.941406 6.800781 -7.832031 7.40625 -7.6875 Z M 7.40625 -7.6875 \"/>\n",
       "</symbol>\n",
       "<symbol overflow=\"visible\" id=\"glyph1-6\">\n",
       "<path style=\"stroke:none;\" d=\"\"/>\n",
       "</symbol>\n",
       "<symbol overflow=\"visible\" id=\"glyph1-7\">\n",
       "<path style=\"stroke:none;\" d=\"M 3.75 -1.140625 L 3.75 3.015625 L 1.21875 3.015625 L 1.21875 -7.9375 L 3.75 -7.9375 L 3.75 -6.765625 C 4.101562 -7.234375 4.488281 -7.578125 4.90625 -7.796875 C 5.332031 -8.015625 5.820312 -8.125 6.375 -8.125 C 7.351562 -8.125 8.15625 -7.734375 8.78125 -6.953125 C 9.414062 -6.179688 9.734375 -5.179688 9.734375 -3.953125 C 9.734375 -2.734375 9.414062 -1.734375 8.78125 -0.953125 C 8.15625 -0.179688 7.351562 0.203125 6.375 0.203125 C 5.820312 0.203125 5.332031 0.09375 4.90625 -0.125 C 4.488281 -0.34375 4.101562 -0.679688 3.75 -1.140625 Z M 5.4375 -6.28125 C 4.894531 -6.28125 4.476562 -6.078125 4.1875 -5.671875 C 3.894531 -5.273438 3.75 -4.703125 3.75 -3.953125 C 3.75 -3.203125 3.894531 -2.628906 4.1875 -2.234375 C 4.476562 -1.835938 4.894531 -1.640625 5.4375 -1.640625 C 5.976562 -1.640625 6.390625 -1.835938 6.671875 -2.234375 C 6.960938 -2.628906 7.109375 -3.203125 7.109375 -3.953125 C 7.109375 -4.710938 6.960938 -5.289062 6.671875 -5.6875 C 6.390625 -6.082031 5.976562 -6.28125 5.4375 -6.28125 Z M 5.4375 -6.28125 \"/>\n",
       "</symbol>\n",
       "<symbol overflow=\"visible\" id=\"glyph1-8\">\n",
       "<path style=\"stroke:none;\" d=\"M 7.109375 -5.765625 C 6.890625 -5.867188 6.671875 -5.945312 6.453125 -6 C 6.234375 -6.050781 6.007812 -6.078125 5.78125 -6.078125 C 5.132812 -6.078125 4.632812 -5.867188 4.28125 -5.453125 C 3.925781 -5.035156 3.75 -4.4375 3.75 -3.65625 L 3.75 0 L 1.21875 0 L 1.21875 -7.9375 L 3.75 -7.9375 L 3.75 -6.625 C 4.070312 -7.144531 4.445312 -7.523438 4.875 -7.765625 C 5.300781 -8.003906 5.804688 -8.125 6.390625 -8.125 C 6.472656 -8.125 6.5625 -8.117188 6.65625 -8.109375 C 6.757812 -8.097656 6.90625 -8.082031 7.09375 -8.0625 Z M 7.109375 -5.765625 \"/>\n",
       "</symbol>\n",
       "<symbol overflow=\"visible\" id=\"glyph1-9\">\n",
       "<path style=\"stroke:none;\" d=\"M 7.625 -7.6875 L 7.625 -5.609375 C 7.28125 -5.847656 6.929688 -6.023438 6.578125 -6.140625 C 6.234375 -6.253906 5.878906 -6.3125 5.515625 -6.3125 C 4.804688 -6.3125 4.253906 -6.101562 3.859375 -5.6875 C 3.460938 -5.269531 3.265625 -4.691406 3.265625 -3.953125 C 3.265625 -3.210938 3.460938 -2.632812 3.859375 -2.21875 C 4.253906 -1.8125 4.804688 -1.609375 5.515625 -1.609375 C 5.910156 -1.609375 6.285156 -1.664062 6.640625 -1.78125 C 6.992188 -1.90625 7.320312 -2.082031 7.625 -2.3125 L 7.625 -0.234375 C 7.226562 -0.0859375 6.828125 0.0195312 6.421875 0.09375 C 6.015625 0.164062 5.601562 0.203125 5.1875 0.203125 C 3.757812 0.203125 2.640625 -0.160156 1.828125 -0.890625 C 1.023438 -1.628906 0.625 -2.648438 0.625 -3.953125 C 0.625 -5.265625 1.023438 -6.285156 1.828125 -7.015625 C 2.640625 -7.753906 3.757812 -8.125 5.1875 -8.125 C 5.601562 -8.125 6.015625 -8.085938 6.421875 -8.015625 C 6.828125 -7.941406 7.226562 -7.832031 7.625 -7.6875 Z M 7.625 -7.6875 \"/>\n",
       "</symbol>\n",
       "<symbol overflow=\"visible\" id=\"glyph1-10\">\n",
       "<path style=\"stroke:none;\" d=\"M 1.21875 -11.015625 L 3.75 -11.015625 L 3.75 0 L 1.21875 0 Z M 1.21875 -11.015625 \"/>\n",
       "</symbol>\n",
       "<symbol overflow=\"visible\" id=\"glyph1-11\">\n",
       "<path style=\"stroke:none;\" d=\"M 6.609375 -1.34375 C 6.265625 -0.882812 5.878906 -0.546875 5.453125 -0.328125 C 5.035156 -0.109375 4.550781 0 4 0 C 3.03125 0 2.226562 -0.378906 1.59375 -1.140625 C 0.96875 -1.898438 0.65625 -2.875 0.65625 -4.0625 C 0.65625 -5.238281 0.96875 -6.207031 1.59375 -6.96875 C 2.226562 -7.726562 3.03125 -8.109375 4 -8.109375 C 4.550781 -8.109375 5.035156 -8 5.453125 -7.78125 C 5.878906 -7.5625 6.265625 -7.21875 6.609375 -6.75 L 6.609375 -7.9375 L 9.15625 -7.9375 L 9.15625 -0.796875 C 9.15625 0.472656 8.753906 1.441406 7.953125 2.109375 C 7.148438 2.785156 5.984375 3.125 4.453125 3.125 C 3.953125 3.125 3.472656 3.085938 3.015625 3.015625 C 2.554688 2.941406 2.09375 2.828125 1.625 2.671875 L 1.625 0.6875 C 2.0625 0.945312 2.492188 1.140625 2.921875 1.265625 C 3.347656 1.390625 3.773438 1.453125 4.203125 1.453125 C 5.035156 1.453125 5.644531 1.269531 6.03125 0.90625 C 6.414062 0.539062 6.609375 -0.0234375 6.609375 -0.796875 Z M 4.9375 -6.28125 C 4.414062 -6.28125 4.007812 -6.085938 3.71875 -5.703125 C 3.425781 -5.316406 3.28125 -4.769531 3.28125 -4.0625 C 3.28125 -3.332031 3.421875 -2.78125 3.703125 -2.40625 C 3.984375 -2.03125 4.394531 -1.84375 4.9375 -1.84375 C 5.46875 -1.84375 5.878906 -2.035156 6.171875 -2.421875 C 6.460938 -2.804688 6.609375 -3.351562 6.609375 -4.0625 C 6.609375 -4.769531 6.460938 -5.316406 6.171875 -5.703125 C 5.878906 -6.085938 5.46875 -6.28125 4.9375 -6.28125 Z M 4.9375 -6.28125 \"/>\n",
       "</symbol>\n",
       "<symbol overflow=\"visible\" id=\"glyph1-12\">\n",
       "<path style=\"stroke:none;\" d=\"M 9.1875 -4.828125 L 9.1875 0 L 6.640625 0 L 6.640625 -3.703125 C 6.640625 -4.378906 6.625 -4.847656 6.59375 -5.109375 C 6.5625 -5.367188 6.507812 -5.5625 6.4375 -5.6875 C 6.332031 -5.851562 6.195312 -5.976562 6.03125 -6.0625 C 5.863281 -6.15625 5.671875 -6.203125 5.453125 -6.203125 C 4.921875 -6.203125 4.503906 -6 4.203125 -5.59375 C 3.898438 -5.1875 3.75 -4.625 3.75 -3.90625 L 3.75 0 L 1.21875 0 L 1.21875 -7.9375 L 3.75 -7.9375 L 3.75 -6.765625 C 4.132812 -7.234375 4.539062 -7.578125 4.96875 -7.796875 C 5.394531 -8.015625 5.867188 -8.125 6.390625 -8.125 C 7.304688 -8.125 8 -7.84375 8.46875 -7.28125 C 8.945312 -6.71875 9.1875 -5.898438 9.1875 -4.828125 Z M 9.1875 -4.828125 \"/>\n",
       "</symbol>\n",
       "<symbol overflow=\"visible\" id=\"glyph2-0\">\n",
       "<path style=\"stroke:none;\" d=\"M 2.5625 -0.71875 L -10.21875 -0.71875 L -10.21875 -7.96875 L 2.5625 -7.96875 Z M 1.75 -1.53125 L 1.75 -7.171875 L -9.40625 -7.171875 L -9.40625 -1.53125 Z M 1.75 -1.53125 \"/>\n",
       "</symbol>\n",
       "<symbol overflow=\"visible\" id=\"glyph2-1\">\n",
       "<path style=\"stroke:none;\" d=\"M -10.578125 -1.328125 L -10.578125 -4.375 L -3.328125 -8.21875 L -10.578125 -8.21875 L -10.578125 -10.796875 L 0 -10.796875 L 0 -7.765625 L -7.25 -3.921875 L 0 -3.921875 L 0 -1.328125 Z M -10.578125 -1.328125 \"/>\n",
       "</symbol>\n",
       "<symbol overflow=\"visible\" id=\"glyph2-2\">\n",
       "<path style=\"stroke:none;\" d=\"M -3.09375 -1.140625 L -7.9375 -1.140625 L -7.9375 -3.6875 L -7.140625 -3.6875 C -6.710938 -3.6875 -6.171875 -3.679688 -5.515625 -3.671875 C -4.867188 -3.671875 -4.4375 -3.671875 -4.21875 -3.671875 C -3.582031 -3.671875 -3.125 -3.6875 -2.84375 -3.71875 C -2.5625 -3.75 -2.359375 -3.804688 -2.234375 -3.890625 C -2.066406 -3.992188 -1.9375 -4.128906 -1.84375 -4.296875 C -1.757812 -4.460938 -1.71875 -4.65625 -1.71875 -4.875 C -1.71875 -5.40625 -1.921875 -5.820312 -2.328125 -6.125 C -2.734375 -6.425781 -3.296875 -6.578125 -4.015625 -6.578125 L -7.9375 -6.578125 L -7.9375 -9.109375 L 0 -9.109375 L 0 -6.578125 L -1.140625 -6.578125 C -0.679688 -6.191406 -0.34375 -5.785156 -0.125 -5.359375 C 0.09375 -4.929688 0.203125 -4.457031 0.203125 -3.9375 C 0.203125 -3.019531 -0.078125 -2.320312 -0.640625 -1.84375 C -1.203125 -1.375 -2.019531 -1.140625 -3.09375 -1.140625 Z M -3.09375 -1.140625 \"/>\n",
       "</symbol>\n",
       "<symbol overflow=\"visible\" id=\"glyph2-3\">\n",
       "<path style=\"stroke:none;\" d=\"M -6.609375 -8.5625 C -7.097656 -8.882812 -7.472656 -9.265625 -7.734375 -9.703125 C -7.992188 -10.148438 -8.125 -10.640625 -8.125 -11.171875 C -8.125 -12.078125 -7.84375 -12.769531 -7.28125 -13.25 C -6.71875 -13.726562 -5.898438 -13.96875 -4.828125 -13.96875 L 0 -13.96875 L 0 -11.40625 L -4.140625 -11.40625 C -4.203125 -11.414062 -4.265625 -11.421875 -4.328125 -11.421875 C -4.390625 -11.421875 -4.484375 -11.421875 -4.609375 -11.421875 C -5.171875 -11.421875 -5.578125 -11.335938 -5.828125 -11.171875 C -6.078125 -11.015625 -6.203125 -10.75 -6.203125 -10.375 C -6.203125 -9.894531 -6.003906 -9.523438 -5.609375 -9.265625 C -5.210938 -9.003906 -4.640625 -8.867188 -3.890625 -8.859375 L 0 -8.859375 L 0 -6.3125 L -4.140625 -6.3125 C -5.015625 -6.3125 -5.578125 -6.234375 -5.828125 -6.078125 C -6.078125 -5.929688 -6.203125 -5.664062 -6.203125 -5.28125 C -6.203125 -4.789062 -6.003906 -4.410156 -5.609375 -4.140625 C -5.210938 -3.878906 -4.644531 -3.75 -3.90625 -3.75 L 0 -3.75 L 0 -1.203125 L -7.9375 -1.203125 L -7.9375 -3.75 L -6.765625 -3.75 C -7.210938 -4.0625 -7.550781 -4.421875 -7.78125 -4.828125 C -8.007812 -5.234375 -8.125 -5.675781 -8.125 -6.15625 C -8.125 -6.707031 -7.988281 -7.191406 -7.71875 -7.609375 C -7.457031 -8.023438 -7.085938 -8.34375 -6.609375 -8.5625 Z M -6.609375 -8.5625 \"/>\n",
       "</symbol>\n",
       "<symbol overflow=\"visible\" id=\"glyph2-4\">\n",
       "<path style=\"stroke:none;\" d=\"M -1.640625 -5.4375 C -1.640625 -5.976562 -1.835938 -6.390625 -2.234375 -6.671875 C -2.628906 -6.960938 -3.203125 -7.109375 -3.953125 -7.109375 C -4.710938 -7.109375 -5.289062 -6.960938 -5.6875 -6.671875 C -6.082031 -6.390625 -6.28125 -5.976562 -6.28125 -5.4375 C -6.28125 -4.894531 -6.078125 -4.476562 -5.671875 -4.1875 C -5.273438 -3.894531 -4.703125 -3.75 -3.953125 -3.75 C -3.203125 -3.75 -2.628906 -3.894531 -2.234375 -4.1875 C -1.835938 -4.476562 -1.640625 -4.894531 -1.640625 -5.4375 Z M -6.765625 -3.75 C -7.234375 -4.101562 -7.578125 -4.488281 -7.796875 -4.90625 C -8.015625 -5.332031 -8.125 -5.820312 -8.125 -6.375 C -8.125 -7.351562 -7.734375 -8.15625 -6.953125 -8.78125 C -6.179688 -9.414062 -5.179688 -9.734375 -3.953125 -9.734375 C -2.734375 -9.734375 -1.734375 -9.414062 -0.953125 -8.78125 C -0.179688 -8.15625 0.203125 -7.351562 0.203125 -6.375 C 0.203125 -5.820312 0.09375 -5.332031 -0.125 -4.90625 C -0.34375 -4.488281 -0.679688 -4.101562 -1.140625 -3.75 L 0 -3.75 L 0 -1.21875 L -11.015625 -1.21875 L -11.015625 -3.75 Z M -6.765625 -3.75 \"/>\n",
       "</symbol>\n",
       "<symbol overflow=\"visible\" id=\"glyph2-5\">\n",
       "<path style=\"stroke:none;\" d=\"M -3.984375 -9.140625 L -3.265625 -9.140625 L -3.265625 -3.203125 C -2.671875 -3.265625 -2.222656 -3.476562 -1.921875 -3.84375 C -1.628906 -4.21875 -1.484375 -4.734375 -1.484375 -5.390625 C -1.484375 -5.921875 -1.5625 -6.46875 -1.71875 -7.03125 C -1.875 -7.59375 -2.113281 -8.171875 -2.4375 -8.765625 L -0.484375 -8.765625 C -0.253906 -8.160156 -0.0820312 -7.554688 0.03125 -6.953125 C 0.144531 -6.359375 0.203125 -5.757812 0.203125 -5.15625 C 0.203125 -3.726562 -0.160156 -2.613281 -0.890625 -1.8125 C -1.617188 -1.019531 -2.640625 -0.625 -3.953125 -0.625 C -5.242188 -0.625 -6.257812 -1.015625 -7 -1.796875 C -7.75 -2.578125 -8.125 -3.648438 -8.125 -5.015625 C -8.125 -6.265625 -7.75 -7.265625 -7 -8.015625 C -6.25 -8.765625 -5.242188 -9.140625 -3.984375 -9.140625 Z M -4.828125 -6.53125 C -5.304688 -6.53125 -5.691406 -6.390625 -5.984375 -6.109375 C -6.285156 -5.828125 -6.4375 -5.457031 -6.4375 -5 C -6.4375 -4.507812 -6.296875 -4.109375 -6.015625 -3.796875 C -5.742188 -3.492188 -5.347656 -3.304688 -4.828125 -3.234375 Z M -4.828125 -6.53125 \"/>\n",
       "</symbol>\n",
       "<symbol overflow=\"visible\" id=\"glyph2-6\">\n",
       "<path style=\"stroke:none;\" d=\"M -5.765625 -7.109375 C -5.867188 -6.890625 -5.945312 -6.671875 -6 -6.453125 C -6.050781 -6.234375 -6.078125 -6.007812 -6.078125 -5.78125 C -6.078125 -5.132812 -5.867188 -4.632812 -5.453125 -4.28125 C -5.035156 -3.925781 -4.4375 -3.75 -3.65625 -3.75 L 0 -3.75 L 0 -1.21875 L -7.9375 -1.21875 L -7.9375 -3.75 L -6.625 -3.75 C -7.144531 -4.070312 -7.523438 -4.445312 -7.765625 -4.875 C -8.003906 -5.300781 -8.125 -5.804688 -8.125 -6.390625 C -8.125 -6.472656 -8.117188 -6.5625 -8.109375 -6.65625 C -8.097656 -6.757812 -8.082031 -6.90625 -8.0625 -7.09375 Z M -5.765625 -7.109375 \"/>\n",
       "</symbol>\n",
       "<symbol overflow=\"visible\" id=\"glyph2-7\">\n",
       "<path style=\"stroke:none;\" d=\"\"/>\n",
       "</symbol>\n",
       "<symbol overflow=\"visible\" id=\"glyph2-8\">\n",
       "<path style=\"stroke:none;\" d=\"M -6.3125 -4.984375 C -6.3125 -4.429688 -6.109375 -4.003906 -5.703125 -3.703125 C -5.296875 -3.410156 -4.710938 -3.265625 -3.953125 -3.265625 C -3.191406 -3.265625 -2.609375 -3.410156 -2.203125 -3.703125 C -1.804688 -4.003906 -1.609375 -4.429688 -1.609375 -4.984375 C -1.609375 -5.535156 -1.804688 -5.957031 -2.203125 -6.25 C -2.609375 -6.550781 -3.191406 -6.703125 -3.953125 -6.703125 C -4.710938 -6.703125 -5.296875 -6.550781 -5.703125 -6.25 C -6.109375 -5.957031 -6.3125 -5.535156 -6.3125 -4.984375 Z M -8.125 -4.984375 C -8.125 -6.347656 -7.753906 -7.414062 -7.015625 -8.1875 C -6.273438 -8.957031 -5.253906 -9.34375 -3.953125 -9.34375 C -2.648438 -9.34375 -1.628906 -8.957031 -0.890625 -8.1875 C -0.160156 -7.414062 0.203125 -6.347656 0.203125 -4.984375 C 0.203125 -3.617188 -0.160156 -2.550781 -0.890625 -1.78125 C -1.628906 -1.007812 -2.648438 -0.625 -3.953125 -0.625 C -5.253906 -0.625 -6.273438 -1.007812 -7.015625 -1.78125 C -7.753906 -2.550781 -8.125 -3.617188 -8.125 -4.984375 Z M -8.125 -4.984375 \"/>\n",
       "</symbol>\n",
       "<symbol overflow=\"visible\" id=\"glyph2-9\">\n",
       "<path style=\"stroke:none;\" d=\"M -11.015625 -6.4375 L -9.359375 -6.4375 L -9.359375 -5.03125 C -9.359375 -4.675781 -9.289062 -4.425781 -9.15625 -4.28125 C -9.03125 -4.144531 -8.804688 -4.078125 -8.484375 -4.078125 L -7.9375 -4.078125 L -7.9375 -6.234375 L -6.125 -6.234375 L -6.125 -4.078125 L 0 -4.078125 L 0 -1.53125 L -6.125 -1.53125 L -6.125 -0.28125 L -7.9375 -0.28125 L -7.9375 -1.53125 L -8.484375 -1.53125 C -9.347656 -1.53125 -9.984375 -1.769531 -10.390625 -2.25 C -10.804688 -2.738281 -11.015625 -3.488281 -11.015625 -4.5 Z M -11.015625 -6.4375 \"/>\n",
       "</symbol>\n",
       "<symbol overflow=\"visible\" id=\"glyph2-10\">\n",
       "<path style=\"stroke:none;\" d=\"M -1.34375 -6.609375 C -0.882812 -6.265625 -0.546875 -5.878906 -0.328125 -5.453125 C -0.109375 -5.035156 0 -4.550781 0 -4 C 0 -3.03125 -0.378906 -2.226562 -1.140625 -1.59375 C -1.898438 -0.96875 -2.875 -0.65625 -4.0625 -0.65625 C -5.238281 -0.65625 -6.207031 -0.96875 -6.96875 -1.59375 C -7.726562 -2.226562 -8.109375 -3.03125 -8.109375 -4 C -8.109375 -4.550781 -8 -5.035156 -7.78125 -5.453125 C -7.5625 -5.878906 -7.21875 -6.265625 -6.75 -6.609375 L -7.9375 -6.609375 L -7.9375 -9.15625 L -0.796875 -9.15625 C 0.472656 -9.15625 1.441406 -8.753906 2.109375 -7.953125 C 2.785156 -7.148438 3.125 -5.984375 3.125 -4.453125 C 3.125 -3.953125 3.085938 -3.472656 3.015625 -3.015625 C 2.941406 -2.554688 2.828125 -2.09375 2.671875 -1.625 L 0.6875 -1.625 C 0.945312 -2.0625 1.140625 -2.492188 1.265625 -2.921875 C 1.390625 -3.347656 1.453125 -3.773438 1.453125 -4.203125 C 1.453125 -5.035156 1.269531 -5.644531 0.90625 -6.03125 C 0.539062 -6.414062 -0.0234375 -6.609375 -0.796875 -6.609375 Z M -6.28125 -4.9375 C -6.28125 -4.414062 -6.085938 -4.007812 -5.703125 -3.71875 C -5.316406 -3.425781 -4.769531 -3.28125 -4.0625 -3.28125 C -3.332031 -3.28125 -2.78125 -3.421875 -2.40625 -3.703125 C -2.03125 -3.984375 -1.84375 -4.394531 -1.84375 -4.9375 C -1.84375 -5.46875 -2.035156 -5.878906 -2.421875 -6.171875 C -2.804688 -6.460938 -3.351562 -6.609375 -4.0625 -6.609375 C -4.769531 -6.609375 -5.316406 -6.460938 -5.703125 -6.171875 C -6.085938 -5.878906 -6.28125 -5.46875 -6.28125 -4.9375 Z M -6.28125 -4.9375 \"/>\n",
       "</symbol>\n",
       "<symbol overflow=\"visible\" id=\"glyph2-11\">\n",
       "<path style=\"stroke:none;\" d=\"M -4.828125 -9.1875 L 0 -9.1875 L 0 -6.640625 L -3.703125 -6.640625 C -4.378906 -6.640625 -4.847656 -6.625 -5.109375 -6.59375 C -5.367188 -6.5625 -5.5625 -6.507812 -5.6875 -6.4375 C -5.851562 -6.332031 -5.976562 -6.195312 -6.0625 -6.03125 C -6.15625 -5.863281 -6.203125 -5.671875 -6.203125 -5.453125 C -6.203125 -4.921875 -6 -4.503906 -5.59375 -4.203125 C -5.1875 -3.898438 -4.625 -3.75 -3.90625 -3.75 L 0 -3.75 L 0 -1.21875 L -7.9375 -1.21875 L -7.9375 -3.75 L -6.765625 -3.75 C -7.234375 -4.132812 -7.578125 -4.539062 -7.796875 -4.96875 C -8.015625 -5.394531 -8.125 -5.867188 -8.125 -6.390625 C -8.125 -7.304688 -7.84375 -8 -7.28125 -8.46875 C -6.71875 -8.945312 -5.898438 -9.1875 -4.828125 -9.1875 Z M -4.828125 -9.1875 \"/>\n",
       "</symbol>\n",
       "<symbol overflow=\"visible\" id=\"glyph2-12\">\n",
       "<path style=\"stroke:none;\" d=\"M -7.6875 -7.40625 L -5.75 -7.40625 C -5.976562 -6.863281 -6.148438 -6.335938 -6.265625 -5.828125 C -6.378906 -5.328125 -6.4375 -4.851562 -6.4375 -4.40625 C -6.4375 -3.925781 -6.375 -3.566406 -6.25 -3.328125 C -6.132812 -3.097656 -5.953125 -2.984375 -5.703125 -2.984375 C -5.492188 -2.984375 -5.332031 -3.070312 -5.21875 -3.25 C -5.113281 -3.425781 -5.035156 -3.742188 -4.984375 -4.203125 L -4.921875 -4.65625 C -4.765625 -5.945312 -4.492188 -6.816406 -4.109375 -7.265625 C -3.734375 -7.710938 -3.144531 -7.9375 -2.34375 -7.9375 C -1.488281 -7.9375 -0.847656 -7.625 -0.421875 -7 C -0.00390625 -6.382812 0.203125 -5.457031 0.203125 -4.21875 C 0.203125 -3.695312 0.160156 -3.15625 0.078125 -2.59375 C -0.00390625 -2.03125 -0.128906 -1.457031 -0.296875 -0.875 L -2.21875 -0.875 C -1.96875 -1.375 -1.78125 -1.890625 -1.65625 -2.421875 C -1.539062 -2.953125 -1.484375 -3.492188 -1.484375 -4.046875 C -1.484375 -4.535156 -1.550781 -4.90625 -1.6875 -5.15625 C -1.820312 -5.40625 -2.023438 -5.53125 -2.296875 -5.53125 C -2.523438 -5.53125 -2.691406 -5.441406 -2.796875 -5.265625 C -2.910156 -5.097656 -3 -4.757812 -3.0625 -4.25 L -3.109375 -3.796875 C -3.253906 -2.671875 -3.515625 -1.878906 -3.890625 -1.421875 C -4.273438 -0.972656 -4.859375 -0.75 -5.640625 -0.75 C -6.484375 -0.75 -7.109375 -1.035156 -7.515625 -1.609375 C -7.921875 -2.191406 -8.125 -3.078125 -8.125 -4.265625 C -8.125 -4.734375 -8.085938 -5.222656 -8.015625 -5.734375 C -7.941406 -6.242188 -7.832031 -6.800781 -7.6875 -7.40625 Z M -7.6875 -7.40625 \"/>\n",
       "</symbol>\n",
       "</g>\n",
       "<clipPath id=\"clip1\">\n",
       "  <path d=\"M 52.824219 24.53125 L 427 24.53125 L 427 394 L 52.824219 394 Z M 52.824219 24.53125 \"/>\n",
       "</clipPath>\n",
       "<clipPath id=\"clip2\">\n",
       "  <path d=\"M 52.824219 24.53125 L 427.519531 24.53125 L 427.519531 394.167969 L 52.824219 394.167969 Z M 52.824219 24.53125 \"/>\n",
       "</clipPath>\n",
       "</defs>\n",
       "<g id=\"surface70\">\n",
       "<rect x=\"0\" y=\"0\" width=\"432\" height=\"432\" style=\"fill:rgb(100%,100%,100%);fill-opacity:1;stroke:none;\"/>\n",
       "<rect x=\"0\" y=\"0\" width=\"432\" height=\"432\" style=\"fill:rgb(100%,100%,100%);fill-opacity:1;stroke:none;\"/>\n",
       "<path style=\"fill:none;stroke-width:1.422638;stroke-linecap:round;stroke-linejoin:round;stroke:rgb(100%,100%,100%);stroke-opacity:1;stroke-miterlimit:10;\" d=\"M 0 0 L 432 0 L 432 432 L 0 432 Z M 0 0 \"/>\n",
       "<g clip-path=\"url(#clip1)\" clip-rule=\"nonzero\">\n",
       "<path style=\" stroke:none;fill-rule:nonzero;fill:rgb(100%,100%,100%);fill-opacity:1;\" d=\"M 52.824219 24.53125 L 426.519531 24.53125 L 426.519531 393.167969 L 52.824219 393.167969 Z M 52.824219 24.53125 \"/>\n",
       "</g>\n",
       "<path style=\" stroke:none;fill-rule:nonzero;fill:rgb(34.901961%,34.901961%,34.901961%);fill-opacity:1;\" d=\"M 69.8125 274.359375 L 74.808594 274.359375 L 74.808594 376.410156 L 69.8125 376.410156 Z M 69.8125 274.359375 \"/>\n",
       "<path style=\" stroke:none;fill-rule:nonzero;fill:rgb(34.901961%,34.901961%,34.901961%);fill-opacity:1;\" d=\"M 99.785156 276.953125 L 104.78125 276.953125 L 104.78125 376.410156 L 99.785156 376.410156 Z M 99.785156 276.953125 \"/>\n",
       "<path style=\" stroke:none;fill-rule:nonzero;fill:rgb(34.901961%,34.901961%,34.901961%);fill-opacity:1;\" d=\"M 114.773438 300.304688 L 119.769531 300.304688 L 119.769531 376.410156 L 114.773438 376.410156 Z M 114.773438 300.304688 \"/>\n",
       "<path style=\" stroke:none;fill-rule:nonzero;fill:rgb(34.901961%,34.901961%,34.901961%);fill-opacity:1;\" d=\"M 129.761719 293.386719 L 134.757812 293.386719 L 134.757812 376.410156 L 129.761719 376.410156 Z M 129.761719 293.386719 \"/>\n",
       "<path style=\" stroke:none;fill-rule:nonzero;fill:rgb(34.901961%,34.901961%,34.901961%);fill-opacity:1;\" d=\"M 139.753906 298.140625 L 144.75 298.140625 L 144.75 376.410156 L 139.753906 376.410156 Z M 139.753906 298.140625 \"/>\n",
       "<path style=\" stroke:none;fill-rule:nonzero;fill:rgb(34.901961%,34.901961%,34.901961%);fill-opacity:1;\" d=\"M 144.75 298.140625 L 149.746094 298.140625 L 149.746094 376.410156 L 144.75 376.410156 Z M 144.75 298.140625 \"/>\n",
       "<path style=\" stroke:none;fill-rule:nonzero;fill:rgb(34.901961%,34.901961%,34.901961%);fill-opacity:1;\" d=\"M 149.746094 285.167969 L 154.742188 285.167969 L 154.742188 376.410156 L 149.746094 376.410156 Z M 149.746094 285.167969 \"/>\n",
       "<path style=\" stroke:none;fill-rule:nonzero;fill:rgb(34.901961%,34.901961%,34.901961%);fill-opacity:1;\" d=\"M 159.738281 288.195312 L 164.734375 288.195312 L 164.734375 376.410156 L 159.738281 376.410156 Z M 159.738281 288.195312 \"/>\n",
       "<path style=\" stroke:none;fill-rule:nonzero;fill:rgb(34.901961%,34.901961%,34.901961%);fill-opacity:1;\" d=\"M 164.734375 283.871094 L 169.730469 283.871094 L 169.730469 376.410156 L 164.734375 376.410156 Z M 164.734375 283.871094 \"/>\n",
       "<path style=\" stroke:none;fill-rule:nonzero;fill:rgb(34.901961%,34.901961%,34.901961%);fill-opacity:1;\" d=\"M 169.730469 193.496094 L 174.726562 193.496094 L 174.726562 376.410156 L 169.730469 376.410156 Z M 169.730469 193.496094 \"/>\n",
       "<path style=\" stroke:none;fill-rule:nonzero;fill:rgb(34.901961%,34.901961%,34.901961%);fill-opacity:1;\" d=\"M 174.726562 296.84375 L 179.722656 296.84375 L 179.722656 376.410156 L 174.726562 376.410156 Z M 174.726562 296.84375 \"/>\n",
       "<path style=\" stroke:none;fill-rule:nonzero;fill:rgb(34.901961%,34.901961%,34.901961%);fill-opacity:1;\" d=\"M 179.722656 300.304688 L 184.71875 300.304688 L 184.71875 376.410156 L 179.722656 376.410156 Z M 179.722656 300.304688 \"/>\n",
       "<path style=\" stroke:none;fill-rule:nonzero;fill:rgb(34.901961%,34.901961%,34.901961%);fill-opacity:1;\" d=\"M 184.71875 212.523438 L 189.714844 212.523438 L 189.714844 376.410156 L 184.71875 376.410156 Z M 184.71875 212.523438 \"/>\n",
       "<path style=\" stroke:none;fill-rule:nonzero;fill:rgb(34.901961%,34.901961%,34.901961%);fill-opacity:1;\" d=\"M 189.714844 203.875 L 194.710938 203.875 L 194.710938 376.410156 L 189.714844 376.410156 Z M 189.714844 203.875 \"/>\n",
       "<path style=\" stroke:none;fill-rule:nonzero;fill:rgb(34.901961%,34.901961%,34.901961%);fill-opacity:1;\" d=\"M 194.710938 225.0625 L 199.707031 225.0625 L 199.707031 376.410156 L 194.710938 376.410156 Z M 194.710938 225.0625 \"/>\n",
       "<path style=\" stroke:none;fill-rule:nonzero;fill:rgb(34.901961%,34.901961%,34.901961%);fill-opacity:1;\" d=\"M 199.707031 152.851562 L 204.703125 152.851562 L 204.703125 376.410156 L 199.707031 376.410156 Z M 199.707031 152.851562 \"/>\n",
       "<path style=\" stroke:none;fill-rule:nonzero;fill:rgb(34.901961%,34.901961%,34.901961%);fill-opacity:1;\" d=\"M 204.703125 232.847656 L 209.699219 232.847656 L 209.699219 376.410156 L 204.703125 376.410156 Z M 204.703125 232.847656 \"/>\n",
       "<path style=\" stroke:none;fill-rule:nonzero;fill:rgb(34.901961%,34.901961%,34.901961%);fill-opacity:1;\" d=\"M 209.695312 173.605469 L 214.691406 173.605469 L 214.691406 376.410156 L 209.695312 376.410156 Z M 209.695312 173.605469 \"/>\n",
       "<path style=\" stroke:none;fill-rule:nonzero;fill:rgb(34.901961%,34.901961%,34.901961%);fill-opacity:1;\" d=\"M 214.691406 132.527344 L 219.6875 132.527344 L 219.6875 376.410156 L 214.691406 376.410156 Z M 214.691406 132.527344 \"/>\n",
       "<path style=\" stroke:none;fill-rule:nonzero;fill:rgb(34.901961%,34.901961%,34.901961%);fill-opacity:1;\" d=\"M 219.6875 130.363281 L 224.683594 130.363281 L 224.683594 376.410156 L 219.6875 376.410156 Z M 219.6875 130.363281 \"/>\n",
       "<path style=\" stroke:none;fill-rule:nonzero;fill:rgb(34.901961%,34.901961%,34.901961%);fill-opacity:1;\" d=\"M 224.683594 149.390625 L 229.679688 149.390625 L 229.679688 376.410156 L 224.683594 376.410156 Z M 224.683594 149.390625 \"/>\n",
       "<path style=\" stroke:none;fill-rule:nonzero;fill:rgb(34.901961%,34.901961%,34.901961%);fill-opacity:1;\" d=\"M 229.679688 92.742188 L 234.675781 92.742188 L 234.675781 376.410156 L 229.679688 376.410156 Z M 229.679688 92.742188 \"/>\n",
       "<path style=\" stroke:none;fill-rule:nonzero;fill:rgb(34.901961%,34.901961%,34.901961%);fill-opacity:1;\" d=\"M 234.675781 117.824219 L 239.671875 117.824219 L 239.671875 376.410156 L 234.675781 376.410156 Z M 234.675781 117.824219 \"/>\n",
       "<path style=\" stroke:none;fill-rule:nonzero;fill:rgb(34.901961%,34.901961%,34.901961%);fill-opacity:1;\" d=\"M 239.671875 98.363281 L 244.667969 98.363281 L 244.667969 376.410156 L 239.671875 376.410156 Z M 239.671875 98.363281 \"/>\n",
       "<path style=\" stroke:none;fill-rule:nonzero;fill:rgb(34.901961%,34.901961%,34.901961%);fill-opacity:1;\" d=\"M 244.667969 41.285156 L 249.664062 41.285156 L 249.664062 376.410156 L 244.667969 376.410156 Z M 244.667969 41.285156 \"/>\n",
       "<path style=\" stroke:none;fill-rule:nonzero;fill:rgb(34.901961%,34.901961%,34.901961%);fill-opacity:1;\" d=\"M 249.664062 53.394531 L 254.660156 53.394531 L 254.660156 376.410156 L 249.664062 376.410156 Z M 249.664062 53.394531 \"/>\n",
       "<path style=\" stroke:none;fill-rule:nonzero;fill:rgb(34.901961%,34.901961%,34.901961%);fill-opacity:1;\" d=\"M 254.660156 62.472656 L 259.65625 62.472656 L 259.65625 376.410156 L 254.660156 376.410156 Z M 254.660156 62.472656 \"/>\n",
       "<path style=\" stroke:none;fill-rule:nonzero;fill:rgb(34.901961%,34.901961%,34.901961%);fill-opacity:1;\" d=\"M 259.65625 65.070312 L 264.652344 65.070312 L 264.652344 376.410156 L 259.65625 376.410156 Z M 259.65625 65.070312 \"/>\n",
       "<path style=\" stroke:none;fill-rule:nonzero;fill:rgb(34.901961%,34.901961%,34.901961%);fill-opacity:1;\" d=\"M 264.652344 70.691406 L 269.648438 70.691406 L 269.648438 376.410156 L 264.652344 376.410156 Z M 264.652344 70.691406 \"/>\n",
       "<path style=\" stroke:none;fill-rule:nonzero;fill:rgb(34.901961%,34.901961%,34.901961%);fill-opacity:1;\" d=\"M 269.648438 98.363281 L 274.644531 98.363281 L 274.644531 376.410156 L 269.648438 376.410156 Z M 269.648438 98.363281 \"/>\n",
       "<path style=\" stroke:none;fill-rule:nonzero;fill:rgb(34.901961%,34.901961%,34.901961%);fill-opacity:1;\" d=\"M 274.644531 141.605469 L 279.640625 141.605469 L 279.640625 376.410156 L 274.644531 376.410156 Z M 274.644531 141.605469 \"/>\n",
       "<path style=\" stroke:none;fill-rule:nonzero;fill:rgb(34.901961%,34.901961%,34.901961%);fill-opacity:1;\" d=\"M 279.640625 162.363281 L 284.636719 162.363281 L 284.636719 376.410156 L 279.640625 376.410156 Z M 279.640625 162.363281 \"/>\n",
       "<path style=\" stroke:none;fill-rule:nonzero;fill:rgb(34.901961%,34.901961%,34.901961%);fill-opacity:1;\" d=\"M 284.636719 215.984375 L 289.632812 215.984375 L 289.632812 376.410156 L 284.636719 376.410156 Z M 284.636719 215.984375 \"/>\n",
       "<path style=\" stroke:none;fill-rule:nonzero;fill:rgb(34.901961%,34.901961%,34.901961%);fill-opacity:1;\" d=\"M 289.632812 242.359375 L 294.628906 242.359375 L 294.628906 376.410156 L 289.632812 376.410156 Z M 289.632812 242.359375 \"/>\n",
       "<path style=\" stroke:none;fill-rule:nonzero;fill:rgb(34.901961%,34.901961%,34.901961%);fill-opacity:1;\" d=\"M 294.628906 271.332031 L 299.625 271.332031 L 299.625 376.410156 L 294.628906 376.410156 Z M 294.628906 271.332031 \"/>\n",
       "<path style=\" stroke:none;fill-rule:nonzero;fill:rgb(34.901961%,34.901961%,34.901961%);fill-opacity:1;\" d=\"M 299.625 302.035156 L 304.621094 302.035156 L 304.621094 376.410156 L 299.625 376.410156 Z M 299.625 302.035156 \"/>\n",
       "<path style=\" stroke:none;fill-rule:nonzero;fill:rgb(34.901961%,34.901961%,34.901961%);fill-opacity:1;\" d=\"M 304.621094 330.140625 L 309.617188 330.140625 L 309.617188 376.410156 L 304.621094 376.410156 Z M 304.621094 330.140625 \"/>\n",
       "<path style=\" stroke:none;fill-rule:nonzero;fill:rgb(34.901961%,34.901961%,34.901961%);fill-opacity:1;\" d=\"M 309.617188 340.085938 L 314.613281 340.085938 L 314.613281 376.410156 L 309.617188 376.410156 Z M 309.617188 340.085938 \"/>\n",
       "<path style=\" stroke:none;fill-rule:nonzero;fill:rgb(34.901961%,34.901961%,34.901961%);fill-opacity:1;\" d=\"M 314.613281 350.898438 L 319.609375 350.898438 L 319.609375 376.410156 L 314.613281 376.410156 Z M 314.613281 350.898438 \"/>\n",
       "<path style=\" stroke:none;fill-rule:nonzero;fill:rgb(34.901961%,34.901961%,34.901961%);fill-opacity:1;\" d=\"M 319.609375 352.628906 L 324.605469 352.628906 L 324.605469 376.410156 L 319.609375 376.410156 Z M 319.609375 352.628906 \"/>\n",
       "<path style=\" stroke:none;fill-rule:nonzero;fill:rgb(34.901961%,34.901961%,34.901961%);fill-opacity:1;\" d=\"M 324.605469 359.546875 L 329.601562 359.546875 L 329.601562 376.410156 L 324.605469 376.410156 Z M 324.605469 359.546875 \"/>\n",
       "<path style=\" stroke:none;fill-rule:nonzero;fill:rgb(34.901961%,34.901961%,34.901961%);fill-opacity:1;\" d=\"M 329.597656 364.300781 L 334.59375 364.300781 L 334.59375 376.410156 L 329.597656 376.410156 Z M 329.597656 364.300781 \"/>\n",
       "<path style=\" stroke:none;fill-rule:nonzero;fill:rgb(34.901961%,34.901961%,34.901961%);fill-opacity:1;\" d=\"M 334.59375 370.355469 L 339.589844 370.355469 L 339.589844 376.410156 L 334.59375 376.410156 Z M 334.59375 370.355469 \"/>\n",
       "<path style=\" stroke:none;fill-rule:nonzero;fill:rgb(34.901961%,34.901961%,34.901961%);fill-opacity:1;\" d=\"M 339.589844 371.652344 L 344.585938 371.652344 L 344.585938 376.410156 L 339.589844 376.410156 Z M 339.589844 371.652344 \"/>\n",
       "<path style=\" stroke:none;fill-rule:nonzero;fill:rgb(34.901961%,34.901961%,34.901961%);fill-opacity:1;\" d=\"M 344.585938 372.949219 L 349.582031 372.949219 L 349.582031 376.410156 L 344.585938 376.410156 Z M 344.585938 372.949219 \"/>\n",
       "<path style=\" stroke:none;fill-rule:nonzero;fill:rgb(34.901961%,34.901961%,34.901961%);fill-opacity:1;\" d=\"M 349.582031 373.816406 L 354.578125 373.816406 L 354.578125 376.410156 L 349.582031 376.410156 Z M 349.582031 373.816406 \"/>\n",
       "<path style=\" stroke:none;fill-rule:nonzero;fill:rgb(34.901961%,34.901961%,34.901961%);fill-opacity:1;\" d=\"M 354.578125 373.382812 L 359.574219 373.382812 L 359.574219 376.410156 L 354.578125 376.410156 Z M 354.578125 373.382812 \"/>\n",
       "<path style=\" stroke:none;fill-rule:nonzero;fill:rgb(34.901961%,34.901961%,34.901961%);fill-opacity:1;\" d=\"M 359.574219 375.546875 L 364.570312 375.546875 L 364.570312 376.410156 L 359.574219 376.410156 Z M 359.574219 375.546875 \"/>\n",
       "<path style=\" stroke:none;fill-rule:nonzero;fill:rgb(34.901961%,34.901961%,34.901961%);fill-opacity:1;\" d=\"M 369.566406 375.976562 L 374.5625 375.976562 L 374.5625 376.410156 L 369.566406 376.410156 Z M 369.566406 375.976562 \"/>\n",
       "<path style=\" stroke:none;fill-rule:nonzero;fill:rgb(34.901961%,34.901961%,34.901961%);fill-opacity:1;\" d=\"M 374.5625 375.546875 L 379.558594 375.546875 L 379.558594 376.410156 L 374.5625 376.410156 Z M 374.5625 375.546875 \"/>\n",
       "<path style=\" stroke:none;fill-rule:nonzero;fill:rgb(34.901961%,34.901961%,34.901961%);fill-opacity:1;\" d=\"M 384.554688 375.976562 L 389.550781 375.976562 L 389.550781 376.410156 L 384.554688 376.410156 Z M 384.554688 375.976562 \"/>\n",
       "<path style=\" stroke:none;fill-rule:nonzero;fill:rgb(34.901961%,34.901961%,34.901961%);fill-opacity:1;\" d=\"M 399.542969 375.976562 L 404.539062 375.976562 L 404.539062 376.410156 L 399.542969 376.410156 Z M 399.542969 375.976562 \"/>\n",
       "<path style=\" stroke:none;fill-rule:nonzero;fill:rgb(34.901961%,34.901961%,34.901961%);fill-opacity:1;\" d=\"M 404.539062 375.976562 L 409.535156 375.976562 L 409.535156 376.410156 L 404.539062 376.410156 Z M 404.539062 375.976562 \"/>\n",
       "<g clip-path=\"url(#clip2)\" clip-rule=\"nonzero\">\n",
       "<path style=\"fill:none;stroke-width:2.845276;stroke-linecap:round;stroke-linejoin:round;stroke:rgb(74.509804%,74.509804%,74.509804%);stroke-opacity:1;stroke-miterlimit:10;\" d=\"M 52.824219 24.53125 L 426.519531 24.53125 L 426.519531 393.167969 L 52.824219 393.167969 Z M 52.824219 24.53125 \"/>\n",
       "</g>\n",
       "<g style=\"fill:rgb(0%,0%,0%);fill-opacity:1;\">\n",
       "  <use xlink:href=\"#glyph0-1\" x=\"39.195985\" y=\"380.966268\"/>\n",
       "</g>\n",
       "<g style=\"fill:rgb(0%,0%,0%);fill-opacity:1;\">\n",
       "  <use xlink:href=\"#glyph0-2\" x=\"21.789735\" y=\"294.482573\"/>\n",
       "  <use xlink:href=\"#glyph0-1\" x=\"30.49286\" y=\"294.482573\"/>\n",
       "  <use xlink:href=\"#glyph0-1\" x=\"39.195985\" y=\"294.482573\"/>\n",
       "</g>\n",
       "<g style=\"fill:rgb(0%,0%,0%);fill-opacity:1;\">\n",
       "  <use xlink:href=\"#glyph0-3\" x=\"21.789735\" y=\"207.998879\"/>\n",
       "  <use xlink:href=\"#glyph0-1\" x=\"30.49286\" y=\"207.998879\"/>\n",
       "  <use xlink:href=\"#glyph0-1\" x=\"39.195985\" y=\"207.998879\"/>\n",
       "</g>\n",
       "<g style=\"fill:rgb(0%,0%,0%);fill-opacity:1;\">\n",
       "  <use xlink:href=\"#glyph0-4\" x=\"21.789735\" y=\"121.515184\"/>\n",
       "  <use xlink:href=\"#glyph0-1\" x=\"30.49286\" y=\"121.515184\"/>\n",
       "  <use xlink:href=\"#glyph0-1\" x=\"39.195985\" y=\"121.515184\"/>\n",
       "</g>\n",
       "<g style=\"fill:rgb(0%,0%,0%);fill-opacity:1;\">\n",
       "  <use xlink:href=\"#glyph0-5\" x=\"21.789735\" y=\"35.031489\"/>\n",
       "  <use xlink:href=\"#glyph0-1\" x=\"30.49286\" y=\"35.031489\"/>\n",
       "  <use xlink:href=\"#glyph0-1\" x=\"39.195985\" y=\"35.031489\"/>\n",
       "</g>\n",
       "<path style=\"fill:none;stroke-width:1.422638;stroke-linecap:butt;stroke-linejoin:round;stroke:rgb(20%,20%,20%);stroke-opacity:1;stroke-miterlimit:10;\" d=\"M 50.085938 376.410156 L 52.824219 376.410156 \"/>\n",
       "<path style=\"fill:none;stroke-width:1.422638;stroke-linecap:butt;stroke-linejoin:round;stroke:rgb(20%,20%,20%);stroke-opacity:1;stroke-miterlimit:10;\" d=\"M 50.085938 289.925781 L 52.824219 289.925781 \"/>\n",
       "<path style=\"fill:none;stroke-width:1.422638;stroke-linecap:butt;stroke-linejoin:round;stroke:rgb(20%,20%,20%);stroke-opacity:1;stroke-miterlimit:10;\" d=\"M 50.085938 203.441406 L 52.824219 203.441406 \"/>\n",
       "<path style=\"fill:none;stroke-width:1.422638;stroke-linecap:butt;stroke-linejoin:round;stroke:rgb(20%,20%,20%);stroke-opacity:1;stroke-miterlimit:10;\" d=\"M 50.085938 116.957031 L 52.824219 116.957031 \"/>\n",
       "<path style=\"fill:none;stroke-width:1.422638;stroke-linecap:butt;stroke-linejoin:round;stroke:rgb(20%,20%,20%);stroke-opacity:1;stroke-miterlimit:10;\" d=\"M 50.085938 30.476562 L 52.824219 30.476562 \"/>\n",
       "<path style=\"fill:none;stroke-width:1.422638;stroke-linecap:butt;stroke-linejoin:round;stroke:rgb(20%,20%,20%);stroke-opacity:1;stroke-miterlimit:10;\" d=\"M 112.277344 395.90625 L 112.277344 393.167969 \"/>\n",
       "<path style=\"fill:none;stroke-width:1.422638;stroke-linecap:butt;stroke-linejoin:round;stroke:rgb(20%,20%,20%);stroke-opacity:1;stroke-miterlimit:10;\" d=\"M 212.195312 395.90625 L 212.195312 393.167969 \"/>\n",
       "<path style=\"fill:none;stroke-width:1.422638;stroke-linecap:butt;stroke-linejoin:round;stroke:rgb(20%,20%,20%);stroke-opacity:1;stroke-miterlimit:10;\" d=\"M 312.113281 395.90625 L 312.113281 393.167969 \"/>\n",
       "<path style=\"fill:none;stroke-width:1.422638;stroke-linecap:butt;stroke-linejoin:round;stroke:rgb(20%,20%,20%);stroke-opacity:1;stroke-miterlimit:10;\" d=\"M 412.03125 395.90625 L 412.03125 393.167969 \"/>\n",
       "<g style=\"fill:rgb(0%,0%,0%);fill-opacity:1;\">\n",
       "  <use xlink:href=\"#glyph0-1\" x=\"96.820335\" y=\"407.210265\"/>\n",
       "  <use xlink:href=\"#glyph0-6\" x=\"105.52346\" y=\"407.210265\"/>\n",
       "  <use xlink:href=\"#glyph0-1\" x=\"110.27346\" y=\"407.210265\"/>\n",
       "  <use xlink:href=\"#glyph0-1\" x=\"118.976585\" y=\"407.210265\"/>\n",
       "  <use xlink:href=\"#glyph0-7\" x=\"127.67971\" y=\"407.210265\"/>\n",
       "</g>\n",
       "<g style=\"fill:rgb(0%,0%,0%);fill-opacity:1;\">\n",
       "  <use xlink:href=\"#glyph0-1\" x=\"192.416719\" y=\"407.210265\"/>\n",
       "  <use xlink:href=\"#glyph0-6\" x=\"201.119844\" y=\"407.210265\"/>\n",
       "  <use xlink:href=\"#glyph0-1\" x=\"205.869844\" y=\"407.210265\"/>\n",
       "  <use xlink:href=\"#glyph0-7\" x=\"214.572969\" y=\"407.210265\"/>\n",
       "  <use xlink:href=\"#glyph0-1\" x=\"223.276094\" y=\"407.210265\"/>\n",
       "</g>\n",
       "<g style=\"fill:rgb(0%,0%,0%);fill-opacity:1;\">\n",
       "  <use xlink:href=\"#glyph0-1\" x=\"292.335314\" y=\"407.210265\"/>\n",
       "  <use xlink:href=\"#glyph0-6\" x=\"301.038439\" y=\"407.210265\"/>\n",
       "  <use xlink:href=\"#glyph0-7\" x=\"305.788439\" y=\"407.210265\"/>\n",
       "  <use xlink:href=\"#glyph0-1\" x=\"314.491564\" y=\"407.210265\"/>\n",
       "  <use xlink:href=\"#glyph0-1\" x=\"323.194689\" y=\"407.210265\"/>\n",
       "</g>\n",
       "<g style=\"fill:rgb(0%,0%,0%);fill-opacity:1;\">\n",
       "  <use xlink:href=\"#glyph0-7\" x=\"392.253909\" y=\"407.210265\"/>\n",
       "  <use xlink:href=\"#glyph0-6\" x=\"400.957034\" y=\"407.210265\"/>\n",
       "  <use xlink:href=\"#glyph0-1\" x=\"405.707034\" y=\"407.210265\"/>\n",
       "  <use xlink:href=\"#glyph0-1\" x=\"414.410159\" y=\"407.210265\"/>\n",
       "  <use xlink:href=\"#glyph0-1\" x=\"423.113284\" y=\"407.210265\"/>\n",
       "</g>\n",
       "<g style=\"fill:rgb(0%,0%,0%);fill-opacity:1;\">\n",
       "  <use xlink:href=\"#glyph1-1\" x=\"184.34268\" y=\"423.520548\"/>\n",
       "  <use xlink:href=\"#glyph1-2\" x=\"195.514555\" y=\"423.520548\"/>\n",
       "  <use xlink:href=\"#glyph1-3\" x=\"205.34268\" y=\"423.520548\"/>\n",
       "  <use xlink:href=\"#glyph1-4\" x=\"215.12393\" y=\"423.520548\"/>\n",
       "  <use xlink:href=\"#glyph1-5\" x=\"225.49893\" y=\"423.520548\"/>\n",
       "  <use xlink:href=\"#glyph1-6\" x=\"234.12393\" y=\"423.520548\"/>\n",
       "  <use xlink:href=\"#glyph1-7\" x=\"239.170805\" y=\"423.520548\"/>\n",
       "  <use xlink:href=\"#glyph1-2\" x=\"249.545805\" y=\"423.520548\"/>\n",
       "  <use xlink:href=\"#glyph1-8\" x=\"259.37393\" y=\"423.520548\"/>\n",
       "  <use xlink:href=\"#glyph1-6\" x=\"266.53018\" y=\"423.520548\"/>\n",
       "  <use xlink:href=\"#glyph1-9\" x=\"271.577055\" y=\"423.520548\"/>\n",
       "  <use xlink:href=\"#glyph1-2\" x=\"280.170805\" y=\"423.520548\"/>\n",
       "  <use xlink:href=\"#glyph1-10\" x=\"289.99893\" y=\"423.520548\"/>\n",
       "  <use xlink:href=\"#glyph1-10\" x=\"294.96768\" y=\"423.520548\"/>\n",
       "</g>\n",
       "<g style=\"fill:rgb(0%,0%,0%);fill-opacity:1;\">\n",
       "  <use xlink:href=\"#glyph2-1\" x=\"16.050009\" y=\"278.99908\"/>\n",
       "  <use xlink:href=\"#glyph2-2\" x=\"16.050009\" y=\"266.858455\"/>\n",
       "  <use xlink:href=\"#glyph2-3\" x=\"16.050009\" y=\"256.53033\"/>\n",
       "  <use xlink:href=\"#glyph2-4\" x=\"16.050009\" y=\"241.420955\"/>\n",
       "  <use xlink:href=\"#glyph2-5\" x=\"16.050009\" y=\"231.045955\"/>\n",
       "  <use xlink:href=\"#glyph2-6\" x=\"16.050009\" y=\"221.21783\"/>\n",
       "  <use xlink:href=\"#glyph2-7\" x=\"16.050009\" y=\"214.06158\"/>\n",
       "  <use xlink:href=\"#glyph2-8\" x=\"16.050009\" y=\"209.014705\"/>\n",
       "  <use xlink:href=\"#glyph2-9\" x=\"16.050009\" y=\"199.045955\"/>\n",
       "  <use xlink:href=\"#glyph2-7\" x=\"16.050009\" y=\"192.733455\"/>\n",
       "  <use xlink:href=\"#glyph2-10\" x=\"16.050009\" y=\"187.68658\"/>\n",
       "  <use xlink:href=\"#glyph2-5\" x=\"16.050009\" y=\"177.31158\"/>\n",
       "  <use xlink:href=\"#glyph2-11\" x=\"16.050009\" y=\"167.483455\"/>\n",
       "  <use xlink:href=\"#glyph2-5\" x=\"16.050009\" y=\"157.15533\"/>\n",
       "  <use xlink:href=\"#glyph2-12\" x=\"16.050009\" y=\"147.327205\"/>\n",
       "</g>\n",
       "<g style=\"fill:rgb(0%,0%,0%);fill-opacity:1;\">\n",
       "  <use xlink:href=\"#glyph1-1\" x=\"175.872848\" y=\"16.050009\"/>\n",
       "  <use xlink:href=\"#glyph1-2\" x=\"187.044723\" y=\"16.050009\"/>\n",
       "  <use xlink:href=\"#glyph1-3\" x=\"196.872848\" y=\"16.050009\"/>\n",
       "  <use xlink:href=\"#glyph1-4\" x=\"206.654098\" y=\"16.050009\"/>\n",
       "  <use xlink:href=\"#glyph1-5\" x=\"217.029098\" y=\"16.050009\"/>\n",
       "  <use xlink:href=\"#glyph1-6\" x=\"225.654098\" y=\"16.050009\"/>\n",
       "  <use xlink:href=\"#glyph1-7\" x=\"230.700973\" y=\"16.050009\"/>\n",
       "  <use xlink:href=\"#glyph1-2\" x=\"241.075973\" y=\"16.050009\"/>\n",
       "  <use xlink:href=\"#glyph1-8\" x=\"250.904098\" y=\"16.050009\"/>\n",
       "  <use xlink:href=\"#glyph1-6\" x=\"258.060348\" y=\"16.050009\"/>\n",
       "  <use xlink:href=\"#glyph1-11\" x=\"263.107223\" y=\"16.050009\"/>\n",
       "  <use xlink:href=\"#glyph1-2\" x=\"273.482223\" y=\"16.050009\"/>\n",
       "  <use xlink:href=\"#glyph1-12\" x=\"283.310348\" y=\"16.050009\"/>\n",
       "  <use xlink:href=\"#glyph1-2\" x=\"293.638473\" y=\"16.050009\"/>\n",
       "</g>\n",
       "</g>\n",
       "</svg>\n"
      ]
     },
     "metadata": {
      "image/svg+xml": {
       "height": 360,
       "isolated": true,
       "width": 360
      }
     },
     "output_type": "display_data"
    }
   ],
   "source": [
    "data.frame(\n",
    "    x=rowMeans(counts>0)\n",
    ") %>%\n",
    "    ggplot( aes(x=x) ) +\n",
    "    geom_histogram(binwidth=0.05) +\n",
    "    scale_x_log10() +\n",
    "    ggtitle(\"Reads per gene\") +\n",
    "    xlab(\"Reads per cell\") +\n",
    "    ylab(\"Number of genes\");"
   ]
  },
  {
   "cell_type": "code",
   "execution_count": 14,
   "id": "6755b9bb-c508-4de1-b833-09f5e4156b7b",
   "metadata": {},
   "outputs": [
    {
     "data": {
      "text/html": [
       "<style>\n",
       ".list-inline {list-style: none; margin:0; padding: 0}\n",
       ".list-inline>li {display: inline-block}\n",
       ".list-inline>li:not(:last-child)::after {content: \"\\00b7\"; padding: 0 .5ex}\n",
       "</style>\n",
       "<ol class=list-inline><li>15021</li><li>2635</li></ol>\n"
      ],
      "text/latex": [
       "\\begin{enumerate*}\n",
       "\\item 15021\n",
       "\\item 2635\n",
       "\\end{enumerate*}\n"
      ],
      "text/markdown": [
       "1. 15021\n",
       "2. 2635\n",
       "\n",
       "\n"
      ],
      "text/plain": [
       "[1] 15021  2635"
      ]
     },
     "metadata": {},
     "output_type": "display_data"
    }
   ],
   "source": [
    "# only retain features with counts in 0.1% or more cells\n",
    "observed = counts[ rowMeans(counts>0) >= 0.001, ];\n",
    "dim(observed)\n",
    "\n",
    "# # only retain features with counts in 1% or more cells\n",
    "# observed = counts[ rowMeans(counts>0) >= 0.01, ];\n",
    "# dim(observed)"
   ]
  },
  {
   "cell_type": "code",
   "execution_count": null,
   "id": "95316360-0425-4463-8d26-461101ea17bc",
   "metadata": {},
   "outputs": [],
   "source": [
    "# Niters = 100;\n",
    "# Ncells = ncol(observed);\n",
    "# Ngenes = nrow(observed);\n",
    "# Nreads = colSums(observed);\n",
    "\n",
    "# # sampling probability = read count / total reads in each cell\n",
    "# bin1total = colSums(observed[, allcells]);\n",
    "# pmatrix1 = t(t(observed[, allcells]) / bin1total);\n",
    "\n",
    "# # average across cells\n",
    "# pvector1 = rowMeans(pmatrix1);"
   ]
  },
  {
   "cell_type": "markdown",
   "id": "5661f73c-4418-4672-9842-3b3c5b8cab65",
   "metadata": {},
   "source": [
    "## GxG Correlation & p-value from chi-square test:"
   ]
  },
  {
   "cell_type": "code",
   "execution_count": 17,
   "id": "b30de249-8837-4c60-b955-e09d30c10536",
   "metadata": {},
   "outputs": [],
   "source": [
    "# The matrix had to be converted to integer type for chi-square function written by chatGPT:\n",
    "forceMatrixToInteger <- function(m){\n",
    "    apply (m, c (1, 2), function (x) {\n",
    "         (as.integer(x))\n",
    "    })\n",
    "}"
   ]
  },
  {
   "cell_type": "code",
   "execution_count": 18,
   "id": "530e3f09-7ef9-4fd6-ba07-adbcf4698763",
   "metadata": {},
   "outputs": [
    {
     "data": {
      "text/html": [
       "<style>\n",
       ".list-inline {list-style: none; margin:0; padding: 0}\n",
       ".list-inline>li {display: inline-block}\n",
       ".list-inline>li:not(:last-child)::after {content: \"\\00b7\"; padding: 0 .5ex}\n",
       "</style>\n",
       "<ol class=list-inline><li>2635</li><li>15021</li></ol>\n"
      ],
      "text/latex": [
       "\\begin{enumerate*}\n",
       "\\item 2635\n",
       "\\item 15021\n",
       "\\end{enumerate*}\n"
      ],
      "text/markdown": [
       "1. 2635\n",
       "2. 15021\n",
       "\n",
       "\n"
      ],
      "text/plain": [
       "[1]  2635 15021"
      ]
     },
     "metadata": {},
     "output_type": "display_data"
    }
   ],
   "source": [
    "# transforming the matrix to calculate corr, hmisc package reqires genes in columns and cells in rows\n",
    "\n",
    "obsx = as.matrix(t(observed))\n",
    "# obsx = as.matrix(t(observed[1:100, 1:50]))\n",
    "# Binarize observed counts\n",
    "# obsx = as.matrix(t(observed[1:100, 1:50]))\n",
    "obsx[obsx > 1] = 1;\n",
    "\n",
    "obsB = forceMatrixToInteger(obsx)\n",
    "dim(obsB)"
   ]
  },
  {
   "cell_type": "code",
   "execution_count": 19,
   "id": "ce8670ba-6e32-406f-a8aa-ff75417cfa52",
   "metadata": {
    "tags": []
   },
   "outputs": [],
   "source": [
    "# Function to calculate chi-square p-value for a pair of genes\n",
    "chi_square_test = function(gene1, gene2) {\n",
    "  # Create contingency table\n",
    "  table = table(gene1, gene2)\n",
    "  \n",
    "  # Perform chi-square test\n",
    "  test = chisq.test(table, correct = FALSE) # 'correct = FALSE' to avoid Yates' correction\n",
    "  return(test$p.value)\n",
    "}"
   ]
  },
  {
   "cell_type": "code",
   "execution_count": 20,
   "id": "ead3d130-8597-4c27-9b6f-c3f3dd6d075d",
   "metadata": {},
   "outputs": [],
   "source": [
    "# ++++++++++++++++++++++++++++\n",
    "# flattenCorrMatrix\n",
    "# ++++++++++++++++++++++++++++\n",
    "# cormat : matrix of the correlation coefficients\n",
    "# pmat : matrix of the correlation p-values\n",
    "flattenCorrMatrix = function(cormat, pmat) {\n",
    "  ut = upper.tri(cormat)\n",
    "  data.frame(\n",
    "    geneA = rownames(cormat)[row(cormat)[ut]],\n",
    "    geneB = rownames(cormat)[col(cormat)[ut]],\n",
    "    corr = (cormat)[ut],\n",
    "    pVal = pmat[ut]\n",
    "    )\n",
    "}"
   ]
  },
  {
   "cell_type": "markdown",
   "id": "1571614d-a10e-4d54-b5d9-b648f4ccb1ff",
   "metadata": {},
   "source": [
    "#### Pearson correlation on binarized data:"
   ]
  },
  {
   "cell_type": "code",
   "execution_count": 21,
   "id": "7af9c995-5f3f-4407-a5a7-1819b1b7a16f",
   "metadata": {},
   "outputs": [],
   "source": [
    "# set.seed(123)\n",
    "# obsB <- matrix(sample(0:1, 100, replace = TRUE), nrow = 50, ncol = 100);\n",
    "# colnames(obsB) = paste0(\"GN-\", c(1:100));\n",
    "# rownames(obsB) = paste0(\"Exp-C-\", c(1:50));\n",
    "# obsB"
   ]
  },
  {
   "cell_type": "code",
   "execution_count": 22,
   "id": "90ba43df-b047-4ee8-8d63-b9b12ff71529",
   "metadata": {
    "tags": []
   },
   "outputs": [
    {
     "data": {
      "text/html": [
       "<style>\n",
       ".list-inline {list-style: none; margin:0; padding: 0}\n",
       ".list-inline>li {display: inline-block}\n",
       ".list-inline>li:not(:last-child)::after {content: \"\\00b7\"; padding: 0 .5ex}\n",
       "</style>\n",
       "<ol class=list-inline><li>15021</li><li>15021</li></ol>\n"
      ],
      "text/latex": [
       "\\begin{enumerate*}\n",
       "\\item 15021\n",
       "\\item 15021\n",
       "\\end{enumerate*}\n"
      ],
      "text/markdown": [
       "1. 15021\n",
       "2. 15021\n",
       "\n",
       "\n"
      ],
      "text/plain": [
       "[1] 15021 15021"
      ]
     },
     "metadata": {},
     "output_type": "display_data"
    },
    {
     "data": {
      "text/html": [
       "<table class=\"dataframe\">\n",
       "<caption>A matrix: 5 × 5 of type dbl</caption>\n",
       "<tbody>\n",
       "\t<tr><td>0.000000</td><td>0.0636207</td><td>0.0100294</td><td>0.99215</td><td>0.5096899</td></tr>\n",
       "\t<tr><td>0.063621</td><td>0.0000000</td><td>0.0001283</td><td>0.91513</td><td>0.1357836</td></tr>\n",
       "\t<tr><td>0.010029</td><td>0.0001283</td><td>0.0000000</td><td>0.37651</td><td>0.0079725</td></tr>\n",
       "\t<tr><td>0.992149</td><td>0.9151302</td><td>0.3765105</td><td>0.00000</td><td>0.5419040</td></tr>\n",
       "\t<tr><td>0.509690</td><td>0.1357836</td><td>0.0079725</td><td>0.54190</td><td>0.0000000</td></tr>\n",
       "</tbody>\n",
       "</table>\n"
      ],
      "text/latex": [
       "A matrix: 5 × 5 of type dbl\n",
       "\\begin{tabular}{lllll}\n",
       "\t 0.000000 & 0.0636207 & 0.0100294 & 0.99215 & 0.5096899\\\\\n",
       "\t 0.063621 & 0.0000000 & 0.0001283 & 0.91513 & 0.1357836\\\\\n",
       "\t 0.010029 & 0.0001283 & 0.0000000 & 0.37651 & 0.0079725\\\\\n",
       "\t 0.992149 & 0.9151302 & 0.3765105 & 0.00000 & 0.5419040\\\\\n",
       "\t 0.509690 & 0.1357836 & 0.0079725 & 0.54190 & 0.0000000\\\\\n",
       "\\end{tabular}\n"
      ],
      "text/markdown": [
       "\n",
       "A matrix: 5 × 5 of type dbl\n",
       "\n",
       "| 0.000000 | 0.0636207 | 0.0100294 | 0.99215 | 0.5096899 |\n",
       "| 0.063621 | 0.0000000 | 0.0001283 | 0.91513 | 0.1357836 |\n",
       "| 0.010029 | 0.0001283 | 0.0000000 | 0.37651 | 0.0079725 |\n",
       "| 0.992149 | 0.9151302 | 0.3765105 | 0.00000 | 0.5419040 |\n",
       "| 0.509690 | 0.1357836 | 0.0079725 | 0.54190 | 0.0000000 |\n",
       "\n"
      ],
      "text/plain": [
       "     [,1]     [,2]      [,3]      [,4]    [,5]     \n",
       "[1,] 0.000000 0.0636207 0.0100294 0.99215 0.5096899\n",
       "[2,] 0.063621 0.0000000 0.0001283 0.91513 0.1357836\n",
       "[3,] 0.010029 0.0001283 0.0000000 0.37651 0.0079725\n",
       "[4,] 0.992149 0.9151302 0.3765105 0.00000 0.5419040\n",
       "[5,] 0.509690 0.1357836 0.0079725 0.54190 0.0000000"
      ]
     },
     "metadata": {},
     "output_type": "display_data"
    }
   ],
   "source": [
    "# Apply the function to all pairs of genes\n",
    "suppressWarnings({\n",
    "    chSq_pVal = outer(1:ncol(obsB), 1:ncol(obsB), Vectorize(function(i, j) chi_square_test(obsB[,i], obsB[,j])))\n",
    "                })\n",
    "# colnames(p_values) = colnames(data)\n",
    "# rownames(p_values) = colnames(data);\n",
    "dim(chSq_pVal)\n",
    "chSq_pVal[1:5,1:5]                                           "
   ]
  },
  {
   "cell_type": "code",
   "execution_count": 23,
   "id": "923868d3-1537-4f76-9d1e-b47a4d4c1f24",
   "metadata": {},
   "outputs": [
    {
     "data": {
      "text/html": [
       "<style>\n",
       ".list-inline {list-style: none; margin:0; padding: 0}\n",
       ".list-inline>li {display: inline-block}\n",
       ".list-inline>li:not(:last-child)::after {content: \"\\00b7\"; padding: 0 .5ex}\n",
       "</style>\n",
       "<ol class=list-inline><li>15021</li><li>15021</li></ol>\n"
      ],
      "text/latex": [
       "\\begin{enumerate*}\n",
       "\\item 15021\n",
       "\\item 15021\n",
       "\\end{enumerate*}\n"
      ],
      "text/markdown": [
       "1. 15021\n",
       "2. 15021\n",
       "\n",
       "\n"
      ],
      "text/plain": [
       "[1] 15021 15021"
      ]
     },
     "metadata": {},
     "output_type": "display_data"
    },
    {
     "data": {
      "text/html": [
       "<table class=\"dataframe\">\n",
       "<caption>A matrix: 5 × 5 of type dbl</caption>\n",
       "<thead>\n",
       "\t<tr><th></th><th scope=col>GN-Lypla1</th><th scope=col>GN-Tcea1</th><th scope=col>GN-Atp6v1h</th><th scope=col>GN-Oprk1</th><th scope=col>GN-Rb1cc1</th></tr>\n",
       "</thead>\n",
       "<tbody>\n",
       "\t<tr><th scope=row>GN-Lypla1</th><td>1.0000000</td><td>0.0361338</td><td> 0.050160</td><td> 0.0001917</td><td> 0.012844</td></tr>\n",
       "\t<tr><th scope=row>GN-Tcea1</th><td>0.0361338</td><td>1.0000000</td><td> 0.074606</td><td> 0.0020761</td><td> 0.029059</td></tr>\n",
       "\t<tr><th scope=row>GN-Atp6v1h</th><td>0.0501598</td><td>0.0746060</td><td> 1.000000</td><td>-0.0172278</td><td> 0.051687</td></tr>\n",
       "\t<tr><th scope=row>GN-Oprk1</th><td>0.0001917</td><td>0.0020761</td><td>-0.017228</td><td> 1.0000000</td><td>-0.011882</td></tr>\n",
       "\t<tr><th scope=row>GN-Rb1cc1</th><td>0.0128442</td><td>0.0290593</td><td> 0.051687</td><td>-0.0118821</td><td> 1.000000</td></tr>\n",
       "</tbody>\n",
       "</table>\n"
      ],
      "text/latex": [
       "A matrix: 5 × 5 of type dbl\n",
       "\\begin{tabular}{r|lllll}\n",
       "  & GN-Lypla1 & GN-Tcea1 & GN-Atp6v1h & GN-Oprk1 & GN-Rb1cc1\\\\\n",
       "\\hline\n",
       "\tGN-Lypla1 & 1.0000000 & 0.0361338 &  0.050160 &  0.0001917 &  0.012844\\\\\n",
       "\tGN-Tcea1 & 0.0361338 & 1.0000000 &  0.074606 &  0.0020761 &  0.029059\\\\\n",
       "\tGN-Atp6v1h & 0.0501598 & 0.0746060 &  1.000000 & -0.0172278 &  0.051687\\\\\n",
       "\tGN-Oprk1 & 0.0001917 & 0.0020761 & -0.017228 &  1.0000000 & -0.011882\\\\\n",
       "\tGN-Rb1cc1 & 0.0128442 & 0.0290593 &  0.051687 & -0.0118821 &  1.000000\\\\\n",
       "\\end{tabular}\n"
      ],
      "text/markdown": [
       "\n",
       "A matrix: 5 × 5 of type dbl\n",
       "\n",
       "| <!--/--> | GN-Lypla1 | GN-Tcea1 | GN-Atp6v1h | GN-Oprk1 | GN-Rb1cc1 |\n",
       "|---|---|---|---|---|---|\n",
       "| GN-Lypla1 | 1.0000000 | 0.0361338 |  0.050160 |  0.0001917 |  0.012844 |\n",
       "| GN-Tcea1 | 0.0361338 | 1.0000000 |  0.074606 |  0.0020761 |  0.029059 |\n",
       "| GN-Atp6v1h | 0.0501598 | 0.0746060 |  1.000000 | -0.0172278 |  0.051687 |\n",
       "| GN-Oprk1 | 0.0001917 | 0.0020761 | -0.017228 |  1.0000000 | -0.011882 |\n",
       "| GN-Rb1cc1 | 0.0128442 | 0.0290593 |  0.051687 | -0.0118821 |  1.000000 |\n",
       "\n"
      ],
      "text/plain": [
       "           GN-Lypla1 GN-Tcea1  GN-Atp6v1h GN-Oprk1   GN-Rb1cc1\n",
       "GN-Lypla1  1.0000000 0.0361338  0.050160   0.0001917  0.012844\n",
       "GN-Tcea1   0.0361338 1.0000000  0.074606   0.0020761  0.029059\n",
       "GN-Atp6v1h 0.0501598 0.0746060  1.000000  -0.0172278  0.051687\n",
       "GN-Oprk1   0.0001917 0.0020761 -0.017228   1.0000000 -0.011882\n",
       "GN-Rb1cc1  0.0128442 0.0290593  0.051687  -0.0118821  1.000000"
      ]
     },
     "metadata": {},
     "output_type": "display_data"
    },
    {
     "data": {
      "text/html": [
       "<style>\n",
       ".list-inline {list-style: none; margin:0; padding: 0}\n",
       ".list-inline>li {display: inline-block}\n",
       ".list-inline>li:not(:last-child)::after {content: \"\\00b7\"; padding: 0 .5ex}\n",
       "</style>\n",
       "<ol class=list-inline><li>15021</li><li>15021</li></ol>\n"
      ],
      "text/latex": [
       "\\begin{enumerate*}\n",
       "\\item 15021\n",
       "\\item 15021\n",
       "\\end{enumerate*}\n"
      ],
      "text/markdown": [
       "1. 15021\n",
       "2. 15021\n",
       "\n",
       "\n"
      ],
      "text/plain": [
       "[1] 15021 15021"
      ]
     },
     "metadata": {},
     "output_type": "display_data"
    },
    {
     "data": {
      "text/html": [
       "<table class=\"dataframe\">\n",
       "<caption>A matrix: 5 × 5 of type dbl</caption>\n",
       "<thead>\n",
       "\t<tr><th></th><th scope=col>GN-Lypla1</th><th scope=col>GN-Tcea1</th><th scope=col>GN-Atp6v1h</th><th scope=col>GN-Oprk1</th><th scope=col>GN-Rb1cc1</th></tr>\n",
       "</thead>\n",
       "<tbody>\n",
       "\t<tr><th scope=row>GN-Lypla1</th><td>      NA</td><td>0.06365990</td><td>0.01001782</td><td>0.99215</td><td>0.5098733</td></tr>\n",
       "\t<tr><th scope=row>GN-Tcea1</th><td>0.063660</td><td>        NA</td><td>0.00012648</td><td>0.91517</td><td>0.1358867</td></tr>\n",
       "\t<tr><th scope=row>GN-Atp6v1h</th><td>0.010018</td><td>0.00012648</td><td>        NA</td><td>0.37670</td><td>0.0079604</td></tr>\n",
       "\t<tr><th scope=row>GN-Oprk1</th><td>0.992152</td><td>0.91517022</td><td>0.37670157</td><td>     NA</td><td>0.5420814</td></tr>\n",
       "\t<tr><th scope=row>GN-Rb1cc1</th><td>0.509873</td><td>0.13588667</td><td>0.00796036</td><td>0.54208</td><td>       NA</td></tr>\n",
       "</tbody>\n",
       "</table>\n"
      ],
      "text/latex": [
       "A matrix: 5 × 5 of type dbl\n",
       "\\begin{tabular}{r|lllll}\n",
       "  & GN-Lypla1 & GN-Tcea1 & GN-Atp6v1h & GN-Oprk1 & GN-Rb1cc1\\\\\n",
       "\\hline\n",
       "\tGN-Lypla1 &       NA & 0.06365990 & 0.01001782 & 0.99215 & 0.5098733\\\\\n",
       "\tGN-Tcea1 & 0.063660 &         NA & 0.00012648 & 0.91517 & 0.1358867\\\\\n",
       "\tGN-Atp6v1h & 0.010018 & 0.00012648 &         NA & 0.37670 & 0.0079604\\\\\n",
       "\tGN-Oprk1 & 0.992152 & 0.91517022 & 0.37670157 &      NA & 0.5420814\\\\\n",
       "\tGN-Rb1cc1 & 0.509873 & 0.13588667 & 0.00796036 & 0.54208 &        NA\\\\\n",
       "\\end{tabular}\n"
      ],
      "text/markdown": [
       "\n",
       "A matrix: 5 × 5 of type dbl\n",
       "\n",
       "| <!--/--> | GN-Lypla1 | GN-Tcea1 | GN-Atp6v1h | GN-Oprk1 | GN-Rb1cc1 |\n",
       "|---|---|---|---|---|---|\n",
       "| GN-Lypla1 |       NA | 0.06365990 | 0.01001782 | 0.99215 | 0.5098733 |\n",
       "| GN-Tcea1 | 0.063660 |         NA | 0.00012648 | 0.91517 | 0.1358867 |\n",
       "| GN-Atp6v1h | 0.010018 | 0.00012648 |         NA | 0.37670 | 0.0079604 |\n",
       "| GN-Oprk1 | 0.992152 | 0.91517022 | 0.37670157 |      NA | 0.5420814 |\n",
       "| GN-Rb1cc1 | 0.509873 | 0.13588667 | 0.00796036 | 0.54208 |        NA |\n",
       "\n"
      ],
      "text/plain": [
       "           GN-Lypla1 GN-Tcea1   GN-Atp6v1h GN-Oprk1 GN-Rb1cc1\n",
       "GN-Lypla1        NA  0.06365990 0.01001782 0.99215  0.5098733\n",
       "GN-Tcea1   0.063660          NA 0.00012648 0.91517  0.1358867\n",
       "GN-Atp6v1h 0.010018  0.00012648         NA 0.37670  0.0079604\n",
       "GN-Oprk1   0.992152  0.91517022 0.37670157      NA  0.5420814\n",
       "GN-Rb1cc1  0.509873  0.13588667 0.00796036 0.54208         NA"
      ]
     },
     "metadata": {},
     "output_type": "display_data"
    }
   ],
   "source": [
    "# use hmisc package to calculate correlation and p-value:\n",
    "corrP = rcorr(obsB, type = \"pearson\")\n",
    "dim(corrP$r)\n",
    "corrP$r[1:5,1:5]\n",
    "dim(corrP$P)\n",
    "corrP$P[1:5,1:5]"
   ]
  },
  {
   "cell_type": "code",
   "execution_count": 25,
   "id": "1c5e878b-5d7a-4e66-8353-5e3aefc687d2",
   "metadata": {},
   "outputs": [
    {
     "data": {
      "text/html": [
       "<style>\n",
       ".list-inline {list-style: none; margin:0; padding: 0}\n",
       ".list-inline>li {display: inline-block}\n",
       ".list-inline>li:not(:last-child)::after {content: \"\\00b7\"; padding: 0 .5ex}\n",
       "</style>\n",
       "<ol class=list-inline><li>112807710</li><li>7</li></ol>\n"
      ],
      "text/latex": [
       "\\begin{enumerate*}\n",
       "\\item 112807710\n",
       "\\item 7\n",
       "\\end{enumerate*}\n"
      ],
      "text/markdown": [
       "1. 112807710\n",
       "2. 7\n",
       "\n",
       "\n"
      ],
      "text/plain": [
       "[1] 112807710         7"
      ]
     },
     "metadata": {},
     "output_type": "display_data"
    },
    {
     "data": {
      "text/html": [
       "<table class=\"dataframe\">\n",
       "<caption>A data.frame: 6 × 7</caption>\n",
       "<thead>\n",
       "\t<tr><th></th><th scope=col>geneA</th><th scope=col>geneB</th><th scope=col>corr</th><th scope=col>pVal</th><th scope=col>pAdj</th><th scope=col>corrRank</th><th scope=col>pValRank</th></tr>\n",
       "\t<tr><th></th><th scope=col>&lt;chr&gt;</th><th scope=col>&lt;chr&gt;</th><th scope=col>&lt;dbl&gt;</th><th scope=col>&lt;dbl&gt;</th><th scope=col>&lt;dbl&gt;</th><th scope=col>&lt;dbl&gt;</th><th scope=col>&lt;dbl&gt;</th></tr>\n",
       "</thead>\n",
       "<tbody>\n",
       "\t<tr><th scope=row>1</th><td>GN-Lypla1 </td><td>GN-Tcea1  </td><td> 0.0361338</td><td>0.0636207</td><td>1</td><td> 87179666</td><td> 25647688</td></tr>\n",
       "\t<tr><th scope=row>2</th><td>GN-Lypla1 </td><td>GN-Atp6v1h</td><td> 0.0501598</td><td>0.0100294</td><td>1</td><td> 98620214</td><td> 14187782</td></tr>\n",
       "\t<tr><th scope=row>3</th><td>GN-Tcea1  </td><td>GN-Atp6v1h</td><td> 0.0746060</td><td>0.0001283</td><td>1</td><td>108819435</td><td>  3988280</td></tr>\n",
       "\t<tr><th scope=row>4</th><td>GN-Lypla1 </td><td>GN-Oprk1  </td><td> 0.0001917</td><td>0.9921487</td><td>1</td><td> 46209450</td><td>112480950</td></tr>\n",
       "\t<tr><th scope=row>5</th><td>GN-Tcea1  </td><td>GN-Oprk1  </td><td> 0.0020761</td><td>0.9151302</td><td>1</td><td> 47881306</td><td>108985474</td></tr>\n",
       "\t<tr><th scope=row>6</th><td>GN-Atp6v1h</td><td>GN-Oprk1  </td><td>-0.0172278</td><td>0.3765105</td><td>1</td><td>  4549845</td><td> 52060232</td></tr>\n",
       "</tbody>\n",
       "</table>\n"
      ],
      "text/latex": [
       "A data.frame: 6 × 7\n",
       "\\begin{tabular}{r|lllllll}\n",
       "  & geneA & geneB & corr & pVal & pAdj & corrRank & pValRank\\\\\n",
       "  & <chr> & <chr> & <dbl> & <dbl> & <dbl> & <dbl> & <dbl>\\\\\n",
       "\\hline\n",
       "\t1 & GN-Lypla1  & GN-Tcea1   &  0.0361338 & 0.0636207 & 1 &  87179666 &  25647688\\\\\n",
       "\t2 & GN-Lypla1  & GN-Atp6v1h &  0.0501598 & 0.0100294 & 1 &  98620214 &  14187782\\\\\n",
       "\t3 & GN-Tcea1   & GN-Atp6v1h &  0.0746060 & 0.0001283 & 1 & 108819435 &   3988280\\\\\n",
       "\t4 & GN-Lypla1  & GN-Oprk1   &  0.0001917 & 0.9921487 & 1 &  46209450 & 112480950\\\\\n",
       "\t5 & GN-Tcea1   & GN-Oprk1   &  0.0020761 & 0.9151302 & 1 &  47881306 & 108985474\\\\\n",
       "\t6 & GN-Atp6v1h & GN-Oprk1   & -0.0172278 & 0.3765105 & 1 &   4549845 &  52060232\\\\\n",
       "\\end{tabular}\n"
      ],
      "text/markdown": [
       "\n",
       "A data.frame: 6 × 7\n",
       "\n",
       "| <!--/--> | geneA &lt;chr&gt; | geneB &lt;chr&gt; | corr &lt;dbl&gt; | pVal &lt;dbl&gt; | pAdj &lt;dbl&gt; | corrRank &lt;dbl&gt; | pValRank &lt;dbl&gt; |\n",
       "|---|---|---|---|---|---|---|---|\n",
       "| 1 | GN-Lypla1  | GN-Tcea1   |  0.0361338 | 0.0636207 | 1 |  87179666 |  25647688 |\n",
       "| 2 | GN-Lypla1  | GN-Atp6v1h |  0.0501598 | 0.0100294 | 1 |  98620214 |  14187782 |\n",
       "| 3 | GN-Tcea1   | GN-Atp6v1h |  0.0746060 | 0.0001283 | 1 | 108819435 |   3988280 |\n",
       "| 4 | GN-Lypla1  | GN-Oprk1   |  0.0001917 | 0.9921487 | 1 |  46209450 | 112480950 |\n",
       "| 5 | GN-Tcea1   | GN-Oprk1   |  0.0020761 | 0.9151302 | 1 |  47881306 | 108985474 |\n",
       "| 6 | GN-Atp6v1h | GN-Oprk1   | -0.0172278 | 0.3765105 | 1 |   4549845 |  52060232 |\n",
       "\n"
      ],
      "text/plain": [
       "  geneA      geneB      corr       pVal      pAdj corrRank  pValRank \n",
       "1 GN-Lypla1  GN-Tcea1    0.0361338 0.0636207 1     87179666  25647688\n",
       "2 GN-Lypla1  GN-Atp6v1h  0.0501598 0.0100294 1     98620214  14187782\n",
       "3 GN-Tcea1   GN-Atp6v1h  0.0746060 0.0001283 1    108819435   3988280\n",
       "4 GN-Lypla1  GN-Oprk1    0.0001917 0.9921487 1     46209450 112480950\n",
       "5 GN-Tcea1   GN-Oprk1    0.0020761 0.9151302 1     47881306 108985474\n",
       "6 GN-Atp6v1h GN-Oprk1   -0.0172278 0.3765105 1      4549845  52060232"
      ]
     },
     "metadata": {},
     "output_type": "display_data"
    }
   ],
   "source": [
    "corrPflat = flattenCorrMatrix( corrP$r, chSq_pVal ) %>%\n",
    "    mutate( pAdj = p.adjust(pVal, method = \"bonferroni\") ) %>%\n",
    "    mutate( corrRank = rank(corr) ) %>%\n",
    "    mutate( pValRank = rank(pVal) );\n",
    "dim(corrPflat)\n",
    "head(corrPflat)\n",
    "fwrite(corrPflat, file=\"../data/scGROv2p8_GxG_max10kbp_binary_correlation_chiSquare.csv.gz\")"
   ]
  }
 ],
 "metadata": {
  "kernelspec": {
   "display_name": "R",
   "language": "R",
   "name": "ir"
  },
  "language_info": {
   "codemirror_mode": "r",
   "file_extension": ".r",
   "mimetype": "text/x-r-source",
   "name": "R",
   "pygments_lexer": "r",
   "version": "4.2.2"
  }
 },
 "nbformat": 4,
 "nbformat_minor": 5
}
