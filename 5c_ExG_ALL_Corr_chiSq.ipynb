{
 "cells": [
  {
   "cell_type": "code",
   "execution_count": 2,
   "id": "637be83a-ef96-4ec1-93cf-0051dbbc4dc0",
   "metadata": {},
   "outputs": [
    {
     "data": {
      "text/html": [
       "'/net/bmc-lab2/data/lab/sharp/mahat/conda/envs/r422/lib/R/library'"
      ],
      "text/latex": [
       "'/net/bmc-lab2/data/lab/sharp/mahat/conda/envs/r422/lib/R/library'"
      ],
      "text/markdown": [
       "'/net/bmc-lab2/data/lab/sharp/mahat/conda/envs/r422/lib/R/library'"
      ],
      "text/plain": [
       "[1] \"/net/bmc-lab2/data/lab/sharp/mahat/conda/envs/r422/lib/R/library\""
      ]
     },
     "metadata": {},
     "output_type": "display_data"
    }
   ],
   "source": [
    ".libPaths(\"/home/mahat/.conda/envs/r422/lib/R/library\")\n",
    "# .libPaths(c(\"/home/mahat/.conda/envs/r422/lib/R/library\",\n",
    "#             \"/net/bmc-lab2/data/lab/scgroseq/group/software/R/x86_64-pc-linux-gnu-library/4.2\"))\n",
    ".libPaths()"
   ]
  },
  {
   "cell_type": "code",
   "execution_count": 6,
   "id": "b159ff73-dadd-4aa4-beec-a733593eaa4c",
   "metadata": {},
   "outputs": [],
   "source": [
    "suppressMessages({\n",
    "    library(tidyverse)\n",
    "    library(dplyr)\n",
    "    library(matrixStats)\n",
    "    library(foreach)\n",
    "    library(doParallel)\n",
    "    library(plyranges)\n",
    "    library(viridis)\n",
    "    library(ggpointdensity)\n",
    "    library(Matrix)\n",
    "    library(data.table)\n",
    "    library(Hmisc)\n",
    "    library(gplots)\n",
    "    library(rstatix)\n",
    "    library(scattermore)\n",
    "    library(igraph)\n",
    "    library(ggraph)\n",
    "    library(clusterProfiler)\n",
    "    library(rtracklayer)\n",
    "    library(stringr)\n",
    "    library(org.Mm.eg.db)\n",
    "    library(circlize)\n",
    "    library(gplots)\n",
    "    library(RIdeogram)\n",
    "    library(enrichplot)\n",
    "    library(GOSemSim)\n",
    "    library(dynamicTreeCut)\n",
    "    library(WGCNA)\n",
    "});\n",
    "source(\"./scGRO_functions.r\");"
   ]
  },
  {
   "cell_type": "code",
   "execution_count": 7,
   "id": "104b0744-9e76-43bb-b44f-a1210e78db0b",
   "metadata": {},
   "outputs": [],
   "source": [
    "registerDoParallel(16);\n",
    "options(\n",
    "    repr.plot.width=8,\n",
    "    repr.plot.height=6,\n",
    "    jupyter.plot_mimetypes = \"image/svg+xml\",\n",
    "    digits=5\n",
    ");\n",
    "theme_set(theme_classic() +\n",
    "    theme(\n",
    "        axis.title.x = element_text(color=\"black\", size=14, face=\"bold\"), \n",
    "        axis.title.y = element_text(color=\"black\", size=14, face=\"bold\"),\n",
    "        axis.text = element_text(color=\"black\", size=12, face=\"bold\"),\n",
    "        plot.title = element_text(face=\"bold\", size=14, hjust = 0.5),\n",
    "        axis.line = element_blank(),\n",
    "        # axis.ticks = element_blank()\n",
    "        panel.border = element_rect(colour = \"grey\", fill=NA, linewidth=1)\n",
    "    )\n",
    ");"
   ]
  },
  {
   "cell_type": "code",
   "execution_count": 8,
   "id": "d45707e4-6833-487d-8b0d-354cc9215a02",
   "metadata": {},
   "outputs": [
    {
     "data": {
      "text/plain": [
       "GRanges object with 23980 ranges and 2 metadata columns:\n",
       "                  seqnames            ranges strand |            name      dREG\n",
       "                     <Rle>         <IRanges>  <Rle> |     <character> <logical>\n",
       "        GN-Lypla1     chr1   4807559-4857592      + |       GN-Lypla1      TRUE\n",
       "         GN-Tcea1     chr1   4857693-4916049      + |        GN-Tcea1      TRUE\n",
       "       GN-Atp6v1h     chr1   5082977-5170849      + |      GN-Atp6v1h      TRUE\n",
       "         GN-Oprk1     chr1   5588449-5606134      + |        GN-Oprk1      TRUE\n",
       "        GN-Rb1cc1     chr1   6214661-6287049      + |       GN-Rb1cc1      TRUE\n",
       "              ...      ...               ...    ... .             ...       ...\n",
       "  GN-LOC108168665     chrY 86943635-86944319      - | GN-LOC108168665     FALSE\n",
       "  GN-LOC108168654     chrY 88804769-88805453      - | GN-LOC108168654     FALSE\n",
       "       GN-Gm21996     chrY 89700320-89745550      - |      GN-Gm21996     FALSE\n",
       "  GN-LOC108168534     chrY 90737350-90750205      - | GN-LOC108168534     FALSE\n",
       "  GN-LOC108168644     chrY 90822500-90829395      - | GN-LOC108168644      TRUE\n",
       "  -------\n",
       "  seqinfo: 22 sequences from an unspecified genome; no seqlengths"
      ]
     },
     "metadata": {},
     "output_type": "display_data"
    },
    {
     "data": {
      "text/plain": [
       "GRanges object with 36559 ranges and 1 metadata column:\n",
       "                seqnames            ranges strand |          name\n",
       "                   <Rle>         <IRanges>  <Rle> |   <character>\n",
       "      GN-Lypla1     chr1   4807559-4857592      + |     GN-Lypla1\n",
       "       GN-Tcea1     chr1   4857693-4916049      + |      GN-Tcea1\n",
       "     GN-Atp6v1h     chr1   5082977-5170849      + |    GN-Atp6v1h\n",
       "       GN-Oprk1     chr1   5588449-5606134      + |      GN-Oprk1\n",
       "      GN-Rb1cc1     chr1   6214661-6287049      + |     GN-Rb1cc1\n",
       "            ...      ...               ...    ... .           ...\n",
       "  chrY-90724550     chrY 90724550-90727549      * | chrY-90724550\n",
       "  chrY-90737450     chrY 90737450-90742449      * | chrY-90737450\n",
       "  chrY-90742920     chrY 90742920-90745919      * | chrY-90742920\n",
       "  chrY-90760850     chrY 90760850-90765849      * | chrY-90760850\n",
       "  chrY-90774850     chrY 90774850-90777849      * | chrY-90774850\n",
       "  -------\n",
       "  seqinfo: 21 sequences from an unspecified genome; no seqlengths"
      ]
     },
     "metadata": {},
     "output_type": "display_data"
    }
   ],
   "source": [
    "# load genes with dREG status for expression filter\n",
    "genesWithdREGstatus = readRDS(\"../data/groHMM_dREG_refinedGenes_mES_mm10.rds\");\n",
    "genesWithdREGstatus\n",
    "# load groHMM-extended genes and enhancers\n",
    "# features = read_bed(\"../data/groHMM_mES_BRsComb_LP-50_UTS10_features_customized_v2.bed\");\n",
    "\n",
    "# load features\n",
    "features = read_bed(\"../data/groHMM_dREG_refinedFeatures_mES_mm10_OSNcustomEnhancers_SEs.bed\");\n",
    "# features = read_bed(\"../data/mES_BRsComb_dREGfiltered_features_customized_OSNenhancersPlusSEs_v1.bed\");\n",
    "# features = read_bed(\"../data/groHMM_mES_BRsComb_LP-50_UTS10_features_customized_OSNenhancersPlusSEs_v2.bed\");\n",
    "names(features) = features$name;\n",
    "# features$name=NULL;\n",
    "features$score=NULL;\n",
    "features"
   ]
  },
  {
   "cell_type": "code",
   "execution_count": 9,
   "id": "871459af-ca50-4f6c-95d2-3f2a0a35c8ad",
   "metadata": {},
   "outputs": [
    {
     "data": {
      "text/html": [
       "614"
      ],
      "text/latex": [
       "614"
      ],
      "text/markdown": [
       "614"
      ],
      "text/plain": [
       "[1] 614"
      ]
     },
     "metadata": {},
     "output_type": "display_data"
    },
    {
     "data": {
      "text/plain": [
       "   Min. 1st Qu.  Median    Mean 3rd Qu.    Max. \n",
       "    203     401     626     612     815     999 "
      ]
     },
     "metadata": {},
     "output_type": "display_data"
    },
    {
     "data": {
      "text/html": [
       "<style>\n",
       ".list-inline {list-style: none; margin:0; padding: 0}\n",
       ".list-inline>li {display: inline-block}\n",
       ".list-inline>li:not(:last-child)::after {content: \"\\00b7\"; padding: 0 .5ex}\n",
       "</style>\n",
       "<ol class=list-inline><li>'GN-Gm8210'</li><li>'GN-Gm33795'</li><li>'GN-Gm10561'</li><li>'GN-Gm20257'</li><li>'GN-Gm39669'</li></ol>\n"
      ],
      "text/latex": [
       "\\begin{enumerate*}\n",
       "\\item 'GN-Gm8210'\n",
       "\\item 'GN-Gm33795'\n",
       "\\item 'GN-Gm10561'\n",
       "\\item 'GN-Gm20257'\n",
       "\\item 'GN-Gm39669'\n",
       "\\end{enumerate*}\n"
      ],
      "text/markdown": [
       "1. 'GN-Gm8210'\n",
       "2. 'GN-Gm33795'\n",
       "3. 'GN-Gm10561'\n",
       "4. 'GN-Gm20257'\n",
       "5. 'GN-Gm39669'\n",
       "\n",
       "\n"
      ],
      "text/plain": [
       "[1] \"GN-Gm8210\"  \"GN-Gm33795\" \"GN-Gm10561\" \"GN-Gm20257\" \"GN-Gm39669\""
      ]
     },
     "metadata": {},
     "output_type": "display_data"
    },
    {
     "data": {
      "text/html": [
       "117"
      ],
      "text/latex": [
       "117"
      ],
      "text/markdown": [
       "117"
      ],
      "text/plain": [
       "[1] 117"
      ]
     },
     "metadata": {},
     "output_type": "display_data"
    },
    {
     "data": {
      "text/plain": [
       "   Min. 1st Qu.  Median    Mean 3rd Qu.    Max. \n",
       "    375    6785   10938   16845   15023  200344 "
      ]
     },
     "metadata": {},
     "output_type": "display_data"
    },
    {
     "data": {
      "text/html": [
       "<style>\n",
       ".list-inline {list-style: none; margin:0; padding: 0}\n",
       ".list-inline>li {display: inline-block}\n",
       ".list-inline>li:not(:last-child)::after {content: \"\\00b7\"; padding: 0 .5ex}\n",
       "</style>\n",
       "<ol class=list-inline><li>'GN-Snhg6'</li><li>'GN-Snhg7os'</li><li>'GN-Snhg11'</li><li>'GN-Snhg7'</li><li>'GN-Snhg17'</li><li>'GN-Rps6kb2'</li><li>'GN-Rps6ka4'</li><li>'GN-Rpl10'</li><li>'GN-Rpl36a'</li><li>'GN-Rps6ka3'</li><li>'GN-Rpl39'</li></ol>\n"
      ],
      "text/latex": [
       "\\begin{enumerate*}\n",
       "\\item 'GN-Snhg6'\n",
       "\\item 'GN-Snhg7os'\n",
       "\\item 'GN-Snhg11'\n",
       "\\item 'GN-Snhg7'\n",
       "\\item 'GN-Snhg17'\n",
       "\\item 'GN-Rps6kb2'\n",
       "\\item 'GN-Rps6ka4'\n",
       "\\item 'GN-Rpl10'\n",
       "\\item 'GN-Rpl36a'\n",
       "\\item 'GN-Rps6ka3'\n",
       "\\item 'GN-Rpl39'\n",
       "\\end{enumerate*}\n"
      ],
      "text/markdown": [
       "1. 'GN-Snhg6'\n",
       "2. 'GN-Snhg7os'\n",
       "3. 'GN-Snhg11'\n",
       "4. 'GN-Snhg7'\n",
       "5. 'GN-Snhg17'\n",
       "6. 'GN-Rps6kb2'\n",
       "7. 'GN-Rps6ka4'\n",
       "8. 'GN-Rpl10'\n",
       "9. 'GN-Rpl36a'\n",
       "10. 'GN-Rps6ka3'\n",
       "11. 'GN-Rpl39'\n",
       "\n",
       "\n"
      ],
      "text/plain": [
       " [1] \"GN-Snhg6\"   \"GN-Snhg7os\" \"GN-Snhg11\"  \"GN-Snhg7\"   \"GN-Snhg17\" \n",
       " [6] \"GN-Rps6kb2\" \"GN-Rps6ka4\" \"GN-Rpl10\"   \"GN-Rpl36a\"  \"GN-Rps6ka3\"\n",
       "[11] \"GN-Rpl39\"  "
      ]
     },
     "metadata": {},
     "output_type": "display_data"
    }
   ],
   "source": [
    "# genes shorter than 1500 are: 2931\n",
    "# genes shorter than 1000 are: 2209\n",
    "# genes shorter than  500 are:  484\n",
    "# genes shorter than  200 are:  147\n",
    "\n",
    "# short Gm### genes\n",
    "shortGm = features %>%\n",
    "    filter( substr(names, 0, 3) == \"GN-\" ) %>%\n",
    "    filter( width > 200 ) %>%\n",
    "    filter( width < 1000 & substr(names, 0, 5) == \"GN-Gm\" );\n",
    "length(shortGm)\n",
    "summary(width(shortGm))\n",
    "names(shortGm)[1:5]\n",
    "\n",
    "# define highly expressed \"blacklist\" genes to be\n",
    "# removed from correlations\n",
    "blacklist = grep( \"GN-Rp[ls]\" , names(features) );\n",
    "blacklist = grep( \"GN-Sn[oh]\", names(features) ) %>%\n",
    "    append(blacklist);\n",
    "\n",
    "blacklist = names(features)[ blacklist ];\n",
    "length(blacklist)\n",
    "summary(width(features[ blacklist ]))\n",
    "blacklist[c(1:5, 110:115)]"
   ]
  },
  {
   "cell_type": "code",
   "execution_count": 10,
   "id": "64bc9faa-8cc5-482e-a8be-c3d05a66e214",
   "metadata": {},
   "outputs": [
    {
     "data": {
      "text/plain": [
       "   Min. 1st Qu.  Median    Mean 3rd Qu.    Max. \n",
       "   1000   12427   25879   54928   57279 2270160 "
      ]
     },
     "metadata": {},
     "output_type": "display_data"
    },
    {
     "data": {
      "text/plain": [
       "GRanges object with 15101 ranges and 1 metadata column:\n",
       "                  seqnames              ranges strand |            name\n",
       "                     <Rle>           <IRanges>  <Rle> |     <character>\n",
       "        GN-Lypla1     chr1     4808059-4857592      + |       GN-Lypla1\n",
       "         GN-Tcea1     chr1     4858193-4916049      + |        GN-Tcea1\n",
       "       GN-Atp6v1h     chr1     5083477-5170849      + |      GN-Atp6v1h\n",
       "         GN-Oprk1     chr1     5588949-5606134      + |        GN-Oprk1\n",
       "        GN-Rb1cc1     chr1     6215161-6287049      + |       GN-Rb1cc1\n",
       "              ...      ...                 ...    ... .             ...\n",
       "        GN-Frmpd4     chrX 167471306-168576734      - |       GN-Frmpd4\n",
       "          GN-Msl3     chrX 168646600-168673372      - |         GN-Msl3\n",
       "          GN-Hccs     chrX 169305550-169319872      - |         GN-Hccs\n",
       "          GN-Srsy     chrY   17935713-17936830      - |         GN-Srsy\n",
       "  GN-LOC108168644     chrY   90822500-90828895      - | GN-LOC108168644\n",
       "  -------\n",
       "  seqinfo: 21 sequences from an unspecified genome; no seqlengths"
      ]
     },
     "metadata": {},
     "output_type": "display_data"
    }
   ],
   "source": [
    "# filter genes\n",
    "genes = features %>%\n",
    "    filter( substr(names, 0, 3) == \"GN-\" ) %>%\n",
    "    # remove genes less than 1500 nt\n",
    "    filter( width >= 1500 ) %>%\n",
    "    # filter genes with dREG peaks\n",
    "    filter( names %in% names(genesWithdREGstatus[genesWithdREGstatus$dREG == T]) | \n",
    "           !names %in% names(genesWithdREGstatus) ) %>%\n",
    "    # filter highly expressed genes\n",
    "    filter(!names %in% blacklist ) %>%\n",
    "    # filter Gm genes shorter than 1 kb\n",
    "    filter(!names %in% names(shortGm) ) %>%\n",
    "    # remove 500 nt at the 5' end\n",
    "    anchor_3p() %>%\n",
    "    mutate( width = width - 500 );\n",
    "summary(width(genes))\n",
    "genes"
   ]
  },
  {
   "cell_type": "code",
   "execution_count": 11,
   "id": "23de1043-4818-48a4-b736-6110a0a40676",
   "metadata": {},
   "outputs": [
    {
     "data": {
      "text/plain": [
       "   Min. 1st Qu.  Median    Mean 3rd Qu.    Max. \n",
       "   3000    3000    3000    3394    3000   45151 "
      ]
     },
     "metadata": {},
     "output_type": "display_data"
    },
    {
     "data": {
      "text/plain": [
       "\n",
       "  chr   INT   Klf   Nan   Pou   Sox \n",
       "12294   204     1     7     9    10 "
      ]
     },
     "metadata": {},
     "output_type": "display_data"
    },
    {
     "data": {
      "text/plain": [
       "GRanges object with 12525 ranges and 1 metadata column:\n",
       "                seqnames            ranges strand |          name\n",
       "                   <Rle>         <IRanges>  <Rle> |   <character>\n",
       "   chr1-3061160     chr1   3061160-3064159      * |  chr1-3061160\n",
       "   chr1-3952295     chr1   3952295-3955294      * |  chr1-3952295\n",
       "   chr1-4491400     chr1   4491400-4494399      * |  chr1-4491400\n",
       "   chr1-4570350     chr1   4570350-4573349      * |  chr1-4570350\n",
       "   chr1-4687525     chr1   4687525-4690524      * |  chr1-4687525\n",
       "            ...      ...               ...    ... .           ...\n",
       "  chrY-90724550     chrY 90724550-90727549      * | chrY-90724550\n",
       "  chrY-90737450     chrY 90737450-90742449      * | chrY-90737450\n",
       "  chrY-90742920     chrY 90742920-90745919      * | chrY-90742920\n",
       "  chrY-90760850     chrY 90760850-90765849      * | chrY-90760850\n",
       "  chrY-90774850     chrY 90774850-90777849      * | chrY-90774850\n",
       "  -------\n",
       "  seqinfo: 21 sequences from an unspecified genome; no seqlengths"
      ]
     },
     "metadata": {},
     "output_type": "display_data"
    }
   ],
   "source": [
    "enhancers = features %>%\n",
    "    filter( substr(names, 0, 3) != \"GN-\" ) %>%\n",
    "    filter( width >= 3000 );\n",
    "summary(width(enhancers))\n",
    "table(substr(enhancers$name, 0, 3));\n",
    "enhancers"
   ]
  },
  {
   "cell_type": "code",
   "execution_count": 12,
   "id": "912c52a3-feb5-4d4c-aeac-4055ba7755b8",
   "metadata": {},
   "outputs": [
    {
     "data": {
      "text/plain": [
       "   Min. 1st Qu.  Median    Mean 3rd Qu.    Max. \n",
       "  0.282   0.484   0.672   0.722   0.939   1.573 "
      ]
     },
     "metadata": {},
     "output_type": "display_data"
    },
    {
     "data": {
      "text/html": [
       "<style>\n",
       ".list-inline {list-style: none; margin:0; padding: 0}\n",
       ".list-inline>li {display: inline-block}\n",
       ".list-inline>li:not(:last-child)::after {content: \"\\00b7\"; padding: 0 .5ex}\n",
       "</style>\n",
       "<ol class=list-inline><li>12400</li><li>9</li></ol>\n"
      ],
      "text/latex": [
       "\\begin{enumerate*}\n",
       "\\item 12400\n",
       "\\item 9\n",
       "\\end{enumerate*}\n"
      ],
      "text/markdown": [
       "1. 12400\n",
       "2. 9\n",
       "\n",
       "\n"
      ],
      "text/plain": [
       "[1] 12400     9"
      ]
     },
     "metadata": {},
     "output_type": "display_data"
    },
    {
     "data": {
      "text/plain": [
       "\n",
       "  chr   INT   Klf   Pou   Sox \n",
       "12262   131     1     2     3 "
      ]
     },
     "metadata": {},
     "output_type": "display_data"
    },
    {
     "data": {
      "text/html": [
       "12400"
      ],
      "text/latex": [
       "12400"
      ],
      "text/markdown": [
       "12400"
      ],
      "text/plain": [
       "[1] 12400"
      ]
     },
     "metadata": {},
     "output_type": "display_data"
    },
    {
     "data": {
      "text/html": [
       "<table class=\"dataframe\">\n",
       "<caption>A data.table: 4 × 9</caption>\n",
       "<thead>\n",
       "\t<tr><th scope=col>seqnames</th><th scope=col>start</th><th scope=col>end</th><th scope=col>width</th><th scope=col>strand</th><th scope=col>score</th><th scope=col>pval</th><th scope=col>center</th><th scope=col>assignedEnhancer</th></tr>\n",
       "\t<tr><th scope=col>&lt;fct&gt;</th><th scope=col>&lt;int&gt;</th><th scope=col>&lt;int&gt;</th><th scope=col>&lt;int&gt;</th><th scope=col>&lt;fct&gt;</th><th scope=col>&lt;dbl&gt;</th><th scope=col>&lt;dbl&gt;</th><th scope=col>&lt;int&gt;</th><th scope=col>&lt;chr&gt;</th></tr>\n",
       "</thead>\n",
       "<tbody>\n",
       "\t<tr><td>chr1</td><td>3062460</td><td>3062860</td><td> 401</td><td>*</td><td>0.31873</td><td>0.04351726</td><td>3062700</td><td>chr1-3061160</td></tr>\n",
       "\t<tr><td>chr1</td><td>3953590</td><td>3954000</td><td> 411</td><td>*</td><td>0.62957</td><td>0.00081164</td><td>3953790</td><td>chr1-3952295</td></tr>\n",
       "\t<tr><td>chr1</td><td>4493370</td><td>4493820</td><td> 451</td><td>*</td><td>0.62843</td><td>0.00022320</td><td>4493640</td><td>chr1-4491400</td></tr>\n",
       "\t<tr><td>chr1</td><td>4571180</td><td>4572240</td><td>1061</td><td>*</td><td>1.13141</td><td>0.00000000</td><td>4571860</td><td>chr1-4570350</td></tr>\n",
       "</tbody>\n",
       "</table>\n"
      ],
      "text/latex": [
       "A data.table: 4 × 9\n",
       "\\begin{tabular}{lllllllll}\n",
       " seqnames & start & end & width & strand & score & pval & center & assignedEnhancer\\\\\n",
       " <fct> & <int> & <int> & <int> & <fct> & <dbl> & <dbl> & <int> & <chr>\\\\\n",
       "\\hline\n",
       "\t chr1 & 3062460 & 3062860 &  401 & * & 0.31873 & 0.04351726 & 3062700 & chr1-3061160\\\\\n",
       "\t chr1 & 3953590 & 3954000 &  411 & * & 0.62957 & 0.00081164 & 3953790 & chr1-3952295\\\\\n",
       "\t chr1 & 4493370 & 4493820 &  451 & * & 0.62843 & 0.00022320 & 4493640 & chr1-4491400\\\\\n",
       "\t chr1 & 4571180 & 4572240 & 1061 & * & 1.13141 & 0.00000000 & 4571860 & chr1-4570350\\\\\n",
       "\\end{tabular}\n"
      ],
      "text/markdown": [
       "\n",
       "A data.table: 4 × 9\n",
       "\n",
       "| seqnames &lt;fct&gt; | start &lt;int&gt; | end &lt;int&gt; | width &lt;int&gt; | strand &lt;fct&gt; | score &lt;dbl&gt; | pval &lt;dbl&gt; | center &lt;int&gt; | assignedEnhancer &lt;chr&gt; |\n",
       "|---|---|---|---|---|---|---|---|---|\n",
       "| chr1 | 3062460 | 3062860 |  401 | * | 0.31873 | 0.04351726 | 3062700 | chr1-3061160 |\n",
       "| chr1 | 3953590 | 3954000 |  411 | * | 0.62957 | 0.00081164 | 3953790 | chr1-3952295 |\n",
       "| chr1 | 4493370 | 4493820 |  451 | * | 0.62843 | 0.00022320 | 4493640 | chr1-4491400 |\n",
       "| chr1 | 4571180 | 4572240 | 1061 | * | 1.13141 | 0.00000000 | 4571860 | chr1-4570350 |\n",
       "\n"
      ],
      "text/plain": [
       "  seqnames start   end     width strand score   pval       center \n",
       "1 chr1     3062460 3062860  401  *      0.31873 0.04351726 3062700\n",
       "2 chr1     3953590 3954000  411  *      0.62957 0.00081164 3953790\n",
       "3 chr1     4493370 4493820  451  *      0.62843 0.00022320 4493640\n",
       "4 chr1     4571180 4572240 1061  *      1.13141 0.00000000 4571860\n",
       "  assignedEnhancer\n",
       "1 chr1-3061160    \n",
       "2 chr1-3952295    \n",
       "3 chr1-4491400    \n",
       "4 chr1-4570350    "
      ]
     },
     "metadata": {},
     "output_type": "display_data"
    }
   ],
   "source": [
    "# load groHMM-extended genes and enhancers\n",
    "dREG = read.table(\"../data/PROseq_mES_BRsComb.dREG.peak.full.bed\", header=F, stringsAsFactors=F);\n",
    "colnames(dREG) = c(\"chr\", \"start\", \"end\", \"score\", \"pval\", \"center\");\n",
    "# use the \"center\" column as start\n",
    "# colnames(dREG) = c(\"chr\", \"leftEnd\", \"rightEnd\", \"score\", \"pval\", \"start\");\n",
    "# dREG$end = dREG$start;\n",
    "dREG = GRanges(dREG);\n",
    "summary(dREG$score)\n",
    " # dREG = dREG %>%\n",
    " #    # removing dREG peaks with score lower than mean\n",
    " #    filter( score > median(score) );\n",
    "\n",
    "# mark dREG peaks by the overlapping enhancers (from freatures):\n",
    "hits = findOverlaps( dREG, enhancers, ignore.strand=T );\n",
    "dREG$assignedEnhancer = NA;\n",
    "# assign ovelapping SE to dREG peaks\n",
    "dREG$assignedEnhancer[hits@from] = names(enhancers)[hits@to];\n",
    "\n",
    "# filter dREG peak to only leave one with highest score:\n",
    "dREGfilt = dREG %>%\n",
    "    # filter dREG peaks that do not overlap with an enhancer\n",
    "    na.omit() %>%\n",
    "    group_by( assignedEnhancer ) %>%\n",
    "    filter( score == max(score) ) %>%\n",
    "    ungroup() %>%\n",
    "    # make data table for left_join\n",
    "    as.data.table;\n",
    "dim(dREGfilt)\n",
    "table(substr(dREGfilt$assignedEnhancer, 0, 3));\n",
    "length(unique(dREGfilt$assignedEnhancer))\n",
    "dREGfilt[1:4, ]"
   ]
  },
  {
   "cell_type": "code",
   "execution_count": 13,
   "id": "148b0807-2f15-48ee-8812-bc423c254ffd",
   "metadata": {},
   "outputs": [
    {
     "data": {
      "text/html": [
       "<table class=\"dataframe\">\n",
       "<caption>A data.table: 4 × 7</caption>\n",
       "<thead>\n",
       "\t<tr><th scope=col>seqnames</th><th scope=col>start</th><th scope=col>end</th><th scope=col>width</th><th scope=col>strand</th><th scope=col>name</th><th scope=col>center</th></tr>\n",
       "\t<tr><th scope=col>&lt;fct&gt;</th><th scope=col>&lt;int&gt;</th><th scope=col>&lt;int&gt;</th><th scope=col>&lt;int&gt;</th><th scope=col>&lt;fct&gt;</th><th scope=col>&lt;chr&gt;</th><th scope=col>&lt;int&gt;</th></tr>\n",
       "</thead>\n",
       "<tbody>\n",
       "\t<tr><td>chr1</td><td>3061160</td><td>3064159</td><td>3000</td><td>*</td><td>chr1-3061160</td><td>3062700</td></tr>\n",
       "\t<tr><td>chr1</td><td>3952295</td><td>3955294</td><td>3000</td><td>*</td><td>chr1-3952295</td><td>3953790</td></tr>\n",
       "\t<tr><td>chr1</td><td>4491400</td><td>4494399</td><td>3000</td><td>*</td><td>chr1-4491400</td><td>4493640</td></tr>\n",
       "\t<tr><td>chr1</td><td>4570350</td><td>4573349</td><td>3000</td><td>*</td><td>chr1-4570350</td><td>4571860</td></tr>\n",
       "</tbody>\n",
       "</table>\n"
      ],
      "text/latex": [
       "A data.table: 4 × 7\n",
       "\\begin{tabular}{lllllll}\n",
       " seqnames & start & end & width & strand & name & center\\\\\n",
       " <fct> & <int> & <int> & <int> & <fct> & <chr> & <int>\\\\\n",
       "\\hline\n",
       "\t chr1 & 3061160 & 3064159 & 3000 & * & chr1-3061160 & 3062700\\\\\n",
       "\t chr1 & 3952295 & 3955294 & 3000 & * & chr1-3952295 & 3953790\\\\\n",
       "\t chr1 & 4491400 & 4494399 & 3000 & * & chr1-4491400 & 4493640\\\\\n",
       "\t chr1 & 4570350 & 4573349 & 3000 & * & chr1-4570350 & 4571860\\\\\n",
       "\\end{tabular}\n"
      ],
      "text/markdown": [
       "\n",
       "A data.table: 4 × 7\n",
       "\n",
       "| seqnames &lt;fct&gt; | start &lt;int&gt; | end &lt;int&gt; | width &lt;int&gt; | strand &lt;fct&gt; | name &lt;chr&gt; | center &lt;int&gt; |\n",
       "|---|---|---|---|---|---|---|\n",
       "| chr1 | 3061160 | 3064159 | 3000 | * | chr1-3061160 | 3062700 |\n",
       "| chr1 | 3952295 | 3955294 | 3000 | * | chr1-3952295 | 3953790 |\n",
       "| chr1 | 4491400 | 4494399 | 3000 | * | chr1-4491400 | 4493640 |\n",
       "| chr1 | 4570350 | 4573349 | 3000 | * | chr1-4570350 | 4571860 |\n",
       "\n"
      ],
      "text/plain": [
       "  seqnames start   end     width strand name         center \n",
       "1 chr1     3061160 3064159 3000  *      chr1-3061160 3062700\n",
       "2 chr1     3952295 3955294 3000  *      chr1-3952295 3953790\n",
       "3 chr1     4491400 4494399 3000  *      chr1-4491400 4493640\n",
       "4 chr1     4570350 4573349 3000  *      chr1-4570350 4571860"
      ]
     },
     "metadata": {},
     "output_type": "display_data"
    }
   ],
   "source": [
    "Ecenter = left_join( as.data.table(enhancers), dREGfilt[,c(6:9)], by=c(\"name\"=\"assignedEnhancer\") ) %>%\n",
    "    na.omit() #%>%\n",
    "    # GRanges()\n",
    "# names(Ecenter) = Ecenter$name;\n",
    "Ecenter$pval = NULL;\n",
    "Ecenter$score = NULL;\n",
    "Ecenter[1:4, ]"
   ]
  },
  {
   "cell_type": "code",
   "execution_count": 14,
   "id": "2cfde48b-007d-40bf-aba4-2d4f2983f9f0",
   "metadata": {},
   "outputs": [],
   "source": [
    "# ## join SE and dREG with dREG center:\n",
    "# # convert center to start and end\n",
    "# Ecenter = left_join( as.data.table(enhancers)[,c(1,6)], dREGfilt[,c(6:9)], by=c(\"name\"=\"assignedEnhancer\") ) %>%\n",
    "#       # some NAs come from missing entries\n",
    "#       na.omit() %>%\n",
    "#       mutate( start = center ) %>%\n",
    "#       mutate( end = center ) %>%\n",
    "#       GRanges()# %>%\n",
    "# names(Ecenter) = Ecenter$name;\n",
    "# # SEcenter$name = NULL;\n",
    "# Ecenter$center = NULL;\n",
    "\n",
    "# # create 1500 nt bin of Enhancer in sense direction\n",
    "# Edown = resize(Ecenter, width = 1500, fix=\"start\") %>%\n",
    "#     mutate( strand = \"+\" ) %>%\n",
    "#     subsetByOverlaps( genes, invert = TRUE );\n",
    "# length(Edown)\n",
    "# # create 1500 nt bin of Enhancer in anti-sense direction\n",
    "# Eup = resize(Ecenter, width = 1500, fix=\"end\") %>%\n",
    "#     mutate( strand = \"-\" ) %>%\n",
    "#     subsetByOverlaps( genes, invert = TRUE );\n",
    "# length(Eup)"
   ]
  },
  {
   "cell_type": "code",
   "execution_count": 15,
   "id": "128e1add-f748-452c-9bb7-9f5fabb6a57e",
   "metadata": {},
   "outputs": [
    {
     "data": {
      "text/plain": [
       "GRanges object with 12399 ranges and 1 metadata column:\n",
       "                seqnames            ranges strand |          name\n",
       "                   <Rle>         <IRanges>  <Rle> |   <character>\n",
       "   chr1-3061160     chr1   3062950-3064450      + |  chr1-3061160\n",
       "   chr1-3952295     chr1   3954040-3955540      + |  chr1-3952295\n",
       "   chr1-4491400     chr1   4493890-4495390      + |  chr1-4491400\n",
       "   chr1-4570350     chr1   4572110-4573610      + |  chr1-4570350\n",
       "   chr1-4687525     chr1   4689370-4690870      + |  chr1-4687525\n",
       "            ...      ...               ...    ... .           ...\n",
       "  chrY-90724550     chrY 90726450-90727950      + | chrY-90724550\n",
       "  chrY-90737450     chrY 90742010-90743510      + | chrY-90737450\n",
       "  chrY-90742920     chrY 90744770-90746270      + | chrY-90742920\n",
       "  chrY-90760850     chrY 90764140-90765849      + | chrY-90760850\n",
       "  chrY-90774850     chrY 90777440-90778940      + | chrY-90774850\n",
       "  -------\n",
       "  seqinfo: 21 sequences from an unspecified genome; no seqlengths"
      ]
     },
     "metadata": {},
     "output_type": "display_data"
    },
    {
     "data": {
      "text/plain": [
       "GRanges object with 12399 ranges and 1 metadata column:\n",
       "                seqnames            ranges strand |          name\n",
       "                   <Rle>         <IRanges>  <Rle> |   <character>\n",
       "   chr1-3061160     chr1   3060950-3062450      - |  chr1-3061160\n",
       "   chr1-3952295     chr1   3952040-3953540      - |  chr1-3952295\n",
       "   chr1-4491400     chr1   4491400-4493390      - |  chr1-4491400\n",
       "   chr1-4570350     chr1   4570110-4571610      - |  chr1-4570350\n",
       "   chr1-4687525     chr1   4687370-4688870      - |  chr1-4687525\n",
       "            ...      ...               ...    ... .           ...\n",
       "  chrY-90724550     chrY 90724450-90725950      - | chrY-90724550\n",
       "  chrY-90737450     chrY 90737450-90741510      - | chrY-90737450\n",
       "  chrY-90742920     chrY 90742770-90744270      - | chrY-90742920\n",
       "  chrY-90760850     chrY 90760850-90763640      - | chrY-90760850\n",
       "  chrY-90774850     chrY 90774850-90776940      - | chrY-90774850\n",
       "  -------\n",
       "  seqinfo: 21 sequences from an unspecified genome; no seqlengths"
      ]
     },
     "metadata": {},
     "output_type": "display_data"
    }
   ],
   "source": [
    "# create Enhancer bin in sense direction\n",
    "Edown = Ecenter %>%\n",
    "    mutate( strand = \"+\" ) %>%\n",
    "    #convert center to start\n",
    "    mutate( start = center ) %>%\n",
    "    # make sure the end is at least 1750 For > 1750, keep as it is\n",
    "    mutate( end = ifelse(end - center > 1750, end, center + 1750) ) %>%\n",
    "    GRanges() %>%\n",
    "    anchor_3p() %>%\n",
    "    mutate( width = width - 250 )\n",
    "    # # no need for this beacuse the genes will be filtered against enhancers:\n",
    "    # subsetByOverlaps( genes, invert = TRUE );\n",
    "names(Edown) = Edown$name;\n",
    "Edown$center = NULL;\n",
    "Edown\n",
    "# create Enhancer bin in anti-sense direction\n",
    "Eup = Ecenter %>%\n",
    "    mutate( strand = \"-\" ) %>%\n",
    "    mutate( end = center) %>%\n",
    "    mutate( start = ifelse(center - start > 1750, start, center - 1750) ) %>%\n",
    "    GRanges() %>%\n",
    "    anchor_3p() %>%\n",
    "    mutate( width = width - 250 );\n",
    "names(Eup) = Eup$name;\n",
    "Eup$center = NULL;\n",
    "Eup"
   ]
  },
  {
   "cell_type": "code",
   "execution_count": 16,
   "id": "7db38914-1d61-4aba-a82f-0f8b22246201",
   "metadata": {},
   "outputs": [
    {
     "data": {
      "text/plain": [
       "   Min. 1st Qu.  Median    Mean 3rd Qu.    Max. \n",
       "   1000    1501    1501   21845   16584 2270160 "
      ]
     },
     "metadata": {},
     "output_type": "display_data"
    },
    {
     "data": {
      "text/plain": [
       "GRanges object with 39899 ranges and 1 metadata column:\n",
       "                  seqnames            ranges strand |            name\n",
       "                     <Rle>         <IRanges>  <Rle> |     <character>\n",
       "     chr1-3061160     chr1   3062950-3064450      + |    chr1-3061160\n",
       "     chr1-3952295     chr1   3954040-3955540      + |    chr1-3952295\n",
       "     chr1-4491400     chr1   4493890-4495390      + |    chr1-4491400\n",
       "     chr1-4570350     chr1   4572110-4573610      + |    chr1-4570350\n",
       "     chr1-4687525     chr1   4689370-4690870      + |    chr1-4687525\n",
       "              ...      ...               ...    ... .             ...\n",
       "    chrY-90737450     chrY 90737450-90741510      - |   chrY-90737450\n",
       "    chrY-90742920     chrY 90742770-90744270      - |   chrY-90742920\n",
       "    chrY-90760850     chrY 90760850-90763640      - |   chrY-90760850\n",
       "    chrY-90774850     chrY 90774850-90776940      - |   chrY-90774850\n",
       "  GN-LOC108168644     chrY 90822500-90828895      - | GN-LOC108168644\n",
       "  -------\n",
       "  seqinfo: 21 sequences from an unspecified genome; no seqlengths"
      ]
     },
     "metadata": {},
     "output_type": "display_data"
    },
    {
     "data": {
      "text/plain": [
       "   Min. 1st Qu.  Median    Mean 3rd Qu.    Max. \n",
       "   1000    1501    1501    4510   10000   10000 "
      ]
     },
     "metadata": {},
     "output_type": "display_data"
    },
    {
     "data": {
      "text/plain": [
       "GRanges object with 39899 ranges and 1 metadata column:\n",
       "                  seqnames            ranges strand |            name\n",
       "                     <Rle>         <IRanges>  <Rle> |     <character>\n",
       "     chr1-3061160     chr1   3062950-3064450      + |    chr1-3061160\n",
       "     chr1-3952295     chr1   3954040-3955540      + |    chr1-3952295\n",
       "     chr1-4491400     chr1   4493890-4495390      + |    chr1-4491400\n",
       "     chr1-4570350     chr1   4572110-4573610      + |    chr1-4570350\n",
       "     chr1-4687525     chr1   4689370-4690870      + |    chr1-4687525\n",
       "              ...      ...               ...    ... .             ...\n",
       "    chrY-90737450     chrY 90737450-90741510      - |   chrY-90737450\n",
       "    chrY-90742920     chrY 90742770-90744270      - |   chrY-90742920\n",
       "    chrY-90760850     chrY 90760850-90763640      - |   chrY-90760850\n",
       "    chrY-90774850     chrY 90774850-90776940      - |   chrY-90774850\n",
       "  GN-LOC108168644     chrY 90822500-90828895      - | GN-LOC108168644\n",
       "  -------\n",
       "  seqinfo: 21 sequences from an unspecified genome; no seqlengths"
      ]
     },
     "metadata": {},
     "output_type": "display_data"
    }
   ],
   "source": [
    "# combine features:\n",
    "expressedFeatures = c(Eup, Edown, genes) %>%\n",
    "     sort();\n",
    "summary(width(expressedFeatures))\n",
    "expressedFeatures\n",
    "\n",
    "# trim the long genes to 10 kb\n",
    "longf = which( width(expressedFeatures) >= 10000 );\n",
    "expressedFeatures[longf] = expressedFeatures[longf] %>%\n",
    "    resize( width = 10000, fix=\"start\" );\n",
    "summary(width(expressedFeatures))\n",
    "expressedFeatures\n",
    "\n",
    "# writing the file to check in IGV:\n",
    "# write_bed(expressedFeatures, file=\"../data/ExpressedFeatures_4c_ExG_All_Corr.bed\")"
   ]
  },
  {
   "cell_type": "code",
   "execution_count": 17,
   "id": "acae5899-c47c-487c-abcd-394198b1f044",
   "metadata": {},
   "outputs": [
    {
     "data": {
      "text/plain": [
       "GRanges object with 39478 ranges and 2 metadata columns:\n",
       "                  seqnames            ranges strand |            name\n",
       "                     <Rle>         <IRanges>  <Rle> |     <character>\n",
       "     chr1-3061160     chr1   3062950-3064450      + |    chr1-3061160\n",
       "     chr1-3952295     chr1   3954040-3955540      + |    chr1-3952295\n",
       "     chr1-4491400     chr1   4493890-4495390      + |    chr1-4491400\n",
       "     chr1-4570350     chr1   4572110-4573610      + |    chr1-4570350\n",
       "     chr1-4687525     chr1   4689370-4690870      + |    chr1-4687525\n",
       "              ...      ...               ...    ... .             ...\n",
       "    chrY-90737450     chrY 90737450-90741510      - |   chrY-90737450\n",
       "    chrY-90742920     chrY 90742770-90744270      - |   chrY-90742920\n",
       "    chrY-90760850     chrY 90760850-90763640      - |   chrY-90760850\n",
       "    chrY-90774850     chrY 90774850-90776940      - |   chrY-90774850\n",
       "  GN-LOC108168644     chrY 90822500-90828895      - | GN-LOC108168644\n",
       "                  overlappingFeature\n",
       "                         <character>\n",
       "     chr1-3061160       chr1-3061160\n",
       "     chr1-3952295       chr1-3952295\n",
       "     chr1-4491400       chr1-4491400\n",
       "     chr1-4570350       chr1-4570350\n",
       "     chr1-4687525       chr1-4687525\n",
       "              ...                ...\n",
       "    chrY-90737450      chrY-90737450\n",
       "    chrY-90742920      chrY-90742920\n",
       "    chrY-90760850      chrY-90760850\n",
       "    chrY-90774850      chrY-90774850\n",
       "  GN-LOC108168644    GN-LOC108168644\n",
       "  -------\n",
       "  seqinfo: 21 sequences from an unspecified genome; no seqlengths"
      ]
     },
     "metadata": {},
     "output_type": "display_data"
    }
   ],
   "source": [
    "# filter out features that overlap:\n",
    "hits = findOverlaps(expressedFeatures)\n",
    "expressedFeatures$overlappingFeature = NA;\n",
    "# assign ovelapping feature\n",
    "expressedFeatures$overlappingFeature[hits@from] = names(expressedFeatures)[hits@to];\n",
    "\n",
    "test = expressedFeatures %>%\n",
    "    na.omit() %>%\n",
    "    group_by( overlappingFeature ) %>%\n",
    "    filter( n_distinct(name) == 1 ) %>%\n",
    "    ungroup();\n",
    "test"
   ]
  },
  {
   "cell_type": "code",
   "execution_count": 18,
   "id": "7c94826c-6623-473d-aef8-23660a5d6c9e",
   "metadata": {},
   "outputs": [
    {
     "data": {
      "text/html": [
       "<style>\n",
       ".list-inline {list-style: none; margin:0; padding: 0}\n",
       ".list-inline>li {display: inline-block}\n",
       ".list-inline>li:not(:last-child)::after {content: \"\\00b7\"; padding: 0 .5ex}\n",
       "</style>\n",
       "<ol class=list-inline><li>36559</li><li>2635</li></ol>\n"
      ],
      "text/latex": [
       "\\begin{enumerate*}\n",
       "\\item 36559\n",
       "\\item 2635\n",
       "\\end{enumerate*}\n"
      ],
      "text/markdown": [
       "1. 36559\n",
       "2. 2635\n",
       "\n",
       "\n"
      ],
      "text/plain": [
       "[1] 36559  2635"
      ]
     },
     "metadata": {},
     "output_type": "display_data"
    },
    {
     "data": {
      "text/plain": [
       "\n",
       "Exp156 Exp160 Exp208 Exp211 Exp236 Exp246 Exp260 Exp263 Exp264 \n",
       "   104    100    142    115    835     93    679    268    299 "
      ]
     },
     "metadata": {},
     "output_type": "display_data"
    }
   ],
   "source": [
    "scGRO = readRDS(\"../data/scGROv2p8_consolidated.rds\");\n",
    "counts = readRDS(\"../data/scGROv2p8_mapq3qc_max10kbp_filtered_counts.rds\");\n",
    "#counts = counts[,colSums(counts) >= 1000 ];\n",
    "dim(counts)\n",
    "allcells = colnames(counts);\n",
    "table(substr(allcells, 0, 6));"
   ]
  },
  {
   "cell_type": "code",
   "execution_count": 19,
   "id": "287bf640-cf2f-4b91-a83e-500d4681571d",
   "metadata": {},
   "outputs": [
    {
     "data": {
      "text/plain": [
       "GRanges object with 1217969 ranges and 12 metadata columns:\n",
       "            seqnames            ranges strand |      mapq    PolPos      Exp\n",
       "               <Rle>         <IRanges>  <Rle> | <integer> <integer> <factor>\n",
       "        [1]     chr1   3064450-3064492      + |        22   3064492  Exp236 \n",
       "        [2]     chr1   3064450-3064492      + |        22   3064492  Exp236 \n",
       "        [3]     chr1   4494883-4494900      + |         7   4494900  Exp236 \n",
       "        [4]     chr1   4573099-4573116      + |         7   4573116  Exp236 \n",
       "        [5]     chr1   4690719-4690736      + |         7   4690736  Exp260b\n",
       "        ...      ...               ...    ... .       ...       ...      ...\n",
       "  [1217965]     chrY 90828680-90828724      - |        22  90828680  Exp236 \n",
       "  [1217966]     chrY 90828694-90828728      - |        42  90828694  Exp260b\n",
       "  [1217967]     chrY 90828695-90828735      - |        28  90828695  Exp236 \n",
       "  [1217968]     chrY 90828695-90828737      - |         4  90828695  Exp236 \n",
       "  [1217969]     chrY 90828697-90828745      - |        16  90828697  Exp246 \n",
       "               Plate       Cell      UMI     miRQC     umiQC   plateQC\n",
       "            <factor>   <factor> <factor> <logical> <logical> <logical>\n",
       "        [1]      c06 TTGTACGGCC    TGAAG      TRUE      TRUE      TRUE\n",
       "        [2]      c06 TGGATGGTTA    AACGG      TRUE      TRUE      TRUE\n",
       "        [3]      c07 TTCGCTATTG    TGAGT      TRUE      TRUE      TRUE\n",
       "        [4]      c14 CCACGACTTG    CCTGT      TRUE      TRUE      TRUE\n",
       "        [5]      c16 GAGGCGGTAT    AGTAA      TRUE      TRUE      TRUE\n",
       "        ...      ...        ...      ...       ...       ...       ...\n",
       "  [1217965]      c14 GGCTAGAAGG    CCTAC      TRUE      TRUE      TRUE\n",
       "  [1217966]      c11 TTGTAGACAG    ACAGA      TRUE      TRUE      TRUE\n",
       "  [1217967]      c03 CCGCTTAGAC    CGAGC      TRUE      TRUE      TRUE\n",
       "  [1217968]      c08 GGTGTCTGCA    CAGAG      TRUE      TRUE      TRUE\n",
       "  [1217969]      c03 CGGCTGTTCT    GATCC      TRUE      TRUE      TRUE\n",
       "               cellQC   countQC                 cellID\n",
       "            <logical> <logical>               <factor>\n",
       "        [1]      TRUE      TRUE Exp236-c06-TTGTACGGCC \n",
       "        [2]      TRUE      TRUE Exp236-c06-TGGATGGTTA \n",
       "        [3]      TRUE      TRUE Exp236-c07-TTCGCTATTG \n",
       "        [4]      TRUE      TRUE Exp236-c14-CCACGACTTG \n",
       "        [5]      TRUE      TRUE Exp260b-c16-GAGGCGGTAT\n",
       "        ...       ...       ...                    ...\n",
       "  [1217965]      TRUE      TRUE Exp236-c14-GGCTAGAAGG \n",
       "  [1217966]      TRUE      TRUE Exp260b-c11-TTGTAGACAG\n",
       "  [1217967]      TRUE      TRUE Exp236-c03-CCGCTTAGAC \n",
       "  [1217968]      TRUE      TRUE Exp236-c08-GGTGTCTGCA \n",
       "  [1217969]      TRUE      TRUE Exp246-c03-CGGCTGTTCT \n",
       "  -------\n",
       "  seqinfo: 22 sequences from an unspecified genome; no seqlengths"
      ]
     },
     "metadata": {},
     "output_type": "display_data"
    }
   ],
   "source": [
    "# Merge experiment ID and cell barcode to create unique cell ID across experiments\n",
    "scGRO = scGRO %>%\n",
    "    filter( mapq >= 3 & countQC & umiQC & plateQC & cellQC & miRQC ) %>%\n",
    "    subsetByOverlaps( expressedFeatures ) %>%\n",
    "    mutate( cellID = factor( paste( Exp, Plate, Cell, sep=\"-\") ) ) %>%\n",
    "    filter( cellID %in% allcells ) #%>%\n",
    "    # select( cellID );\n",
    "scGRO"
   ]
  },
  {
   "cell_type": "code",
   "execution_count": 20,
   "id": "59028396-df52-4f20-89b6-c92fa23d0ac2",
   "metadata": {
    "tags": []
   },
   "outputs": [],
   "source": [
    "counts = foreach(\n",
    "    id = allcells,\n",
    "    .combine=\"cbind2\"\n",
    ") %dopar% {\n",
    "    reads = scGRO %>% filter(cellID == id);\n",
    "    # count reads in each feature for this cellID\n",
    "    counts1 = countOverlaps( expressedFeatures, reads );\n",
    "\n",
    "    counts = cbind(counts1) %>%\n",
    "        Matrix(sparse=T);\n",
    "\n",
    "    return( counts );\n",
    "}\n",
    "# columns = cells = cellIDs\n",
    "colnames(counts) = allcells;\n",
    "rownames(counts) = names(expressedFeatures);\n",
    "dim(counts)"
   ]
  },
  {
   "cell_type": "code",
   "execution_count": null,
   "id": "bdee7be4-afce-496c-8c66-cd0f0ed2b070",
   "metadata": {},
   "outputs": [],
   "source": [
    "# to sum rows with same rownames\n",
    "# the sense and anti-sense bins of enhancers have same names\n",
    "counts = rowsum(counts, row.names(counts))\n",
    "dim(counts)\n",
    "# rowSums(counts)\n",
    "# colSums(counts)"
   ]
  },
  {
   "cell_type": "code",
   "execution_count": null,
   "id": "b33cd1c4-af73-464f-92cb-3fc902d08035",
   "metadata": {},
   "outputs": [],
   "source": [
    "data.frame(\n",
    "    x=rowMeans(counts>0)\n",
    ") %>%\n",
    "    ggplot( aes(x=x) ) +\n",
    "    geom_histogram(binwidth=0.05) +\n",
    "    scale_x_log10() +\n",
    "    ggtitle(\"Reads per Feature\") +\n",
    "    xlab(\"Reads per cell\") +\n",
    "    ylab(\"Number of features\");"
   ]
  },
  {
   "cell_type": "code",
   "execution_count": null,
   "id": "6755b9bb-c508-4de1-b833-09f5e4156b7b",
   "metadata": {},
   "outputs": [],
   "source": [
    "# only retain features with counts in 0.1% or more cells\n",
    "observed = counts[ rowMeans(counts>0) >= 0.001, ];\n",
    "dim(observed)\n",
    "\n",
    "test = substr(rownames(observed), 0, 3)\n",
    "summary(as.factor(test))"
   ]
  },
  {
   "cell_type": "markdown",
   "id": "5661f73c-4418-4672-9842-3b3c5b8cab65",
   "metadata": {},
   "source": [
    "## ExG Correlation & p-value from chi-square test:"
   ]
  },
  {
   "cell_type": "code",
   "execution_count": 20,
   "id": "0c3e6c6d-68bd-498f-a381-f8cb7dd88cb5",
   "metadata": {},
   "outputs": [],
   "source": [
    "# The matrix had to be converted to integer type for chi-square function written by chatGPT:\n",
    "forceMatrixToInteger <- function(m){\n",
    "    apply (m, c (1, 2), function (x) {\n",
    "         (as.integer(x))\n",
    "    })\n",
    "}"
   ]
  },
  {
   "cell_type": "code",
   "execution_count": 21,
   "id": "0d4280ec-aa4e-4233-8093-a47b336330cc",
   "metadata": {},
   "outputs": [
    {
     "data": {
      "text/html": [
       "<style>\n",
       ".list-inline {list-style: none; margin:0; padding: 0}\n",
       ".list-inline>li {display: inline-block}\n",
       ".list-inline>li:not(:last-child)::after {content: \"\\00b7\"; padding: 0 .5ex}\n",
       "</style>\n",
       "<ol class=list-inline><li>2635</li><li>23538</li></ol>\n"
      ],
      "text/latex": [
       "\\begin{enumerate*}\n",
       "\\item 2635\n",
       "\\item 23538\n",
       "\\end{enumerate*}\n"
      ],
      "text/markdown": [
       "1. 2635\n",
       "2. 23538\n",
       "\n",
       "\n"
      ],
      "text/plain": [
       "[1]  2635 23538"
      ]
     },
     "metadata": {},
     "output_type": "display_data"
    }
   ],
   "source": [
    "# transforming the matrix to calculate corr, hmisc package reqires genes in columns and cells in rows\n",
    "\n",
    "obsx = as.matrix(t(observed))\n",
    "# obsx = as.matrix(t(observed[1:100, 1:50]))\n",
    "# Binarize observed counts\n",
    "# obsx = as.matrix(t(observed[1:100, 1:50]))\n",
    "obsx[obsx > 1] = 1;\n",
    "\n",
    "obsB = forceMatrixToInteger(obsx)\n",
    "dim(obsB)"
   ]
  },
  {
   "cell_type": "code",
   "execution_count": 22,
   "id": "3c5bf1ec-3bf1-428f-ba4b-2d6282982181",
   "metadata": {},
   "outputs": [],
   "source": [
    "# Function to calculate chi-square p-value for a pair of genes\n",
    "chi_square_test = function(gene1, gene2) {\n",
    "  # Create contingency table\n",
    "  table = table(gene1, gene2)\n",
    "  \n",
    "  # Perform chi-square test\n",
    "  test = chisq.test(table, correct = FALSE) # 'correct = FALSE' to avoid Yates' correction\n",
    "  return(test$p.value)\n",
    "}"
   ]
  },
  {
   "cell_type": "code",
   "execution_count": 23,
   "id": "5306f037-cd5a-4760-9a4c-e759d48d948d",
   "metadata": {},
   "outputs": [],
   "source": [
    "# ++++++++++++++++++++++++++++\n",
    "# flattenCorrMatrix\n",
    "# ++++++++++++++++++++++++++++\n",
    "# cormat : matrix of the correlation coefficients\n",
    "# pmat : matrix of the correlation p-values\n",
    "flattenCorrMatrix = function(cormat, pmat) {\n",
    "  ut = upper.tri(cormat)\n",
    "  data.frame(\n",
    "    geneA = rownames(cormat)[row(cormat)[ut]],\n",
    "    geneB = rownames(cormat)[col(cormat)[ut]],\n",
    "    corr = (cormat)[ut],\n",
    "    pVal = pmat[ut]\n",
    "    )\n",
    "}"
   ]
  },
  {
   "cell_type": "code",
   "execution_count": null,
   "id": "4c0ad0b1-69c6-42b0-b739-df1d1877b9cf",
   "metadata": {},
   "outputs": [],
   "source": [
    "# Apply the function to all pairs of genes\n",
    "suppressWarnings({\n",
    "    chSq_pVal = outer(1:ncol(obsB), 1:ncol(obsB), Vectorize(function(i, j) chi_square_test(obsB[,i], obsB[,j])))\n",
    "                })\n",
    "# colnames(p_values) = colnames(data)\n",
    "# rownames(p_values) = colnames(data);\n",
    "dim(chSq_pVal)\n",
    "chSq_pVal[1:5,1:5]                                           "
   ]
  },
  {
   "cell_type": "code",
   "execution_count": null,
   "id": "a9ff2912-8339-480b-95c6-927241495e4a",
   "metadata": {},
   "outputs": [],
   "source": [
    "# use hmisc package to calculate correlation and p-value:\n",
    "corrP = rcorr(obsB, type = \"pearson\")\n",
    "dim(corrP$r)\n",
    "corrP$r[1:5,1:5]\n",
    "dim(corrP$P)\n",
    "corrP$P[1:5,1:5]"
   ]
  },
  {
   "cell_type": "code",
   "execution_count": null,
   "id": "cc5d9b1c-48b7-4aa0-a605-2abe803f1cc5",
   "metadata": {},
   "outputs": [],
   "source": [
    "corrBflat = flattenCorrMatrix( corrP$r, chSq_pVal ) %>%\n",
    "    mutate( pAdj = p.adjust(pVal, method = \"bonferroni\") ) %>%\n",
    "    mutate( corrRank = rank(corr) ) %>%\n",
    "    mutate( pValRank = rank(pVal) );\n",
    "dim(corrBflat)\n",
    "head(corrBflat)\n",
    "fwrite(corrBflat, file=\"../data/scGROv2p8_ExG_max10kbp_binary_correlation_chiSquare.csv.gz\")"
   ]
  }
 ],
 "metadata": {
  "kernelspec": {
   "display_name": "R",
   "language": "R",
   "name": "ir"
  },
  "language_info": {
   "codemirror_mode": "r",
   "file_extension": ".r",
   "mimetype": "text/x-r-source",
   "name": "R",
   "pygments_lexer": "r",
   "version": "4.2.2"
  }
 },
 "nbformat": 4,
 "nbformat_minor": 5
}
