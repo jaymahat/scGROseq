{
 "cells": [
  {
   "cell_type": "code",
   "execution_count": null,
   "id": "da1c24a2-97db-4891-91c0-9f6fb1a138ee",
   "metadata": {},
   "outputs": [],
   "source": [
    ".libPaths(\"/home/mahat/.conda/envs/r422/lib/R/library\")\n",
    ".libPaths()"
   ]
  },
  {
   "cell_type": "code",
   "execution_count": null,
   "id": "9db58c45-23df-41b8-bf99-cdfc9afb5872",
   "metadata": {},
   "outputs": [],
   "source": [
    "suppressMessages({\n",
    "    library(tidyverse)\n",
    "    library(ggExtra)\n",
    "    library(matrixStats)\n",
    "    library(plyranges)\n",
    "    library(viridis)\n",
    "    library(data.table)\n",
    "    library(ggbio)\n",
    "    library(ggridges)\n",
    "    library(ggbeeswarm)\n",
    "    library(ggpointdensity)\n",
    "});\n",
    "source(\"./scGRO_functions.r\");"
   ]
  },
  {
   "cell_type": "code",
   "execution_count": null,
   "id": "8a623f44-ed47-4336-a09c-e230051a735b",
   "metadata": {},
   "outputs": [],
   "source": [
    "options(\n",
    "    repr.plot.width=4,\n",
    "    repr.plot.height=12,\n",
    "    jupyter.plot_mimetypes = \"image/svg+xml\"\n",
    ");\n",
    "theme_set(theme_classic() +\n",
    "    theme(\n",
    "        axis.title.x = element_text(color=\"black\", size=14, face=\"bold\"), \n",
    "        axis.title.y = element_text(color=\"black\", size=14, face=\"bold\"),\n",
    "        axis.text = element_text(color=\"black\", size=12, face=\"bold\"),\n",
    "        plot.title = element_text(face=\"bold\", size=14, hjust = 0.5),\n",
    "        axis.line = element_blank(),\n",
    "        # axis.ticks = element_blank()\n",
    "        panel.border = element_rect(colour = \"grey\", fill=NA, linewidth=1)\n",
    "    )\n",
    ");"
   ]
  },
  {
   "cell_type": "code",
   "execution_count": null,
   "id": "0b9f8d5e-127d-4c0e-9167-7aefa54ba044",
   "metadata": {},
   "outputs": [],
   "source": [
    "# Get equation and r^2 as string\n",
    "# https://groups.google.com/forum/#!topic/ggplot2/1TgH-kG5XMA\n",
    "\n",
    "lm_eqn = function(x, y) {\n",
    "    m = lm(y ~ x);\n",
    "    eq = substitute(italic(y) == a + b %.% italic(x)*\",\"~~italic(r)^2~\"=\"~r2, \n",
    "         list(a = format(unname(coef(m)[1]), digits = 2),\n",
    "              b = format(unname(coef(m)[2]), digits = 2),\n",
    "             r2 = format(summary(m)$r.squared, digits = 3)))\n",
    "    as.character(as.expression(eq));\n",
    "}"
   ]
  },
  {
   "cell_type": "code",
   "execution_count": null,
   "id": "feeccd35-7390-42fa-8478-f665b605d90f",
   "metadata": {},
   "outputs": [],
   "source": [
    "#features = read_bed(\"../data/groHMM_mES_BRsComb_LP-50_UTS10_features_customized_v2.bed\");\n",
    "# features = read_bed(\"../data/mES_BRsComb_dREGfiltered_features_customized_OSNenhancersPlusSEs_v1.bed\");\n",
    "features = read_bed(\"../data/dREG_refinedFeatures_mES_mm10_OSNcustomEnhancers_SEs.bed\");\n",
    "names(features) = features$name;\n",
    "features$score=NULL;\n",
    "features\n",
    "\n",
    "# # select genes longer than 5kp from each feature\n",
    "# # truncate genes longer than 30kb to 30kb\n",
    "# features = features %>%\n",
    "#     filter( width(features) >= 3000 | substr(name, 0, 2) != \"GN\" ) %>%\n",
    "#     anchor_center() %>%\n",
    "#     mutate(width=width-1000);\n",
    "# length(features)\n",
    "\n",
    "# longf = which( width(features) > 10000 );\n",
    "# features[longf] = features[longf] %>%\n",
    "#      resize( width = 10000, fix=\"start\" );\n",
    "# length(features)"
   ]
  },
  {
   "cell_type": "code",
   "execution_count": null,
   "id": "49600903-b52e-4608-a3c0-5193ecf946ee",
   "metadata": {},
   "outputs": [],
   "source": [
    "scGRO  = readRDS(\"../data/scGROv2p8_consolidated.rds\");\n",
    "counts = readRDS( \"../data/scGROv2p8_mapq3qc_filtered_counts.rds\" );\n",
    "# scGRO  = readRDS(\"../jay_m/data_jay_m/scGROv2p9_filtered_consolidated.rds\");\n",
    "# counts = readRDS( \"../jay_m/data_jay_m/scGROv2p9_mapq3qc_filtered_counts.rds\" );\n",
    "# hist(colSums(counts))\n",
    "# head(scGRO)\n",
    "# head(counts)"
   ]
  },
  {
   "cell_type": "code",
   "execution_count": null,
   "id": "b34624f1-b01f-410c-9920-793f9b8e234e",
   "metadata": {
    "tags": []
   },
   "outputs": [],
   "source": [
    "# Merge experiment ID and cell barcode to create unique cell ID across experiments\n",
    "scGRO = scGRO %>%\n",
    "    filter( umiQC & plateQC & cellQC & countQC & miRQC ) %>%\n",
    "    mutate(cellID = factor( paste( Exp, Plate, Cell, sep=\"-\") ) ) %>%\n",
    "    # filter( !(Exp == \"Exp236\" & Plate %in% paste0(\"c0\", 5:8)) ) %>%\n",
    "    # filter( !(Exp == \"Exp260b\") ) %>%\n",
    "    resize(width=1, fix=\"end\") %>%\n",
    "    filter(cellID %in% colnames(counts)) %>%\n",
    "    # subsetByOverlaps(features) %>%\n",
    "    select( cellID );\n",
    "names(scGRO) = NULL;\n",
    "scGRO"
   ]
  },
  {
   "cell_type": "code",
   "execution_count": null,
   "id": "05d457db-9c80-41f2-9908-beeb22b20364",
   "metadata": {},
   "outputs": [],
   "source": [
    "scrambled = scGRO;\n",
    "scrambled$cellID = droplevels(scrambled$cellID);\n",
    "scrambled$cellID = sample(scrambled$cellID);"
   ]
  },
  {
   "cell_type": "raw",
   "id": "ecd2ef72-6bea-4298-a527-837718115ef4",
   "metadata": {},
   "source": [
    "plot_gene = function( reads, features, id ) {\n",
    "    query = features[id];\n",
    "    query = resize( query, width = width(query) + 5e4, fix=\"center\" );\n",
    "    \n",
    "    transcripts = AnnotationTrack(features, name = \"Transcription units\", id=names(features), featureAnnotation=\"id\");\n",
    "    coords = GenomeAxisTrack();\n",
    "    ideogram = IdeogramTrack(genome = \"mm10\", chromosome = seqnames(features));\n",
    "    \n",
    "    reads = subsetByOverlaps(reads, query);\n",
    "    cells = unique(reads$cellID);\n",
    "    bins = tile(query, width=100);\n",
    "\n",
    "    for( c in cells ) {\n",
    "        cellreads = filter(reads, cellID == c);\n",
    "        mcols(bins)[,c] = countOverlaps( bins, cellreads );\n",
    "    }\n",
    "    counts = DataTrack(bins, name = \"heatmap\");\n",
    "    \n",
    "    plotTracks(\n",
    "        list(ideogram, coords, transcripts, counts),\n",
    "        from = start(query)-3e4,\n",
    "        to = end(query)+3e4,\n",
    "        type=\"heatmap\"\n",
    "    );\n",
    "}"
   ]
  },
  {
   "cell_type": "code",
   "execution_count": null,
   "id": "da47621e-617a-4e7d-bc9f-c98f9da0a2dd",
   "metadata": {},
   "outputs": [],
   "source": [
    "features\n",
    "features[\"GN-Nanog\"]\n",
    "width(features[\"GN-Pou5f1\"])\n",
    "width(features[\"GN-Sox2\"])\n",
    "width(features[\"GN-Nanog\"])"
   ]
  },
  {
   "cell_type": "code",
   "execution_count": null,
   "id": "6ca4a3b7-a60c-4801-8d61-076ee73247e4",
   "metadata": {},
   "outputs": [],
   "source": [
    "plot_polymerase_view( scGRO, features[\"GN-Npm1\"], max.cells=200, min.rpc=2, sortcells = F );\n",
    "plot_polymerase_view( scrambled, features[\"GN-Npm1\"], max.cells=200, min.rpc=2, sortcells = F );\n",
    "# ggsave(filename=\"../plots/Npm1_PolPosPerCell.pdf\", width=4, height=8, units=\"in\")\n",
    "\n",
    "# plot_polymerase_view( scGRO, GRanges(\"chr11:33143012-33166451:-\"), max.cells=500, min.rpc=2, sortcells = F );\n",
    "plot_polymerase_view( scGRO, GRanges(\"chr11:33148622-33164684:-\"), max.cells=500, min.rpc=2, sortcells = F );\n",
    "ggsave(filename=\"../plots/Npm1_extended_PolPosPerCell.pdf\", width=4, height=12, units=\"in\")\n",
    "plot_polymerase_view( scrambled, GRanges(\"chr11:33148622-33164684:-\"), max.cells=500, min.rpc=2, sortcells = F );"
   ]
  },
  {
   "cell_type": "code",
   "execution_count": null,
   "id": "28927cb2-0989-473a-8f79-051ba7530463",
   "metadata": {},
   "outputs": [],
   "source": [
    "source(\"./scGRO_functions.r\");\n",
    "# plot_polymerase_view( scGRO, features[\"GN-Hells\"], max.cells=2000, min.rpc=2, sortcells = F );\n",
    "plot_polymerase_view( scGRO, GRanges(\"chr19:38923054-38999071:+\"), max.cells=2000, min.rpc=1, sortcells = F );\n",
    "# ggsave(filename=\"../plots/Hells_PolPosPerCell.pdf\", width=8, height=8, units=\"in\")\n",
    "plot_polymerase_view( scGRO, GRanges(\"chr19:38923054-38999071\"), max.cells=2000, min.rpc=1, sortcells = F );\n",
    "# ggsave(filename=\"../plots/Hells_PolPosPerCell_2plus.pdf\", width=8, height=8, units=\"in\")"
   ]
  },
  {
   "cell_type": "code",
   "execution_count": null,
   "id": "37c45e95-9d2d-4739-9d29-f8e7794ed91d",
   "metadata": {},
   "outputs": [],
   "source": [
    "#Enhancer:\n",
    "plot_polymerase_view( scGRO, GRanges(\"chr3:96433609-96438833\"), max.cells=2000, min.rpc=1, sortcells = F );\n",
    "# ggsave(filename=\"../plots/Enhancer_chr3_PolPosPerCell_shortGraph.pdf\", width=8, height=8, units=\"in\")"
   ]
  },
  {
   "cell_type": "code",
   "execution_count": null,
   "id": "baf831a8-8182-420c-b41e-2b2198b9e1d7",
   "metadata": {},
   "outputs": [],
   "source": [
    "# plot_polymerase_view( scrambled, features[\"GN-Pnn\"], max.cells=1000, min.rpc=1, sortcells = F );\n",
    "# plot_polymerase_view( scrambled, features[\"GN-Gadd45a\"], max.cells=1000, min.rpc=1, sortcells = F );\n",
    "# plot_polymerase_view( scrambled, features[\"GN-Ubald1\"], max.cells=1000, min.rpc=1, sortcells = F );\n",
    "# plot_polymerase_view( scrambled, features[\"GN-Mars2\"], max.cells=1000, min.rpc=1, sortcells = F );\n",
    "# plot_polymerase_view( scrambled, features[\"GN-Apex1\"], max.cells=1000, min.rpc=1, sortcells = F );\n",
    "# plot_polymerase_view( scrambled, features[\"GN-Polr3d\"], max.cells=1000, min.rpc=1, sortcells = F );\n",
    "# plot_polymerase_view( scrambled, features[\"GN-Psmb4\"], max.cells=1000, min.rpc=1, sortcells = F );\n",
    "# plot_polymerase_view( scrambled, features[\"GN-Rpl38\"], max.cells=1000, min.rpc=1, sortcells = F );\n",
    "# plot_polymerase_view( scrambled, features[\"GN-Rpl24\"], max.cells=1000, min.rpc=1, sortcells = F );\n",
    "# plot_polymerase_view( scrambled, features[\"GN-Ssrp1\"], max.cells=1000, min.rpc=1, sortcells = F );\n",
    "# plot_polymerase_view( scrambled, features[\"GN-Ddx39\"], max.cells=1000, min.rpc=1, sortcells = F );\n",
    "# plot_polymerase_view( scrambled, features[\"GN-Cdt1\"], max.cells=1000, min.rpc=1, sortcells = F );\n",
    "# plot_polymerase_view( scrambled, features[\"GN-Rbm15\"], max.cells=1000, min.rpc=1, sortcells = F );\n",
    "# plot_polymerase_view( scrambled, features[\"GN-Purb\"], max.cells=1000, min.rpc=1, sortcells = F );\n",
    "# plot_polymerase_view( scrambled, features[\"GN-Arf6\"], max.cells=1000, min.rpc=1, sortcells = F );\n",
    "# plot_polymerase_view( scrambled, features[\"GN-Tuba4a\"], max.cells=1000, min.rpc=1, sortcells = F );"
   ]
  },
  {
   "cell_type": "code",
   "execution_count": null,
   "id": "b1e0846c-391a-461e-86a3-d76d6c32c86c",
   "metadata": {},
   "outputs": [],
   "source": [
    "plot_polymerase_view( scrambled, GRanges(\"chr11:33143012-33166451:-\"), max.cells=100, min.rpc=2, sortcells = F );\n",
    "ggsave(filename=\"../plots/Npm1_PolPosPerCell_scrambled_100cells.pdf\", width=4, height=8, units=\"in\")\n",
    "\n",
    "plot_polymerase_view( scGRO, GRanges(\"chr11:33143012-33166451:-\"), max.cells=150, min.rpc=2, sortcells = F );\n",
    "ggsave(filename=\"../plots/Npm1_PolPosPerCell_150cells.pdf\", width=4, height=8, units=\"in\")\n",
    "                     \n",
    "plot_polymerase_view( scGRO, GRanges(\"chr11:33143012-33166451:-\"), max.cells=100, min.rpc=2, sortcells = F );\n",
    "ggsave(filename=\"../plots/Npm1_PolPosPerCell_100cells.pdf\", width=4, height=8, units=\"in\")\n",
    "                     \n",
    "plot_polymerase_view( scGRO, GRanges(\"chr11:33143012-33166451:-\"), max.cells=75, min.rpc=2, sortcells = F );\n",
    "ggsave(filename=\"../plots/Npm1_PolPosPerCell_75cells.pdf\", width=4, height=8, units=\"in\")\n",
    "                     \n",
    "plot_polymerase_view( scGRO, GRanges(\"chr11:33143012-33166451:-\"), max.cells=50, min.rpc=2, sortcells = F );\n",
    "ggsave(filename=\"../plots/Npm1_PolPosPerCell_50cells.pdf\", width=4, height=8, units=\"in\")\n",
    "# plot_polymerase_view( scrambled, features[\"GN-Ahsa1\"], max.cells=1000, min.rpc=1, sortcells = F );\n",
    "# plot_polymerase_view( scrambled, features[\"GN-Ptbp1\"], max.cells=1000, min.rpc=1, sortcells = F );\n",
    "# plot_polymerase_view( scrambled, features[\"GN-Rbm15\"], max.cells=1000, min.rpc=1, sortcells = F );\n",
    "# plot_polymerase_view( scrambled, features[\"GN-Emc4\"], max.cells=1000, min.rpc=1, sortcells = F );\n",
    "# plot_polymerase_view( scrambled, features[\"GN-C1qbp\"], max.cells=1000, min.rpc=1, sortcells = F );\n",
    "# plot_polymerase_view( scrambled, features[\"GN-Ftsj3\"], max.cells=1000, min.rpc=1, sortcells = F );"
   ]
  },
  {
   "cell_type": "code",
   "execution_count": null,
   "id": "664962a2-3307-40b9-a8cb-cfc72d3c39ec",
   "metadata": {},
   "outputs": [],
   "source": [
    "plot_polymerase_view( scrambled, features[\"GN-Cobl\"], max.cells=2000, min.rpc=1, sortcells = F );\n",
    "plot_polymerase_view( scGRO, GRanges(\"chr11:12196530-12510234:+\"), max.cells=2000, min.rpc=1, sortcells = F );"
   ]
  },
  {
   "cell_type": "code",
   "execution_count": null,
   "id": "677159d9-ecdf-4631-b1bc-dd1e738c082b",
   "metadata": {},
   "outputs": [],
   "source": [
    "#Armc1\n",
    "plot_polymerase_view( scGRO, GRanges(\"chr3:19103396-19180323:-\"), max.cells=2000, min.rpc=1, sortcells = F );"
   ]
  },
  {
   "cell_type": "code",
   "execution_count": null,
   "id": "c03a2645-4ab5-4063-b69b-172c951ea32e",
   "metadata": {},
   "outputs": [],
   "source": [
    "#Wwtr1\n",
    "plot_polymerase_view( scGRO, GRanges(\"chr3:57399333-57601749:-\"), max.cells=2000, min.rpc=1, sortcells = F );"
   ]
  },
  {
   "cell_type": "code",
   "execution_count": null,
   "id": "04a44b64-9853-484e-b023-f5cc1e9dd4d4",
   "metadata": {},
   "outputs": [],
   "source": [
    "plot_polymerase_view( scGRO, features[\"GN-Nanog\"], max.cells=2000, min.rpc=1, sortcells = F );\n",
    "plot_polymerase_view( scGRO, GRanges(\"chr6:122700399-122722175\"), max.cells=2000, min.rpc=1, sortcells = F );\n",
    "# ggsave(filename=\"../plots/scGRO_Nanog_PolPosPerCell.pdf\", width=7.5, height=10, units=\"in\")"
   ]
  },
  {
   "cell_type": "code",
   "execution_count": null,
   "id": "0e33cb5b-e7e8-48ec-bcd1-af253793bd8e",
   "metadata": {},
   "outputs": [],
   "source": [
    "plot_polymerase_view( scGRO, features[\"GN-Malat1\"], max.cells=100, min.rpc=5, sortcells = F );"
   ]
  },
  {
   "cell_type": "code",
   "execution_count": null,
   "id": "24f2ab87-9ce6-4556-88a8-2d1464a135f9",
   "metadata": {},
   "outputs": [],
   "source": [
    "plot_polymerase_view( scGRO, features[\"GN-Malat1\"], max.cells=1000, min.rpc=3, sortcells = F );"
   ]
  },
  {
   "cell_type": "code",
   "execution_count": null,
   "id": "3b2c07a2-9616-4244-9d6d-84af08d17676",
   "metadata": {},
   "outputs": [],
   "source": [
    "plot_polymerase_view( scGRO, GRanges(\"chrX:13038829-13199170:+\"), max.cells=2000, min.rpc=1 );"
   ]
  },
  {
   "cell_type": "code",
   "execution_count": null,
   "id": "781537f6-2c19-41a6-8ae0-679a964d1fc9",
   "metadata": {},
   "outputs": [],
   "source": [
    "plot_polymerase_view( scGRO, GRanges(\"chr10:40258291-40258900:+\"), max.cells=1000, min.rpc=1, sortcells = F );"
   ]
  },
  {
   "cell_type": "code",
   "execution_count": null,
   "id": "b2d3b554-5c0c-4642-9953-51ce325f0e33",
   "metadata": {},
   "outputs": [],
   "source": [
    "plot_polymerase_view( scrambled, features[\"GN-Vbp1\"], max.cells=1000, min.rpc=1);\n",
    "# GN-Vbp1:\n",
    "plot_polymerase_view( scGRO, GRanges(\"chrX:75502070-75563748:+\"), sortcells = F );"
   ]
  },
  {
   "cell_type": "code",
   "execution_count": null,
   "id": "946a65ef-0bd5-46fe-b2f8-844a16f438ae",
   "metadata": {},
   "outputs": [],
   "source": [
    "plot_polymerase_view( scrambled, features[\"GN-Esrrb\"], max.cells=1000, min.rpc=1);"
   ]
  },
  {
   "cell_type": "code",
   "execution_count": null,
   "id": "c462c164-8394-48a4-a31a-a57124d9e600",
   "metadata": {},
   "outputs": [],
   "source": [
    "plot_polymerase_view( scrambled, features[\"GN-Otx2\"], max.cells=1000, min.rpc=1);"
   ]
  },
  {
   "cell_type": "code",
   "execution_count": null,
   "id": "d2a6ebb8-331b-4105-ac84-85dedf211d28",
   "metadata": {},
   "outputs": [],
   "source": [
    "plot_polymerase_view( scrambled, features[\"GN-Gli2\"], max.cells=100, min.rpc=1, sortcells = F);"
   ]
  },
  {
   "cell_type": "code",
   "execution_count": null,
   "id": "e2ddcaf0-d910-4908-8669-5a4db38495c0",
   "metadata": {},
   "outputs": [],
   "source": [
    "plot_polymerase_view( scrambled, features[\"GN-Exoc4\"], max.cells=1000, min.rpc=1, sortcells = F);"
   ]
  },
  {
   "cell_type": "code",
   "execution_count": null,
   "id": "a5a4a15f-d2cd-42a2-af1e-5a054767fec4",
   "metadata": {},
   "outputs": [],
   "source": [
    "plot_polymerase_view( scrambled, features[\"GN-Pvt1\"], max.cells=1000, min.rpc=1, sortcells = F);"
   ]
  },
  {
   "cell_type": "code",
   "execution_count": null,
   "id": "3704d468-8e6f-4b36-a9cc-23f5be2a3fce",
   "metadata": {},
   "outputs": [],
   "source": [
    "plot_polymerase_view( scrambled, features[\"GN-Actb\"], max.cells=1000, min.rpc=1, sortcells = F);"
   ]
  },
  {
   "cell_type": "code",
   "execution_count": null,
   "id": "1b5e52f3-cf8c-4f8b-bc16-c331f3faae13",
   "metadata": {},
   "outputs": [],
   "source": [
    "plot_polymerase_view( scrambled, features[\"GN-Vbp1\"], max.cells=1000, min.rpc=1);"
   ]
  },
  {
   "cell_type": "code",
   "execution_count": null,
   "id": "99039ec3-2828-4773-af86-a7b96b9101b6",
   "metadata": {},
   "outputs": [],
   "source": [
    "plot_polymerase_view( scrambled, features[\"GN-Vbp1\"], max.cells=1000, min.rpc=1);"
   ]
  },
  {
   "cell_type": "code",
   "execution_count": null,
   "id": "805e567d-ea18-46a3-8d0e-d734c22f1351",
   "metadata": {},
   "outputs": [],
   "source": [
    "marginal_corr = function( reads, gene, enh ) {\n",
    "    query = features[ c(gene, enh) ];\n",
    "    qstart= promoters(query, upstream=0, downstream=1);\n",
    "    \n",
    "    genepol = subsetByOverlaps(reads, query[1]) %>%\n",
    "        mutate( gene = distanceToNearest(., qstart[1]) );\n",
    "    genepol$gstrand = as.character(strand(genepol));\n",
    "    \n",
    "    enhpol = subsetByOverlaps(reads, query[2]) %>%\n",
    "        mutate( enh = distanceToNearest(., qstart[2]) );\n",
    "    enhpol$estrand = as.character(strand(enhpol));\n",
    "\n",
    "    genepol = mcols(genepol) %>%\n",
    "        as.data.frame %>%\n",
    "        filter(cellID %in% enhpol$cellID) %>%\n",
    "        select(cellID, gene.distance, gstrand);\n",
    "    \n",
    "    enhpol  = mcols(enhpol) %>%\n",
    "        as.data.frame %>%\n",
    "        filter(cellID %in% genepol$cellID) %>%\n",
    "        select(cellID, enh.distance, estrand);\n",
    "\n",
    "    p = left_join(genepol, enhpol, by=\"cellID\") %>%\n",
    "            ggplot(aes(x=gene.distance/1000, y=enh.distance/1000)) +\n",
    "            geom_point() +\n",
    "            xlim(0, 50) +\n",
    "            ylim(0, 20) +\n",
    "            xlab(\"Gene distance transcribed (kb)\") +\n",
    "            ylab(\"Enhancer distance transcribed (kb)\") +\n",
    "            theme(legend.position=\"none\");\n",
    "\n",
    "    ggMarginal(p, type=\"histogram\")\n",
    "}"
   ]
  },
  {
   "cell_type": "code",
   "execution_count": null,
   "id": "1bdbb31b-d48a-4750-a0d3-168e802b128c",
   "metadata": {},
   "outputs": [],
   "source": [
    "marginal_corr( scGRO, \"GN-Sox2\", \"Sox2_105kbDn_pl\" );"
   ]
  },
  {
   "cell_type": "code",
   "execution_count": null,
   "id": "ea5ef234-9fea-4c3e-ba5d-dc5bb038b95e",
   "metadata": {},
   "outputs": [],
   "source": [
    "marginal_corr( scGRO, \"GN-Pou5f1\", \"Pou5f1_25kbUp_mn\" );"
   ]
  },
  {
   "cell_type": "code",
   "execution_count": null,
   "id": "390e10b5-ed52-4d6e-9f46-207e7dbde2dc",
   "metadata": {},
   "outputs": [],
   "source": []
  }
 ],
 "metadata": {
  "kernelspec": {
   "display_name": "R",
   "language": "R",
   "name": "ir"
  },
  "language_info": {
   "codemirror_mode": "r",
   "file_extension": ".r",
   "mimetype": "text/x-r-source",
   "name": "R",
   "pygments_lexer": "r",
   "version": "4.2.2"
  }
 },
 "nbformat": 4,
 "nbformat_minor": 5
}
