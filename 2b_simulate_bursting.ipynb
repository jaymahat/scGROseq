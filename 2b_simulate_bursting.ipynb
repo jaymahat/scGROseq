{
 "cells": [
  {
   "cell_type": "markdown",
   "id": "b2281164-bb9f-4ff3-a9cb-27c13e0efa6c",
   "metadata": {},
   "source": [
    "## Simulate read counts of an idealized scGRO-seq dataset for mm10 genes"
   ]
  },
  {
   "cell_type": "code",
   "execution_count": null,
   "id": "15ae4e47-7f8c-43f1-af24-0647f2e121b8",
   "metadata": {},
   "outputs": [],
   "source": [
    ".libPaths(\"/home/mahat/.conda/envs/r422/lib/R/library\")\n",
    ".libPaths()"
   ]
  },
  {
   "cell_type": "code",
   "execution_count": null,
   "id": "ea4f1a5e-cfb9-4f5a-a8a7-a20599220c6d",
   "metadata": {},
   "outputs": [],
   "source": [
    "suppressMessages({\n",
    "    library(tidyverse)\n",
    "    library(matrixStats)\n",
    "    library(Seurat)\n",
    "    library(BiocParallel)\n",
    "    library(foreach)\n",
    "    library(doParallel)\n",
    "    library(plyranges)\n",
    "    library(viridis)\n",
    "    library(ggpointdensity)\n",
    "});"
   ]
  },
  {
   "cell_type": "code",
   "execution_count": null,
   "id": "788667b1-0dd5-4512-8d1d-68778cf71ff5",
   "metadata": {},
   "outputs": [],
   "source": [
    "options(\n",
    "    repr.plot.width=4,\n",
    "    repr.plot.height=4,\n",
    "    jupyter.plot_mimetypes = \"image/svg+xml\"\n",
    ");\n",
    "theme_set(theme_classic() +\n",
    "    theme(\n",
    "        axis.title.x = element_text(color=\"black\", size=14, face=\"bold\"), \n",
    "        axis.title.y = element_text(color=\"black\", size=14, face=\"bold\"),\n",
    "        axis.text = element_text(color=\"black\", size=12, face=\"bold\"),\n",
    "        plot.title = element_text(face=\"bold\", size=14, hjust = 0.5),\n",
    "        axis.line = element_blank(),\n",
    "        # axis.ticks = element_blank()\n",
    "        panel.border = element_rect(colour = \"grey\", fill=NA, linewidth=1)\n",
    "    )\n",
    ");"
   ]
  },
  {
   "cell_type": "code",
   "execution_count": null,
   "id": "a1e9b1dd-f784-4e70-8a2f-43d9d47f9151",
   "metadata": {},
   "outputs": [],
   "source": [
    "# Get equation and r^2 as string\n",
    "# https://groups.google.com/forum/#!topic/ggplot2/1TgH-kG5XMA\n",
    "\n",
    "lm_eqn = function(x, y) {\n",
    "    m = lm(y ~ x);\n",
    "    eq = substitute(italic(y) == a + b %.% italic(x)*\",\"~~italic(r)^2~\"=\"~r2, \n",
    "         list(a = format(unname(coef(m)[1]), digits = 2),\n",
    "              b = format(unname(coef(m)[2]), digits = 2),\n",
    "             r2 = format(summary(m)$r.squared, digits = 2)))\n",
    "    as.character(as.expression(eq));\n",
    "}"
   ]
  },
  {
   "cell_type": "markdown",
   "id": "d9624656-1c09-421a-a25c-9e6505d79365",
   "metadata": {},
   "source": [
    "### Set simulation parameters"
   ]
  },
  {
   "cell_type": "code",
   "execution_count": null,
   "id": "cf512abd-524f-4eec-a461-b3418f141755",
   "metadata": {},
   "outputs": [],
   "source": [
    "Ncells = 2642; # N cells\n",
    "\n",
    "pol2_speed     = 2500; # speed of RNA Pol2 in bp / min\n",
    "trimEndLength = 1000;\n",
    "maxLen = 10000; # max feature length allowed"
   ]
  },
  {
   "cell_type": "code",
   "execution_count": null,
   "id": "b946b61d-9b52-4ec9-b178-425b67c9d6b8",
   "metadata": {},
   "outputs": [],
   "source": [
    "# read in estimated burst frequency/size\n",
    "obs_burst = read_csv(\"../data/scGROv2p8_max10kbp_max5kbp_burst_rate_0p10_captureEfficiency.csv\");\n",
    "obs_burst = GRanges(obs_burst)\n",
    "names(obs_burst) = obs_burst$feature;\n",
    "obs_burst$feature = NULL;\n",
    "obs_burst$length = NULL;\n",
    "head(obs_burst)"
   ]
  },
  {
   "cell_type": "code",
   "execution_count": null,
   "id": "58c30ecd-4839-4d3e-94c9-4909c8ed95d9",
   "metadata": {},
   "outputs": [],
   "source": [
    "# use real feature lengths\n",
    "features = read_bed(\"../data/dREG_refinedFeatures_mES_mm10_OSNcustomEnhancers_SEs.bed\");\n",
    "features$score = NULL;\n",
    "\n",
    "# truncate long features\n",
    "longf = which( width(features) >= maxLen+trimEndLength );\n",
    "features[longf] = features[longf] \n",
    "\n",
    "features = features %>%\n",
    "    filter( width >= maxLen+trimEndLength ) %>%\n",
    "    filter( substr(name, 0, 2) == \"GN\" ) %>%\n",
    "    filter( name %in% names(obs_burst) ) %>%\n",
    "    anchor_center() %>%\n",
    "    mutate(width = width - trimEndLength) %>%\n",
    "    resize( width = maxLen, fix=\"start\" );\n",
    "Nfeat = length(features);"
   ]
  },
  {
   "cell_type": "code",
   "execution_count": null,
   "id": "7af22cc7-cd1b-4596-a96f-221f658884b2",
   "metadata": {},
   "outputs": [],
   "source": [
    "# set burst parameters for each feature\n",
    "features = features %>%\n",
    "    mutate( B.SIZE = obs_burst[name]$burst_size ) %>%\n",
    "    mutate( B.RATE = obs_burst[name]$burst_rate );\n",
    "\n",
    "features"
   ]
  },
  {
   "cell_type": "code",
   "execution_count": null,
   "id": "8f265964-d864-4921-a28a-90982c0863b2",
   "metadata": {},
   "outputs": [],
   "source": [
    "summary(width(features))"
   ]
  },
  {
   "cell_type": "code",
   "execution_count": null,
   "id": "33b3d331-6680-4470-8fde-0c291b1cfbe2",
   "metadata": {},
   "outputs": [],
   "source": [
    "gene_time = width(features) / pol2_speed;"
   ]
  },
  {
   "cell_type": "code",
   "execution_count": null,
   "id": "93f0ea07-7cf1-41fb-a03b-b8517fefa8a3",
   "metadata": {},
   "outputs": [],
   "source": [
    "as.data.frame(features) %>%\n",
    "    ggplot( aes(x=B.SIZE)  ) +\n",
    "    # geom_histogram(binwidth=0.25, boundary=0) +\n",
    "    geom_histogram(bins = 32, boundary=0, color = \"white\") +\n",
    "    xlim(0, 5) +\n",
    "    xlab(\"Observed burst size\") +\n",
    "    ylab(\"Number of features\")"
   ]
  },
  {
   "cell_type": "code",
   "execution_count": null,
   "id": "82c822cc-a2fd-49bf-9b44-196f08c66ad1",
   "metadata": {},
   "outputs": [],
   "source": [
    "as.data.frame(features) %>%\n",
    "    ggplot( aes(x=B.RATE)  ) +\n",
    "    geom_histogram(binwidth=0.1, boundary=0) +\n",
    "    xlab(\"Observed burst rate (per hour)\") +\n",
    "    ylab(\"Number of features\") +\n",
    "    xlim(0, 10);"
   ]
  },
  {
   "cell_type": "markdown",
   "id": "6ef1575e-a7fe-44a7-a9a3-8231c567f7fc",
   "metadata": {},
   "source": [
    "### Simulate molecules and reads\n",
    "Molecules are simulated directly from burst rate and size.\n",
    "Reads are simulated by randomly sampling molecules."
   ]
  },
  {
   "cell_type": "code",
   "execution_count": null,
   "id": "33413972-9a3e-498f-81f6-16191ede006a",
   "metadata": {},
   "outputs": [],
   "source": [
    "simulate_reads = function( features, reads_per_cell ) {\n",
    "    # compute amount of time visible on each gene\n",
    "    # time will be in minutes from how pol2_speed is defined\n",
    "    # (bp) / (bp / min) => min\n",
    "    ncell = length(reads_per_cell);\n",
    "    nfeat = length(features);\n",
    "    \n",
    "    # sample burst counts from poisson distribution\n",
    "    SimPol2 = rpois(\n",
    "        n = ncell*nfeat,\n",
    "        lambda = features$B.RATE/60*gene_time\n",
    "    );\n",
    "    \n",
    "    # simulate an observed burst size for this cell\n",
    "    bsize = rnorm(\n",
    "        n = ncell*nfeat,\n",
    "        mean = features$B.SIZE,\n",
    "        sd   = features$B.SIZE/4\n",
    "    );\n",
    "    bsize = ifelse( bsize < 1, 1, bsize );\n",
    "    SimPol2 = round(SimPol2 * bsize, 0);\n",
    "    SimPol2 = matrix( as.numeric(SimPol2), nrow = nfeat, ncol=ncell);\n",
    "\n",
    "    # label columns as cells, rows as features\n",
    "    colnames(SimPol2) = paste0(\"cell\", 1:ncell);\n",
    "    rownames(SimPol2) = features$name;\n",
    "\n",
    "    # randomly sample read counts\n",
    "    counts = foreach( i = 1:ncell, .combine = \"cbind\" ) %dopar% {\n",
    "        #ftprobs  = SimPol2[,i] / sum(SimPol2[,i]);\n",
    "        molecules = rep(1:nfeat, SimPol2[,i]);\n",
    "        #ftcounts = sample( molecules, size=reads_per_cell[i], replace=T, prob=ftprobs );\n",
    "        ftcounts = sample( molecules, size=reads_per_cell[i], replace=F );\n",
    "        ftcounts = as.data.frame(table(ftcounts), stringsAsFactors=F);\n",
    "        out = rep(0, nfeat);\n",
    "        out[as.integer(ftcounts[,1])] = ftcounts$Freq;\n",
    "        return( out );\n",
    "    }\n",
    "    \n",
    "    colnames(counts) = paste0(\"cell\", 1:ncell);\n",
    "    rownames(counts) = features$name;\n",
    "\n",
    "    return(list(SimPol2, counts));\n",
    "}"
   ]
  },
  {
   "cell_type": "code",
   "execution_count": null,
   "id": "1c31200b-3999-45aa-9ca1-db0eaf9c9797",
   "metadata": {},
   "outputs": [],
   "source": [
    "counts = readRDS( \"../data/scGROv2p8_mapq3qc_max10kbp_filtered_counts.rds\" );\n",
    "\n",
    "# use observed reads per cell\n",
    "rpc = colSums( counts[features$name,] );\n",
    "summary(rpc)\n",
    "# filter RPC to minimize differences in read counts from biology (e.g. cell cycle)\n",
    "# divide by 2 since we simulated one allele, not two\n",
    "sim = simulate_reads( features, rpc[rpc <= 1500] );"
   ]
  },
  {
   "cell_type": "markdown",
   "id": "22eeaef8-235b-4ed2-b6cf-00220da57036",
   "metadata": {},
   "source": [
    "### Check simulation outputs"
   ]
  },
  {
   "cell_type": "code",
   "execution_count": null,
   "id": "5e766f87-d86c-47ce-8ad9-ddaca29be59e",
   "metadata": {},
   "outputs": [],
   "source": [
    "sim[[1]][1:9,1:9]"
   ]
  },
  {
   "cell_type": "code",
   "execution_count": null,
   "id": "a119a04f-6e73-4a9a-ab8f-d9f741e38b76",
   "metadata": {},
   "outputs": [],
   "source": [
    "sim[[2]][1:9,1:9]"
   ]
  },
  {
   "cell_type": "code",
   "execution_count": null,
   "id": "9a952677-7c95-4e0f-be9f-40ff5a8a857d",
   "metadata": {},
   "outputs": [],
   "source": [
    "data.frame(RPC=colSums(sim[[1]])) %>%\n",
    "    ggplot( aes(x=RPC)  ) +\n",
    "    geom_histogram(binwidth=50, boundary=0) +\n",
    "    xlab(\"Active Pol2 per cell\") +\n",
    "    ylab(\"Number of cells\");"
   ]
  },
  {
   "cell_type": "code",
   "execution_count": null,
   "id": "68b3fc0c-0ab9-4190-8a2e-15ec1398666c",
   "metadata": {},
   "outputs": [],
   "source": [
    "data.frame(RPC=colSums(sim[[2]])) %>%\n",
    "    ggplot( aes(x=RPC) ) +\n",
    "    geom_histogram(binwidth=25, boundary=0) +\n",
    "    xlab(\"Sampled reads per cell\") +\n",
    "    ylab(\"Number of cells\") +\n",
    "    xlim(0, 2000);"
   ]
  },
  {
   "cell_type": "markdown",
   "id": "d2bb4185-3e19-4726-a843-371fa2664739",
   "metadata": {},
   "source": [
    "### Estimate kinetic parameters from simulation"
   ]
  },
  {
   "cell_type": "code",
   "execution_count": null,
   "id": "3b9fd403-6168-4ae1-96a0-075984ffcb1b",
   "metadata": {},
   "outputs": [],
   "source": [
    "estBurstSize = function(counts) {\n",
    "    counts = counts[counts>0];\n",
    "    return(mean(counts));\n",
    "}\n",
    "\n",
    "out = data.frame(eBSIZE=apply(sim[[1]], 1, estBurstSize));\n",
    "txt=lm_eqn(features$B.SIZE, out$eBSIZE);\n",
    "\n",
    "out %>%\n",
    "    ggplot( aes(x=features$B.SIZE, y=eBSIZE) ) +\n",
    "    geom_pointdensity() +\n",
    "    scale_x_log10() +\n",
    "    scale_y_log10() +\n",
    "    scale_color_viridis() +\n",
    "    annotate(geom = \"label\", x = 2.5, y = 12, label = txt, parse=T) +\n",
    "    ggtitle(\"Sample efficiency = 100%\") +\n",
    "    xlab(\"True burst size\") +\n",
    "    ylab(\"Estimate\");"
   ]
  },
  {
   "cell_type": "code",
   "execution_count": null,
   "id": "cd73a86c-b2c1-4898-a722-9e7fdb33bf73",
   "metadata": {},
   "outputs": [],
   "source": [
    "out = data.frame(\n",
    "    efficiency=median(colSums(sim[[2]]))/median(colSums(sim[[1]])),\n",
    "    trueSize=features$B.SIZE,\n",
    "    trueFreq=features$B.RATE,\n",
    "    obSize=apply(sim[[2]], 1, estBurstSize),\n",
    "    estFreq=rowMeans(sim[[2]]>0)/gene_time*60,\n",
    "    length=width(features)\n",
    ") %>%\n",
    "    na.omit %>%\n",
    "    mutate(lnorm=maxLen/length) %>%\n",
    "    mutate(estSize=1 + (obSize-1)/efficiency) %>%\n",
    "    mutate(detectionRate = estSize*efficiency) %>%\n",
    "    mutate(detectionRate = ifelse(detectionRate>1, 1, detectionRate)) %>%\n",
    "    mutate(estFreq=estFreq/detectionRate);"
   ]
  },
  {
   "cell_type": "code",
   "execution_count": null,
   "id": "4d2528dc-5f50-4a13-a4bb-9480a5b6cd58",
   "metadata": {},
   "outputs": [],
   "source": [
    "txt=lm_eqn(out$trueSize, out$estSize);\n",
    "\n",
    "bs = out %>%\n",
    "    ggplot( aes(x=trueSize, y=estSize) ) +\n",
    "    geom_pointdensity() +\n",
    "    scale_x_log10() +\n",
    "    scale_y_log10() +\n",
    "    scale_color_viridis() +\n",
    "    # annotate(geom = \"label\", x = 3, y = 20, label = txt, parse=T) +\n",
    "    annotate(geom=\"label\", label.size=NA, x=0, y=Inf, hjust=0, vjust=1, label=txt, parse=T, fill=NA) +\n",
    "    # ggtitle(paste0(\"Capture efficiency = \", 100*round(out$efficiency[1], 2), \"%\")) +\n",
    "    xlab(\"True burst size\") +\n",
    "    ylab(\"Estimated burst size\") +\n",
    "    theme( legend.key.size = unit(6, 'mm'), legend.background = element_blank(), legend.position = c(0.875, 0.25), \n",
    "          legend.title = element_text(size = 0), legend.text = element_text(size = 10))\n",
    "bs\n",
    "ggsave(bs, filename = \"../plots/Simulation_burst_size.pdf\", width=4, height=4);"
   ]
  },
  {
   "cell_type": "code",
   "execution_count": null,
   "id": "e248cca1-aba4-4984-afce-2a47f36e5eb0",
   "metadata": {},
   "outputs": [],
   "source": [
    "txt=lm_eqn(out$trueFreq, out$estFreq);\n",
    "\n",
    "bf = out %>%\n",
    "    ggplot( aes(x=trueFreq, y=estFreq) ) +\n",
    "    geom_pointdensity() +\n",
    "    scale_x_log10() +\n",
    "    scale_y_log10() +\n",
    "    scale_color_viridis() +\n",
    "    # annotate(geom = \"label\", x = 3, y = 20, label = txt, parse=T) +\n",
    "    annotate(geom=\"label\", label.size=NA, x=0, y=Inf, hjust=0, vjust=1, label=txt, parse=T, fill=NA) +\n",
    "    # ggtitle(paste0(\"Capture efficiency = \", 100*round(out$efficiency[1], 2), \"%\")) +\n",
    "    xlab(\"True burst rate (per hour)\") +\n",
    "    ylab(\"Estimated burst rate (per hour)\") +\n",
    "    theme( legend.key.size = unit(6, 'mm'), legend.background = element_blank(), legend.position = c(0.875, 0.25), \n",
    "          legend.title = element_text(size = 0), legend.text = element_text(size = 10))\n",
    "bf\n",
    "ggsave(bf, filename = \"../plots/Simulation_burst_frequency.pdf\", width=4, height=4);"
   ]
  }
 ],
 "metadata": {
  "kernelspec": {
   "display_name": "R",
   "language": "R",
   "name": "ir"
  },
  "language_info": {
   "codemirror_mode": "r",
   "file_extension": ".r",
   "mimetype": "text/x-r-source",
   "name": "R",
   "pygments_lexer": "r",
   "version": "4.2.2"
  }
 },
 "nbformat": 4,
 "nbformat_minor": 5
}
