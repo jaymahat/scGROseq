{
 "cells": [
  {
   "cell_type": "markdown",
   "id": "4d5ca2ef-0b8f-4f3e-a81b-9c3a0fc3dc07",
   "metadata": {},
   "source": [
    "## Optimize groHMM parameters on bulk PRO-seq data to define transcription units\n",
    "groHMM paper: https://bmcbioinformatics.biomedcentral.com/articles/10.1186/s12859-015-0656-3"
   ]
  },
  {
   "cell_type": "code",
   "execution_count": null,
   "id": "5e51ba65-e613-4613-a545-32296ee437c3",
   "metadata": {},
   "outputs": [],
   "source": [
    ".libPaths(\"/home/mahat/.conda/envs/r422/lib/R/library\")\n",
    ".libPaths()"
   ]
  },
  {
   "cell_type": "code",
   "execution_count": null,
   "id": "7a7f3d8a-5aa1-47db-8238-ae7e5ba4d88e",
   "metadata": {},
   "outputs": [],
   "source": [
    "suppressPackageStartupMessages({\n",
    "    library(rtracklayer)\n",
    "    library(groHMM)\n",
    "    library(TxDb.Mmusculus.UCSC.mm10.knownGene)\n",
    "    library(org.Mm.eg.db)\n",
    "    library(plyranges)\n",
    "    library(tidyverse)\n",
    "    library(foreach)\n",
    "    library(GenomicFeatures)\n",
    "});\n",
    "options(mc.cores=getCores(16))"
   ]
  },
  {
   "cell_type": "code",
   "execution_count": null,
   "id": "7bd6a6e0-7b4d-4700-81ac-049655f02483",
   "metadata": {
    "tags": []
   },
   "outputs": [],
   "source": [
    "## groHMM throws an error if there are seqnames containing no alignments.\n",
    "## Therefore, focus on the standard chromosomes.\n",
    "chroms = paste0(\"chr\", c(1:19, \"X\", \"Y\", \"M\"));\n",
    "\n",
    "### make consensus annotations\n",
    "# rgdb = makeTxDbFromUCSC(genome=\"mm10\", tablename=\"refGene\")\n",
    "rgdb = makeTxDbFromUCSC(\"mm10\",\"refGene\")\n",
    "ref_transcripts = transcripts(\n",
    "            rgdb,\n",
    "            columns=c(\"gene_id\", \"tx_id\", \"tx_name\")\n",
    "        ) %>%\n",
    "    filter(seqnames %in% chroms);\n",
    "seqlevels(ref_transcripts) = seqlevelsInUse(ref_transcripts);"
   ]
  },
  {
   "cell_type": "code",
   "execution_count": null,
   "id": "7ce39fcc-6be1-4c95-bda0-19da6a51ad59",
   "metadata": {
    "tags": []
   },
   "outputs": [],
   "source": [
    "rgConsensus = makeConsensusAnnotations(\n",
    "    ref_transcripts,\n",
    "    keytype=\"gene_id\",\n",
    "    mc.cores=getOption(\"mc.cores\")\n",
    ");"
   ]
  },
  {
   "cell_type": "code",
   "execution_count": null,
   "id": "c36815b4-751f-4351-9e3a-3431b243c91b",
   "metadata": {},
   "outputs": [],
   "source": [
    "#using PROseq data:\n",
    "\n",
    "infile = \"/net/bmc-lab2/data/lab/scgroseq/group/mES_PROseq_RNAseq_ATACseq/PROseq_mES/PROseq_mES_BRsComb_merged/PROseq_mES_BRsComb_dedup.bam\";\n",
    "\n",
    "seqlib = read_bam( infile ) %>%\n",
    "        filter( seqnames %in% chroms & mapq > 1 ) %>%\n",
    "        GRanges();\n",
    "\n",
    "strand(seqlib) = ifelse( strand(seqlib) == \"+\", \"-\", \"+\" );\n",
    "seqlevels(seqlib) = seqlevelsInUse(seqlib);\n",
    "\n",
    "reads = seqlib %>%\n",
    "    resize(width=1, fix=\"end\") %>%\n",
    "    sort();\n",
    "saveRDS(reads, file = \"../group/notebooks/data/PROseq_mES_BRsComb_bulk.Rds\")"
   ]
  },
  {
   "cell_type": "code",
   "execution_count": null,
   "id": "57f6e7a6-cade-47b8-86de-6c2c9d15cc02",
   "metadata": {},
   "outputs": [],
   "source": [
    "# see groHMM paper for description of these parameters\n",
    "tuneParams = data.frame(\n",
    "    LP  = rep(c(-50,-100,-200,-400), each=3),\n",
    "    UTS = rep(c(  5,  10,  15     ), 4)\n",
    ");\n",
    "tuneParams"
   ]
  },
  {
   "cell_type": "code",
   "execution_count": null,
   "id": "64868c7b-3d40-4ad5-b4d7-679193549464",
   "metadata": {
    "tags": []
   },
   "outputs": [],
   "source": [
    "# run groHMM with each parameter combination\n",
    "evals = foreach( x = 1:12, .combine=\"rbind\" ) %do% {\n",
    "    LP  = tuneParams$LP[x];\n",
    "    UTS = tuneParams$UTS[x];\n",
    "    \n",
    "    hmm = detectTranscripts(\n",
    "                reads,\n",
    "                LtProbB = LP,\n",
    "                UTS = UTS\n",
    "            );\n",
    "    \n",
    "    write_bed(hmm$transcripts, file=paste0(\"../data/groHMM_mES_BRsComb_LP\", LP, \"_UTS\", UTS, \".bed\"));\n",
    "    \n",
    "    e = evaluateHMMInAnnotations(hmm$transcripts, rgConsensus);\n",
    "    return(e$eval);\n",
    "}\n",
    "evals = cbind(tuneParams, evals);"
   ]
  },
  {
   "cell_type": "code",
   "execution_count": null,
   "id": "bd3bcf8a-c248-4459-bfba-e0b1afcfa2e2",
   "metadata": {
    "tags": []
   },
   "outputs": [],
   "source": [
    "# summary of results\n",
    "evals"
   ]
  }
 ],
 "metadata": {
  "kernelspec": {
   "display_name": "R",
   "language": "R",
   "name": "ir"
  },
  "language_info": {
   "codemirror_mode": "r",
   "file_extension": ".r",
   "mimetype": "text/x-r-source",
   "name": "R",
   "pygments_lexer": "r",
   "version": "4.2.2"
  }
 },
 "nbformat": 4,
 "nbformat_minor": 5
}
