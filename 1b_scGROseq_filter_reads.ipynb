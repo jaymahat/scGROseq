{
 "cells": [
  {
   "cell_type": "markdown",
   "id": "4776a7d9-7a20-4646-be78-00aa6462d918",
   "metadata": {},
   "source": [
    "# Filter reads from pre-processed scGRO-seq datasets\n",
    "Some PCR duplicates and low-quality UMIs may still be present in our data, so we will perform detailed checks throughout this notebook to identify and mark problematic reads."
   ]
  },
  {
   "cell_type": "code",
   "execution_count": null,
   "id": "01efc67c-c336-447a-bda4-f726a471848f",
   "metadata": {},
   "outputs": [],
   "source": [
    ".libPaths(\"/home/mahat/.conda/envs/r422/lib/R/library\")\n",
    ".libPaths()"
   ]
  },
  {
   "cell_type": "code",
   "execution_count": null,
   "id": "c1497539-7338-4b0b-9318-182e1d873ce7",
   "metadata": {},
   "outputs": [],
   "source": [
    "suppressMessages({\n",
    "    library(tidyverse)\n",
    "    library(plyranges)\n",
    "    library(GenomicFiles)\n",
    "    library(GenomicAlignments)\n",
    "    library(rtracklayer)\n",
    "    library(dtplyr)\n",
    "    library(data.table)\n",
    "    library(parallel)\n",
    "    library(doParallel)\n",
    "    library(ggridges)\n",
    "});"
   ]
  },
  {
   "cell_type": "code",
   "execution_count": null,
   "id": "9ad7f204-1c77-41e6-8a8c-e26df1ca31f9",
   "metadata": {},
   "outputs": [],
   "source": [
    "setDTthreads(threads = 15);\n",
    "registerDoParallel(15);\n",
    "\n",
    "options(\n",
    "    repr.plot.width=6,\n",
    "    repr.plot.height=8,\n",
    "    jupyter.plot_mimetypes = \"image/svg+xml\"\n",
    ");\n",
    "theme_set(theme_classic() +\n",
    "    theme(\n",
    "        axis.title.x = element_text(color=\"black\", size=14, face=\"bold\"), \n",
    "        axis.title.y = element_text(color=\"black\", size=14, face=\"bold\"),\n",
    "        axis.text = element_text(color=\"black\", size=12, face=\"bold\"),\n",
    "        plot.title = element_text(face=\"bold\", size=14, hjust = 0.5),\n",
    "        axis.line = element_blank(),\n",
    "        # axis.ticks = element_blank()\n",
    "        panel.border = element_rect(colour = \"grey\", fill=NA, linewidth=1)\n",
    "    )\n",
    ");"
   ]
  },
  {
   "cell_type": "code",
   "execution_count": null,
   "id": "c33b96b2-098c-42d2-a139-d99c2fbce731",
   "metadata": {},
   "outputs": [],
   "source": [
    "scGRO = readRDS(\"/net/bmc-lab2/data/lab/scgroseq/group/notebooks/data/scGROv2p8_consolidated.rds\");\n",
    "length(scGRO) %>% prettyNum(big.mark = \",\")\n",
    "# v2p8: 26,453,177"
   ]
  },
  {
   "cell_type": "code",
   "execution_count": null,
   "id": "cfeb6414-9bd8-4a66-8c9a-d217a37dfdf7",
   "metadata": {},
   "outputs": [],
   "source": [
    "scGRO"
   ]
  },
  {
   "cell_type": "code",
   "execution_count": null,
   "id": "df12b928-24c3-49be-9f61-c66fb401eda7",
   "metadata": {},
   "outputs": [],
   "source": [
    "out = scGRO %>%\n",
    "    group_by(Exp, Plate, Cell) %>%\n",
    "    summarise(Count=n()) %>%\n",
    "    as.data.frame\n",
    "out"
   ]
  },
  {
   "cell_type": "code",
   "execution_count": null,
   "id": "46399cba-8e99-46bd-8dfb-1d0259e4adda",
   "metadata": {},
   "outputs": [],
   "source": [
    "# load groHMM-extended genes and enhancers\n",
    "features = read_bed(\"/net/bmc-lab2/data/lab/scgroseq/group/notebooks/data/groHMM_dREG_refinedFeatures_mES_mm10_OSNcustomEnhancers_SEs.bed\");\n",
    "names(features) = features$name;\n",
    "\n",
    "# define sense & antisense strands from genes\n",
    "genef = features[ substr(names(features), 0, 2) == \"GN\" ];\n",
    "antif = genef %>%\n",
    "    mutate( strand = ifelse( strand == \"+\", \"-\", \"+\" ) );"
   ]
  },
  {
   "cell_type": "code",
   "execution_count": null,
   "id": "ded52db1-eb28-4dc3-b280-c483f469e403",
   "metadata": {},
   "outputs": [],
   "source": [
    "# We noticed significant over-representation of small non-coding RNA,\n",
    "# presumably from non-specific RT/amplification. These miniRNA\n",
    "# are blacklisted based on RefSeq, and will now be marked.\n",
    "load(\"/net/bmc-lab2/data/lab/scgroseq/group/notebooks/data/UCSC_mm10_ncbiRefSeq.Rdata\");\n",
    "miniRNA = ref_transcripts %>%\n",
    "    filter( substr(tx_name, 0, 2) != \"NM\" ) %>%\n",
    "    filter( width <= 200);\n",
    "\n",
    "scGRO$miRQC = TRUE;\n",
    "\n",
    "hits = findOverlaps( scGRO, miniRNA, ignore.strand=T, maxgap = 200 );\n",
    "scGRO$miRQC[ hits@from ] = FALSE;"
   ]
  },
  {
   "cell_type": "code",
   "execution_count": null,
   "id": "52b8a739-be22-4067-b057-569c127211b7",
   "metadata": {},
   "outputs": [],
   "source": [
    "# Remove snor..[digit] and Snhg..[digit] genes, which are snoRNA and snoRNA harboring genes. \n",
    "snoRNA = features[ grepl( pattern = \"GN-Sn[oh][rg]*\\\\d\", names(features) ) ];\n",
    "names(snoRNA)\n",
    "hits = findOverlaps( scGRO, snoRNA, ignore.strand=T );\n",
    "scGRO$miRQC[ hits@from ] = FALSE;\n",
    "sum(!scGRO$miRQC) %>% prettyNum(big.mark = \",\");"
   ]
  },
  {
   "cell_type": "code",
   "execution_count": null,
   "id": "c903b16e-8a55-4f4b-b849-3bc90e325f3a",
   "metadata": {
    "tags": []
   },
   "outputs": [],
   "source": [
    "# prioritize reads in features & by highest mapq\n",
    "scGRO$inFeature = overlapsAny( scGRO, features );\n",
    "scGRO = scGRO[order(-scGRO$inFeature, -scGRO$mapq)] %>%\n",
    "    as.data.frame %>%\n",
    "    # Compute 50 bp \"bin position\" to account for soft clipping during alignment\n",
    "    mutate(PosBinOne=round(PolPos/50)) %>%\n",
    "    # Second bin with offset to ensure neighboring reads are not divided improperly\n",
    "    mutate(PosBinTwo=round((PolPos+25)/50)) %>%\n",
    "    # Convert to data.table for faster data manipulation\n",
    "    data.table;"
   ]
  },
  {
   "cell_type": "markdown",
   "id": "bca58a39-3860-46bd-9ef2-749554b890a2",
   "metadata": {},
   "source": [
    "1. umitools dedup can miss some duplicated UMIs at the same 3' end position, so we will re-apply a UMI dedup step.\n",
    "2. Cell and plate barcodes can be mis-assigned during sequencing, creating duplicates between samples. We mark them here."
   ]
  },
  {
   "cell_type": "code",
   "execution_count": null,
   "id": "dfeb8cc0-e6e2-4051-a43e-f38faad01ea4",
   "metadata": {},
   "outputs": [],
   "source": [
    "# keep at most one polymerase per 50 bp bin within a cell (likely UMI seq errors)\n",
    "scGRO = scGRO[\n",
    "    !duplicated(scGRO, by=c(\"Exp\", \"Plate\", \"Cell\", \"seqnames\", \"PosBinOne\")) &\n",
    "    !duplicated(scGRO, by=c(\"Exp\", \"Plate\", \"Cell\", \"seqnames\", \"PosBinTwo\"))\n",
    "];\n",
    "\n",
    "nrow(scGRO) %>% prettyNum(big.mark = \",\")\n",
    "# v2p8 20bp stranded:   21,234,867\n",
    "# v2p8 20bp unstranded: 21,206,317\n",
    "# v2p8 50bp unstranded: 21,114,657"
   ]
  },
  {
   "cell_type": "markdown",
   "id": "0d6ff2ac-a765-4852-a1ee-bb24261e7981",
   "metadata": {},
   "source": [
    "### Check unique molecular identifiers (UMIs)\n",
    "Much of our analysis relies on de-duplicating reads to accurately quantify the small number of molecules captured from an individual cell.\n",
    "Thus, we rely on UMIs to distinguish similar molecules from duplicates created during PCR amplification.\n",
    "Here we will analyze the randomness of UMI sequences and filter out any unexpected artifactual sequences."
   ]
  },
  {
   "cell_type": "code",
   "execution_count": null,
   "id": "3ab94c78-c296-45f4-88f2-9b7ebdb5e111",
   "metadata": {},
   "outputs": [],
   "source": [
    "UMIfreq = table(scGRO[ , UMI ]) %>%\n",
    "    as.data.frame %>%\n",
    "    mutate(UMI=as.character(Var1)) %>%\n",
    "    arrange(desc(Freq));\n",
    "fwrite(UMIfreq, file=\"../data/scGROv2p8_dedup_UMIfrequencies.csv\")"
   ]
  },
  {
   "cell_type": "code",
   "execution_count": null,
   "id": "397976d9-837e-4a66-9abe-5d02d65dc470",
   "metadata": {},
   "outputs": [],
   "source": [
    "UMIfreq %>%\n",
    "    filter( nchar(UMI) == 5 ) %>%\n",
    "    head(n = 40) %>%\n",
    "    ggplot( aes(x=reorder( UMI, -Freq), y=Freq) ) +\n",
    "    geom_bar( stat = 'identity' ) +\n",
    "    theme(axis.text.x = element_text(angle = 90)) +\n",
    "    xlab(\"UMI\")"
   ]
  },
  {
   "cell_type": "code",
   "execution_count": null,
   "id": "09032df4-0851-435f-93df-8c27943e26ed",
   "metadata": {},
   "outputs": [],
   "source": [
    "outlier_UMIs = UMIfreq %>%\n",
    "    filter( nchar(UMI) == 5 ) %>%\n",
    "    head(n = 3) %>%\n",
    "    select(UMI)"
   ]
  },
  {
   "cell_type": "code",
   "execution_count": null,
   "id": "35c82ded-5552-40fd-94ed-67427b4de05e",
   "metadata": {
    "tags": []
   },
   "outputs": [],
   "source": [
    "outlier_UMIs = outlier_UMIs$UMI;\n",
    "outlier_UMIs\n",
    "\n",
    "# Mark degenerate UMI sequences over-represented in the library\n",
    "scGRO = scGRO[ , umiQC := !(UMI %in% outlier_UMIs) ];\n",
    "\n",
    "# also mark alignments that have the same Cell barcode, position, and UMI (mispriming?)\n",
    "scGRO = scGRO[ umiQC == T, umiQC := (.N == 1), by=c(\"Cell\", \"seqnames\", \"strand\", \"PolPos\", \"UMI\") ];"
   ]
  },
  {
   "cell_type": "markdown",
   "id": "5f0a8319-1471-4409-842a-13a6d2e6d430",
   "metadata": {},
   "source": [
    "## Mark duplicate cell and plate barcodes:\n",
    "If exact position and UMI matches across multiple cell or plate barcodes -- mark as duplicate\n",
    "\n",
    "(.N is special variable which represents the group size)\n"
   ]
  },
  {
   "cell_type": "code",
   "execution_count": null,
   "id": "37882970-82c9-4845-a4c4-d34a207c6c8f",
   "metadata": {
    "tags": []
   },
   "outputs": [],
   "source": [
    "scGRO[, plateQC := F];\n",
    "scGRO[      umiQC == T, plateQC := (.N == 1), by=c(\"Exp\", \"Cell\", \"seqnames\", \"strand\", \"PosBinOne\", \"UMI\") ];\n",
    "scGRO[ umiQC & plateQC, plateQC := (.N == 1), by=c(\"Exp\", \"Cell\", \"seqnames\", \"strand\", \"PosBinTwo\", \"UMI\") ];\n",
    "\n",
    "scGRO[, cellQC := F];\n",
    "scGRO[     umiQC == T, cellQC := (.N == 1), by=c(\"Exp\", \"Plate\", \"seqnames\", \"strand\", \"PosBinOne\", \"UMI\") ];\n",
    "scGRO[ umiQC & cellQC, cellQC := (.N == 1), by=c(\"Exp\", \"Plate\", \"seqnames\", \"strand\", \"PosBinTwo\", \"UMI\") ];"
   ]
  },
  {
   "cell_type": "code",
   "execution_count": null,
   "id": "f81c0ae9-b4cd-451f-b92c-d0f3216c7be4",
   "metadata": {},
   "outputs": [],
   "source": [
    "# Check final (UMI dedup'd) counts within cells -- we know there cannot be more than 2 polymerases\n",
    "# within 20bp footprint of Pol2. Mark reads violating this expectation.\n",
    "scGRO[ , countQC := F ];\n",
    "scGRO[ umiQC & plateQC & cellQC, countQC := (.N <= 2), by=c(\"Exp\", \"Plate\", \"Cell\", \"seqnames\", \"PosBinOne\") ];\n",
    "scGRO[ countQC == T, countQC := (.N <= 2), by=c(\"Exp\", \"Plate\", \"Cell\", \"seqnames\", \"PosBinTwo\") ];\n",
    "\n",
    "# Finally, check counts per plate per bp and discard positions in >25% of cells\n",
    "scGRO[ countQC == T, countQC := (.N < 12), by=c(\"Exp\", \"Plate\", \"seqnames\", \"strand\", \"PolPos\") ];"
   ]
  },
  {
   "cell_type": "markdown",
   "id": "d312a37a-309a-484a-a908-9eb2421c6285",
   "metadata": {},
   "source": [
    "### Show counts from each QC metric we've developed so far, alone and in combination."
   ]
  },
  {
   "cell_type": "code",
   "execution_count": null,
   "id": "c4b31015-e388-48e2-bbe2-20125a48c7ff",
   "metadata": {},
   "outputs": [],
   "source": [
    "nrow(scGRO)\n",
    "sum(scGRO[,umiQC  ]);\n",
    "sum(scGRO[,plateQC]);\n",
    "sum(scGRO[,cellQC ]);\n",
    "sum(scGRO[,countQC]);"
   ]
  },
  {
   "cell_type": "code",
   "execution_count": null,
   "id": "664d7aec-f5f8-49e8-b1f8-10f43807f591",
   "metadata": {},
   "outputs": [],
   "source": [
    "sum(scGRO[,plateQC & umiQC]);\n",
    "sum(scGRO[,plateQC & umiQC & countQC]);\n",
    "sum(scGRO[,plateQC & umiQC & countQC & mapq >= 3]);\n",
    "sum(scGRO[,plateQC & cellQC & umiQC & countQC & mapq >= 3]);\n",
    "\n",
    "# v2p5:\n",
    "# 15966096\n",
    "# 15749017\n",
    "# 13907454\n",
    "# 13708770\n",
    "\n",
    "# v3p1:\n",
    "# 5877226\n",
    "# 5695598\n",
    "# 4832675\n",
    "# 4765585\n",
    "\n",
    "# v2p7\n",
    "# 20296615\n",
    "# 20296615\n",
    "# 17965272\n",
    "# 17708488\n",
    "\n",
    "# v2p8 - with Exp236 c05-c08\n",
    "# 21481792\n",
    "# 21481792\n",
    "# 21481792\n",
    "# 21079904"
   ]
  },
  {
   "cell_type": "code",
   "execution_count": null,
   "id": "9e828ed2-1c4d-4ba2-b169-3ca42bacc024",
   "metadata": {},
   "outputs": [],
   "source": [
    "# count cell barcodes from cells with >20000 reads\n",
    "scGRO[ plateQC & cellQC & umiQC & countQC & mapq >= 3, .N, by=c(\"Exp\", \"Plate\", \"Cell\") ] %>%\n",
    "    .[ N >= 10000, .N, by=\"Cell\" ] %>%\n",
    "    as.data.frame %>%\n",
    "    arrange(desc(N)) %>%\n",
    "    head(n=15)\n",
    "\n",
    "# based on the below table, we blacklist TTCTTCTTCC"
   ]
  },
  {
   "cell_type": "markdown",
   "id": "ede91513-3453-4961-a64e-24680d8fc1bd",
   "metadata": {},
   "source": [
    "## Plot summary statistics from individual cells across different batches."
   ]
  },
  {
   "cell_type": "code",
   "execution_count": null,
   "id": "9712ec75-2889-4159-85e5-eac65ff3d34d",
   "metadata": {},
   "outputs": [],
   "source": [
    "out = scGRO[ plateQC & cellQC & umiQC & countQC & mapq >= 3, .N, by=c(\"Exp\", \"Plate\", \"Cell\") ] %>%\n",
    "    .[ N>= 10000, ] %>%\n",
    "    ggplot( aes(x=N, y=Cell, fill=Cell) ) +\n",
    "    geom_density_ridges(breaks=(0:20)*2500, stat='binline', alpha=0.5) +\n",
    "    xlab(\"Read count\") +\n",
    "    ylab(\"Cell barcode\") +\n",
    "    theme(\n",
    "      legend.position=\"none\",\n",
    "      panel.spacing = unit(0.1, \"lines\")\n",
    "    )\n",
    "\n",
    "ggsave(out, filename = \"../plots/scGROv2p8_mapq3qc_CellBC_counts.pdf\", width=6, height=12);\n",
    "out"
   ]
  },
  {
   "cell_type": "code",
   "execution_count": null,
   "id": "70ac2611-a9dc-487b-9344-bbe6d12360ea",
   "metadata": {},
   "outputs": [],
   "source": [
    "out = scGRO[ plateQC & umiQC & countQC & mapq >= 3, width, by=c(\"Exp\", \"Plate\") ] %>%\n",
    "    ggplot( aes(x=width, y=paste(Exp, Plate), fill=paste(Exp, Plate)) ) +\n",
    "    geom_density_ridges(breaks=0:100, stat='binline', alpha=0.5) +\n",
    "    xlab(\"Read length\") +\n",
    "    ylab(\"Plate\") +\n",
    "    theme(\n",
    "      legend.position=\"none\",\n",
    "      panel.spacing = unit(0.1, \"lines\")\n",
    "    )\n",
    "\n",
    "ggsave(out, filename = \"../plots/scGROv2p8_mapq3qc_ReadLen.pdf\", width=7, height=10);\n",
    "out"
   ]
  },
  {
   "cell_type": "code",
   "execution_count": null,
   "id": "9ba450fd-5862-4aa4-9846-b39907aece1c",
   "metadata": {},
   "outputs": [],
   "source": [
    "out = scGRO %>%\n",
    "    group_by(Exp, Plate, Cell) %>%\n",
    "    summarise(Count=sum(plateQC & cellQC & umiQC & countQC)) %>%\n",
    "    as.data.frame %>%\n",
    "    ggplot( aes(x=Count, fill=Exp) ) +\n",
    "    geom_histogram(breaks=(0:30)*500) +\n",
    "    xlab(\"Reads per cell\") +\n",
    "    ylab(\"Number of cells\") +\n",
    "    ylim(0, 300) +\n",
    "    theme( legend.key.size = unit(6, 'mm'), legend.background = element_blank(), legend.position = c(0.8, 0.6), \n",
    "          legend.title = element_text(size = 10), legend.text = element_text(size = 10))\n",
    "\n",
    "ggsave(out, filename = \"../plots/scGROv2p8_qc_ReadsPerCell_Stacked.pdf\", width=4, height=4);\n",
    "out"
   ]
  },
  {
   "cell_type": "code",
   "execution_count": null,
   "id": "72e1fb98-907c-4aac-a9d0-bc7d92b00ad0",
   "metadata": {},
   "outputs": [],
   "source": [
    "out = scGRO %>%\n",
    "    group_by(Exp, Plate, Cell) %>%\n",
    "    summarise(Count=sum(plateQC & umiQC & countQC)) %>%\n",
    "    as.data.frame %>%\n",
    "    ggplot( aes(x=Count, y=paste(Exp, Plate), fill=Exp) ) +\n",
    "    geom_density_ridges(breaks=(0:30)*500, stat='binline', alpha=0.5) +\n",
    "    xlab(\"Total reads per cell\") +\n",
    "    ylab(\"Density\") +\n",
    "    theme(\n",
    "      legend.position=\"none\",\n",
    "      panel.spacing = unit(0.1, \"lines\")\n",
    "    )\n",
    "\n",
    "ggsave(out, filename = \"../plots/scGROv2p8_qc_ReadsPerCell.pdf\", width=7, height=10);\n",
    "out"
   ]
  },
  {
   "cell_type": "code",
   "execution_count": null,
   "id": "589fb7f8-fd13-4414-a27a-7c96fc56124e",
   "metadata": {},
   "outputs": [],
   "source": [
    "out = scGRO %>%\n",
    "    filter(plateQC & umiQC & countQC & mapq >= 3) %>%\n",
    "    group_by(Exp, Plate, Cell) %>%\n",
    "    summarise(Count=100*mean(seqnames == \"chrM\")) %>%\n",
    "    as.data.frame %>%\n",
    "    ggplot( aes(x=Count, y=paste(Exp, Plate), fill=Exp) ) +\n",
    "    geom_density_ridges(breaks=(0:50)/10, stat='binline', alpha=0.5) +\n",
    "    xlab(\"Percent chrM reads per cell\") +\n",
    "    ylab(\"Density\") +\n",
    "    theme(\n",
    "      legend.position=\"none\",\n",
    "      panel.spacing = unit(0.1, \"lines\")\n",
    "    )\n",
    "\n",
    "ggsave(out, filename = \"../plots/scGROv2p8_mapq3qc_chrMReadsPerCell.pdf\", width=7, height=10);\n",
    "out"
   ]
  },
  {
   "cell_type": "code",
   "execution_count": null,
   "id": "4088f0ac-c0c0-4102-8998-f9be6320d5b9",
   "metadata": {},
   "outputs": [],
   "source": [
    "out = scGRO %>%\n",
    "    group_by(Exp, Plate, Cell) %>%\n",
    "    summarise(Count=mean(!countQC)) %>%\n",
    "    as.data.frame %>%\n",
    "    ggplot( aes(x=Count, y=paste(Exp, Plate), fill=Exp) ) +\n",
    "    geom_density_ridges(stat='binline', alpha=0.5) +\n",
    "    xlab(\">2 UMIs per 20 bp per cell\") +\n",
    "    ylab(\"Density\") +\n",
    "    theme(\n",
    "      legend.position=\"none\",\n",
    "      panel.spacing = unit(0.1, \"lines\")\n",
    "    )\n",
    "\n",
    "ggsave(out, filename = \"../plots/scGROv2p8_UMI_Duplicates.pdf\", width=7, height=10);\n",
    "out"
   ]
  },
  {
   "cell_type": "code",
   "execution_count": null,
   "id": "dd79cec6-0b08-426f-856a-4060c3497cf1",
   "metadata": {},
   "outputs": [],
   "source": [
    "out = scGRO %>%\n",
    "    group_by(Exp, Plate, Cell) %>%\n",
    "    summarise(Count=mean(!cellQC)) %>%\n",
    "    as.data.frame %>%\n",
    "    ggplot( aes(x=Count, y=paste(Exp, Plate), fill=Exp) ) +\n",
    "    geom_density_ridges(stat='binline', alpha=0.5) +\n",
    "    xlab(\"Duplicate cell barcodes per 20 bp bin & UMI\") +\n",
    "    ylab(\"Density\") +\n",
    "    theme(\n",
    "      legend.position=\"none\",\n",
    "      panel.spacing = unit(0.1, \"lines\")\n",
    "    )\n",
    "\n",
    "ggsave(out, filename = \"../plots/scGROv2p8_CellBC_Duplicates.pdf\", width=7, height=10);\n",
    "out"
   ]
  },
  {
   "cell_type": "code",
   "execution_count": null,
   "id": "ce552d9f-31a4-411f-a3c3-19660e6deb7a",
   "metadata": {},
   "outputs": [],
   "source": [
    "out = scGRO %>%\n",
    "    group_by(Exp, Plate, Cell) %>%\n",
    "    summarise(Count=mean(!plateQC)) %>%\n",
    "    as.data.frame %>%\n",
    "    ggplot( aes(x=Count, y=paste(Exp, Plate), fill=Exp) ) +\n",
    "    geom_density_ridges(stat='binline', alpha=0.5) +\n",
    "    xlab(\"Duplicate plate barcodes (same 20 bp bin & UMI)\") +\n",
    "    ylab(\"Density\") +\n",
    "    theme(\n",
    "      legend.position=\"none\",\n",
    "      panel.spacing = unit(0.1, \"lines\")\n",
    "    )\n",
    "\n",
    "ggsave(out, filename = \"../plots/scGROv2p8_PlateBC_Duplicates.pdf\", width=7, height=10);\n",
    "out"
   ]
  },
  {
   "cell_type": "code",
   "execution_count": null,
   "id": "2b1d43d5-18c4-4788-b352-9351f7752059",
   "metadata": {},
   "outputs": [],
   "source": [
    "out = scGRO %>%\n",
    "    group_by(Exp, Plate, Cell) %>%\n",
    "    summarise(Count=mean(!umiQC)) %>%\n",
    "    as.data.frame %>%\n",
    "    ggplot( aes(x=Count, y=paste(Exp, Plate), fill=Exp) ) +\n",
    "    geom_density_ridges(stat='binline', alpha=0.5) +\n",
    "    xlab(\"GGGGG UMIs\") +\n",
    "    ylab(\"Density\") +\n",
    "    theme(\n",
    "      legend.position=\"none\",\n",
    "      panel.spacing = unit(0.1, \"lines\")\n",
    "    )\n",
    "\n",
    "ggsave(out, filename = \"../plots/scGROv2p8_DegenerateUMIs.pdf\", width=7, height=10);\n",
    "out"
   ]
  },
  {
   "cell_type": "code",
   "execution_count": null,
   "id": "21f37808-fd90-4ee4-9ae9-170ceaf1fee9",
   "metadata": {},
   "outputs": [],
   "source": [
    "# check final QC'd UMI counts\n",
    "UMIfreq = table(scGRO[ countQC == T, UMI ]) %>%\n",
    "    as.data.frame %>%\n",
    "    mutate(UMI=as.character(Var1)) %>%\n",
    "    arrange(desc(Freq));\n",
    "UMIfreq %>%\n",
    "    filter( nchar(UMI) == 5 ) %>%\n",
    "    head(n = 40) %>%\n",
    "    ggplot( aes(x=reorder( UMI, -Freq), y=Freq) ) +\n",
    "    geom_bar( stat = 'identity' ) +\n",
    "    theme(axis.text.x = element_text(angle = 90)) +\n",
    "    xlab(\"UMI\")"
   ]
  },
  {
   "cell_type": "code",
   "execution_count": null,
   "id": "a5174362-03ca-4579-b818-d3c04f2179e8",
   "metadata": {
    "tags": []
   },
   "outputs": [],
   "source": [
    "scGRO = scGRO %>%\n",
    "    mutate(PosBinOne=NULL, PosBinTwo=NULL, inFeature=NULL) %>%\n",
    "    as.data.frame %>%\n",
    "    GRanges %>%\n",
    "    sort;\n"
   ]
  },
  {
   "cell_type": "code",
   "execution_count": null,
   "id": "6e471908-8c38-40cf-858c-0d7e14fdf70e",
   "metadata": {},
   "outputs": [],
   "source": [
    "scGRO\n",
    "saveRDS(scGRO, file=\"../data/scGROv2p8_consolidated.rds\");"
   ]
  },
  {
   "cell_type": "code",
   "execution_count": null,
   "id": "39812317-c691-428b-bc92-d127cada823c",
   "metadata": {},
   "outputs": [],
   "source": [
    "scGRO$inFeature = overlapsAny(scGRO, features );\n",
    "scGRO$inAntisense = overlapsAny( scGRO, antif );"
   ]
  },
  {
   "cell_type": "code",
   "execution_count": null,
   "id": "68a370f1-02fb-47d2-9a6a-ebe70504094b",
   "metadata": {},
   "outputs": [],
   "source": [
    "out = scGRO %>%\n",
    "    filter(cellQC & plateQC & umiQC & countQC & mapq >= 3) %>%\n",
    "    group_by(Exp, Plate, Cell) %>%\n",
    "    summarise(Count=n()) %>%\n",
    "    as.data.frame %>%\n",
    "    ggplot( aes(x=Count, y=paste(Exp, Plate), fill=Exp) ) +\n",
    "    geom_density_ridges(breaks=(0:50)*100, stat='binline', alpha=0.5) +\n",
    "    xlab(\"Reads in features\") +\n",
    "    ylab(\"Density\") +\n",
    "    theme(\n",
    "      legend.position=\"none\",\n",
    "      panel.spacing = unit(0.1, \"lines\")\n",
    "    )\n",
    "\n",
    "ggsave(out, filename = \"../plots/scGROv2p8_mapq3qc_ReadsInFeatures.pdf\", width=7, height=10);\n",
    "out"
   ]
  },
  {
   "cell_type": "code",
   "execution_count": null,
   "id": "fb8dce38-4d4c-4080-8a14-c23e4fb6147b",
   "metadata": {},
   "outputs": [],
   "source": [
    "out = scGRO %>%\n",
    "    filter(plateQC & umiQC & countQC & mapq >= 3) %>%\n",
    "    group_by(Exp, Plate, Cell) %>%\n",
    "    summarise(Percent=100*mean(inFeature)) %>%\n",
    "    as.data.frame %>%\n",
    "    ggplot( aes(x=Percent, y=paste(Exp, Plate), fill=Exp) ) +\n",
    "    geom_density_ridges(breaks=(0:20)*5, stat='binline', alpha=0.5) +\n",
    "    xlab(\"Percent reads in features\") +\n",
    "    ylab(\"Density\") +\n",
    "    theme(\n",
    "      legend.position=\"none\",\n",
    "      panel.spacing = unit(0.1, \"lines\")\n",
    "    )\n",
    "\n",
    "ggsave(out, filename = \"../plots/scGROv2p8_mapq3qc_PercentReadsInFeatures.pdf\", width=7, height=10);\n",
    "out"
   ]
  },
  {
   "cell_type": "code",
   "execution_count": null,
   "id": "eb0168fc-a77d-4275-a8e2-0623d7eaddcc",
   "metadata": {},
   "outputs": [],
   "source": [
    "out = scGRO %>%\n",
    "    filter(plateQC & umiQC & countQC & mapq >= 3) %>%\n",
    "    filter(inAntisense) %>%\n",
    "    group_by(Exp, Plate, Cell) %>%\n",
    "    summarise(Count=n()) %>%\n",
    "    as.data.frame %>%\n",
    "    ggplot( aes(x=Count, y=paste(Exp, Plate), fill=Exp) ) +\n",
    "    geom_density_ridges(breaks=(0:50)*200, stat='binline', alpha=0.5) +\n",
    "    xlab(\"Reads in non-genic strand\") +\n",
    "    ylab(\"Density\") +\n",
    "    theme(\n",
    "      legend.position=\"none\",\n",
    "      panel.spacing = unit(0.1, \"lines\")\n",
    "    )\n",
    "\n",
    "ggsave(out, filename = \"../plots/scGROv2p8_mapq3qc_ReadsInAntisense.pdf\", width=7, height=10);\n",
    "out"
   ]
  },
  {
   "cell_type": "code",
   "execution_count": null,
   "id": "1af2e299-18cc-492b-bfd5-80278e095630",
   "metadata": {},
   "outputs": [],
   "source": [
    "out = scGRO %>%\n",
    "    filter(plateQC & umiQC & countQC & mapq >= 3) %>%\n",
    "    group_by(Exp, Plate, Cell) %>%\n",
    "    summarise(Count=mean(inAntisense)) %>%\n",
    "    as.data.frame %>%\n",
    "    ggplot( aes(x=Count, y=paste(Exp, Plate), fill=Exp) ) +\n",
    "    geom_density_ridges(breaks=(0:50)/10, stat='binline', alpha=0.5) +\n",
    "    xlab(\"Percent reads antisense to gene features\") +\n",
    "    ylab(\"Density\") +\n",
    "    theme(\n",
    "      legend.position=\"none\",\n",
    "      panel.spacing = unit(0.1, \"lines\")\n",
    "    )\n",
    "\n",
    "ggsave(out, filename = \"../plots/scGROv2p8_mapq3qc_PercentReadsInAntisense.pdf\", width=7, height=10);\n",
    "out"
   ]
  },
  {
   "cell_type": "code",
   "execution_count": null,
   "id": "df42676e-8c10-48a5-81df-74258258d69c",
   "metadata": {},
   "outputs": [],
   "source": [
    "out = scGRO %>%\n",
    "    filter((!inFeature) & plateQC & umiQC & countQC & mapq >= 3) %>%\n",
    "    group_by(Exp, Plate, Cell) %>%\n",
    "    summarise(Count=n()) %>%\n",
    "    as.data.frame %>%\n",
    "    ggplot( aes(x=Count, y=paste(Exp, Plate), fill=Exp) ) +\n",
    "    geom_density_ridges(breaks=(0:40)*100, stat='binline', alpha=0.5) +\n",
    "    xlab(\"Reads not in features\") +\n",
    "    ylab(\"Density\") +\n",
    "    theme(\n",
    "      legend.position=\"none\",\n",
    "      panel.spacing = unit(0.1, \"lines\")\n",
    "    )\n",
    "\n",
    "ggsave(out, filename = \"../plots/scGROv2p8_mapq3qc_ReadsNotInFeatures.pdf\", width=7, height=10);\n",
    "out"
   ]
  },
  {
   "cell_type": "code",
   "execution_count": null,
   "id": "c3049e99-8583-4b0b-a880-702088c3be2c",
   "metadata": {},
   "outputs": [],
   "source": []
  }
 ],
 "metadata": {
  "kernelspec": {
   "display_name": "R",
   "language": "R",
   "name": "ir"
  },
  "language_info": {
   "codemirror_mode": "r",
   "file_extension": ".r",
   "mimetype": "text/x-r-source",
   "name": "R",
   "pygments_lexer": "r",
   "version": "4.2.2"
  }
 },
 "nbformat": 4,
 "nbformat_minor": 5
}
